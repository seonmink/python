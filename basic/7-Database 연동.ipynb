{
 "cells": [
  {
   "cell_type": "markdown",
   "id": "876b8ad7",
   "metadata": {},
   "source": [
    "## 1. 파이썬과 MySQL 활용\n",
    "\n",
    "+ 파이썬과 MySQL을 연결해주는 모듈 필요: mysqlclient, PyMySQL\n",
    "    - pip install mysqlclient\n",
    "    - pip install PyMySQL    --> 명령프롬프트에서 설치\n",
    "        - 둘다 같은 것 아무거나 사용하면 됨. "
   ]
  },
  {
   "cell_type": "code",
   "execution_count": 5,
   "id": "c870dc3b",
   "metadata": {},
   "outputs": [
    {
     "name": "stdout",
     "output_type": "stream",
     "text": [
      "<_mysql.connection open to '127.0.0.1' at 0000023C5D3F58D0>\n"
     ]
    }
   ],
   "source": [
    "##### mysqlclient 모듈을 이용한 연결 테스트\n",
    "\n",
    "import MySQLdb\n",
    "\n",
    "# sql과 연결, 서버주소, 유저 이름, 패스워드, 사용할 데이터베이스\n",
    "conn=MySQLdb.connect(host = '127.0.0.1',user='root',password='1111',database='testdb')\n",
    "\n",
    "print(conn) \n",
    "\n",
    "# 연결만 되면 비슷함 \n",
    "\n",
    "conn.close()\n"
   ]
  },
  {
   "cell_type": "code",
   "execution_count": 7,
   "id": "a494b234",
   "metadata": {},
   "outputs": [
    {
     "name": "stdout",
     "output_type": "stream",
     "text": [
      "<_mysql.connection open to '127.0.0.1' at 0000023C5D28DC80>\n"
     ]
    }
   ],
   "source": [
    "#######  PyMySQL 모듈을 이용한 연결 태스트\n",
    "\n",
    "import pymysql \n",
    "# 이렇게 계속하면 유지보수가 어려움\n",
    "conn=MySQLdb.connect(host = '127.0.0.1',user='root',password='1111',database='testdb')\n",
    "print(conn)\n",
    "conn.close()"
   ]
  },
  {
   "cell_type": "code",
   "execution_count": 8,
   "id": "3dc3e8f6",
   "metadata": {},
   "outputs": [],
   "source": [
    "config = {'host':'127.0.0.1','user':'root','passwd':'1111','database':'testdb'}"
   ]
  },
  {
   "cell_type": "code",
   "execution_count": 9,
   "id": "132e28ea",
   "metadata": {},
   "outputs": [
    {
     "name": "stdout",
     "output_type": "stream",
     "text": [
      "<pymysql.connections.Connection object at 0x0000023C5DE9A640>\n"
     ]
    }
   ],
   "source": [
    "import MySQLdb\n",
    "conn = pymysql.connect(**config) #**는 데이터에 연결하기 위함\n",
    "print(conn)\n",
    "conn.close()"
   ]
  },
  {
   "cell_type": "markdown",
   "id": "348a48c5",
   "metadata": {},
   "source": [
    "#### (1) SELECT\n"
   ]
  },
  {
   "cell_type": "code",
   "execution_count": 17,
   "id": "64f6729f",
   "metadata": {},
   "outputs": [
    {
     "name": "stdout",
     "output_type": "stream",
     "text": [
      "<MySQLdb.cursors.Cursor object at 0x0000023C5DEB2520>\n",
      "(7369, 'SMITH', 'CLERK', 7902, datetime.datetime(1980, 12, 17, 0, 0), 800.0, None, 20)\n",
      "(7499, 'ALLEN', 'SALESMAN', 7698, datetime.datetime(1981, 2, 20, 0, 0), 1600.0, 300.0, 30)\n",
      "(7521, 'WARD', 'SALESMAN', 7698, datetime.datetime(1981, 2, 22, 0, 0), 1250.0, 500.0, 30)\n",
      "(7566, 'JONES', 'MANAGER', 7839, datetime.datetime(1981, 4, 2, 0, 0), 2975.0, None, 20)\n",
      "(7654, 'MARTIN', 'SALESMAN', 7698, datetime.datetime(1981, 9, 28, 0, 0), 1250.0, 1400.0, 30)\n"
     ]
    }
   ],
   "source": [
    "conn = MySQLdb.connect(**config)\n",
    "sql = 'select * from emp limit 5'\n",
    "\n",
    "cur=conn.cursor()\n",
    "#명령어를 sql에서 전달하고 가져오는 역할\n",
    "\n",
    "cur.execute(sql)\n",
    "#명령어를 실행하는 기능 \n",
    "\n",
    "print(cur)\n",
    "for data in cur:\n",
    "    print(data)"
   ]
  },
  {
   "cell_type": "code",
   "execution_count": 18,
   "id": "5cf4f789",
   "metadata": {},
   "outputs": [
    {
     "name": "stdout",
     "output_type": "stream",
     "text": [
      "7369 SMITH CLERK 7902 1980-12-17 00:00:00 800.0 None 20\n",
      "7499 ALLEN SALESMAN 7698 1981-02-20 00:00:00 1600.0 300.0 30\n",
      "7521 WARD SALESMAN 7698 1981-02-22 00:00:00 1250.0 500.0 30\n",
      "7566 JONES MANAGER 7839 1981-04-02 00:00:00 2975.0 None 20\n",
      "7654 MARTIN SALESMAN 7698 1981-09-28 00:00:00 1250.0 1400.0 30\n"
     ]
    }
   ],
   "source": [
    "conn = MySQLdb.connect(**config)\n",
    "sql = 'select * from emp limit 5'\n",
    "\n",
    "cur=conn.cursor()\n",
    "#명령어를 sql에서 전달하고 가져오는 역할\n",
    "\n",
    "cur.execute(sql)\n",
    "#명령어를 실행하는 기능 \n",
    "\n",
    "# unpacking으로 가져오기\n",
    "for a,b,c,d,e,f,g,h in cur:\n",
    "    print(a,b,c,d,e,f,g,h)"
   ]
  },
  {
   "cell_type": "code",
   "execution_count": 22,
   "id": "66ca299e",
   "metadata": {},
   "outputs": [
    {
     "name": "stdout",
     "output_type": "stream",
     "text": [
      "[(7369, 'SMITH', 'CLERK', 7902, datetime.datetime(1980, 12, 17, 0, 0), 800.0, None, 20), (7499, 'ALLEN', 'SALESMAN', 7698, datetime.datetime(1981, 2, 20, 0, 0), 1600.0, 300.0, 30), (7521, 'WARD', 'SALESMAN', 7698, datetime.datetime(1981, 2, 22, 0, 0), 1250.0, 500.0, 30), (7566, 'JONES', 'MANAGER', 7839, datetime.datetime(1981, 4, 2, 0, 0), 2975.0, None, 20), (7654, 'MARTIN', 'SALESMAN', 7698, datetime.datetime(1981, 9, 28, 0, 0), 1250.0, 1400.0, 30)]\n"
     ]
    }
   ],
   "source": [
    "conn = MySQLdb.connect(**config)\n",
    "sql = 'select * from emp limit 5'\n",
    "\n",
    "cur=conn.cursor()\n",
    "#명령어를 sql에서 전달하고 가져오는 역할\n",
    "\n",
    "cur.execute(sql)\n",
    "#명령어를 실행하는 기능 \n",
    "\n",
    "# unpacking으로 가져오기\n",
    "result =[]\n",
    "for  data in cur:\n",
    "    result.append(data)\n",
    "    \n",
    "conn.close()\n",
    "\n",
    "print(result)"
   ]
  },
  {
   "cell_type": "markdown",
   "id": "9387642a",
   "metadata": {},
   "source": [
    "   #### (2) Insert \n",
    "   \n",
    "   "
   ]
  },
  {
   "cell_type": "code",
   "execution_count": 33,
   "id": "b824745e",
   "metadata": {
    "scrolled": true
   },
   "outputs": [],
   "source": [
    "conn=  MySQLdb.connect(**config)\n",
    "# table 만들기 \n",
    "sql =\"\"\"create table if not exists tbltest(\n",
    "empno int,\n",
    "ename varchar (10),\n",
    "sal int,\n",
    "job varchar(10)\n",
    ")\"\"\"\n",
    "cur=conn.cursor()\n",
    "cur.execute(sql)\n",
    "\n",
    "# f not exists  존재하면 넘어가고 그렇지 않으면 넘어가게끔했기 때문에 에러가 안남\n",
    "# insert 추가\n",
    "sql = 'insert into tbltest(empno, ename, sal) values(1,\"chuu\",5000)'\n",
    "# 사실 vslues는 변수로 처리하지 고정해서 넣지 않음 \n",
    "cur.execute(sql)\n",
    "conn.commit()\n",
    "conn.close()"
   ]
  },
  {
   "cell_type": "code",
   "execution_count": 52,
   "id": "42ac5130",
   "metadata": {},
   "outputs": [
    {
     "name": "stdout",
     "output_type": "stream",
     "text": [
      "insert into tbltest(empno, ename, sal) values(2,'winter', 1300 )\n"
     ]
    }
   ],
   "source": [
    "empno =2 \n",
    "ename = 'winter'\n",
    "sal = 1300\n",
    "\n",
    "conn=  MySQLdb.connect(**config)\n",
    "cur=conn.cursor()\n",
    "sql= \"insert into tbltest(empno, ename, sal) values(\" + str(empno)+ \",'\" + ename +\"', \" + str(sal)+ \" )\"\n",
    "\n",
    "print(sql)\n",
    "cur.execute(sql)\n",
    "conn.commit()\n",
    "conn.close()\n"
   ]
  },
  {
   "cell_type": "code",
   "execution_count": 53,
   "id": "86ebb2b1",
   "metadata": {},
   "outputs": [],
   "source": [
    "# 더 쉽게 하는 법, 이 방법 추천\n",
    "empno =3\n",
    "ename = 'karina'\n",
    "sal = 2000\n",
    "\n",
    "conn=  MySQLdb.connect(**config)\n",
    "cur=conn.cursor()\n",
    "sql= \"insert into tbltest(empno, ename, sal) values(%s, %s, %s)\" #나중에 값이 들어갈 위치만 정해주는것 \n",
    "sql_data =(str(empno),ename,str(sal))\n",
    "\n",
    "cur.execute(sql,sql_data)\n",
    "conn.commit()\n",
    "\n",
    "conn.close()"
   ]
  },
  {
   "cell_type": "code",
   "execution_count": 55,
   "id": "68983b50",
   "metadata": {},
   "outputs": [],
   "source": [
    "# 예외처리 이용\n",
    "mpno =4\n",
    "ename = 'oliviahye'\n",
    "sal = 2500\n",
    "try:   \n",
    "    conn=  MySQLdb.connect(**config)\n",
    "    cur=conn.cursor()\n",
    "    sql= \"insert into tbltest(empno, ename, sal) values(%s, %s, %s)\" #나중에 값이 들어갈 위치만 정해주는것 \n",
    "    sql_data =(str(empno),ename,str(sal))\n",
    "\n",
    "    cur.execute(sql,sql_data)\n",
    "    conn.commit()\n",
    "\n",
    "    \n",
    "except Exception as e:\n",
    "    print('error:',e)\n",
    "finally:\n",
    "    conn.close()"
   ]
  },
  {
   "cell_type": "code",
   "execution_count": 58,
   "id": "6a539b88",
   "metadata": {},
   "outputs": [],
   "source": [
    "#### 데이터 여러개 입력하기\n",
    "conn=  MySQLdb.connect(**config)\n",
    "cur=conn.cursor()\n",
    "\n",
    "for i in range(10):\n",
    "    sql = \"insert into tbltest(empno,ename,sal) values(5,'jane',10000)\"\n",
    "    cur.execute(sql)\n",
    "    conn.commit()\n",
    "conn.close()"
   ]
  },
  {
   "cell_type": "markdown",
   "id": "f92ae9b0",
   "metadata": {},
   "source": [
    "### (3) Cursor\n"
   ]
  },
  {
   "cell_type": "markdown",
   "id": "2efe88bd",
   "metadata": {},
   "source": [
    "#### 1). fetchall(모든), fetchmany(많이), fetchone(하나)\n",
    "    - default 는 fetchall()    --> 데이터 가져오기 \n",
    "    \n",
    "    "
   ]
  },
  {
   "cell_type": "code",
   "execution_count": 64,
   "id": "5b7111f9",
   "metadata": {},
   "outputs": [
    {
     "name": "stdout",
     "output_type": "stream",
     "text": [
      "(1, 'chuu', 5000, None)\n"
     ]
    }
   ],
   "source": [
    "try:\n",
    "    conn=  MySQLdb.connect(**config)\n",
    "    cur=conn.cursor()\n",
    "    \n",
    "    cur.execute('select * from tbltest')\n",
    "    \n",
    "#     for i in cur.fetchall() : #fetchall() 생략되 있던것, 다 가져올때. \n",
    "#         print(i)\n",
    "#     for i in cur.fetchmany(5): #5개만 가져올때 \n",
    "#         print(i)\n",
    "\n",
    "    print(cur.fetchone()) #결과가 한개만 있을 때 반복문을 쓰지 않아도 됨\n",
    "finally:\n",
    "    conn.close()\n",
    "    "
   ]
  },
  {
   "cell_type": "markdown",
   "id": "99f67b1c",
   "metadata": {},
   "source": [
    "#### 2). DictCursor\n",
    "    - 필드명을 인덱스 대신 키로 사용 "
   ]
  },
  {
   "cell_type": "code",
   "execution_count": 66,
   "id": "f3daf122",
   "metadata": {},
   "outputs": [
    {
     "name": "stdout",
     "output_type": "stream",
     "text": [
      "1 chuu 5000\n",
      "2 winter 1300\n",
      "3 karina 2000\n",
      "3 oliviahye 2500\n",
      "3 oliviahye 2500\n",
      "5 jane 10000\n",
      "5 jane 10000\n",
      "5 jane 10000\n",
      "5 jane 10000\n",
      "5 jane 10000\n",
      "5 jane 10000\n",
      "5 jane 10000\n",
      "5 jane 10000\n",
      "5 jane 10000\n",
      "5 jane 10000\n"
     ]
    }
   ],
   "source": [
    "try:\n",
    "    conn=  MySQLdb.connect(**config)\n",
    "    cur=conn.cursor()\n",
    "    cur.execute('select * from tbltest')\n",
    "    \n",
    "#     for i in cur:\n",
    "    for i in cur.fetchall():\n",
    "        print(i[0],i[1],i[2])\n",
    "finally:\n",
    "    conn.close()"
   ]
  },
  {
   "cell_type": "code",
   "execution_count": 67,
   "id": "4faa851b",
   "metadata": {},
   "outputs": [
    {
     "name": "stdout",
     "output_type": "stream",
     "text": [
      "1 chuu 5000\n",
      "2 winter 1300\n",
      "3 karina 2000\n",
      "3 oliviahye 2500\n",
      "3 oliviahye 2500\n",
      "5 jane 10000\n",
      "5 jane 10000\n",
      "5 jane 10000\n",
      "5 jane 10000\n",
      "5 jane 10000\n",
      "5 jane 10000\n",
      "5 jane 10000\n",
      "5 jane 10000\n",
      "5 jane 10000\n",
      "5 jane 10000\n"
     ]
    }
   ],
   "source": [
    "try:\n",
    "    conn=  MySQLdb.connect(**config)\n",
    "    #인덱스 번호가 아닌 칼럼명으로 가져오려 할때 쓰임 DictCursor\n",
    "    cur=conn.cursor(MySQLdb.cursors.DictCursor)\n",
    "    cur.execute('select * from tbltest')\n",
    "    \n",
    "#     for i in cur:\n",
    "    for i in cur.fetchall():\n",
    "#         print(i[0],i[1],i[2])\n",
    "        print(i['empno'],i['ename'],i['sal'])\n",
    "finally:\n",
    "    conn.close()"
   ]
  },
  {
   "cell_type": "markdown",
   "id": "61da7db8",
   "metadata": {},
   "source": [
    "## 2. 응용 예제 \n",
    "\n",
    "### (1) CSV파일을 DB에 저장"
   ]
  },
  {
   "cell_type": "code",
   "execution_count": null,
   "id": "aad93484",
   "metadata": {},
   "outputs": [],
   "source": [
    "\"\"\"\n",
    "CREATE TABLE IF NOT EXISTS suppliers(\n",
    "    Supplier_Name    varchar(20),\n",
    "    Invoice_Number   varchar(20),\n",
    "    Part_Number      varchar(20),\n",
    "    Cost             float,\n",
    "    Purchase_Date    date\n",
    ");\n",
    "\n",
    "\"\"\"\n"
   ]
  },
  {
   "cell_type": "code",
   "execution_count": 78,
   "id": "a50c9820",
   "metadata": {},
   "outputs": [
    {
     "name": "stdout",
     "output_type": "stream",
     "text": [
      "['A', '001-1001', '2341', '500000', '2014-01-20']\n",
      "['A', '001-1002', '2341', '500000', '2014-01-20']\n",
      "['A', '001-1003', '5467', '750000', '2014-01-20']\n",
      "['A', '001-1004', '5467', '750000', '2014-01-20']\n",
      "['B', '001-1005', '7009', '250000', '2018-01-30']\n",
      "['B', '001-1006', '7009', '250000', '2018-01-30']\n",
      "['B', '001-1007', '6650', '125000', '2017-02-03']\n",
      "['B', '001-1008', '6650', '125000', '2017-02-03']\n",
      "['C', '001-1009', '3321', '615000', '2017-02-03']\n",
      "['C', '001-1010', '3321', '615000', '2017-02-10']\n",
      "['C', '001-1011', '3321', '615000', '2017-02-17']\n",
      "['C', '001-1012', '3321', '615000', '2017-02-24']\n"
     ]
    }
   ],
   "source": [
    "# read, readline, readlines\n",
    "#조금 더 편하게 쓸 수 있는 모듈\n",
    "import csv\n",
    "file = csv.reader(open('C:/Users/Administrator/Downloads/seonmin/pythonwork/basic/data/input.csv'))\n",
    "# print(file)\n",
    "\n",
    "# print(next(file)) # 첫번째 줄을 각각 ,로 분류해서 불러오기 \n",
    "# print(next(file)) \n",
    "# print(next(file)) \n",
    "# print(next(file)) \n",
    "# print(next(file)) \n",
    "\n",
    "#db 로 보내기 \n",
    "#칼럼명 말고 다음 줄 부터 가져오기 위해 next 해줌 \n",
    "next(file)\n",
    "try:\n",
    "    conn = MySQLdb.connect(**config)\n",
    "    cur = conn.cursor()\n",
    "    \n",
    "    for row in file:\n",
    "        print(row)\n",
    "        \n",
    "finally:\n",
    "    conn.close()"
   ]
  },
  {
   "cell_type": "code",
   "execution_count": 79,
   "id": "e8136a11",
   "metadata": {},
   "outputs": [
    {
     "name": "stdout",
     "output_type": "stream",
     "text": [
      "['A', '001-1001', '2341', '500000', '2014-01-20']\n",
      "['A', '001-1002', '2341', '500000', '2014-01-20']\n",
      "['A', '001-1003', '5467', '750000', '2014-01-20']\n",
      "['A', '001-1004', '5467', '750000', '2014-01-20']\n",
      "['B', '001-1005', '7009', '250000', '2018-01-30']\n",
      "['B', '001-1006', '7009', '250000', '2018-01-30']\n",
      "['B', '001-1007', '6650', '125000', '2017-02-03']\n",
      "['B', '001-1008', '6650', '125000', '2017-02-03']\n",
      "['C', '001-1009', '3321', '615000', '2017-02-03']\n",
      "['C', '001-1010', '3321', '615000', '2017-02-10']\n",
      "['C', '001-1011', '3321', '615000', '2017-02-17']\n",
      "['C', '001-1012', '3321', '615000', '2017-02-24']\n"
     ]
    }
   ],
   "source": [
    "import csv\n",
    "file = csv.reader(open('C:/Users/Administrator/Downloads/seonmin/pythonwork/basic/data/input.csv'))\n",
    "next(file)\n",
    "try:\n",
    "    conn = MySQLdb.connect(**config)\n",
    "    cur = conn.cursor()\n",
    "    #한줄씩 가져오기\n",
    "    for row in file:\n",
    "        print(row)\n",
    "        \n",
    "finally:\n",
    "    conn.close()"
   ]
  },
  {
   "cell_type": "code",
   "execution_count": 80,
   "id": "79360a13",
   "metadata": {},
   "outputs": [],
   "source": [
    "# 외부 csv 파일을 db에 불러오기 \n",
    "# 그러나 누적 저장이 됨 \n",
    "import csv\n",
    "file = csv.reader(open('C:/Users/Administrator/Downloads/seonmin/pythonwork/basic/data/input.csv'))\n",
    "next(file)\n",
    "try:\n",
    "    conn = MySQLdb.connect(**config)\n",
    "    cur = conn.cursor()\n",
    "    \n",
    "    for row in file:\n",
    "        cur.execute('insert into suppliers values(%s,%s,%s,%s,%s)',row)\n",
    "        \n",
    "    conn.commit()\n",
    "        \n",
    "finally:\n",
    "    conn.close()"
   ]
  },
  {
   "cell_type": "code",
   "execution_count": 82,
   "id": "3d334fac",
   "metadata": {},
   "outputs": [],
   "source": [
    "#기존 데이터 지워버리고 새로 저장될 수 있게\n",
    "import csv\n",
    "file = csv.reader(open('C:/Users/Administrator/Downloads/seonmin/pythonwork/basic/data/input.csv'))\n",
    "next(file)\n",
    "try:\n",
    "    conn = MySQLdb.connect(**config)\n",
    "    cur = conn.cursor()\n",
    "    \n",
    "    cur.execute('delete from suppliers')\n",
    "    conn.commit()\n",
    "    for row in file:\n",
    "        cur.execute('insert into suppliers values(%s,%s,%s,%s,%s)',row)\n",
    "        \n",
    "    conn.commit()\n",
    "        \n",
    "finally:\n",
    "    conn.close()"
   ]
  },
  {
   "cell_type": "markdown",
   "id": "8494b030",
   "metadata": {},
   "source": [
    "## (2) DB 에서 가져온 데이터를 파일로 저장\n"
   ]
  },
  {
   "cell_type": "code",
   "execution_count": 83,
   "id": "1fe3da0d",
   "metadata": {},
   "outputs": [
    {
     "name": "stdout",
     "output_type": "stream",
     "text": [
      "('A', '001-1003', '5467', 750000.0, datetime.date(2014, 1, 20))\n",
      "('A', '001-1004', '5467', 750000.0, datetime.date(2014, 1, 20))\n",
      "('C', '001-1009', '3321', 615000.0, datetime.date(2017, 2, 3))\n",
      "('C', '001-1010', '3321', 615000.0, datetime.date(2017, 2, 10))\n",
      "('C', '001-1011', '3321', 615000.0, datetime.date(2017, 2, 17))\n",
      "('C', '001-1012', '3321', 615000.0, datetime.date(2017, 2, 24))\n"
     ]
    }
   ],
   "source": [
    "try:\n",
    "    conn = MySQLdb.connect(**config)\n",
    "    cur = conn.cursor()\n",
    "    \n",
    "    cur.execute('select * from suppliers where cost > 500000')\n",
    "    \n",
    "#     for i in cur:\n",
    "#         print(i)\n",
    "    file= csv.writer(open('C:/Users/Administrator/Downloads/seonmin/pythonwork/basic/data','w'),delimiter=',')\n",
    "finally:\n",
    "    conn.close()"
   ]
  },
  {
   "cell_type": "code",
   "execution_count": 88,
   "id": "483ba395",
   "metadata": {},
   "outputs": [],
   "source": [
    "#두번 실행해야 됨 한번은 위치를 지정해놓기 때문\n",
    "try:\n",
    "    conn = MySQLdb.connect(**config)\n",
    "    cur = conn.cursor()\n",
    "    \n",
    "    cur.execute('select * from suppliers where cost > 500000')\n",
    "\n",
    "    file= csv.writer(open('C:/Users/Administrator/Downloads/seonmin/pythonwork/basic/data/output.csv','w'),delimiter=',')\n",
    "    #제목만 먼저 저장\n",
    "    header = ['Supplier Name','Invoice Number','Part Number','Cost,Purchase Date']\n",
    "    file.writerow(header)\n",
    "    \n",
    "    for row in cur:\n",
    "        file.writerow(row)\n",
    "finally:\n",
    "    conn.close()"
   ]
  },
  {
   "cell_type": "markdown",
   "id": "b815be5b",
   "metadata": {},
   "source": [
    "## 2. 파이썬과 SQLite\n",
    "\n",
    "- mysql과 뭐가 다르냐\n",
    "- 작은 기기에서 사용가능한 DB --> 아이폰이나 안드로이드에 기본으로 들어가 있음 \n",
    "\n",
    "#### (1) 로컬로 사용할 수 있는 DBMS\n",
    "\n",
    "+ Access\n",
    "+ SQLite\n",
    "+ Microsoft SQL Server Compact Edition\n",
    "+ Firebird Embeded Server\n",
    "+ H2\n",
    "+ HSQL\n",
    "+ Apache Derby \n",
    "...\n",
    "\n",
    "\n",
    "\n",
    "#### (2) 특징 \n",
    "\n",
    "+ 파일 기반의 DBMS, 저메모리, 빠른처리속도\n",
    "     - 별도의 시스템적 제어없이 파일기반으로 사용할 수 있음. \n",
    "+ 오픈 소스 \n",
    "+ 별도의 DB서버 없이 쉽고 편리하게 사용할 수 있는 Embeded SQL DB 엔진 \n",
    "+ 안드로이드 , 아이폰 등의 스마트폰에 기본 내장된 DB \n",
    "+ 파이썬에 내장 \n",
    "+ 표준 SQL 지원 \n",
    " --> 이런 이유로 SQLite 사용\n",
    " \n",
    " ------------------------------------\n",
    " \n",
    " + 컬럼을 삭제하거나 변경하는 것 등이 제한 \n",
    " + Legt Outer join만 지원 \n",
    " + 읽기 전용 뷰만 제공\n",
    " + ...\n",
    "     \n",
    "     \n",
    "#### (3) 공식 사이트 \n",
    "\n",
    "+ http://sqlite.org\n",
    "\n",
    "#### (4) 클라이언트 툴\n",
    "\n",
    "+ http://www.sqliteexpert.com"
   ]
  },
  {
   "cell_type": "code",
   "execution_count": 1,
   "id": "8b3b1dd0",
   "metadata": {},
   "outputs": [],
   "source": [
    "import sqlite3 "
   ]
  },
  {
   "cell_type": "code",
   "execution_count": 2,
   "id": "7e9a948b",
   "metadata": {},
   "outputs": [
    {
     "name": "stdout",
     "output_type": "stream",
     "text": [
      "2.6.0\n",
      "3.35.4\n"
     ]
    }
   ],
   "source": [
    "print(sqlite3.version)\n",
    "print(sqlite3.sqlite_version)"
   ]
  },
  {
   "cell_type": "code",
   "execution_count": 5,
   "id": "993b9919",
   "metadata": {},
   "outputs": [
    {
     "name": "stdout",
     "output_type": "stream",
     "text": [
      "<sqlite3.Connection object at 0x00000235447026C0>\n"
     ]
    }
   ],
   "source": [
    "conn=sqlite3.connect('data/sqlitetest.db') # 내컴퓨터에 있는 디비 , 없으면 만들어서라도 연결을 함.\n",
    "print(conn)\n",
    "conn.close()"
   ]
  },
  {
   "cell_type": "code",
   "execution_count": 7,
   "id": "21998ff3",
   "metadata": {},
   "outputs": [
    {
     "name": "stdout",
     "output_type": "stream",
     "text": [
      "('최주현', '하늘과 땅')\n",
      "('최주현', '바다')\n",
      "('유은정', '바다')\n",
      "('박성우', '문')\n",
      "('최주현', '문')\n",
      "('박성우', '천국')\n",
      "('최지은', '천국')\n",
      "('최주현', '천국')\n",
      "('박성우', '고슴도치')\n",
      "('서금동', '나')\n"
     ]
    }
   ],
   "source": [
    "#### Select \n",
    "\n",
    "conn=sqlite3.connect('data/sqlitetest.db')\n",
    "cur =conn.cursor()\n",
    "\n",
    "cur.execute('select*from tblbook')\n",
    "for row in cur:\n",
    "    print(row)\n",
    "\n",
    "conn.close()"
   ]
  },
  {
   "cell_type": "code",
   "execution_count": 8,
   "id": "a5de8649",
   "metadata": {},
   "outputs": [
    {
     "name": "stdout",
     "output_type": "stream",
     "text": [
      "(1, '홍길동', '2020-12-25')\n",
      "(2, '임꺽정', '2022-01-05')\n"
     ]
    }
   ],
   "source": [
    "conn=sqlite3.connect('data/sqlitetest.db')\n",
    "cur =conn.cursor()\n",
    "\n",
    "cur.execute('select*from tblMember')\n",
    "for row in cur:\n",
    "    print(row)\n",
    "\n",
    "conn.close()"
   ]
  },
  {
   "cell_type": "code",
   "execution_count": 13,
   "id": "cca966e9",
   "metadata": {},
   "outputs": [
    {
     "name": "stdout",
     "output_type": "stream",
     "text": [
      "(1, 'Chuu')\n",
      "(1, 'Chuu')\n"
     ]
    }
   ],
   "source": [
    "##### 자동으로 DB 생성하고 테이블 생성\n",
    "\n",
    "conn=sqlite3.connect('data/auto.db')\n",
    "cur=conn.cursor()\n",
    "\n",
    "sql = \"\"\"\n",
    "    create table if not exists tblmember(\n",
    "        id int,\n",
    "        name varchar(10)\n",
    "    )\n",
    "\"\"\"\n",
    "cur.execute(sql)\n",
    "conn.commit()\n",
    "\n",
    "cur.execute(\"insert into tblmember values(1,'Chuu')\")\n",
    "conn.commit()\n",
    "\n",
    "cur.execute('select*from tblmember')\n",
    "for row in cur:\n",
    "    print(row)\n",
    "    \n",
    "conn.close()"
   ]
  },
  {
   "cell_type": "code",
   "execution_count": 20,
   "id": "4ec61be2",
   "metadata": {},
   "outputs": [
    {
     "name": "stdout",
     "output_type": "stream",
     "text": [
      "tblmember\n",
      "tblInput\n"
     ]
    }
   ],
   "source": [
    "import csv\n",
    "##### csv 파일을 읽어들여서 db에 저장 --> 테이블이 있어야 함. \n",
    "conn=sqlite3.connect('data/auto.db')\n",
    "cur=conn.cursor()\n",
    "\n",
    "# 테이블 조회\n",
    "tables=cur.execute(\"select * from sqlite_master where type = 'table'\") # 테이블 정보 다 가져와라\n",
    "for i in tables:\n",
    "    print(i[1])\n",
    "\n",
    "file=csv.reader(open('data/input.csv','r'),delimiter=',')\n",
    "# for i in file:\n",
    "#     print(i) 이걸 주석처리 안하면 반복을 돌려서 마지막으로 가니까 다음으로 넘어갈게 없어\n",
    "\n",
    "next(file)\n",
    "\n",
    "for row in file:\n",
    "    cur.execute('insert into tblInput values(?,?,?,?,?)',row)\n",
    "    \n",
    "conn.commit()\n",
    "conn.close()"
   ]
  },
  {
   "cell_type": "code",
   "execution_count": 2,
   "id": "4ab2cbfb",
   "metadata": {},
   "outputs": [
    {
     "name": "stdout",
     "output_type": "stream",
     "text": [
      "('A', '001-1001', 2341, 500000, '2014-01-20')\n",
      "('A', '001-1002', 2341, 500000, '2014-01-20')\n",
      "('A', '001-1003', 5467, 750000, '2014-01-20')\n",
      "('A', '001-1004', 5467, 750000, '2014-01-20')\n",
      "('B', '001-1005', 7009, 250000, '2018-01-30')\n",
      "('B', '001-1006', 7009, 250000, '2018-01-30')\n",
      "('B', '001-1007', 6650, 125000, '2017-02-03')\n",
      "('B', '001-1008', 6650, 125000, '2017-02-03')\n",
      "('C', '001-1009', 3321, 615000, '2017-02-03')\n",
      "('C', '001-1010', 3321, 615000, '2017-02-10')\n",
      "('C', '001-1011', 3321, 615000, '2017-02-17')\n",
      "('C', '001-1012', 3321, 615000, '2017-02-24')\n"
     ]
    }
   ],
   "source": [
    "conn =sqlite3.connect('data/auto.db')\n",
    "cur=conn.cursor()\n",
    "\n",
    "cur.execute('select*from tblInput')\n",
    "for i in cur:\n",
    "    print(i)\n",
    "\n",
    "conn.close()"
   ]
  },
  {
   "cell_type": "code",
   "execution_count": 10,
   "id": "91be034f",
   "metadata": {},
   "outputs": [
    {
     "name": "stdout",
     "output_type": "stream",
     "text": [
      "('chuu', '010-4567-4567')\n"
     ]
    }
   ],
   "source": [
    "##### Memory DB #####\n",
    "# 메모리에 올려 놓고 쓰는\n",
    "# 메모리를 효율적으로 어떻게 쓸까? \n",
    "# 빠르고 효율적 \n",
    "# 하지만 따로 저장하지 않으면 날라간다 \n",
    "\n",
    "conn = sqlite3.connect(':memory:') # 데이터 파일을 메모리에 만들겠다.\n",
    "# print(conn)\n",
    "cur = conn.cursor()\n",
    "\n",
    "cur.execute(\"create table phonebook(name varchar(10), phonenumber text);\")\n",
    "cur.execute('insert into phonebook values(?,?);',('chuu','010-4567-4567'))\n",
    "cur.execute('select * from phonebook')\n",
    "for i in cur:\n",
    "    print(i)\n",
    "# 저장을 하지 않으면 날라감 \n",
    "# 메모리에 저장을 했기 때문에 commit이 없음\n",
    "\n",
    "f = open('data/dump.sql','w')\n",
    "for i in conn.iterdump(): # 커넥션을 돌리면서 \n",
    "    f.write('{}\\n'.format(i))\n",
    "\n",
    "f.close()\n",
    "conn.close()\n"
   ]
  },
  {
   "cell_type": "code",
   "execution_count": 12,
   "id": "1671c1c5",
   "metadata": {},
   "outputs": [
    {
     "name": "stdout",
     "output_type": "stream",
     "text": [
      "BEGIN TRANSACTION;\n",
      "CREATE TABLE phonebook(name varchar(10), phonenumber text);\n",
      "INSERT INTO \"phonebook\" VALUES('chuu','010-4567-4567');\n",
      "COMMIT;\n",
      "\n"
     ]
    }
   ],
   "source": [
    "# 저장된 것을 불러오려할 때. \n",
    "conn = sqlite3.connect('data/auto.db')\n",
    "cur= conn.cursor()\n",
    "\n",
    "f = open('data/dump.sql','r')\n",
    "script=f.read()\n",
    "print(script)\n",
    "\n",
    "cur.executescript(script)\n",
    "conn.close()"
   ]
  },
  {
   "cell_type": "code",
   "execution_count": 13,
   "id": "d5b624ca",
   "metadata": {},
   "outputs": [
    {
     "name": "stdout",
     "output_type": "stream",
     "text": [
      "BEGIN TRANSACTION;\n",
      "CREATE TABLE phonebook(name varchar(10), phonenumber text);\n",
      "INSERT INTO \"phonebook\" VALUES('chuu','010-4567-4567');\n",
      "COMMIT;\n",
      "\n"
     ]
    }
   ],
   "source": [
    "# 메모리에서 쓴 DB 는 저장후에 다시 불러올때는 또 메모리에 서 사용 가능 단 한개만 가능\n",
    "conn = sqlite3.connect(':memory:')\n",
    "cur= conn.cursor()\n",
    "\n",
    "f = open('data/dump.sql','r')\n",
    "script=f.read()\n",
    "print(script)\n",
    "\n",
    "cur.executescript(script)\n",
    "conn.close()\n"
   ]
  },
  {
   "cell_type": "code",
   "execution_count": 14,
   "id": "1ff2dcb4",
   "metadata": {},
   "outputs": [],
   "source": [
    "##### MongDB\n",
    "# no sql  --> sql 이 아니더라도 사용할 수 있는 \n",
    "# sql이 뭔가 부족한가? 빅데이터 때문!!! \n",
    "# sql은 정형화된 데이터 하지만 빅데이터의 등장(비정형 )\n",
    "# 이를 해결하기 위한 것 중 하나가 몽고 디비 \n",
    "# json type : 키와 딕트 "
   ]
  },
  {
   "cell_type": "markdown",
   "id": "5a27b747",
   "metadata": {},
   "source": [
    "## 3. 파이썬과 MongoDB 연동\n",
    "\n",
    "+ pip install pymongo"
   ]
  },
  {
   "cell_type": "code",
   "execution_count": 1,
   "id": "04240c38",
   "metadata": {},
   "outputs": [],
   "source": [
    "from pymongo import MongoClient"
   ]
  },
  {
   "cell_type": "code",
   "execution_count": 2,
   "id": "c7ca6980",
   "metadata": {},
   "outputs": [
    {
     "name": "stdout",
     "output_type": "stream",
     "text": [
      "MongoClient(host=['192.168.1.102:27017'], document_class=dict, tz_aware=False, connect=True)\n"
     ]
    }
   ],
   "source": [
    "##### 서버연결 \n",
    "conn=MongoClient('192.168.1.102',27017)# 콘솔창에 ipconfig 실행 \n",
    "# pymonog.MongoClient('localhost',) \n",
    "print(conn)\n",
    "conn.close()"
   ]
  },
  {
   "cell_type": "code",
   "execution_count": 3,
   "id": "c184037c",
   "metadata": {},
   "outputs": [
    {
     "name": "stdout",
     "output_type": "stream",
     "text": [
      "Database(MongoClient(host=['192.168.1.102:27017'], document_class=dict, tz_aware=False, connect=True), 'test2')\n"
     ]
    }
   ],
   "source": [
    "##### DB연결 \n",
    "conn=MongoClient('192.168.1.102',27017)\n",
    "# dbname=conn.get_database('test')\n",
    "# dbname=conn.test\n",
    "# dbname=conn['test']\n",
    "dbname = conn.test2 # 없는건데 하면 생성이 됨 \n",
    "print(dbname)\n",
    "conn.close()"
   ]
  },
  {
   "cell_type": "code",
   "execution_count": 4,
   "id": "a5b962ff",
   "metadata": {
    "scrolled": true
   },
   "outputs": [
    {
     "name": "stdout",
     "output_type": "stream",
     "text": [
      "Collection(Database(MongoClient(host=['192.168.1.102:27017'], document_class=dict, tz_aware=False, connect=True), 'test'), 'articles')\n"
     ]
    }
   ],
   "source": [
    "##### Collection 연결 \n",
    "conn=MongoClient('192.168.1.102',27017)\n",
    "dbname = conn.test\n",
    "\n",
    "# collect=dbname.articles\n",
    "collect=dbname['articles']\n",
    "print(collect)\n",
    "conn.close()"
   ]
  },
  {
   "cell_type": "markdown",
   "id": "aafb9e73",
   "metadata": {},
   "source": [
    "#### 1) 데이터 입력(1개) "
   ]
  },
  {
   "cell_type": "code",
   "execution_count": 7,
   "id": "adadda17",
   "metadata": {},
   "outputs": [],
   "source": [
    "conn=MongoClient('127.0.0.1',27017)\n",
    "# 192.168.1.102\n",
    "dbname = conn.test\n",
    "collect = dbname.people\n"
   ]
  },
  {
   "cell_type": "code",
   "execution_count": 8,
   "id": "5e7bd463",
   "metadata": {
    "scrolled": true
   },
   "outputs": [
    {
     "name": "stdout",
     "output_type": "stream",
     "text": [
      "5\n",
      "{'_id': ObjectId('61d7bce7849504c45a99629e'), 'name': 'Abet', 'age': 19.0, 'score': 10.0}\n",
      "{'_id': ObjectId('61d7bce7849504c45a99629f'), 'name': 'Betty', 'age': 20.0, 'score': 10.0}\n",
      "{'_id': ObjectId('61d7bce7849504c45a9962a0'), 'name': 'Charlie', 'age': 23.0, 'skills': ['R', 'Keras']}\n",
      "{'_id': ObjectId('61d7bce7849504c45a9962a1'), 'name': 'David', 'age': 23.0, 'score': 20.0}\n",
      "{'_id': ObjectId('61db867b4d1c781d306b40e1'), 'name': 'Elly', 'age': 17.0, 'score': 10.0}\n"
     ]
    }
   ],
   "source": [
    "print(collect.count_documents({}))\n",
    "for i in collect.find():\n",
    "    print(i)"
   ]
  },
  {
   "cell_type": "code",
   "execution_count": 9,
   "id": "9bb4226c",
   "metadata": {},
   "outputs": [
    {
     "data": {
      "text/plain": [
       "<pymongo.results.InsertOneResult at 0x198bb86ec80>"
      ]
     },
     "execution_count": 9,
     "metadata": {},
     "output_type": "execute_result"
    }
   ],
   "source": [
    "data = {'author':'Mike','text':'my first blog post!','tag':['mongodb','python']}\n",
    "collect.insert_one(data)"
   ]
  },
  {
   "cell_type": "code",
   "execution_count": 10,
   "id": "9bdf9cce",
   "metadata": {},
   "outputs": [
    {
     "name": "stdout",
     "output_type": "stream",
     "text": [
      "{'_id': ObjectId('61d7bce7849504c45a99629e'), 'name': 'Abet', 'age': 19.0, 'score': 10.0}\n",
      "{'_id': ObjectId('61d7bce7849504c45a99629f'), 'name': 'Betty', 'age': 20.0, 'score': 10.0}\n",
      "{'_id': ObjectId('61d7bce7849504c45a9962a0'), 'name': 'Charlie', 'age': 23.0, 'skills': ['R', 'Keras']}\n",
      "{'_id': ObjectId('61d7bce7849504c45a9962a1'), 'name': 'David', 'age': 23.0, 'score': 20.0}\n",
      "{'_id': ObjectId('61db867b4d1c781d306b40e1'), 'name': 'Elly', 'age': 17.0, 'score': 10.0}\n",
      "{'_id': ObjectId('61dba4db7c4baf611436a939'), 'author': 'Mike', 'text': 'my first blog post!', 'tag': ['mongodb', 'python']}\n"
     ]
    }
   ],
   "source": [
    "for i in collect.find():\n",
    "    print(i)"
   ]
  },
  {
   "cell_type": "code",
   "execution_count": 11,
   "id": "7614922b",
   "metadata": {},
   "outputs": [],
   "source": [
    "data = {'author':'Tom','text':'my first blog post!','tag':['mongodb','python']}\n",
    "post_id=collect.insert_one(data).inserted_id"
   ]
  },
  {
   "cell_type": "code",
   "execution_count": 12,
   "id": "adcee11f",
   "metadata": {},
   "outputs": [
    {
     "name": "stdout",
     "output_type": "stream",
     "text": [
      "61dba4e57c4baf611436a93a\n",
      "{'_id': ObjectId('61d7bce7849504c45a99629e'), 'name': 'Abet', 'age': 19.0, 'score': 10.0}\n",
      "{'_id': ObjectId('61d7bce7849504c45a99629f'), 'name': 'Betty', 'age': 20.0, 'score': 10.0}\n",
      "{'_id': ObjectId('61d7bce7849504c45a9962a0'), 'name': 'Charlie', 'age': 23.0, 'skills': ['R', 'Keras']}\n",
      "{'_id': ObjectId('61d7bce7849504c45a9962a1'), 'name': 'David', 'age': 23.0, 'score': 20.0}\n",
      "{'_id': ObjectId('61db867b4d1c781d306b40e1'), 'name': 'Elly', 'age': 17.0, 'score': 10.0}\n",
      "{'_id': ObjectId('61dba4db7c4baf611436a939'), 'author': 'Mike', 'text': 'my first blog post!', 'tag': ['mongodb', 'python']}\n",
      "{'_id': ObjectId('61dba4e57c4baf611436a93a'), 'author': 'Tom', 'text': 'my first blog post!', 'tag': ['mongodb', 'python']}\n"
     ]
    }
   ],
   "source": [
    "print(post_id)\n",
    "for i in collect.find():\n",
    "    print(i)\n",
    "    \n",
    "conn.close()"
   ]
  },
  {
   "cell_type": "markdown",
   "id": "4cd58f56",
   "metadata": {},
   "source": [
    "#### 2) 데이터 여러개 입력하기 "
   ]
  },
  {
   "cell_type": "code",
   "execution_count": 20,
   "id": "3e926ce4",
   "metadata": {},
   "outputs": [],
   "source": [
    "conn=MongoClient('127.0.0.1',27017)\n",
    "dbname = conn.test\n",
    "collect = dbname.people"
   ]
  },
  {
   "cell_type": "code",
   "execution_count": 21,
   "id": "0c0efacc",
   "metadata": {},
   "outputs": [
    {
     "name": "stdout",
     "output_type": "stream",
     "text": [
      "[{'number': 0}, {'number': 1}, {'number': 2}, {'number': 3}, {'number': 4}, {'number': 5}, {'number': 6}, {'number': 7}, {'number': 8}, {'number': 9}]\n"
     ]
    }
   ],
   "source": [
    "datas = []\n",
    "for i in range(10):\n",
    "    data = {'number':i}\n",
    "    datas.append(data)\n",
    "    \n",
    "print(datas)"
   ]
  },
  {
   "cell_type": "code",
   "execution_count": 22,
   "id": "0d1edf15",
   "metadata": {
    "scrolled": true
   },
   "outputs": [
    {
     "data": {
      "text/plain": [
       "<pymongo.results.InsertManyResult at 0x198bb7d4480>"
      ]
     },
     "execution_count": 22,
     "metadata": {},
     "output_type": "execute_result"
    }
   ],
   "source": [
    "collect.insert_many([{'number':i} for i in range(10)])"
   ]
  },
  {
   "cell_type": "code",
   "execution_count": 23,
   "id": "33f8e444",
   "metadata": {},
   "outputs": [
    {
     "name": "stdout",
     "output_type": "stream",
     "text": [
      "{'_id': ObjectId('61d7bce7849504c45a99629e'), 'name': 'Abet', 'age': 19.0, 'score': 10.0}\n",
      "{'_id': ObjectId('61d7bce7849504c45a99629f'), 'name': 'Betty', 'age': 20.0, 'score': 10.0}\n",
      "{'_id': ObjectId('61d7bce7849504c45a9962a0'), 'name': 'Charlie', 'age': 23.0, 'skills': ['R', 'Keras']}\n",
      "{'_id': ObjectId('61d7bce7849504c45a9962a1'), 'name': 'David', 'age': 23.0, 'score': 20.0}\n",
      "{'_id': ObjectId('61db867b4d1c781d306b40e1'), 'name': 'Elly', 'age': 17.0, 'score': 10.0}\n",
      "{'_id': ObjectId('61dba4db7c4baf611436a939'), 'author': 'Mike', 'text': 'my first blog post!', 'tag': ['mongodb', 'python']}\n",
      "{'_id': ObjectId('61dba4e57c4baf611436a93a'), 'author': 'Tom', 'text': 'my first blog post!', 'tag': ['mongodb', 'python']}\n",
      "{'_id': ObjectId('61dba5437c4baf611436a953'), 'number': 0}\n",
      "{'_id': ObjectId('61dba5437c4baf611436a954'), 'number': 1}\n",
      "{'_id': ObjectId('61dba5437c4baf611436a955'), 'number': 2}\n",
      "{'_id': ObjectId('61dba5437c4baf611436a956'), 'number': 3}\n",
      "{'_id': ObjectId('61dba5437c4baf611436a957'), 'number': 4}\n",
      "{'_id': ObjectId('61dba5437c4baf611436a958'), 'number': 5}\n",
      "{'_id': ObjectId('61dba5437c4baf611436a959'), 'number': 6}\n",
      "{'_id': ObjectId('61dba5437c4baf611436a95a'), 'number': 7}\n",
      "{'_id': ObjectId('61dba5437c4baf611436a95b'), 'number': 8}\n",
      "{'_id': ObjectId('61dba5437c4baf611436a95c'), 'number': 9}\n"
     ]
    }
   ],
   "source": [
    "for i in collect.find():\n",
    "    print(i)\n",
    "    \n",
    "conn.close()"
   ]
  },
  {
   "cell_type": "code",
   "execution_count": 24,
   "id": "3de3e6c1",
   "metadata": {},
   "outputs": [
    {
     "name": "stdout",
     "output_type": "stream",
     "text": [
      "Collection(Database(MongoClient(host=['127.0.0.1:27017'], document_class=dict, tz_aware=False, connect=True), 'test'), 'people')\n"
     ]
    }
   ],
   "source": [
    "conn=MongoClient('127.0.0.1',27017)\n",
    "dbname = conn.test\n",
    "collect = dbname.people\n",
    "print(collect)"
   ]
  },
  {
   "cell_type": "code",
   "execution_count": 25,
   "id": "582d3a15",
   "metadata": {},
   "outputs": [
    {
     "name": "stdout",
     "output_type": "stream",
     "text": [
      "{'_id': ObjectId('61d7bce7849504c45a99629e'), 'name': 'Abet', 'age': 19.0, 'score': 10.0}\n",
      "{'_id': ObjectId('61d7bce7849504c45a99629f'), 'name': 'Betty', 'age': 20.0, 'score': 10.0}\n",
      "{'_id': ObjectId('61d7bce7849504c45a9962a0'), 'name': 'Charlie', 'age': 23.0, 'skills': ['R', 'Keras']}\n",
      "{'_id': ObjectId('61d7bce7849504c45a9962a1'), 'name': 'David', 'age': 23.0, 'score': 20.0}\n",
      "{'_id': ObjectId('61db867b4d1c781d306b40e1'), 'name': 'Elly', 'age': 17.0, 'score': 10.0}\n",
      "{'_id': ObjectId('61dba4db7c4baf611436a939'), 'author': 'Mike', 'text': 'my first blog post!', 'tag': ['mongodb', 'python']}\n",
      "{'_id': ObjectId('61dba4e57c4baf611436a93a'), 'author': 'Tom', 'text': 'my first blog post!', 'tag': ['mongodb', 'python']}\n",
      "{'_id': ObjectId('61dba5437c4baf611436a953'), 'number': 0}\n",
      "{'_id': ObjectId('61dba5437c4baf611436a954'), 'number': 1}\n",
      "{'_id': ObjectId('61dba5437c4baf611436a955'), 'number': 2}\n",
      "{'_id': ObjectId('61dba5437c4baf611436a956'), 'number': 3}\n",
      "{'_id': ObjectId('61dba5437c4baf611436a957'), 'number': 4}\n",
      "{'_id': ObjectId('61dba5437c4baf611436a958'), 'number': 5}\n",
      "{'_id': ObjectId('61dba5437c4baf611436a959'), 'number': 6}\n",
      "{'_id': ObjectId('61dba5437c4baf611436a95a'), 'number': 7}\n",
      "{'_id': ObjectId('61dba5437c4baf611436a95b'), 'number': 8}\n",
      "{'_id': ObjectId('61dba5437c4baf611436a95c'), 'number': 9}\n"
     ]
    }
   ],
   "source": [
    "##### 전체 조회 \n",
    "for i in collect.find():\n",
    "    print(i)"
   ]
  },
  {
   "cell_type": "code",
   "execution_count": 26,
   "id": "498a3b2e",
   "metadata": {},
   "outputs": [
    {
     "name": "stdout",
     "output_type": "stream",
     "text": [
      "{'_id': ObjectId('61d7bce7849504c45a99629f'), 'name': 'Betty', 'age': 20.0, 'score': 10.0}\n"
     ]
    }
   ],
   "source": [
    "##### 나이가 20살인 document 조회 \n",
    "for i in collect.find({'age':20}):\n",
    "    print(i)"
   ]
  },
  {
   "cell_type": "code",
   "execution_count": 27,
   "id": "42b7b1c5",
   "metadata": {},
   "outputs": [
    {
     "name": "stdout",
     "output_type": "stream",
     "text": [
      "{'_id': ObjectId('61d7bce7849504c45a9962a0'), 'name': 'Charlie', 'age': 23.0, 'skills': ['R', 'Keras']}\n",
      "{'_id': ObjectId('61d7bce7849504c45a9962a1'), 'name': 'David', 'age': 23.0, 'score': 20.0}\n"
     ]
    }
   ],
   "source": [
    "for i in collect.find({'age':{'$gte':23}}):\n",
    "    print(i)"
   ]
  },
  {
   "cell_type": "code",
   "execution_count": 31,
   "id": "745c0fbb",
   "metadata": {},
   "outputs": [
    {
     "name": "stdout",
     "output_type": "stream",
     "text": [
      "<pymongo.cursor.Cursor object at 0x00000198BB8D3040>\n",
      "{'_id': ObjectId('61d7bce7849504c45a99629e'), 'name': 'Abet', 'age': 19.0, 'score': 10.0}\n",
      "{'_id': ObjectId('61d7bce7849504c45a9962a0'), 'name': 'Charlie', 'age': 23.0, 'skills': ['R', 'Keras']}\n"
     ]
    }
   ],
   "source": [
    "print(collect.find()) # 여러개 데이터를 가져오기 때문에 객체로 가져옴 \n",
    "print(collect.find_one())# 한개만 가져오기 \n",
    "print(collect.find_one({'age':{'$gte':23}}))"
   ]
  },
  {
   "cell_type": "markdown",
   "id": "d4b4d888",
   "metadata": {},
   "source": [
    "#### 4) 수정"
   ]
  },
  {
   "cell_type": "code",
   "execution_count": 32,
   "id": "2254a0de",
   "metadata": {},
   "outputs": [],
   "source": [
    "conn=MongoClient('127.0.0.1',27017)\n",
    "dbname = conn.test\n",
    "collect = dbname.people"
   ]
  },
  {
   "cell_type": "code",
   "execution_count": 33,
   "id": "9c4694be",
   "metadata": {},
   "outputs": [
    {
     "name": "stdout",
     "output_type": "stream",
     "text": [
      "{'_id': ObjectId('61dba4e57c4baf611436a93a'), 'author': 'Tom', 'text': 'my first blog post!', 'tag': ['mongodb', 'python']}\n"
     ]
    }
   ],
   "source": [
    "print(collect.find_one({'author':'Tom'}))"
   ]
  },
  {
   "cell_type": "code",
   "execution_count": 34,
   "id": "2376ec21",
   "metadata": {},
   "outputs": [
    {
     "data": {
      "text/plain": [
       "<pymongo.results.UpdateResult at 0x198bb8eba00>"
      ]
     },
     "execution_count": 34,
     "metadata": {},
     "output_type": "execute_result"
    }
   ],
   "source": [
    "collect.update_one({'author':'Tom'},{'$set':{'text':'my second blog post!'}})"
   ]
  },
  {
   "cell_type": "code",
   "execution_count": 35,
   "id": "946dbbcc",
   "metadata": {},
   "outputs": [
    {
     "name": "stdout",
     "output_type": "stream",
     "text": [
      "{'_id': ObjectId('61dba4e57c4baf611436a93a'), 'author': 'Tom', 'text': 'my second blog post!', 'tag': ['mongodb', 'python']}\n"
     ]
    }
   ],
   "source": [
    "print(collect.find_one({'author':'Tom'}))"
   ]
  },
  {
   "cell_type": "code",
   "execution_count": null,
   "id": "03b97de9",
   "metadata": {},
   "outputs": [],
   "source": []
  },
  {
   "cell_type": "code",
   "execution_count": null,
   "id": "36f26ae3",
   "metadata": {},
   "outputs": [],
   "source": []
  },
  {
   "cell_type": "code",
   "execution_count": null,
   "id": "4eaec1ae",
   "metadata": {},
   "outputs": [],
   "source": []
  },
  {
   "cell_type": "code",
   "execution_count": null,
   "id": "ad939f81",
   "metadata": {},
   "outputs": [],
   "source": []
  },
  {
   "cell_type": "code",
   "execution_count": null,
   "id": "a0b8aa01",
   "metadata": {},
   "outputs": [],
   "source": []
  },
  {
   "cell_type": "code",
   "execution_count": null,
   "id": "4c45fdc0",
   "metadata": {},
   "outputs": [],
   "source": []
  },
  {
   "cell_type": "code",
   "execution_count": null,
   "id": "03b3c6d6",
   "metadata": {},
   "outputs": [],
   "source": []
  },
  {
   "cell_type": "code",
   "execution_count": null,
   "id": "04f09156",
   "metadata": {},
   "outputs": [],
   "source": []
  },
  {
   "cell_type": "code",
   "execution_count": null,
   "id": "2f631d8a",
   "metadata": {},
   "outputs": [],
   "source": []
  },
  {
   "cell_type": "code",
   "execution_count": null,
   "id": "83e5ef05",
   "metadata": {},
   "outputs": [],
   "source": []
  },
  {
   "cell_type": "code",
   "execution_count": null,
   "id": "82f7f79d",
   "metadata": {},
   "outputs": [],
   "source": []
  },
  {
   "cell_type": "code",
   "execution_count": null,
   "id": "c8e2bb91",
   "metadata": {},
   "outputs": [],
   "source": []
  },
  {
   "cell_type": "code",
   "execution_count": null,
   "id": "0ed95dd1",
   "metadata": {},
   "outputs": [],
   "source": []
  },
  {
   "cell_type": "code",
   "execution_count": null,
   "id": "76793b83",
   "metadata": {},
   "outputs": [],
   "source": []
  },
  {
   "cell_type": "code",
   "execution_count": null,
   "id": "7f6845af",
   "metadata": {},
   "outputs": [],
   "source": []
  },
  {
   "cell_type": "code",
   "execution_count": null,
   "id": "2b11513d",
   "metadata": {},
   "outputs": [],
   "source": []
  },
  {
   "cell_type": "code",
   "execution_count": null,
   "id": "ac697a0e",
   "metadata": {},
   "outputs": [],
   "source": []
  },
  {
   "cell_type": "code",
   "execution_count": null,
   "id": "8c2f312b",
   "metadata": {},
   "outputs": [],
   "source": []
  }
 ],
 "metadata": {
  "kernelspec": {
   "display_name": "Python 3",
   "language": "python",
   "name": "python3"
  },
  "language_info": {
   "codemirror_mode": {
    "name": "ipython",
    "version": 3
   },
   "file_extension": ".py",
   "mimetype": "text/x-python",
   "name": "python",
   "nbconvert_exporter": "python",
   "pygments_lexer": "ipython3",
   "version": "3.8.8"
  }
 },
 "nbformat": 4,
 "nbformat_minor": 5
}
