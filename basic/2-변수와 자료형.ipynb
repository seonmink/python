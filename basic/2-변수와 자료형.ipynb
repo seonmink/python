{
 "cells": [
  {
   "cell_type": "markdown",
   "id": "783fe74b",
   "metadata": {},
   "source": [
    "## 1. 변수(Variable)의 정의\n",
    "    - 임시 기억(저장) 공간(기억장치) \n",
    "\n",
    "## 2. 변수의 특징\n",
    "    - 묵시적 선언\n",
    "    - 동적 바인딩\n",
    "    - immutable(불변성) --> 값을 수정 불가의 뜻\n",
    "    - 수정 가능성에 따라 분류\n",
    "        - 수정 불가능: int, float,str,bool,tuple\n",
    "        - 수정 가능 : list, dict, set\n",
    "        "
   ]
  },
  {
   "cell_type": "code",
   "execution_count": null,
   "id": "fb6103c9",
   "metadata": {},
   "outputs": [],
   "source": [
    "# a라는 변수를 사용하겠다고 선언을 하고 사용해야하는데(미리 신고) --> 파이썬에서는 그냥 사용하면 됨(자동으로 해줌). \n",
    "a= 10 #값이 있는 위치를 저장 하는 것. \n",
    "# 모든 데이터의 시작은 변수 저장 부터임 \n",
    "\n",
    "a\n",
    "\n",
    "#동적 바인딩 --> 하나만 저장하면 그형식으로만 저장되는데(하나의 저장, 하나의 유형) 파이썬은 다른것으로도 저장 가능(실행할때 그 데이터의 형식이 결정됨)\n",
    "#     형식에 구애 받지 않는다. \n",
    "a=11\n",
    "a\n",
    "\n",
    "a = '안녕하세요'\n",
    "a\n",
    "\n",
    "# a= 3.14\n",
    "# a\n",
    "\n",
    "# 인터프리터 언어는 --> 순서대로, 간단하고 단순하고, 스크립트, 파이썬, 코드를 여러개 입력해도 마지막것만 실행이 됨. \n",
    "# 컴파일 언어는 로직에 따라(순서가 필요가 없음) --> 전문적 개발을 위한, c,c++,java\n",
    "# 불변성: a의 값이 변하는게 아니라 위치에 있는 값을 찾아오는 것, 값이 존재하지만 위치를 잃어 쓸 수 없음 (garbage), 이를 다시 사용할 순 없음 "
   ]
  },
  {
   "cell_type": "code",
   "execution_count": null,
   "id": "34cbc62b",
   "metadata": {},
   "outputs": [],
   "source": [
    "# 각각 나오게 하고 싶다면 print 함수를 쓰면 됨 \n",
    "a= 10 \n",
    "print(a)\n",
    "\n",
    "a=11\n",
    "print(a)\n",
    "\n",
    "a = '안녕하세요'\n",
    "print(a)\n",
    "\n",
    "a= 3.14\n",
    "print(a)\n",
    "\n",
    "a =True # 논리 값(문자열이 아님) - 참이냐 아니냐 의미를 갖는 것이기에 ''를 할 필요가 없음. \n",
    "a"
   ]
  },
  {
   "cell_type": "markdown",
   "id": "fb992f79",
   "metadata": {},
   "source": [
    "## 3. Data Type: 자료형\n",
    "\n",
    "- 종류\n",
    "   1. 기본 자료형 --> 하나의 데이터만 저장 가능\n",
    "       * int(숫자) --> int()\n",
    "       * float(실수) --> float()\n",
    "       * str(문자) --> str()\n",
    "       * bool(진리값-true, false) --> bool()\n",
    "       각각 이름의 함수들이 있음 집합형도 \n",
    "       \n",
    "   2. 집합 자료형 --> 데이터를 여러개 묶어서 사용 \n",
    "       - list\n",
    "       - tuple\n",
    "       - dict(딕셔너리)\n",
    "       - set "
   ]
  },
  {
   "cell_type": "code",
   "execution_count": null,
   "id": "1288cc6c",
   "metadata": {
    "scrolled": true
   },
   "outputs": [],
   "source": [
    "a = 10 \n",
    "print(type(a)) #자료의 형태를 알아볼 때 쓰는 함수 \n",
    "\n",
    "a= 3.14\n",
    "print(type(a))"
   ]
  },
  {
   "cell_type": "code",
   "execution_count": null,
   "id": "9ed6edff",
   "metadata": {},
   "outputs": [],
   "source": [
    "a=3 \n",
    "b = 4 \n",
    "a**b"
   ]
  },
  {
   "cell_type": "code",
   "execution_count": null,
   "id": "8ed9b17c",
   "metadata": {},
   "outputs": [],
   "source": [
    "7%3"
   ]
  },
  {
   "cell_type": "code",
   "execution_count": null,
   "id": "f57692eb",
   "metadata": {},
   "outputs": [],
   "source": [
    "#### 나머지만\n",
    "3 % 7"
   ]
  },
  {
   "cell_type": "code",
   "execution_count": null,
   "id": "98143ecc",
   "metadata": {},
   "outputs": [],
   "source": [
    "7 / 4 "
   ]
  },
  {
   "cell_type": "code",
   "execution_count": null,
   "id": "87d53b9d",
   "metadata": {},
   "outputs": [],
   "source": [
    "#### 몫만 \n",
    "7//4"
   ]
  },
  {
   "cell_type": "code",
   "execution_count": null,
   "id": "4f3707ee",
   "metadata": {},
   "outputs": [],
   "source": [
    "print(14//3)\n",
    "print(14%3)"
   ]
  },
  {
   "cell_type": "markdown",
   "id": "799d00fa",
   "metadata": {},
   "source": [
    "---\n",
    "\n",
    "### (1) str"
   ]
  },
  {
   "cell_type": "code",
   "execution_count": null,
   "id": "edb89651",
   "metadata": {},
   "outputs": [],
   "source": [
    "a = 10 #정수형으로 데이터 저장 \n",
    "a = '10' # 문자형으로 제이터 저장 \n",
    "print(type(a))\n",
    "\n",
    "a = '안녕하세요'\n",
    "print(a)\n",
    "\n",
    "a= \"\"\"제 이름은 홍길동 이라고 합니다,\n",
    "    제 이름은 홍길동 입니다,\n",
    "    만나서 반갑습니다.\"\"\"\n",
    "print(a)"
   ]
  },
  {
   "cell_type": "code",
   "execution_count": null,
   "id": "7507326b",
   "metadata": {},
   "outputs": [],
   "source": [
    "#### 특수 문자(제어 문자): \\문자 , \\(escape 문자: 특수한 임무로 부터 탈출)\n",
    "a='이것은 파이썬 입니다. 열심히 공부합니다.'\n",
    "print(a)"
   ]
  },
  {
   "cell_type": "code",
   "execution_count": null,
   "id": "ad9aacb9",
   "metadata": {},
   "outputs": [],
   "source": [
    "a='이것은 파이썬 입니다. \\n열심히 공부합니다.' # \\n new line 새로운 줄을 만들어 준다. \n",
    "print(a)"
   ]
  },
  {
   "cell_type": "code",
   "execution_count": null,
   "id": "4b717527",
   "metadata": {},
   "outputs": [],
   "source": [
    "a='이것은 파이썬 입니다. \\n\\n\\n열심히 공부합니다.' \n",
    "a\n",
    "\n",
    "a = '현재 시간은 \\t4시 입니다.' #\\t는 tap키와 같이 들여쓰기(공백 추가)\n",
    "print(a)"
   ]
  },
  {
   "cell_type": "code",
   "execution_count": null,
   "id": "4e7bb519",
   "metadata": {},
   "outputs": [],
   "source": [
    "print(\"\\\"\\\\t는 탭키의 기능이다\")\n"
   ]
  },
  {
   "cell_type": "code",
   "execution_count": null,
   "id": "e7fb003a",
   "metadata": {},
   "outputs": [],
   "source": [
    "# \\를 줄 바꿈의 용도로 사용 가능함. \n",
    "\n",
    "a = '10 + 2 - 3 + 5 \\\n",
    "+ 6 * 7'\n",
    "\n",
    "print(a)\n"
   ]
  },
  {
   "cell_type": "code",
   "execution_count": null,
   "id": "4c659621",
   "metadata": {
    "scrolled": true
   },
   "outputs": [],
   "source": [
    "a = '10 + 2 - 3 + 5    #그냥 줄바꿈하면 error\n",
    "+ 6 * 7'"
   ]
  },
  {
   "cell_type": "code",
   "execution_count": null,
   "id": "9493c120",
   "metadata": {},
   "outputs": [],
   "source": [
    "multiline =\"\"\"\n",
    "... Life is too short\n",
    "... You need python\n",
    "... \"\"\"\n",
    "print(multiline)"
   ]
  },
  {
   "cell_type": "code",
   "execution_count": null,
   "id": "acd87b35",
   "metadata": {},
   "outputs": [],
   "source": [
    "##### 문자열을 연결하기 \n",
    "\n",
    "a= 'python'\n",
    "b = ' is fun'\n",
    "c = ' and great'\n",
    "d = a, b, c\n",
    "print(d)\n",
    "\n",
    "d = a + b + c\n",
    "print(d)"
   ]
  },
  {
   "cell_type": "code",
   "execution_count": null,
   "id": "6fefcf69",
   "metadata": {},
   "outputs": [],
   "source": [
    "head = \"Python\"\n",
    "tail = \" is fun!\"\n",
    "head + tail"
   ]
  },
  {
   "cell_type": "code",
   "execution_count": null,
   "id": "ad0122d9",
   "metadata": {},
   "outputs": [],
   "source": [
    "##### 문자열 곱하기(반복의 의미)\n",
    "\n",
    "print(a * 3) #한쪽에는 숫자가 와야함"
   ]
  },
  {
   "cell_type": "code",
   "execution_count": null,
   "id": "662963f7",
   "metadata": {},
   "outputs": [],
   "source": [
    "print(a * b)"
   ]
  },
  {
   "cell_type": "code",
   "execution_count": null,
   "id": "cf8d4467",
   "metadata": {},
   "outputs": [],
   "source": [
    "##### 문자열의 길이 구하기 len\n",
    "print(len(a))\n",
    "print(len(b))\n",
    "print(len(c))"
   ]
  },
  {
   "cell_type": "code",
   "execution_count": null,
   "id": "64306228",
   "metadata": {},
   "outputs": [],
   "source": [
    "df = 'You need python'\n",
    "print(len(df))"
   ]
  },
  {
   "cell_type": "code",
   "execution_count": null,
   "id": "bcce3c16",
   "metadata": {
    "scrolled": true
   },
   "outputs": [],
   "source": [
    "##### 인덱싱(indexing) : 원하는 문자에 접근할 수 있는 방법 제공 \n",
    "\n",
    "a = 'Life is too short, You need Python'\n",
    "print(a[3])\n",
    "print(a[10])\n",
    "print('-'*30)\n",
    "print(len(a)) # 전체 길이를 알면 -1 을 해주면 마지막 문자의 인덱스 \n",
    "print(a[33])\n",
    "print(a[len(a)-1])\n",
    "print('-'*30)\n",
    "print(a[-1])\n",
    "print(a[-2])"
   ]
  },
  {
   "cell_type": "code",
   "execution_count": null,
   "id": "8741ac5e",
   "metadata": {},
   "outputs": [],
   "source": [
    "#### 슬라이싱(Slicing) --> 원하는 정보만 뽑아오기 --> [시작 위치 : 끝 위치]\n",
    "\n",
    "print(a[:4])\n",
    "print(a[0:4])\n",
    "print(a[:6]) # 마지막 위치는 n-1, 생략했을 때는 처음부터 범위가 지정됨. \n",
    "print(a[8:])"
   ]
  },
  {
   "cell_type": "code",
   "execution_count": null,
   "id": "e4ec0c4c",
   "metadata": {},
   "outputs": [],
   "source": [
    "print(a)\n",
    "\n",
    "print(a[12:17])\n",
    "print(a[:])\n",
    "print(a[19:-7]) # -는 n+1 \n"
   ]
  },
  {
   "cell_type": "code",
   "execution_count": null,
   "id": "d1b8ab5e",
   "metadata": {},
   "outputs": [],
   "source": [
    "a = '20010331Rainy'\n",
    "date = a[:8]\n",
    "weather = a[8:]\n",
    "print(date)\n",
    "weather"
   ]
  },
  {
   "cell_type": "code",
   "execution_count": null,
   "id": "03299e0a",
   "metadata": {},
   "outputs": [],
   "source": [
    "a = '20010331Rainy'\n",
    "year = a[:4]\n",
    "month = a[4:6]\n",
    "date = a[6:8]\n",
    "print(year)\n",
    "print(month)\n",
    "print(date)"
   ]
  },
  {
   "cell_type": "code",
   "execution_count": null,
   "id": "8a678865",
   "metadata": {},
   "outputs": [],
   "source": [
    "#### [시작위치 : 끝위치: step]\n",
    "print(a[:])\n",
    "print(a[::1])\n",
    "print('-'*30)\n",
    "print(a[::2])\n",
    "print(a[::-1])"
   ]
  },
  {
   "cell_type": "code",
   "execution_count": null,
   "id": "b628599c",
   "metadata": {},
   "outputs": [],
   "source": [
    "##### 수정불가? \n",
    "\n",
    "a = 'pithon'\n",
    "a[1] = 'y'  --> eorror  문자열은 요솟값을 바꿀 수 없음\n"
   ]
  },
  {
   "cell_type": "code",
   "execution_count": null,
   "id": "f8f54d73",
   "metadata": {},
   "outputs": [],
   "source": [
    "a[:1] + 'y' + a[2:]"
   ]
  },
  {
   "cell_type": "code",
   "execution_count": null,
   "id": "e273e8cb",
   "metadata": {},
   "outputs": [],
   "source": [
    "#### 문자열 관련 함수 \n",
    "\n",
    "#count 문자 개수 세기 \n",
    "a= '홍길동, 홍경래, 홍장군, 임경업, 신돌석'\n",
    "print(len(a))\n",
    "print(a.count('홍'))\n",
    "\n",
    "\n",
    "print('-'*30)\n",
    "\n",
    "# join()\n",
    "str1 = 'abcdefg'\n",
    "print('.'.join(str1)) #각각의 데이터를 .으로 합친다. \n",
    "\n",
    "\n",
    "print('-'*30)\n",
    "\n",
    "# split()\n",
    "str2= '홍길동, 홍경래, 홍장군, 임경업, 신돌석'\n",
    "# 하나의 데이터를 분리할때, 어떤 것을 기준으로 분리해라\n",
    "print(str2.split(','))\n",
    "str3 = str2.split(',') # 콤마를 기준으로 나눈 것 \n",
    "str3\n",
    "str4= '홍길동: 홍경래: 홍장군: 임경업: 신돌석'\n",
    "print(str4.split(':'))\n",
    "\n",
    "\n",
    "print('-'*30)\n",
    "\n",
    "# find(), index() --> 거의 비슷한 함수 \n",
    "print(str4.find('길')) # 길이 처음 나온 위치를 알려줌(인덱스)\n",
    "print(str4.find('돌'))\n",
    "print(str4.find('길'), str4.find('석'), str4.find('임')),str4.find('민')\n",
    "# 없는 글자를 찾으면 -1로 나옴 \n",
    "#  index 나 find나 결과 값은 같음 \n",
    "print(str4.index('길'))\n",
    "# 어떤게 다를까? \n",
    "# find는 없는 값을 찾으면 -1이 나오지만 index 는 error가 뜸 \n",
    "print(str4.index('길'), str4.index('석'), str4.index('임')),str4.index('민')"
   ]
  },
  {
   "cell_type": "code",
   "execution_count": null,
   "id": "462a716c",
   "metadata": {},
   "outputs": [],
   "source": [
    "# lstrip()왼쪽제거, rstrip()오른쪽, strip()양쪽에 --> 특정문자를 제거하는 것, 가운데 있으면 안됨\n",
    "# 공백을 제거할때 가장 많이 씀 \n",
    "df1='                python'\n",
    "df1\n",
    "print(df1.lstrip()) #공백이라 따로 지정할 필요는 없음 \n",
    "df1 = 'python.,'\n",
    "print(df1.rstrip('.,'))"
   ]
  },
  {
   "cell_type": "code",
   "execution_count": null,
   "id": "e0de7623",
   "metadata": {},
   "outputs": [],
   "source": [
    "text = ' Water boils at 100 degrees '\n",
    "print('[' + text.rstrip() + ']')\n",
    "print('[' + text.lstrip() + ']')\n",
    "print('[' + text.strip() + ']')"
   ]
  },
  {
   "cell_type": "code",
   "execution_count": null,
   "id": "c495c23b",
   "metadata": {},
   "outputs": [],
   "source": [
    "text = '0000000Water boils at 100 degrees 000'\n",
    "print(text.lstrip('0'))\n",
    "print(text.rstrip('0'))\n",
    "print(text.strip('0'))"
   ]
  },
  {
   "cell_type": "code",
   "execution_count": null,
   "id": "ec52c1c5",
   "metadata": {},
   "outputs": [],
   "source": [
    "str4= '홍길동: 홍경래: 홍장군: 임경업: 신돌석'\n",
    "print(str4.strip(':'))"
   ]
  },
  {
   "cell_type": "code",
   "execution_count": null,
   "id": "37f9a30b",
   "metadata": {},
   "outputs": [],
   "source": [
    "# replace(),  [maketrans(), translate()] --> 같이 써야할 함수]\n",
    "#  replace() 특정 문자열 바꿀때\n",
    "str1 = 'Hello, World!'\n",
    "print(str1.replace('Hello','Bye Bye'))\n",
    "\n",
    "df2 = '일이삼사오육칠팔구' #얘를 숫자로 바꾸고 싶을 때 \n",
    "print(df2.replace('일이삼사오육칠팔구','123456789')) #-->전체를 바꿀때\n",
    "# 일 삼 오만 숫자로 바꿀때 \n",
    "print(df2.replace('일삼오','135')) #--> 일삼오라는 문자열은 없으니까 안나옴\n",
    "# 따로 뽑아 내서 하는 것은 원시적이니 \n",
    "\n",
    "#[maketrans(), translate()] 이것을 쓴다. \n",
    "print(df2.translate(df2.maketrans('일삼오','135')))"
   ]
  },
  {
   "cell_type": "code",
   "execution_count": null,
   "id": "b4f06d38",
   "metadata": {},
   "outputs": [],
   "source": [
    "##### 문자열 포맷팅 --> 문자를 예쁘게 꾸밀때 \n",
    "#     : % 이용 or format()이용\n",
    "## %를 이용하는 방법 \n",
    "df3 = '현재 온도는 18도 입니다.' #18도 이 온도만 바꿀때 \n",
    "df3 = '현재 온도는 %d도 입니다.'%18, #d = decimal \n",
    "df3 = '현재 온도는 %d도 입니다. 그리고 오늘의 날씨는 %s입니다.'%(18,'비')#s는 string\n",
    "# 두개 이상일때는 괄호로 묶어서 순서대로 숫자 혹은 문자를 입력한다. \n",
    "df3\n",
    "\n",
    "# 나눗셈의 결과 : 3 / 5 = 0.6입니다.\n",
    "print('%s의 결과 : %d %c %d = %f 입니다.'%('나눗셈',3,'/',5,(3/5)))\n",
    "# c = 문자 한개를 포메팅 할때 \n",
    "print('%5s의 결과 : %d %c %d = %f 입니다.'%('나눗셈',3,'/',5,(3/5)))\n",
    "# 5개의 자리를 확보하고 문자가 들어가게끔, 모양 꾸미기\n",
    "\n",
    "#문자 같은 것은 오른쪽 정렬, 숫자는 왼쪽 정렬이 default임 이것을 바꿀려면? \n",
    "print('%-5s의 결과 : %d %c %d = %f 입니다.'%('나눗셈',3,'/',5,(3/5))) # 왼쪽 정렬\n",
    "print('%5s의 결과 : %d %c %d = %f 입니다.'%('나눗셈',3,'/',5,(3/5)))"
   ]
  },
  {
   "cell_type": "code",
   "execution_count": null,
   "id": "43f01c80",
   "metadata": {},
   "outputs": [],
   "source": [
    "print('%s의 결과 : %s %s %s = %s 입니다.'%('나눗셈',3,'/',5,(3/5)))\n",
    "# %S 는 모든거 다씀 "
   ]
  },
  {
   "cell_type": "code",
   "execution_count": null,
   "id": "0eb8fa5c",
   "metadata": {},
   "outputs": [],
   "source": [
    "# 소숫점 2자리까지 나타내려면   \n",
    "print('%5s의 결과 : %d %c %d = %.2f 입니다.'%('나눗셈',3,'/',5,(3/5)))\n",
    "#  0.2f 에서 '.'미는 소숫점 포인트를 말하고 그 뒤 숫자 2는 소숫점 뒤에 나올 숫자의 개수를 뜻함\n"
   ]
  },
  {
   "cell_type": "code",
   "execution_count": null,
   "id": "d6cbc756",
   "metadata": {},
   "outputs": [],
   "source": [
    "## format() 함수 이용 방법\n",
    "# 바뀌는 값을 중괄호로 묶고 .format을 쓰고 순서대로 들어가는 값을 넣으면 됨 \n",
    "print('{}의 결과 : {} {} {} = {} 입니다.'.format('나눗셈',3,'/',5,(3/5)))\n",
    "\n",
    "#특정 순서가 필요하다면, 인덱스처럼 0부터 들어갈 순서를 지정하고 format()에 \n",
    "# 내가 만든 순서대로 입력하면 됨.\n",
    "print('{3}의 결과 : {0} {1} {2} = {4} 입니다.'.format(3,'/',5,'나눗셈',(3/5)))\n",
    "\n",
    "#순서 상관없이 이름을 붙여주고 이름에 맞게 값을 할당 \n",
    "print('{title}의 결과 : {num1} {op} {num2} = {result} 입니다.'\n",
    "      .format(num1=3,op='/',num2=5,title='나눗셈',result=(3/5)))\n",
    "\n",
    "# 정렬\n",
    "print('{3:10}의 결과 : {0} {1} {2} = {4} 입니다.'.format(3,'/',5,'나눗셈',(3/5)))\n",
    "#오른쪽 정렬\n",
    "print('{3:>10}의 결과 : {0} {1} {2} = {4} 입니다.'.format(3,'/',5,'나눗셈',(3/5)))\n",
    "# 왼쪽 정랼\n",
    "print('{3:<10}의 결과 : {0} {1} {2} = {4} 입니다.'.format(3,'/',5,'나눗셈',(3/5)))\n",
    "# *로 채우기, 소수점 2째자리까지 나타내기 \n",
    "print('{3:*>10}의 결과 : {0} {1} {2} = {4:0.2f} 입니다.'.format(3,'/',5,'나눗셈',(3/5)))"
   ]
  },
  {
   "cell_type": "markdown",
   "id": "dfb700b9",
   "metadata": {},
   "source": [
    "#### (2) bool"
   ]
  },
  {
   "cell_type": "code",
   "execution_count": null,
   "id": "49331253",
   "metadata": {},
   "outputs": [],
   "source": [
    "a = False # 이것은 문자열이 아님 진리값 \n",
    "print(a)\n",
    "print(type(a))\n",
    "\n",
    "print('-'*30)\n",
    "\n",
    "print(10) \n",
    "# 이게 참인지 거짓인지 알고 싶을 때 \n",
    "print(bool(10),bool(3.14),bool(-2),bool(0))\n",
    "# 0을 제외한 모든 수는 True \n",
    "\n",
    "print(bool('가'),bool('가나다'),bool(' '),bool(''),bool(None))\n",
    "#문자에서는 값이 없을 때 거짓\n",
    "a= None\n",
    "print(bool(a))"
   ]
  },
  {
   "cell_type": "markdown",
   "id": "491e1ae0",
   "metadata": {},
   "source": [
    "---\n",
    "#### (3) list \n",
    "\n",
    "- [  ] 사용 \n",
    "- 임의의 객체를 순차적으로 저장하는 집합적 자료형(Sequence Data)\n",
    "- 인덱스 사용(순차적으로 저장됬기 때문에 인덱스를 사용할 수 있음)\n",
    "- mutable, 수정이 가능하다"
   ]
  },
  {
   "cell_type": "code",
   "execution_count": null,
   "id": "0bb6532c",
   "metadata": {},
   "outputs": [],
   "source": [
    "# a = 10\n",
    "# b = 11\n",
    "# c = 12\n",
    "a, b, c = 10, 11, 12 #한번에 다수의 변수를 설정할 수 있음\n",
    "\n",
    "d = [10,11,12] #다수의 데이터를 하나의 변수로 담을 수 있게 해줌.\n",
    "\n",
    "print(type(a),type(d))\n",
    "print(a) # 바로 쓸 수 있음\n",
    "print(d) # 바로 쓸 수는 없음 --> 접근해서 값을 꺼내와야 함.\n",
    "print(d[0],d[1],d[2])\n",
    "\n",
    "# 서로 다른 데이터 형태도 묶어줄 수 있음\n",
    "e = ['james',178,3.14,True]\n",
    "print(e[0])\n"
   ]
  },
  {
   "cell_type": "code",
   "execution_count": null,
   "id": "74ec6319",
   "metadata": {},
   "outputs": [],
   "source": [
    "#### indexing\n",
    "\n",
    "a = [1,2,3,'가',3.14,['a','b','c']]\n",
    "print(a)\n",
    "print(a[5])\n",
    "# 리스트 안에 리스트를 가져올때 \n",
    "print(a[5][1])\n",
    "print(a[-1][-3])"
   ]
  },
  {
   "cell_type": "code",
   "execution_count": null,
   "id": "398a3f25",
   "metadata": {},
   "outputs": [],
   "source": [
    "#### 복사 (얕은 복사, 깊은 복사)\n",
    "\n",
    "# 얕은 복사 --> 주소 복사\n",
    "a = [1, 2, 3, 4, 5]#a는 데이터를 저장하는게 아니라 데이터가 있는 위치를(주소) 저장하는 것\n",
    "b = a # a가 갖고 있는 데이터 위치를 b도 복사, id(a) id(b)는 다르지만 내부 객체는 같은 주소를 바라보고 있다.\n",
    "b[0] = 10\n",
    "\n",
    "print(b)\n",
    "print(a)\n",
    "\n",
    "print('-'*30)\n",
    "\n",
    "# 깊은 복사 --> 실제 데이터 복사 \n",
    "\n",
    "a = [1, 2, 3, 4, 5]\n",
    "\n",
    "a[0:5] # 실제 데이터를 꺼내온 것, 슬라이싱 , 주소를 저장 안해서 사용할 수 없음\n",
    "b = a[0:5]\n",
    "# b= a[:] == a[:5]\n",
    "print(b)\n"
   ]
  },
  {
   "cell_type": "code",
   "execution_count": null,
   "id": "abdce377",
   "metadata": {},
   "outputs": [],
   "source": [
    "##### list 의 생성\n",
    "\n",
    "a = [] # 값은 안들어갔지만 미리 리스트 형으로 준비해 놓겠다., 간단한 표현 \n",
    "# a = list() --> 정식 표현 \n",
    "print(type(a))"
   ]
  },
  {
   "cell_type": "code",
   "execution_count": null,
   "id": "01a708a5",
   "metadata": {},
   "outputs": [],
   "source": [
    "#### 각 자료형 함수(참고) --> 자료의 변환이 가능함. \n",
    "\n",
    "# 연산을 하기 위해서는 문자형 데이터를 숫자형으로 바꿔야 함.\n",
    "a = '10'\n",
    "print(int(a)) # int 함수를 쓰면 정수형으로 바뀜 \n",
    "print(int(a),type(int(a)))\n",
    "print(str(a),type(str(a)))\n",
    "print(float(a),type(float(a)))\n",
    "print(bool(a),type(bool(a)))\n",
    "# a = '가나다' #--> 이건 숫자형으로 바꿀 수 없음\n",
    "\n",
    "# 집합형도 자료변환 가능 \n",
    "print(list(a),type(list(a))) # 문자 이면 각각 나옴 하나 하나의 문자로 보기때문\n",
    "print(list([a]),type(list([a])))"
   ]
  },
  {
   "cell_type": "code",
   "execution_count": null,
   "id": "c2973f63",
   "metadata": {},
   "outputs": [],
   "source": [
    "a = 'ab'\n",
    "print(list(a),type(list(a))) "
   ]
  },
  {
   "cell_type": "code",
   "execution_count": 1,
   "id": "bbd6db3f",
   "metadata": {},
   "outputs": [
    {
     "name": "stdout",
     "output_type": "stream",
     "text": [
      "[1, 2, 3]\n",
      "[1, 2, 3]\n",
      "[0, 1, 2, 3, 4, 5, 6, 7, 8, 9]\n",
      "[0, 1, 2, 3, 4, 5, 6, 7, 8, 9]\n",
      "[0, 1, 2, 3, 4, 5, 6, 7, 8, 9]\n",
      "[5, 7, 9, 11]\n",
      "[-4, -3, -2, -1, 0, 1, 2, 3, 4, 5, 6, 7, 8, 9, 10, 11]\n",
      "[-4, -3, -2, -1, 0, 1, 2, 3, 4, 5, 6, 7, 8, 9, 10, 11]\n"
     ]
    }
   ],
   "source": [
    "#### list 초기화  --> 변수를 처음 만들어서 가장 처음 값을 넣는 것 \n",
    "\n",
    "a= 10 #초기화  \n",
    "\n",
    "a= 5\n",
    "\n",
    "#리스트에서는 어떻게 하냐? \n",
    "\n",
    "a =[1, 2, 3]\n",
    "print(a)\n",
    "\n",
    "a = list([1, 2, 3]) #다양한 기능 사용 가능\n",
    "print(a)\n",
    "\n",
    "a =list(range(0,10)) #[] 대괄호를 안씀. \n",
    "# range() 범위 함수,범위를 지정해 주면 그 범위의 데이터를 자동으로 만들어줌\n",
    "print(a)\n",
    "a =list(range(10)) #(n-1)\n",
    "print(a)\n",
    "a =list(range(0,10,1)) \n",
    "print(a)\n",
    "\n",
    "a =list(range(5,12,2))\n",
    "print(a)\n",
    "a =list(range(-4,12,1))\n",
    "print(a)\n",
    "a =list(range(-4,12))\n",
    "print(a)"
   ]
  },
  {
   "cell_type": "code",
   "execution_count": null,
   "id": "1752696a",
   "metadata": {},
   "outputs": [],
   "source": [
    "a= list(range(10,0,-1))\n",
    "print(a)"
   ]
  },
  {
   "cell_type": "code",
   "execution_count": null,
   "id": "67a3411b",
   "metadata": {},
   "outputs": [],
   "source": [
    "#### list 연산 기능, 덧셈, 곱셈 가능 뺄셈, 나눗셈은 안됨\n",
    "# 덧셈은 그냥 추가되는 것, 실제 데이터끼리 더하는 것은 아님, 리스트를 더한다고 생각하면 됨.\n",
    "a = [1,2,3]\n",
    "b = [4,5,6]\n",
    "print(a+b)\n",
    "print(a*3) # 리스트를 세번 반복한 것 \n",
    "# 실제 데이터를 연산하려면 인덱싱해서 해야함 \n",
    "print(a[0] +b[0])\n",
    "# print(a[1]+ 'hi~~')\n",
    "print(a[1],'hi~~')\n",
    "print(str(a[1])+'hi~~')"
   ]
  },
  {
   "cell_type": "code",
   "execution_count": 2,
   "id": "f2474c1c",
   "metadata": {},
   "outputs": [
    {
     "name": "stdout",
     "output_type": "stream",
     "text": [
      "[1, 2, 100, 3]\n",
      "[1, 2, 3, 4]\n",
      "[1, 2, 3, 4, [4, 5]]\n",
      "[1, 2, 3, 4, [4, 5], 5, 6, 1000]\n",
      "[1, 2, 3, 4, [4, 5], 5, 6, 1000, 0]\n",
      "[1, 2, 3, 4, [4, 5], 5, 6, 1000, 0, [7, 8, 9]]\n"
     ]
    }
   ],
   "source": [
    "#### 추가하기 : insert(), append(), extend()\n",
    "\n",
    "# insert() --> 위치 지정할 수 있음 insert(위치, 추가할 숫자)\n",
    "a = [1,2,3]\n",
    "a.insert(2,100)\n",
    "print(a)\n",
    "\n",
    "# append() --> 무조건 마지막에 추가 \n",
    "a = [1,2,3]\n",
    "a.append(4)\n",
    "print(a)\n",
    "a.append([4,5]) #--> 리스트에 리스트 추가\n",
    "print(a)\n",
    "\n",
    "# extend() --> append를 확장한 것, 대량 추가 할때, \n",
    "#반드시 [] 리스트 형태로 추가해야함(하나를 추가하더라도)\n",
    "a.extend([5,6,1000])\n",
    "print(a)\n",
    "a.extend([0])\n",
    "print(a)\n",
    "\n",
    "#여러개 추가할 때 \n",
    "a.append([7,8,9]) # --> append로 여러개 추가할때는 리스트의 리스트 형태가 됨 \n",
    "#그래서 extend를 써야함 \n",
    "print(a)"
   ]
  },
  {
   "cell_type": "markdown",
   "id": "9e99b69f",
   "metadata": {},
   "source": [
    "### 연습문제 "
   ]
  },
  {
   "cell_type": "code",
   "execution_count": 1,
   "id": "475567e7",
   "metadata": {},
   "outputs": [
    {
     "name": "stdout",
     "output_type": "stream",
     "text": [
      "홍길동의 평균성적: 70.0\n"
     ]
    }
   ],
   "source": [
    "#1번 문제 \n",
    "kor = 80\n",
    "engl = 75\n",
    "math = 55\n",
    "print('홍길동의 평균성적:',(kor+engl+math)/3)\n"
   ]
  },
  {
   "cell_type": "code",
   "execution_count": 3,
   "id": "c4f3a093",
   "metadata": {},
   "outputs": [
    {
     "name": "stdout",
     "output_type": "stream",
     "text": [
      "숫자를 입력하시오:13\n",
      "홀수 입니다.\n"
     ]
    }
   ],
   "source": [
    "a = input('숫자를 입력하시오:')\n",
    "if int(a) % 2 ==0:\n",
    "    print('짝수 입니다.')\n",
    "else:\n",
    "    print('홀수 입니다.')"
   ]
  },
  {
   "cell_type": "code",
   "execution_count": 7,
   "id": "bd7cd815",
   "metadata": {},
   "outputs": [
    {
     "name": "stdout",
     "output_type": "stream",
     "text": [
      "881120\n",
      "1068234\n"
     ]
    }
   ],
   "source": [
    "# 3번 문제 \n",
    "pin = '881120-1068234'\n",
    "yyyymmdd = pin[:6]\n",
    "print(yyyymmdd)\n",
    "num = pin[7:]\n",
    "print(num)"
   ]
  },
  {
   "cell_type": "code",
   "execution_count": 8,
   "id": "b5c46afe",
   "metadata": {},
   "outputs": [
    {
     "name": "stdout",
     "output_type": "stream",
     "text": [
      "1\n"
     ]
    }
   ],
   "source": [
    "print(pin[7])"
   ]
  },
  {
   "cell_type": "code",
   "execution_count": 9,
   "id": "4170d1c8",
   "metadata": {},
   "outputs": [
    {
     "name": "stdout",
     "output_type": "stream",
     "text": [
      "a#b#c#d\n"
     ]
    }
   ],
   "source": [
    "a = 'a:b:c:d'\n",
    "b = a.replace('a:b:c:d','a#b#c#d')\n",
    "print(b)"
   ]
  },
  {
   "cell_type": "code",
   "execution_count": 13,
   "id": "86b8a2af",
   "metadata": {},
   "outputs": [
    {
     "name": "stdout",
     "output_type": "stream",
     "text": [
      "[5, 4, 3, 2, 1]\n"
     ]
    }
   ],
   "source": [
    "a = [1,3,5,4,2]\n",
    "a.sort()\n",
    "a.reverse()\n",
    "print(a)"
   ]
  },
  {
   "cell_type": "code",
   "execution_count": 19,
   "id": "2c9b964e",
   "metadata": {},
   "outputs": [
    {
     "name": "stdout",
     "output_type": "stream",
     "text": [
      "Life is too short\n",
      "<class 'str'>\n"
     ]
    }
   ],
   "source": [
    "a = ['Life','is','too','short']\n",
    "result = ' '.join(a)\n",
    "print(result)\n",
    "print(type(result))"
   ]
  },
  {
   "cell_type": "code",
   "execution_count": 13,
   "id": "9f2e1e0b",
   "metadata": {},
   "outputs": [
    {
     "name": "stdout",
     "output_type": "stream",
     "text": [
      "[1, 2, 3, 4]\n",
      "[1, 2, 3, 4]\n",
      "[1, 4, 3, 2]\n",
      "[4, 3, 2, 1]\n"
     ]
    }
   ],
   "source": [
    "# 210913\n",
    "### 정렬기능 -원하는 정보를 쉽게 찾는다, 최댓값 최솟값을 찾기 쉬워짐 \n",
    "#오름차순 정렬 defualt\n",
    "\n",
    "a= [1,4,3,2]\n",
    "a.sort()\n",
    "print(a) #실제 데이터를 정렬 시킴, 원본 자체 순서가 바뀜\n",
    "\n",
    "a= [1,4,3,2]\n",
    "print(sorted(a)) #차이는? # 실제 데이터를 정렬한 것을 다른 곳에 저장, 원본이 바뀌는 것이 아님\n",
    "print(a)\n",
    "\n",
    "a=sorted(a) # sorted 함수로 원본 데이터까지 바꾸러면 변수로 다시 지정해주면 됨\n",
    "#이러면 기존의 a는 가비지(존재는 하지만 쓸 수 없는)데이터가 됨.\n",
    "\n",
    "#내림차순으로 정렬을 하려면 기본적으로 오름차순을 먼저 해줘야 함\n",
    "a.reverse()\n",
    "print(a)"
   ]
  },
  {
   "cell_type": "code",
   "execution_count": 31,
   "id": "2e52f43f",
   "metadata": {},
   "outputs": [
    {
     "name": "stdout",
     "output_type": "stream",
     "text": [
      "[1, 1, 2, 3, 'a']\n",
      "[1, 2, 1, 2, 3, 'a']\n",
      "[1, 2, 1, 2, 'a']\n",
      "------------------------------\n",
      "[]\n",
      "------------------------------\n",
      "3\n",
      "[1, 2]\n",
      "2\n",
      "[1]\n"
     ]
    }
   ],
   "source": [
    "####제거하기\n",
    "\n",
    "# 범위를 지정해서 제거하기, slicing(끝은 항상 n-1)\n",
    "a = [1,2,3,1,2,3,'a']\n",
    "a[1:3] = []\n",
    "print(a)\n",
    "\n",
    "# 값을 찾아서 삭제하는 경우\n",
    "a = [1,2,3,1,2,3,'a']\n",
    "a.remove(3) # 중복되는 경우 맨 먼저 있는 값을 제거 \n",
    "print(a) \n",
    "\n",
    "# 위치를 찾아서 삭제 \n",
    "del a[4]\n",
    "print(a)\n",
    "\n",
    "print('-'*30)\n",
    "\n",
    "#전체데이터 삭제 \n",
    "a = [1,2,3,1,2,3,'a'] #껍데기만 삭제 \n",
    "a[:]=[]\n",
    "print(a)\n",
    "\n",
    "a = [1,2,3,1,2,3,'a']\n",
    "del a #변수 자체를 삭제\n",
    "# print(a) --> 존재하지 않는 변수를 출력하라 했으니 에러가 나는 것.\n",
    "\n",
    "print('-'*30)\n",
    "\n",
    "# stack --> 메모리 사용 방법,데이터를 사용할때 한쪽을 막아둠, 결국애 데이터를 꺼낼때 \n",
    "#어떤 것 부터? a,b,c 로  저장되면 c ,b, a 순으로 사용할 수 있음, LIFO(last in first out)\n",
    "#잠깐 저장해놀을 때\n",
    "#push --> 데이터 넣기, pop --> push 된 데이터를 꺼내는 것 \n",
    "#앞에서는 무조건 삭제이지만 여기에서는 이 데이터를 사용하기 위해서 꺼내오는 것(메모리 입장에서는 삭제된 것)\n",
    "a = [1,2,3]\n",
    "b=a.pop()#꺼내와라 했을때 마지막에 저장된 3을 꺼내옴 \n",
    "print(b)\n",
    "print(a) # a 입장에서는 3이 삭제됨\n",
    "\n",
    "b= a.pop()\n",
    "print(b)\n",
    "print(a)"
   ]
  },
  {
   "cell_type": "code",
   "execution_count": 37,
   "id": "f65a7411",
   "metadata": {},
   "outputs": [
    {
     "name": "stdout",
     "output_type": "stream",
     "text": [
      "3\n",
      "True\n",
      "False\n"
     ]
    }
   ],
   "source": [
    "#### 검색기능 :find,index\n",
    "\n",
    "#index\n",
    "a=[1,2,3,4,5]\n",
    "print(a.index(4))#4라는 데이터가 인덱스가 몇번인지\n",
    "# print(a.index(7)) 없으면 에러\n",
    "\n",
    "#있는지 없는지 확인하려면 연산자 사용하면 됨 \n",
    "print(2 in a)\n",
    "print(7 in a)\n"
   ]
  },
  {
   "cell_type": "code",
   "execution_count": 35,
   "id": "e421afc1",
   "metadata": {},
   "outputs": [
    {
     "data": {
      "text/plain": [
       "['__add__',\n",
       " '__class__',\n",
       " '__contains__',\n",
       " '__delattr__',\n",
       " '__delitem__',\n",
       " '__dir__',\n",
       " '__doc__',\n",
       " '__eq__',\n",
       " '__format__',\n",
       " '__ge__',\n",
       " '__getattribute__',\n",
       " '__getitem__',\n",
       " '__gt__',\n",
       " '__hash__',\n",
       " '__iadd__',\n",
       " '__imul__',\n",
       " '__init__',\n",
       " '__init_subclass__',\n",
       " '__iter__',\n",
       " '__le__',\n",
       " '__len__',\n",
       " '__lt__',\n",
       " '__mul__',\n",
       " '__ne__',\n",
       " '__new__',\n",
       " '__reduce__',\n",
       " '__reduce_ex__',\n",
       " '__repr__',\n",
       " '__reversed__',\n",
       " '__rmul__',\n",
       " '__setattr__',\n",
       " '__setitem__',\n",
       " '__sizeof__',\n",
       " '__str__',\n",
       " '__subclasshook__',\n",
       " 'append',\n",
       " 'clear',\n",
       " 'copy',\n",
       " 'count',\n",
       " 'extend',\n",
       " 'index',\n",
       " 'insert',\n",
       " 'pop',\n",
       " 'remove',\n",
       " 'reverse',\n",
       " 'sort']"
      ]
     },
     "execution_count": 35,
     "metadata": {},
     "output_type": "execute_result"
    }
   ],
   "source": [
    "dir(a) # --> 사용가능한 함수 확인 "
   ]
  },
  {
   "cell_type": "markdown",
   "id": "559a886e",
   "metadata": {},
   "source": [
    "---- \n",
    "\n",
    "#### (4). Tuple\n",
    "* 리스트와 거의 비슷 --> 리스트의 기능을 똑같이 사용 가능 \n",
    "\n",
    "차이점 \n",
    "+ ()를 사용함 \n",
    "+ immutable(값들의 생성,삭제,수정이 불가)\n",
    "+ 데이터를 보호하기 위해 사용 "
   ]
  },
  {
   "cell_type": "code",
   "execution_count": 38,
   "id": "b3ecf1dd",
   "metadata": {},
   "outputs": [
    {
     "name": "stdout",
     "output_type": "stream",
     "text": [
      "('a', 'b', 'c', 'd')\n",
      "<class 'tuple'>\n"
     ]
    }
   ],
   "source": [
    "a = ('a','b','c','d')\n",
    "print(a)\n",
    "print(type(a))"
   ]
  },
  {
   "cell_type": "code",
   "execution_count": 143,
   "id": "2b95181e",
   "metadata": {},
   "outputs": [
    {
     "name": "stdout",
     "output_type": "stream",
     "text": [
      "('a', 'b', 'c', 'd')\n",
      "<class 'tuple'>\n",
      "4\n",
      "1\n",
      "1\n",
      "[1, 2, 3]\n",
      "[1, 2, 3, 4]\n",
      "(1, 2, 3, 4)\n"
     ]
    }
   ],
   "source": [
    "a = 'a','b','c','d'\n",
    "print(a)\n",
    "print(type(a))\n",
    "\n",
    "print(len(a))\n",
    "print(a.count('c'))\n",
    "print(a.index('b'))\n",
    "\n",
    "aa = (1,2,3)\n",
    "ad = list(aa)\n",
    "print(ad)\n",
    "ad.append(4)\n",
    "print(ad)\n",
    "ad = tuple(ad)\n",
    "print(ad)\n"
   ]
  },
  {
   "cell_type": "code",
   "execution_count": 49,
   "id": "f23ca836",
   "metadata": {
    "scrolled": true
   },
   "outputs": [
    {
     "name": "stdout",
     "output_type": "stream",
     "text": [
      "['a', 10, 'c', 'd']\n",
      "('a', 10, 'c', 'd')\n",
      "<class 'tuple'>\n"
     ]
    }
   ],
   "source": [
    "# a[1] =10 수정 불가\n",
    "# 그러면 튜플의 데이터를 바꿔야 할때는?? 튜플을 리스트로 \n",
    "b =list(a)\n",
    "b[1] = 10\n",
    "print(b)\n",
    "\n",
    "c= tuple(b)\n",
    "print(c)\n",
    "print(type(c))"
   ]
  },
  {
   "cell_type": "code",
   "execution_count": 56,
   "id": "e4bfe30d",
   "metadata": {},
   "outputs": [
    {
     "name": "stdout",
     "output_type": "stream",
     "text": [
      "(10, 20, 30)\n",
      "10 20 30\n"
     ]
    }
   ],
   "source": [
    "#### packing, unpacking\n",
    "a= 10 ,20,30 # 원래 하나의 변수에 하나의 데이터 하지만 파이썬을 여러개 가능 \n",
    "print(a) # 자동으로 데이터를 묶어줌. \n",
    "\n",
    "# a1=a[0]\n",
    "# a2=a[1]\n",
    "# a3=a[2] 원래는 이렇게 해야함 \n",
    "a1,a2,a3 = a #자동으로 풀어줌 - unpacjubg\n",
    "print(a1,a2,a3)"
   ]
  },
  {
   "cell_type": "markdown",
   "id": "6cd87d30",
   "metadata": {},
   "source": [
    "---\n",
    "\n",
    "#### (5). 딕셔너리(dict, dictionary) \n",
    "* key : value 왜 두개씩 묶냐? 데이터 검색을 위함, 데이터를 조금 더 빨리 찾기 위해\n",
    "* 값이 의미하는 특징을 key로 마음대로 만들 수 있음. \n",
    "\n",
    "특징\n",
    "* 순서가 없음. --> 인덱스를 쓸 수가 없음\n",
    "- {키 : 값} \n",
    "- 키를 이용해서 값을 조회할 수 있음"
   ]
  },
  {
   "cell_type": "code",
   "execution_count": 60,
   "id": "9c1bf2f1",
   "metadata": {},
   "outputs": [
    {
     "name": "stdout",
     "output_type": "stream",
     "text": [
      "<class 'dict'>\n",
      "{'name': '홍길동', 'tel': '111-1111', 'age': 25}\n"
     ]
    }
   ],
   "source": [
    "a = {'name': '홍길동','tel':'111-1111','age':25}\n",
    "print(type(a))\n",
    "print(a)"
   ]
  },
  {
   "cell_type": "code",
   "execution_count": 62,
   "id": "ce5c747c",
   "metadata": {},
   "outputs": [
    {
     "ename": "KeyError",
     "evalue": "0",
     "output_type": "error",
     "traceback": [
      "\u001b[1;31m---------------------------------------------------------------------------\u001b[0m",
      "\u001b[1;31mKeyError\u001b[0m                                  Traceback (most recent call last)",
      "\u001b[1;32m<ipython-input-62-23821ec76b06>\u001b[0m in \u001b[0;36m<module>\u001b[1;34m\u001b[0m\n\u001b[1;32m----> 1\u001b[1;33m \u001b[0mprint\u001b[0m\u001b[1;33m(\u001b[0m\u001b[0ma\u001b[0m\u001b[1;33m[\u001b[0m\u001b[1;36m0\u001b[0m\u001b[1;33m]\u001b[0m\u001b[1;33m)\u001b[0m\u001b[1;33m\u001b[0m\u001b[1;33m\u001b[0m\u001b[0m\n\u001b[0m",
      "\u001b[1;31mKeyError\u001b[0m: 0"
     ]
    }
   ],
   "source": [
    "print(a[0]) # --> 인덱스가 없기 때문에 --> 키값을 써야 함 "
   ]
  },
  {
   "cell_type": "code",
   "execution_count": 64,
   "id": "9e1b5fd4",
   "metadata": {},
   "outputs": [
    {
     "name": "stdout",
     "output_type": "stream",
     "text": [
      "홍길동 111-1111 25\n"
     ]
    }
   ],
   "source": [
    "print(a['name'],a['tel'],a['age'])"
   ]
  },
  {
   "cell_type": "code",
   "execution_count": 67,
   "id": "13f218b7",
   "metadata": {},
   "outputs": [
    {
     "name": "stdout",
     "output_type": "stream",
     "text": [
      "dict_keys(['name', 'tel', 'age'])\n",
      "dict_values(['홍길동', '111-1111', 25])\n",
      "dict_items([('name', '홍길동'), ('tel', '111-1111'), ('age', 25)])\n"
     ]
    }
   ],
   "source": [
    "print(a.keys()) # 키만 보는 함수\n",
    "print(a.values()) # 값들 보는 함수\n",
    "print(a.items()) # "
   ]
  },
  {
   "cell_type": "code",
   "execution_count": 74,
   "id": "34929083",
   "metadata": {},
   "outputs": [
    {
     "name": "stdout",
     "output_type": "stream",
     "text": [
      "<class 'dict_items'>\n",
      "['name', 'tel', 'age']\n",
      "[('name', '홍길동'), ('tel', '111-1111'), ('age', 25)]\n",
      "<class 'list'>\n",
      "[('name', '홍길동'), ('tel', '111-1111'), ('age', 25)]\n",
      "('name', '홍길동') name\n"
     ]
    }
   ],
   "source": [
    "b = a.items()\n",
    "print(type(b))\n",
    "\n",
    "# 딕셔너리를 리스트로 바꾸려면? \n",
    "c =list(a) # 키만 리스트로 바뀜\n",
    "print(c)\n",
    "\n",
    "# items로 해야 함\n",
    "c= list(a.items())\n",
    "print(c)\n",
    "print(type(c))\n",
    "print(c[:])\n",
    "print(c[0],c[0][0])\n",
    "\n",
    "# 왜 딕셔너리를 리스트로 바꿔서 사용해야할까? \n",
    "#자동화를 시키기 위해 list 형식으로 바꿔야 할 경우가 존재, 반복문 쓸때 사용 "
   ]
  },
  {
   "cell_type": "code",
   "execution_count": 78,
   "id": "41bbffb4",
   "metadata": {},
   "outputs": [
    {
     "name": "stdout",
     "output_type": "stream",
     "text": [
      "{'name': '임꺽정', 'tel': '111-1111', 'age': 25}\n"
     ]
    }
   ],
   "source": [
    "#### 딕셔너리 수정 - list 처럼 수정 가능함.\n",
    "a['name'] ='임꺽정'\n",
    "print(a)"
   ]
  },
  {
   "cell_type": "code",
   "execution_count": 79,
   "id": "b51a72bd",
   "metadata": {},
   "outputs": [
    {
     "name": "stdout",
     "output_type": "stream",
     "text": [
      "{'name': '임꺽정', 'tel': '111-1111', 'age': 25, 'hobby': ['축구', '영화감상', '음주가무']}\n"
     ]
    }
   ],
   "source": [
    "##### 추가 \n",
    "\n",
    "a['hobby'] = ['축구','영화감상','음주가무']\n",
    "print(a)"
   ]
  },
  {
   "cell_type": "code",
   "execution_count": 80,
   "id": "1941d4cb",
   "metadata": {},
   "outputs": [
    {
     "name": "stdout",
     "output_type": "stream",
     "text": [
      "{'name': '임꺽정', 'age': 25, 'hobby': ['축구', '영화감상', '음주가무']}\n"
     ]
    }
   ],
   "source": [
    "#### 요소삭제 \n",
    "\n",
    "del a['tel']\n",
    "print(a)"
   ]
  },
  {
   "cell_type": "code",
   "execution_count": 81,
   "id": "5ed249e8",
   "metadata": {},
   "outputs": [
    {
     "name": "stdout",
     "output_type": "stream",
     "text": [
      "{}\n"
     ]
    }
   ],
   "source": [
    "### 전체삭제 \n",
    "a.clear()\n",
    "print(a)"
   ]
  },
  {
   "cell_type": "code",
   "execution_count": 86,
   "id": "240ee6e3",
   "metadata": {},
   "outputs": [
    {
     "name": "stdout",
     "output_type": "stream",
     "text": [
      "홍길동\n",
      "홍길동\n",
      "축구\n"
     ]
    }
   ],
   "source": [
    "#### 데이터 가져오기  : get('키',default)\n",
    "a = {'name': '홍길동','tel':'111-1111','age':25}\n",
    "print(a['name'])\n",
    "print(a.get('name'))\n",
    "\n",
    "# print(a['hobby']) --> 에러가 뜸\n",
    "print(a.get('hooby','축구')) # hobby를 가져와라 단 없으면 디폴트값(축구)를 가겨와라"
   ]
  },
  {
   "cell_type": "markdown",
   "id": "67c6a4f1",
   "metadata": {},
   "source": [
    "---\n",
    "\n",
    "#### (6) set\n",
    "\n",
    "- {} 사용\n",
    "- 순서가 없다.\n",
    "- 중복불가\n",
    "\n"
   ]
  },
  {
   "cell_type": "code",
   "execution_count": 88,
   "id": "71abe9a1",
   "metadata": {},
   "outputs": [
    {
     "name": "stdout",
     "output_type": "stream",
     "text": [
      "{1, 2, 3, 4}\n",
      "<class 'set'>\n"
     ]
    }
   ],
   "source": [
    "a = {1,2,3,4,2,4} # 중복된 데이터를 알아서 제거해줌\n",
    "print(a)\n",
    "print(type(a))"
   ]
  },
  {
   "cell_type": "code",
   "execution_count": 89,
   "id": "dacf5d1a",
   "metadata": {},
   "outputs": [
    {
     "ename": "TypeError",
     "evalue": "'set' object is not subscriptable",
     "output_type": "error",
     "traceback": [
      "\u001b[1;31m---------------------------------------------------------------------------\u001b[0m",
      "\u001b[1;31mTypeError\u001b[0m                                 Traceback (most recent call last)",
      "\u001b[1;32m<ipython-input-89-6a1284577a36>\u001b[0m in \u001b[0;36m<module>\u001b[1;34m\u001b[0m\n\u001b[1;32m----> 1\u001b[1;33m \u001b[0ma\u001b[0m\u001b[1;33m[\u001b[0m\u001b[1;36m0\u001b[0m\u001b[1;33m]\u001b[0m\u001b[1;33m\u001b[0m\u001b[1;33m\u001b[0m\u001b[0m\n\u001b[0m",
      "\u001b[1;31mTypeError\u001b[0m: 'set' object is not subscriptable"
     ]
    }
   ],
   "source": [
    "a[0] # 순서대로 저장된것이 아니기 때문에 인덱스로 뽑아 올 수 없음"
   ]
  },
  {
   "cell_type": "code",
   "execution_count": 91,
   "id": "141c0c6e",
   "metadata": {},
   "outputs": [
    {
     "name": "stdout",
     "output_type": "stream",
     "text": [
      "[1, 2, 3, 4]\n",
      "1\n"
     ]
    }
   ],
   "source": [
    "#데이터를 못뽑아 오나? 리스트로 바꾸야지\n",
    "b = list(a)\n",
    "print(b)\n",
    "print(b[0])"
   ]
  },
  {
   "cell_type": "code",
   "execution_count": 112,
   "id": "12632696",
   "metadata": {},
   "outputs": [
    {
     "name": "stdout",
     "output_type": "stream",
     "text": [
      "{1, 2, 3, 4, 5, 6, 7, 8, 9}\n",
      "{4, 5, 6}\n",
      "{1, 2, 3}\n"
     ]
    }
   ],
   "source": [
    "#### 집합 연산 \n",
    "\n",
    "s1 =set([1,2,3,4,5,6])\n",
    "s2 =set([4,5,6,7,8,9])\n",
    "\n",
    "#합집합 \n",
    "print(s1.union(s2))\n",
    "\n",
    "#교집합\n",
    "print(s1.intersection(s2))\n",
    "\n",
    "#차집합\n",
    "print(s1.difference(s2))\n"
   ]
  },
  {
   "cell_type": "code",
   "execution_count": 113,
   "id": "ca921553",
   "metadata": {},
   "outputs": [
    {
     "name": "stdout",
     "output_type": "stream",
     "text": [
      "{1, 2, 3, 4, 5, 6, 7, 8}\n",
      "{1, 2, 3, 4, 5, 6, 7, 8, 100, 110}\n",
      "{1, 2, 3, 4, 5, 6, 7, 8, 100, 9, 110}\n"
     ]
    }
   ],
   "source": [
    "#### CRUD\n",
    "\n",
    "#여러개 추가 \n",
    "s1.update({7,8})\n",
    "print(s1)\n",
    "s1.update([100,110]) #중괄호든 대괄호든 가능 \n",
    "print(s1)\n",
    "#한개 추가 \n",
    "s1.add(9)\n",
    "print(s1)"
   ]
  },
  {
   "cell_type": "code",
   "execution_count": 114,
   "id": "0a123c31",
   "metadata": {},
   "outputs": [
    {
     "name": "stdout",
     "output_type": "stream",
     "text": [
      "{1, 2, 3, 4, 5, 6, 7, 8, 100, 110}\n",
      "{1, 2, 3, 4, 5, 6, 7, 8, 110}\n"
     ]
    }
   ],
   "source": [
    "##### 삭제 \n",
    "s1.remove(9) #--> 없는 데이터를 삭제하면 에러가 남 \n",
    "print(s1)\n",
    "\n",
    "####삭제   # 없는 데이터를 넣으면 에러가 나지 않음.\n",
    "s1.discard(100)\n",
    "print(s1)"
   ]
  },
  {
   "cell_type": "code",
   "execution_count": 103,
   "id": "8b618bcd",
   "metadata": {},
   "outputs": [
    {
     "ename": "KeyError",
     "evalue": "{100, 110}",
     "output_type": "error",
     "traceback": [
      "\u001b[1;31m---------------------------------------------------------------------------\u001b[0m",
      "\u001b[1;31mKeyError\u001b[0m                                  Traceback (most recent call last)",
      "\u001b[1;32m<ipython-input-103-e8743f5f2550>\u001b[0m in \u001b[0;36m<module>\u001b[1;34m\u001b[0m\n\u001b[1;32m----> 1\u001b[1;33m \u001b[0ms1\u001b[0m\u001b[1;33m.\u001b[0m\u001b[0mremove\u001b[0m\u001b[1;33m(\u001b[0m\u001b[1;33m{\u001b[0m\u001b[1;36m100\u001b[0m\u001b[1;33m,\u001b[0m\u001b[1;36m110\u001b[0m\u001b[1;33m}\u001b[0m\u001b[1;33m)\u001b[0m\u001b[1;33m\u001b[0m\u001b[1;33m\u001b[0m\u001b[0m\n\u001b[0m\u001b[0;32m      2\u001b[0m \u001b[0mprint\u001b[0m\u001b[1;33m(\u001b[0m\u001b[0ms1\u001b[0m\u001b[1;33m)\u001b[0m\u001b[1;33m\u001b[0m\u001b[1;33m\u001b[0m\u001b[0m\n",
      "\u001b[1;31mKeyError\u001b[0m: {100, 110}"
     ]
    }
   ],
   "source": [
    "s1.remove({100,110}) # 여러개 삭제는 안됨\n",
    "print(s1)\n",
    "\n",
    "####삭제   얘도 여러개 안됨\n",
    "s1.discard({100,110})\n",
    "print(s1)"
   ]
  },
  {
   "cell_type": "code",
   "execution_count": 116,
   "id": "e67cac2c",
   "metadata": {},
   "outputs": [
    {
     "name": "stdout",
     "output_type": "stream",
     "text": [
      "[1, 2, 3, 4, 5]\n"
     ]
    }
   ],
   "source": [
    "#### 중복된 데이터를 제거하고 재구성 \n",
    "\n",
    "data = [1,2,3,4,4,5,2]\n",
    "a = set(data)\n",
    "a2=list(a)\n",
    "print(a2)"
   ]
  },
  {
   "cell_type": "markdown",
   "id": "cf7f7d1e",
   "metadata": {},
   "source": [
    "----\n",
    "\n",
    "## 4. Operater\n",
    "\n",
    "1) 산술 연산자\n",
    "\n",
    "    * /  +  -  %(나머지) //(몫) ** (제곱)\n",
    "    \n",
    "2) 비교 연산자\n",
    "\n",
    "    >    <     >=    <=    ==(같음)  !=(같지 않다)\n",
    "    \n",
    "3) 논리 연산자\n",
    "\n",
    "    and(모두 참)  or(참이거나 아니거나) not(참은 거짓으로, 거짓은 참으로)\n",
    "    and, or는 다항 연산자, not은 단항 연산자\n",
    "    x     y    x and y    x or y       not x        x ^y\n",
    "    -----------------------------------------------------\n",
    "    T     T       T         T            F            F \n",
    "    T     F       F         T            F            T\n",
    "    F     T       F         T            T            T\n",
    "    F     F       F         F            T            F\n",
    "    \n",
    "     \n",
    "4) 대입(치환) 연산자\n",
    "\n",
    "    =  += -= /= *= ...\n",
    "    \n",
    " =================================================================\n",
    " \n",
    " 5) 포함 여부 연산자 \n",
    "     in(포함이 되어 있는지)     not in \n",
    "     \n",
    " 6) 비트 연산자 \n",
    "     bit < byte(8bit) < kb(1024byte) < mb < GB < TB\n",
    "     0,1 이진수 \n",
    "     \n",
    "     &(and)   |(or)   `^(캡, xor 연산자)` - exclusive or   배타적일 때 참\n",
    "                                            (두 변수가 같을 때 거짓 다를때 참)\n",
    "                                            (암호화, 복호화할 때 탁월)\n",
    "                                            \n",
    "     ~     >>  <<  ..... 엄청 많다"
   ]
  },
  {
   "cell_type": "code",
   "execution_count": 119,
   "id": "e4565305",
   "metadata": {},
   "outputs": [
    {
     "name": "stdout",
     "output_type": "stream",
     "text": [
      "5\n",
      "9\n"
     ]
    }
   ],
   "source": [
    "#### 대입 연산자 --> 우선 순위가 있음 e.g. 2+3*3+2 = 13(곱셈부터) 괄호로 묶어줘야함\n",
    "\n",
    "a=1\n",
    "a=3\n",
    "a=5\n",
    "print(a)\n",
    "\n",
    "b=1  #대입 연산자는 누적의 개념임 \n",
    "b+=3  #b = b +3 \n",
    "b+=5  #b = b+5 \n",
    "print(b)"
   ]
  },
  {
   "cell_type": "code",
   "execution_count": 132,
   "id": "f5875498",
   "metadata": {},
   "outputs": [
    {
     "name": "stdout",
     "output_type": "stream",
     "text": [
      "3\n",
      "True\n",
      "True\n",
      "3\n",
      "4\n"
     ]
    }
   ],
   "source": [
    "#### 비트 연산자 \n",
    "\n",
    "a = 7\n",
    "b = 3\n",
    "\n",
    "result = a and b  # 비프연산자 좌우변에 bool 형식(TRUE/FALSE)가 나와야 함\n",
    "print(result) # 연산의 결과가 아님 이렇게 쓰면 안된다. \n",
    "\n",
    "result = a>3 and b<5\n",
    "print(result)\n",
    "\n",
    "result = a>3 & b<5\n",
    "print(result)\n",
    "\n",
    "result = a & b \n",
    "print(result) # 7와 3를 2진수로 변환하여(111,011 같으면 0 다르면 1) -->100 --> 다시 10진수로?\n",
    "result = a^b\n",
    "print(result)"
   ]
  },
  {
   "cell_type": "code",
   "execution_count": 137,
   "id": "be956088",
   "metadata": {},
   "outputs": [
    {
     "name": "stdout",
     "output_type": "stream",
     "text": [
      "암호화: 39541261\n",
      "복호화: 648723\n"
     ]
    }
   ],
   "source": [
    "data = 648723\n",
    "key = 38976542\n",
    "\n",
    "encoding= data ^key\n",
    "print('암호화:',encoding)\n",
    "\n",
    "decoding = encoding ^ key\n",
    "print('복호화:',decoding)"
   ]
  },
  {
   "cell_type": "code",
   "execution_count": 146,
   "id": "ff70e1bb",
   "metadata": {},
   "outputs": [
    {
     "name": "stdout",
     "output_type": "stream",
     "text": [
      "(1, 2, 3, 4)\n",
      "(1, 2, 3, 4)\n"
     ]
    }
   ],
   "source": [
    "### 연습문제 \n",
    "a= (1,2,3)\n",
    "a =a +(4,)\n",
    "print(a)\n",
    "\n",
    "a= (1,2,3)\n",
    "a1 = list(a)\n",
    "a1.insert(3,4)\n",
    "a2 = tuple(a1)\n",
    "print(a2)"
   ]
  },
  {
   "cell_type": "code",
   "execution_count": 150,
   "id": "1bb73b60",
   "metadata": {},
   "outputs": [
    {
     "name": "stdout",
     "output_type": "stream",
     "text": [
      "80\n",
      "{'A': 90, 'C': 70}\n"
     ]
    }
   ],
   "source": [
    "a = {'A':90,'B':80,'C':70}\n",
    "result = a.pop('B')\n",
    "print(result)\n",
    "print(a)"
   ]
  },
  {
   "cell_type": "code",
   "execution_count": 151,
   "id": "c2d63489",
   "metadata": {},
   "outputs": [
    {
     "name": "stdout",
     "output_type": "stream",
     "text": [
      "[1, 2, 3, 4, 5]\n"
     ]
    }
   ],
   "source": [
    "a = [1,1,1,2,2,3,3,3,4,4,5]\n",
    "aSet = set(a)\n",
    "b = list(aSet)\n",
    "print(b)"
   ]
  },
  {
   "cell_type": "code",
   "execution_count": 3,
   "id": "4981feaa",
   "metadata": {},
   "outputs": [
    {
     "name": "stdout",
     "output_type": "stream",
     "text": [
      "정수 입력 :3\n",
      "결과 : 3의 팩터리얼은 6 이다.\n"
     ]
    }
   ],
   "source": [
    "n = int(input('정수 입력 :'))\n",
    "result = 1 \n",
    "for i in range(1,n+1,1):\n",
    "    result *= i\n",
    "print(f'결과 : {n}의 팩터리얼은 {result} 이다.')"
   ]
  },
  {
   "cell_type": "code",
   "execution_count": null,
   "id": "c59212bf",
   "metadata": {},
   "outputs": [],
   "source": []
  }
 ],
 "metadata": {
  "kernelspec": {
   "display_name": "Python 3",
   "language": "python",
   "name": "python3"
  },
  "language_info": {
   "codemirror_mode": {
    "name": "ipython",
    "version": 3
   },
   "file_extension": ".py",
   "mimetype": "text/x-python",
   "name": "python",
   "nbconvert_exporter": "python",
   "pygments_lexer": "ipython3",
   "version": "3.8.8"
  }
 },
 "nbformat": 4,
 "nbformat_minor": 5
}
