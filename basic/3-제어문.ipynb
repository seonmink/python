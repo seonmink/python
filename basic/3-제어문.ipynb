{
 "cells": [
  {
   "cell_type": "markdown",
   "id": "80ab7099",
   "metadata": {},
   "source": [
    "## 1. 입력 기능\n"
   ]
  },
  {
   "cell_type": "code",
   "execution_count": 2,
   "id": "9c4fe657",
   "metadata": {},
   "outputs": [
    {
     "name": "stdout",
     "output_type": "stream",
     "text": [
      "당신의 이름은?:김선민\n",
      "당신의 이름은?:김선민\n"
     ]
    }
   ],
   "source": [
    "input('당신의 이름은?:')\n",
    "#  내가 입력한 이름이 데이터 그러나 변수로 저장을 해주지 않았기 때문에 \n",
    "#  일회용 보여주고 끝 그래서 항상 변수로 저장해줘야 계속 사용 \n",
    "\n",
    "name = input('당신의 이름은?:')"
   ]
  },
  {
   "cell_type": "code",
   "execution_count": 3,
   "id": "c78e97cf",
   "metadata": {},
   "outputs": [
    {
     "name": "stdout",
     "output_type": "stream",
     "text": [
      "안녕하세요! 김선민님 어서오세요!\n"
     ]
    }
   ],
   "source": [
    "print('안녕하세요! {}님 어서오세요!'.format(name) )"
   ]
  },
  {
   "cell_type": "code",
   "execution_count": 4,
   "id": "2b69c896",
   "metadata": {},
   "outputs": [
    {
     "name": "stdout",
     "output_type": "stream",
     "text": [
      "안녕하세요! 김선민님 어서오세요!\n"
     ]
    }
   ],
   "source": [
    "# f' 포맷팅\n",
    "print(f'안녕하세요! {name}님 어서오세요!')"
   ]
  },
  {
   "cell_type": "code",
   "execution_count": 1,
   "id": "7514c58e",
   "metadata": {},
   "outputs": [
    {
     "name": "stdout",
     "output_type": "stream",
     "text": [
      "첫번째 숫자를 입력하시오 : 10\n",
      "두번째 숫자를 입력하시오 : 20\n",
      "결과: 30\n"
     ]
    }
   ],
   "source": [
    "num1 = input('첫번째 숫자를 입력하시오 : ')\n",
    "num2 = input('두번째 숫자를 입력하시오 : ')\n",
    "print('결과:',int(num1)+int(num2))\n",
    "             "
   ]
  },
  {
   "cell_type": "code",
   "execution_count": 3,
   "id": "2a07e3d0",
   "metadata": {},
   "outputs": [
    {
     "name": "stdout",
     "output_type": "stream",
     "text": [
      "첫번째 숫자를 입력하시오 : 500\n",
      "두번째 숫자를 입력하시오 : 20\n",
      "결과: 520\n"
     ]
    }
   ],
   "source": [
    "num1 = int(input('첫번째 숫자를 입력하시오 : '))\n",
    "num2 = int(input('두번째 숫자를 입력하시오 : '))\n",
    "print('결과:',(num1)+(num2))"
   ]
  },
  {
   "cell_type": "code",
   "execution_count": null,
   "id": "7a3de044",
   "metadata": {},
   "outputs": [],
   "source": [
    "\"\"\"\n",
    "동전 교환 프로그램\n",
    "==================\n",
    "교환할 돈은 얼마입니까? 2763 (엔터키)\n",
    "\n",
    "결과:\n",
    "오백원짜리 ===> 5개\n",
    "백원짜리 ===> 2개\n",
    "오십원짜리 ===> 1개\n",
    "십원짜리 ===> 1개\n",
    "나머지 바꾸지 못한 잔돈 ===> 3원\n",
    "\"\"\"\n"
   ]
  },
  {
   "cell_type": "code",
   "execution_count": 2,
   "id": "be14f231",
   "metadata": {},
   "outputs": [
    {
     "name": "stdout",
     "output_type": "stream",
     "text": [
      "동전 교환 프로그램\n",
      "==========\n",
      "교환할 돈은 얼마입니까? :2763\n",
      "오백원 짜리: 5 개\n",
      "백원짜리: 2 개\n",
      "오십원 짜리 : 1 개\n",
      "십원 짜리 : 1 개\n",
      "나머지 바꾸지 못한 잔돈 : 3 원\n"
     ]
    }
   ],
   "source": [
    "print('동전 교환 프로그램')\n",
    "print('='*10)\n",
    "\n",
    "n1 =int(input('교환할 돈은 얼마입니까? :'))\n",
    "\n",
    "m500 = n1 // 500\n",
    "m100 = (n1 % 500)//100\n",
    "m50 = (n1 % 500 % 100) //50\n",
    "m10 =(n1 % 500 % 100 % 50) // 10\n",
    "m1 = (n1 %500 % 100 % 50) % 10\n",
    "\n",
    "print(f'오백원 짜리: {m500} 개')\n",
    "print(f'백원짜리: {m100} 개')\n",
    "print(f'오십원 짜리 : {m50} 개')\n",
    "print(f'십원 짜리 : {m10} 개')\n",
    "print(f'나머지 바꾸지 못한 잔돈 : {m1} 원')\n"
   ]
  },
  {
   "cell_type": "markdown",
   "id": "984eb1e3",
   "metadata": {},
   "source": [
    "---\n",
    "\n",
    "## 2. 제어문(control statement)\n",
    "\n",
    "    1) 조건문(만약 조건이 참이라면~)\n",
    "        - if\n",
    "        - switch\n",
    "\n",
    "    2) 반복문  --> 초기화 - 초기 변수 입력(count)\n",
    "        - while    조건식\n",
    "        - for      카운트(count)\n",
    "        - 주의할 점 \n",
    "            - 무한반복( 반드시 끝나는 지점이 있어야 함)\n",
    "            - 반복 횟수"
   ]
  },
  {
   "cell_type": "markdown",
   "id": "5350f8b7",
   "metadata": {},
   "source": [
    "---\n",
    "\n",
    "### if \n",
    "\n",
    "    1) 첫번째 유형\n",
    "        if 조건식 : \n",
    "           문장  --> 꼭 들여쓰기를 해야함\n",
    "           ...\n",
    "           \n",
    "        if 조건식 : 문장\n",
    "    \n",
    "    2) 두번째 유형 \n",
    "        if 조건식 :\n",
    "            문장\n",
    "            ...\n",
    "        else:\n",
    "            문장\n",
    "            ...\n",
    "            \n",
    "    3) 세번째 유형[다중 if 문]\n",
    "        if 조건식:\n",
    "            문장\n",
    "            ...\n",
    "        elif 조건식 :\n",
    "            문장\n",
    "            ...\n",
    "        elif 조건식 :\n",
    "            문장\n",
    "            ...\n",
    "        [else :\n",
    "            문장\n",
    "            ...]\n",
    "            \n",
    "     4) 조건문의 중첩(nested)\n",
    "         if 조건식:\n",
    "             문장\n",
    "             ...\n",
    "             \n",
    "             if 조건식 : \n",
    "                 문장\n",
    "                 ..."
   ]
  },
  {
   "cell_type": "code",
   "execution_count": 8,
   "id": "512fd5fa",
   "metadata": {},
   "outputs": [
    {
     "name": "stdout",
     "output_type": "stream",
     "text": [
      "숫자를 입력하시오:50\n",
      "50 은 짝수 입니다!!\n"
     ]
    }
   ],
   "source": [
    "##### 입력받은 숫자가 짝수/홀수 인지 판별하는 프로그램\n",
    "\n",
    "num1 = int(input('숫자를 입력하시오:'))\n",
    "if num1%2 == 0:\n",
    "    print(f'{num1} 은 짝수 입니다!!')\n",
    "else:\n",
    "    print(f'{num1} 은 홀수 입니다!!')"
   ]
  },
  {
   "cell_type": "code",
   "execution_count": 10,
   "id": "735c788c",
   "metadata": {},
   "outputs": [
    {
     "name": "stdout",
     "output_type": "stream",
     "text": [
      "숫자를 입력하시오:13\n",
      "13은 홀수 입니다!!\n"
     ]
    }
   ],
   "source": [
    "num1 = int(input('숫자를 입력하시오:'))\n",
    "if num1%2 == 0:\n",
    "    print(f'{num1} 은 짝수 입니다!!')\n",
    "if num1 %2 != 0:    print(f'{num1}은 홀수 입니다!!')"
   ]
  },
  {
   "cell_type": "code",
   "execution_count": 21,
   "id": "5bc02458",
   "metadata": {},
   "outputs": [
    {
     "name": "stdout",
     "output_type": "stream",
     "text": [
      "답변을 입력하세요z\n",
      "오답입니다.\n"
     ]
    }
   ],
   "source": [
    "##### 입력받은 값이 a,b,c,d 이면 정답이라 출력 그렇지 않으면 오답\n",
    "n = ['a','b','c','d']\n",
    "answer=input(\"답변을 입력하세요\")\n",
    "if answer in n:\n",
    "    print(\"정답입니다.\")\n",
    "else:\n",
    "    print(\"오답입니다.\")\n",
    "# in 다음에는 집합이 와야 함 "
   ]
  },
  {
   "cell_type": "code",
   "execution_count": 19,
   "id": "810d81cc",
   "metadata": {},
   "outputs": [
    {
     "name": "stdout",
     "output_type": "stream",
     "text": [
      "값을 입력 해주세요 : z\n",
      "오답\n"
     ]
    }
   ],
   "source": [
    "result = input(\"값을 입력 해주세요 : \")\n",
    "\n",
    "if result == \"a\" or result == \"b\" or result == \"c\" or result == \"d\":\n",
    "    print(\"정답\")\n",
    "else:\n",
    "    print(\"오답\")\n",
    "\n"
   ]
  },
  {
   "cell_type": "code",
   "execution_count": 20,
   "id": "b0d24caf",
   "metadata": {},
   "outputs": [
    {
     "name": "stdout",
     "output_type": "stream",
     "text": [
      "값을 입력 해주세요 : ㅋ\n",
      "오답\n"
     ]
    }
   ],
   "source": [
    "result = input(\"값을 입력 해주세요 : \")\n",
    "\n",
    "correct =('a','b','c','d')\n",
    "if correct.count(result) > 0:\n",
    "    print('정답')\n",
    "else:\n",
    "    print('오답')"
   ]
  },
  {
   "cell_type": "code",
   "execution_count": 24,
   "id": "250e1b89",
   "metadata": {},
   "outputs": [
    {
     "name": "stdout",
     "output_type": "stream",
     "text": [
      "값을 입력 해주세요 : c\n",
      "정답\n"
     ]
    }
   ],
   "source": [
    "answer = input(\"값을 입력 해주세요 : \")\n",
    "\n",
    "if answer >= 'a' and answer <='d':\n",
    "    print('정답')\n",
    "else:\n",
    "    print('오답')\n",
    "    \n",
    "# ASCII코드 --> 이진수를 10진수로 바꿔주는 코드 --> 그래서 문자를 써도 연속적으로 인식함"
   ]
  },
  {
   "cell_type": "code",
   "execution_count": 29,
   "id": "d9c4406e",
   "metadata": {},
   "outputs": [
    {
     "name": "stdout",
     "output_type": "stream",
     "text": [
      "97 98 65 66\n",
      "a b A B\n"
     ]
    }
   ],
   "source": [
    "# 아스키 코드\n",
    "print(ord('a'), ord('b'), ord('A'),ord('B'))\n",
    "print(chr(97),chr(98),chr(65),chr(66))"
   ]
  },
  {
   "cell_type": "code",
   "execution_count": null,
   "id": "dad491cc",
   "metadata": {},
   "outputs": [],
   "source": [
    "\"\"\"\n",
    "윤년 계산 프로그램\n",
    "-------------------\n",
    "1) 기원 연수가 4로 나누어 떨어지는 해는 우선 윤년으로 한다.\n",
    "2) 그 중에서 100으로 나누어 떨어지는 해는 평년으로 한다.\n",
    "3) 다만 400으로 나누어 떨어지는 해는 다시 윤년으로 정한다.\n",
    "\n",
    "연도를 입력 : 2019(엔터) 참고로 2020년이 윤년윤년\n",
    "결과 : 윤년입니다.(윤년이 아닙니다)\n",
    "\"\""
   ]
  },
  {
   "cell_type": "code",
   "execution_count": 7,
   "id": "85b8c946",
   "metadata": {},
   "outputs": [
    {
     "name": "stdout",
     "output_type": "stream",
     "text": [
      "연도를 입력하세요: 2000\n",
      "윤년입니다.\n"
     ]
    }
   ],
   "source": [
    "year = int(input(\"연도를 입력하세요: \"))\n",
    "\n",
    "if year % 4 == 0:\n",
    "    print(\"윤년입니다.\")\n",
    "elif year % 100 == 0:\n",
    "    print(\"평년입니다.\")\n",
    "elif year % 400 == 0:\n",
    "    print(\"윤년입니다.\")\n",
    "\n",
    "else: \n",
    "    print(\"윤년이 아닙니다.\")"
   ]
  },
  {
   "cell_type": "code",
   "execution_count": 37,
   "id": "d07b0e29",
   "metadata": {},
   "outputs": [
    {
     "name": "stdout",
     "output_type": "stream",
     "text": [
      "C학점\n"
     ]
    }
   ],
   "source": [
    "##### 다중 if 문\n",
    "\n",
    "avg = 73\n",
    "\n",
    "if avg >= 90 :\n",
    "    print('A학점')\n",
    "elif avg >= 80:\n",
    "    print('B학점')\n",
    "elif avg >=70:\n",
    "    print('C학점')\n",
    "elif avg >60:\n",
    "    print('D학점')\n",
    "else:\n",
    "    print('F학점')"
   ]
  },
  {
   "cell_type": "code",
   "execution_count": null,
   "id": "393858c8",
   "metadata": {},
   "outputs": [],
   "source": [
    "\"\"\"\n",
    "전자 계산기 프로그램(사칙연산)\n",
    "----------------------------------\n",
    "연산자 : +\n",
    "숫자1 : 10\n",
    "숫자2 : 5\n",
    "\n",
    "결과 : 10 + 5 = 15\n",
    "\"\"\"\n"
   ]
  },
  {
   "cell_type": "code",
   "execution_count": 45,
   "id": "18a8d6b4",
   "metadata": {
    "scrolled": false
   },
   "outputs": [
    {
     "name": "stdout",
     "output_type": "stream",
     "text": [
      "전자 계산기 프로그램(사칙연산)\n",
      "------------------------------\n",
      "연산자를 입력하시오(+,-,*,/):1\n",
      "연산할 첫번째 숫자를 입력하시오:1\n",
      "연산할 두번째 숫자를 입력하시오:1\n",
      "연산자를 다시 확인해 보세요.\n"
     ]
    }
   ],
   "source": [
    "print('전자 계산기 프로그램(사칙연산)')\n",
    "print('-'*30)\n",
    "\n",
    "cal = input('연산자를 입력하시오(+,-,*,/):')\n",
    "n1 = int(input('연산할 첫번째 숫자를 입력하시오:'))\n",
    "n2 = int(input('연산할 두번째 숫자를 입력하시오:'))\n",
    "\n",
    "if cal == '+':\n",
    "    print(n1+n2)\n",
    "elif cal == '-':\n",
    "    print(n1-n2)\n",
    "elif cal == '*':\n",
    "    print(n1*n2)\n",
    "elif cal == '/':\n",
    "    print(n1/n2)\n",
    "else:\n",
    "    print('연산자를 다시 확인해 보세요.')\n",
    "    \n"
   ]
  },
  {
   "cell_type": "code",
   "execution_count": 4,
   "id": "1e8dec46",
   "metadata": {},
   "outputs": [
    {
     "name": "stdout",
     "output_type": "stream",
     "text": [
      "전자 계산기 프로그램(사칙연산)\n",
      "------------------------------\n",
      "연산자를 입력하시오(+,-,*,/):+\n",
      "연산할 첫번째 숫자를 입력하시오:1\n",
      "연산할 두번째 숫자를 입력하시오:2\n",
      "3\n",
      "연산자를 입력하시오(+,-,*,/):3\n",
      "연산할 첫번째 숫자를 입력하시오:2\n",
      "연산할 두번째 숫자를 입력하시오:2\n",
      "연산자를 확인하시오\n",
      "연산자를 입력하시오(+,-,*,/):q\n"
     ]
    }
   ],
   "source": [
    "print('전자 계산기 프로그램(사칙연산)')\n",
    "print('-'*30)\n",
    "\n",
    "while True:\n",
    "    cal = input('연산자를 입력하시오(+,-,*,/):')\n",
    "    if cal =='q':\n",
    "        break\n",
    "    n1 = int(input('연산할 첫번째 숫자를 입력하시오:'))\n",
    "    n2 = int(input('연산할 두번째 숫자를 입력하시오:'))\n",
    "    \n",
    "    if cal == '+':\n",
    "        print(n1+n2)\n",
    "    elif cal == '-':\n",
    "        print(n1-n2)\n",
    "    elif cal == '*':\n",
    "        print(n1*n2)\n",
    "    elif cal == '/':\n",
    "        print(n1/n2)\n",
    "    \n",
    "    else:\n",
    "        print('연산자를 확인하시오')\n",
    "  \n",
    "        "
   ]
  },
  {
   "cell_type": "code",
   "execution_count": 43,
   "id": "e5e48ff8",
   "metadata": {},
   "outputs": [
    {
     "name": "stdout",
     "output_type": "stream",
     "text": [
      "b가 가장 크다\n"
     ]
    }
   ],
   "source": [
    "##### 조건문의 중첩\n",
    "\n",
    "a,b,c = 8,10,3\n",
    "\n",
    "if a > b:\n",
    "    if a>c:\n",
    "        print('a가 가장 크다')\n",
    "    else:\n",
    "        print('c가 가장 크다')\n",
    "else:\n",
    "    if b >c:\n",
    "        print('b가 가장 크다')\n",
    "    else :\n",
    "        print('c가 가장 크다')"
   ]
  },
  {
   "cell_type": "code",
   "execution_count": 46,
   "id": "39b14026",
   "metadata": {},
   "outputs": [
    {
     "name": "stdout",
     "output_type": "stream",
     "text": [
      "ID :seonm11\n",
      "Password :1111\n",
      "id를 다시 확인하세요\n"
     ]
    }
   ],
   "source": [
    "id = input('ID :')#tiger\n",
    "pw = input('Password :')#1111\n",
    "\n",
    "if id !='tiger':\n",
    "    if pw !='1111':\n",
    "        print('id,pw 를 다시 확인하세요')\n",
    "    else:\n",
    "        print('id를 다시 확인하세요')\n",
    "else:\n",
    "    if pw !='1111':\n",
    "        print('pw를 다시 확인하세요')\n",
    "    else: \n",
    "        print('환영합니다.')"
   ]
  },
  {
   "cell_type": "code",
   "execution_count": 140,
   "id": "09102408",
   "metadata": {},
   "outputs": [
    {
     "data": {
      "text/plain": [
       "7"
      ]
     },
     "execution_count": 140,
     "metadata": {},
     "output_type": "execute_result"
    }
   ],
   "source": [
    "# 난 수 \n",
    "import random \n",
    "#randint --> 2의 32승 \n",
    "random.randint(0,10) # 0부터 시작해서 10 수중 랜덤하게 하나 뽑아라 "
   ]
  },
  {
   "cell_type": "code",
   "execution_count": null,
   "id": "0be9ca50",
   "metadata": {},
   "outputs": [],
   "source": [
    "\"\"\"\n",
    "(가위, 바위, 보) 중에서 하나를 입력 : 가위(엔터)\n",
    "컴퓨터 : 보, 사용자 : 가위\n",
    "사용자 승\n",
    "\"\"\"\n"
   ]
  },
  {
   "cell_type": "code",
   "execution_count": 4,
   "id": "d47175c5",
   "metadata": {},
   "outputs": [
    {
     "name": "stdout",
     "output_type": "stream",
     "text": [
      "가위 바위 보 게임\n",
      "------------------------------\n",
      "가위, 바위, 보 중에 하나를 입력하시오가위\n",
      "당신이 이겼습니다.\n"
     ]
    }
   ],
   "source": [
    "print('가위 바위 보 게임')\n",
    "print('-'*30)\n",
    "\n",
    "import random \n",
    "# 0: 가위 1:바위 2:보 \n",
    "com =random.randint(0,2)\n",
    "me = input('가위, 바위, 보 중에 하나를 입력하시오')\n",
    "\n",
    "if com == 0:\n",
    "    print('컴퓨터는 가위를 냈습니다.')\n",
    "    if me == '가위':\n",
    "        print(f'{me}를 냈으므로 비겼습니다.')\n",
    "    elif me == '바위':\n",
    "              print('당신이 이겼습니다.')\n",
    "    else:\n",
    "              print('당신이 졌습니다')\n",
    "if com == 1:\n",
    "    if me == '가위':\n",
    "       print('당신이 졌습니다.')\n",
    "    elif me =='바위':\n",
    "       print('비겼습니다.')\n",
    "    else:\n",
    "       print('당신이 이겼습니다.')\n",
    "if com == 2:\n",
    "    if me == '가위':\n",
    "       print('당신이 이겼습니다.')\n",
    "    elif me =='바위':\n",
    "       print('졌습니다.')\n",
    "    else:\n",
    "       print('비겼습니다.')\n",
    "              \n",
    "              "
   ]
  },
  {
   "cell_type": "code",
   "execution_count": null,
   "id": "43ecca5d",
   "metadata": {},
   "outputs": [
    {
     "name": "stdout",
     "output_type": "stream",
     "text": [
      "가위 바위 보 게임\n",
      "------------------------------\n",
      "가위, 바위, 보 중에 하나를 입력하시오가위\n",
      "당신이 졌습니다\n",
      "당신이 졌습니다.\n"
     ]
    }
   ],
   "source": [
    "print('가위 바위 보 게임')\n",
    "print('-'*30)\n",
    "\n",
    "\n",
    "# 0: 가위 1:바위 2:보 \n",
    "import random\n",
    "com =random.randint(0,2)\n",
    "while True:\n",
    "    me = input('가위, 바위, 보 중에 하나를 입력하시오')\n",
    "    if me == 'q':\n",
    "        break\n",
    "    if com == 0:\n",
    "        print('컴퓨터는 가위를 냈습니다.')\n",
    "        if me == '가위':\n",
    "            print(f'{me}를 냈으므로 비겼습니다.')\n",
    "        elif me == '바위':\n",
    "            print('당신이 이겼습니다.')\n",
    "    else:\n",
    "        print('당신이 졌습니다')\n",
    "    if com == 1:\n",
    "        if me == '가위':\n",
    "           print('당신이 졌습니다.')\n",
    "        elif me =='바위':\n",
    "           print('비겼습니다.')\n",
    "        else:\n",
    "           print('당신이 이겼습니다.')\n",
    "    if com == 2:\n",
    "        if me == '가위':\n",
    "           print('당신이 이겼습니다.')\n",
    "        elif me =='바위':\n",
    "           print('졌습니다.')\n",
    "        else:\n",
    "           print('비겼습니다.')"
   ]
  },
  {
   "cell_type": "markdown",
   "id": "695c91e2",
   "metadata": {},
   "source": [
    "---\n",
    "\n",
    "### (2) whlie \n",
    "    \n",
    "    while 조건식:\n",
    "    (이 조건식이 참일 동안 이 문장식을 실행해라 조건식이 거짓일 때 끝)\n",
    "        문장\n",
    "        ...\n",
    "        주의할 점 "
   ]
  },
  {
   "cell_type": "code",
   "execution_count": 146,
   "id": "bf79c1be",
   "metadata": {},
   "outputs": [
    {
     "name": "stdout",
     "output_type": "stream",
     "text": [
      "********\n",
      "**********\n",
      "**********"
     ]
    }
   ],
   "source": [
    "print('********')\n",
    "print('*'*10)\n",
    "\n",
    "cnt = 0\n",
    "while cnt < 10 : \n",
    "    print('*',end='') # 줄바꿈 싫을 때\n",
    "    cnt = cnt+1"
   ]
  },
  {
   "cell_type": "code",
   "execution_count": 149,
   "id": "7b4e7445",
   "metadata": {},
   "outputs": [
    {
     "name": "stdout",
     "output_type": "stream",
     "text": [
      "********\n",
      "**********\n",
      "*\n",
      "*\n",
      "*\n",
      "*\n",
      "*\n",
      "*\n",
      "*\n",
      "*\n",
      "*\n",
      "*\n"
     ]
    }
   ],
   "source": [
    "print('********')\n",
    "print('*'*10)\n",
    "\n",
    "cnt = 0\n",
    "while cnt < 10 : \n",
    "    print('*') # 줄바꿈 싫을 때\n",
    "#     cnt = cnt+1\n",
    "    cnt += 1"
   ]
  },
  {
   "cell_type": "code",
   "execution_count": 151,
   "id": "6946cc75",
   "metadata": {},
   "outputs": [
    {
     "name": "stdout",
     "output_type": "stream",
     "text": [
      "결과 :  55\n"
     ]
    }
   ],
   "source": [
    "#### 1부터 10까지의 합계 (계속 더하면서 저장)\n",
    "\n",
    "cnt= 0\n",
    "sum1=0\n",
    "\n",
    "while cnt <= 10:#10을 포함 해줘야 함 \n",
    "    sum1= sum1 + cnt #sum1 +=cnt \n",
    "    cnt +=1\n",
    "    \n",
    "print('결과 : ',sum1)\n"
   ]
  },
  {
   "cell_type": "code",
   "execution_count": 159,
   "id": "28f96691",
   "metadata": {},
   "outputs": [
    {
     "name": "stdout",
     "output_type": "stream",
     "text": [
      "결과 :  1024\n"
     ]
    }
   ],
   "source": [
    "#### 2의 10승:1024\n",
    "cnt= 0\n",
    "sum1=1 #초기값을 잘 설정해줘야 함. \n",
    "\n",
    "while cnt < 10:\n",
    "    sum1*=2 #sum1 +=cnt \n",
    "    cnt +=1\n",
    "    \n",
    "print('결과 : ',sum1)"
   ]
  },
  {
   "cell_type": "code",
   "execution_count": 2,
   "id": "818ff64c",
   "metadata": {},
   "outputs": [
    {
     "name": "stdout",
     "output_type": "stream",
     "text": [
      "가위 바위 보 게임\n",
      "------------------------------\n",
      "가위, 바위, 보 중에 하나를 입력하시오: 가위\n",
      "가위, 바위, 보 중에 하나를 입력하시오: 바위\n",
      "컴퓨터는 가위를 냈습니다.\n",
      "당신이 이겼습니다.\n",
      "가위, 바위, 보 중에 하나를 입력하시오: 보\n",
      "컴퓨터는 가위를 냈습니다.\n",
      "당신이 졌습니다\n",
      "가위, 바위, 보 중에 하나를 입력하시오: 보\n",
      "컴퓨터는 가위를 냈습니다.\n",
      "당신이 졌습니다\n",
      "가위, 바위, 보 중에 하나를 입력하시오: 보\n",
      "컴퓨터는 가위를 냈습니다.\n",
      "당신이 졌습니다\n",
      "가위, 바위, 보 중에 하나를 입력하시오: 보\n",
      "컴퓨터는 가위를 냈습니다.\n",
      "당신이 졌습니다\n",
      "가위, 바위, 보 중에 하나를 입력하시오: 가위\n",
      "컴퓨터는 가위를 냈습니다.\n",
      "비겼습니다.\n",
      "가위, 바위, 보 중에 하나를 입력하시오: 가위\n",
      "컴퓨터는 가위를 냈습니다.\n",
      "비겼습니다.\n",
      "가위, 바위, 보 중에 하나를 입력하시오: 가위\n",
      "컴퓨터는 가위를 냈습니다.\n",
      "비겼습니다.\n",
      "가위, 바위, 보 중에 하나를 입력하시오: 가위\n",
      "컴퓨터는 가위를 냈습니다.\n",
      "비겼습니다.\n",
      "가위, 바위, 보 중에 하나를 입력하시오: q\n"
     ]
    }
   ],
   "source": [
    "import random\n",
    "random.randint(0,2)\n",
    "print('가위 바위 보 게임')\n",
    "print('-'*30)\n",
    "me = input('가위, 바위, 보 중에 하나를 입력하시오: ')\n",
    "\n",
    "# 0: 가위 1:바위 2:보 \n",
    "com =random.choice(['가위','바위','보'])\n",
    "\n",
    "while True:\n",
    "    me = input('가위, 바위, 보 중에 하나를 입력하시오: ')\n",
    "    if me == 'q':\n",
    "        break\n",
    "            \n",
    "    if com == '가위':\n",
    "        \n",
    "        if me == '가위':\n",
    "            print('컴퓨터는 가위를 냈습니다.')\n",
    "            print('비겼습니다.')\n",
    "            \n",
    "        elif me == '바위':\n",
    "            print('컴퓨터는 가위를 냈습니다.')\n",
    "            print('당신이 이겼습니다.')\n",
    "        \n",
    "        else:\n",
    "            print('컴퓨터는 가위를 냈습니다.')\n",
    "            print('당신이 졌습니다')\n",
    "    \n",
    "    if com == '바위':\n",
    "        \n",
    "        if me == '가위':\n",
    "            print('컴퓨터는 바위를 냈습니다.')\n",
    "            print('당신이 졌습니다.')\n",
    "            \n",
    "        elif me =='바위':\n",
    "            print('컴퓨터는 바위를 냈습니다.')\n",
    "            print('비겼습니다.')\n",
    "        \n",
    "        else:\n",
    "            print('컴퓨터는 바위를 냈습니다.')\n",
    "            print('당신이 이겼습니다.')\n",
    "            \n",
    "    if com == '보':\n",
    "        \n",
    "        if me == '가위':\n",
    "            print('컴퓨터는 보를 냈습니다.')\n",
    "            print('당신이 이겼습니다.')\n",
    "        \n",
    "        elif me =='바위':\n",
    "            print('컴퓨터는 보를 냈습니다.')\n",
    "            print('졌습니다.')\n",
    "        \n",
    "        else:\n",
    "            print('컴퓨터는 보를 냈습니다.')\n",
    "            print('비겼습니다.')\n",
    "    "
   ]
  },
  {
   "cell_type": "markdown",
   "id": "25eff3f5",
   "metadata": {},
   "source": [
    "---\n",
    "\n",
    "### (3) for(반복문) - 집합자료형의 데이터를 변수에 담아 반복\n",
    "    \n",
    "    for 변수 in 집합자료형(리스트, 튜플, 문자열):\n",
    "        실행할 문장들\n",
    "        ...."
   ]
  },
  {
   "cell_type": "code",
   "execution_count": 7,
   "id": "a1d370c3",
   "metadata": {},
   "outputs": [
    {
     "name": "stdout",
     "output_type": "stream",
     "text": [
      "10\n",
      "20\n",
      "윈터\n",
      "3.14\n",
      "True\n",
      "--------------------------------------------------\n",
      "10\n",
      "20\n",
      "윈터\n",
      "3.14\n",
      "True\n"
     ]
    }
   ],
   "source": [
    "data = [10,20,'윈터',3.14,True]\n",
    "\n",
    "for i in data:\n",
    "    print(i)\n",
    "    \n",
    "print('-'*50)\n",
    "\n",
    "data = [10,20,'윈터',3.14,True]\n",
    "\n",
    "for i in [10,20,'윈터',3.14,True]:\n",
    "    print(i)"
   ]
  },
  {
   "cell_type": "code",
   "execution_count": 6,
   "id": "4bd59938",
   "metadata": {},
   "outputs": [
    {
     "name": "stdout",
     "output_type": "stream",
     "text": [
      "10\n",
      "20\n",
      "윈터\n",
      "3.14\n",
      "True\n",
      "카리나\n",
      "츄\n"
     ]
    }
   ],
   "source": [
    "data = [10,20,'윈터',3.14,True,'카리나','츄']\n",
    "cnt = 0\n",
    "while cnt < len(data):\n",
    "    print(data[cnt])\n",
    "    cnt += 1 "
   ]
  },
  {
   "cell_type": "code",
   "execution_count": 10,
   "id": "04006c37",
   "metadata": {},
   "outputs": [
    {
     "name": "stdout",
     "output_type": "stream",
     "text": [
      "**************************************************\n"
     ]
    }
   ],
   "source": [
    "for v in ['*'*50]:\n",
    "    print(v)"
   ]
  },
  {
   "cell_type": "code",
   "execution_count": 13,
   "id": "eb122dc6",
   "metadata": {},
   "outputs": [
    {
     "name": "stdout",
     "output_type": "stream",
     "text": [
      "***********"
     ]
    }
   ],
   "source": [
    "for i in range(11):\n",
    "    print('*',end='')"
   ]
  },
  {
   "cell_type": "markdown",
   "id": "78d54b38",
   "metadata": {},
   "source": [
    "---\n",
    "\n",
    "### (4) 반복분의 강제 종료\n",
    " - 조건이 충족 되면 종료되는 \n",
    " \n",
    " - break : 완전 종료\n",
    " - continue : 일시 종료 \n",
    "    "
   ]
  },
  {
   "cell_type": "code",
   "execution_count": 17,
   "id": "5dbaccfa",
   "metadata": {},
   "outputs": [
    {
     "name": "stdout",
     "output_type": "stream",
     "text": [
      "0\n",
      "1\n",
      "2\n",
      "3\n",
      "4\n"
     ]
    }
   ],
   "source": [
    "for i in range(10):\n",
    "    if i == 5:\n",
    "        break\n",
    "    print(i)\n",
    "    "
   ]
  },
  {
   "cell_type": "code",
   "execution_count": 19,
   "id": "bd180afc",
   "metadata": {},
   "outputs": [
    {
     "name": "stdout",
     "output_type": "stream",
     "text": [
      "0\n",
      "1\n",
      "2\n",
      "3\n",
      "4\n",
      "6\n",
      "7\n",
      "8\n",
      "9\n",
      "--------------------------------------------------\n",
      "******************************"
     ]
    }
   ],
   "source": [
    "for i in range(10):\n",
    "    if i == 5:\n",
    "        continue #5에서 잠깐 멈췄다가 조건에 해당하지 않은 다음 열들을  출력\n",
    "    print(i)\n",
    "    \n",
    "print('-'*50)\n",
    "\n",
    "cnt = 0\n",
    "while True:#무한 루프 \n",
    "    if cnt ==30:\n",
    "        break\n",
    "    print('*',end='')\n",
    "    cnt +=1"
   ]
  },
  {
   "cell_type": "code",
   "execution_count": null,
   "id": "dd55969f",
   "metadata": {},
   "outputs": [],
   "source": [
    "\"\"\"\n",
    "문제1\n",
    "전자계산기 프로그램을 반복문을 이용하여 업그레이드\n",
    "(끝나는 조건은 연산자에 x를 입력하면 종료)\n",
    "----------------------------------------------------\n",
    "\n",
    "문제2\n",
    "가위바위보 게임을 반복문을 이용하여 업그레이드\n",
    "(끝나는 조건은 x나 q를 입력하면 종료)\n",
    "\n",
    "끝날 때 결과에 ?승 ?패를 출력\n",
    "\n",
    "-----------------------------------------------------\n",
    "\n",
    "문제3\n",
    "숫자를 입력받아 짝수의 합과 홀수의 합을 구하시오.(0을 입력하면 종료)\n",
    "\n",
    "숫자1: 2\n",
    "숫자2: 3\n",
    "숫자3: 1\n",
    "숫자4: 6\n",
    "숫자5: 0\n",
    "\n",
    "짝수의 합:?\n",
    "홀수의 합:?\n",
    "\n",
    "---------------------------------------------------------\n",
    "\n",
    "문제4\n",
    "숫자 맞추기 게임\n",
    "\n",
    "예시) 1부터 100사이의 숫자를 맞추시오\n",
    "\n",
    "숫자 입력 : 50\n",
    "낮음!\n",
    "\n",
    "숫자 입력 : 75\n",
    "낮음\n",
    "\n",
    "....\n",
    "\n",
    "숫자 입력 : 89\n",
    "정답입니다. 시도회수는 ?번입니다.\n",
    "\"\"\"\n"
   ]
  },
  {
   "cell_type": "code",
   "execution_count": null,
   "id": "0915818c",
   "metadata": {},
   "outputs": [],
   "source": [
    "\"\"\"\n",
    "친구 관리 프로그램\n",
    "====================\n",
    "\n",
    "1.친구 리스트 출력\n",
    "2.친구 추가\n",
    "3.친구 삭제\n",
    "4.이름 변경\n",
    "9.종료\n",
    "메뉴를 선택 : 2 (엔터)\n",
    "이름을 입력 : 홍길동 (엔터)\n",
    "-----------------------\n",
    "1.친구 리스트 출력\n",
    "2.친구 추가\n",
    "3.친구 삭제\n",
    "4.이름 변경\n",
    "9.종료\n",
    "메뉴를 선택 : 2 (엔터)\n",
    "이름을 입력 : 임꺽정 (엔터)\n",
    "-----------------------\n",
    "1.친구 리스트 출력\n",
    "2.친구 추가\n",
    "3.친구 삭제\n",
    "4.이름 변경\n",
    "9.종료\n",
    "메뉴를 선택 : 1 (엔터)\n",
    "[\"홍길동\", \"임꺽정\"]\n",
    "----------------------\n",
    "1.친구 리스트 출력\n",
    "2.친구 추가\n",
    "3.친구 삭제\n",
    "4.이름 변경\n",
    "9.종료\n",
    "메뉴를 선택 : 4 (엔터)\n",
    "변경할 이름 선택 : 홍길동 (엔터)\n",
    "변경하고 싶은 이름 입력 : 홍길순 (엔터)\n",
    "-------------------------------\n",
    "1.친구 리스트 출력\n",
    "2.친구 추가\n",
    "3.친구 삭제\n",
    "4.이름 변경\n",
    "9.종료\n",
    "메뉴를 선택 : 1 (엔터)\n",
    "[\"홍길순\", \"임꺽정\"]\n",
    "-------------------------------\n",
    "1.친구 리스트 출력\n",
    "2.친구 추가\n",
    "3.친구 삭제\n",
    "4.이름 변경\n",
    "9.종료\n",
    "메뉴를 선택 : 3 (엔터)\n",
    "삭제할 이름 입력 : 홍길순\n",
    "------------------------------\n",
    "\"\"\"\n"
   ]
  },
  {
   "cell_type": "markdown",
   "id": "3cfed903",
   "metadata": {},
   "source": [
    "----\n",
    "\n",
    "### (5) 반복문의 중첩 "
   ]
  },
  {
   "cell_type": "code",
   "execution_count": 2,
   "id": "f51faa2d",
   "metadata": {},
   "outputs": [
    {
     "name": "stdout",
     "output_type": "stream",
     "text": [
      "**********\n",
      "**********\n",
      "**********\n"
     ]
    }
   ],
   "source": [
    "\"\"\"\n",
    "**********\n",
    "\"\"\"\n",
    "# i가 한번 생길때 i2가 9번 찍힘\n",
    "for i in range(3): # 행의 개념 \n",
    "    for i2 in range(10): # 열의 개념 \n",
    "        print('*',end='')\n",
    "    print()"
   ]
  },
  {
   "cell_type": "code",
   "execution_count": null,
   "id": "9d5e8bb7",
   "metadata": {},
   "outputs": [],
   "source": [
    "*\n",
    "**\n",
    "***\n",
    "****\n",
    "*****\n",
    "******\n",
    "*******"
   ]
  },
  {
   "cell_type": "code",
   "execution_count": 4,
   "id": "55af7675",
   "metadata": {},
   "outputs": [
    {
     "name": "stdout",
     "output_type": "stream",
     "text": [
      "\n",
      "*\n",
      "**\n",
      "***\n",
      "****\n",
      "*****\n",
      "******\n"
     ]
    }
   ],
   "source": [
    "for i in range(7): # 행의 개념 \n",
    "    for i2 in range(i): # 열의 개념 \n",
    "        print('*',end='')\n",
    "    print()"
   ]
  },
  {
   "cell_type": "code",
   "execution_count": 5,
   "id": "a7de9a91",
   "metadata": {},
   "outputs": [
    {
     "name": "stdout",
     "output_type": "stream",
     "text": [
      "*\n",
      "**\n",
      "***\n",
      "****\n",
      "*****\n",
      "******\n",
      "*******\n"
     ]
    }
   ],
   "source": [
    "for i in range(7): # 행의 개념 \n",
    "    for i2 in range(i+1): # 열의 개념 \n",
    "        print('*',end='')\n",
    "    print()"
   ]
  },
  {
   "cell_type": "code",
   "execution_count": null,
   "id": "f681fe77",
   "metadata": {},
   "outputs": [],
   "source": [
    "''' 이 결과 만들기\n",
    "     *\n",
    "    ***\n",
    "   *****\n",
    "  *******\n",
    " *********"
   ]
  },
  {
   "cell_type": "markdown",
   "id": "0fae0fed",
   "metadata": {},
   "source": [
    "---\n",
    "\n",
    "### (6) list comprehension\n",
    "    - 코드를 더 간단하게 할 수 있는 파이썬의 특징\n",
    "    - 리스트 안에서 반복문을 사용할 수 있게 하는 문법 \n",
    "    - "
   ]
  },
  {
   "cell_type": "code",
   "execution_count": 9,
   "id": "1c1772a5",
   "metadata": {},
   "outputs": [
    {
     "name": "stdout",
     "output_type": "stream",
     "text": [
      "[0, 1, 2, 3, 4, 5, 6, 7, 8, 9]\n",
      "[0, 1, 2, 3, 4, 5, 6, 7, 8, 9]\n",
      "[0, 2, 4, 6, 8]\n",
      "[0, 2, 4, 6, 8]\n"
     ]
    }
   ],
   "source": [
    "result = [] # 새로 생긴 데이터를 담기 위해서 \n",
    "\n",
    "for i in range(10): #range 함수는 자동으로 0~9 까지 자동으로 만들어 줌 \n",
    "    result.append(i)\n",
    "print(result)\n",
    "\n",
    "###########################################################\n",
    "\n",
    "# 따로 리스트 변수를 추가해서 하지말고 그 안에서 해보자 \n",
    "\n",
    "result = [i for i in range(10)] #append를 쓰지 않고 앞에다가 i만 집어 넣어주변 됨.\n",
    "print(result)\n",
    "\n",
    "###########################################################\n",
    "result=[]\n",
    "for i in range(10): \n",
    "    if i % 2 == 0: # 조건문 짝수만 담아라\n",
    "        result.append(i)\n",
    "print(result)\n",
    "\n",
    "###########################################################\n",
    "\n",
    "result = [i for i in range(10) if i % 2 ==0] # 조건문은 뒤에 \n",
    "print(result)"
   ]
  },
  {
   "cell_type": "code",
   "execution_count": 19,
   "id": "ae072c62",
   "metadata": {},
   "outputs": [
    {
     "name": "stdout",
     "output_type": "stream",
     "text": [
      "['AD', 'AE', 'AA', 'BD', 'BE', 'BA', 'CD', 'CE', 'CA']\n"
     ]
    }
   ],
   "source": [
    "c1 = ['A','B','C']\n",
    "c2 = ['D','E','A'] \n",
    "# 반복문 중첩 \n",
    "result=[]\n",
    "for row in c1:\n",
    "    for col in c2:\n",
    "        result.append(row + col)\n",
    "print(result)"
   ]
  },
  {
   "cell_type": "code",
   "execution_count": 21,
   "id": "80b6f785",
   "metadata": {},
   "outputs": [
    {
     "name": "stdout",
     "output_type": "stream",
     "text": [
      "['AD', 'AE', 'AA', 'BD', 'BE', 'BA', 'CD', 'CE', 'CA']\n"
     ]
    }
   ],
   "source": [
    "result = [row + col for row in c1 for col in c2]\n",
    "print(result)"
   ]
  },
  {
   "cell_type": "code",
   "execution_count": 24,
   "id": "3550c279",
   "metadata": {},
   "outputs": [
    {
     "name": "stdout",
     "output_type": "stream",
     "text": [
      "['AD', 'AE', 'BD', 'BE', 'BA', 'CD', 'CE', 'CA']\n"
     ]
    }
   ],
   "source": [
    "result=[]\n",
    "for row in c1:\n",
    "    for col in c2:\n",
    "        if row != col:#같은 문자가 아닐때 \n",
    "            result.append(row + col)\n",
    "print(result)"
   ]
  },
  {
   "cell_type": "code",
   "execution_count": 27,
   "id": "10552f31",
   "metadata": {},
   "outputs": [
    {
     "name": "stdout",
     "output_type": "stream",
     "text": [
      "['AD', 'AE', 'BD', 'BE', 'BA', 'CD', 'CE', 'CA']\n",
      "['AD', 'AE', 'BD', 'BE', 'BA', 'CD', 'CE', 'CA']\n"
     ]
    }
   ],
   "source": [
    "result = [row + col for row in c1 for col in c2 if row !=col]\n",
    "print(result)\n",
    "\n",
    "#######################\n",
    "\n",
    "result = [row + col for row in c1 for col in c2 if not row == col]\n",
    "print(result)\n",
    "\n",
    "# [['AD', 'AE', 'AA'], ['BD', 'BE', 'BA'], ['CD', 'CE', 'CA']]"
   ]
  },
  {
   "cell_type": "code",
   "execution_count": null,
   "id": "20915f04",
   "metadata": {},
   "outputs": [],
   "source": [
    "# [['AD', 'AE', 'AA'], ['BD', 'BE', 'BA'], ['CD', 'CE', 'CA']]\n",
    "숙제 1\n",
    "\n",
    "숙제 2 \n",
    "words = 'some where over the rainbow way up high'\n",
    "--> ['SOME', 'some',4] 소문자를 대문자로, 문자 길이 \n",
    "--> ['WHERE','where',5]"
   ]
  },
  {
   "cell_type": "code",
   "execution_count": null,
   "id": "a6fd6f63",
   "metadata": {},
   "outputs": [],
   "source": [
    "n = int(input('정수 입력:'))\n",
    "for i in n:\n",
    "    print((n*1)+())\n"
   ]
  },
  {
   "cell_type": "code",
   "execution_count": 9,
   "id": "3b2a61f4",
   "metadata": {},
   "outputs": [
    {
     "name": "stdout",
     "output_type": "stream",
     "text": [
      "가위 바위 보 게임\n",
      "------------------------------\n",
      "(가위, 바위, 보) 중에 하나를 선택 :가위\n",
      "컴퓨터: 바위, 사용자: 가위\n",
      "사용자가 졌습니다.\n"
     ]
    }
   ],
   "source": [
    "print('가위 바위 보 게임')\n",
    "print('-'*30)\n",
    "\n",
    "import random \n",
    "# 0: 가위 1:바위 2:보 \n",
    "com =random.randint(0,2)\n",
    "me = input('(가위, 바위, 보) 중에 하나를 선택 :')\n",
    "\n",
    "if com == 0:\n",
    "    \n",
    "    if me == '가위':\n",
    "        print('컴퓨터: 가위, 사용자: 가위')\n",
    "        print('비겼습니다.')\n",
    "    elif me == '바위':\n",
    "        print('컴퓨터: 가위, 사용자: 바위')  \n",
    "        print('사용자가 이겼습니다.')\n",
    "    else:\n",
    "        print('컴퓨터: 가위, 사용자: 보 ')  \n",
    "        print('사용자가 졌습니다')\n",
    "if com == 1:\n",
    "    \n",
    "    if me == '가위':\n",
    "        print('컴퓨터: 바위, 사용자: 가위')\n",
    "        print('사용자가 졌습니다.')\n",
    "    elif me =='바위':\n",
    "        print('컴퓨터: 바위, 사용자: 바위')\n",
    "        print('비겼습니다.')\n",
    "    else:\n",
    "        print('컴퓨터: 바위, 사용자: 보')\n",
    "        print('사용자가 이겼습니다.')\n",
    "if com == 2:\n",
    "    \n",
    "    if me == '가위':\n",
    "        print('컴퓨터: 보, 사용자: 가위')\n",
    "        print('사용자가 이겼습니다.')\n",
    "    \n",
    "    elif me =='바위': \n",
    "        print('컴퓨터: 보, 사용자: 바위')\n",
    "        print('사용자가 졌습니다.')\n",
    "    \n",
    "    else:\n",
    "        print('컴퓨터: 보, 사용자: 보')\n",
    "        print('비겼습니다.')"
   ]
  },
  {
   "cell_type": "code",
   "execution_count": 4,
   "id": "5b139f59",
   "metadata": {},
   "outputs": [
    {
     "name": "stdout",
     "output_type": "stream",
     "text": [
      "여기는 커피 전문점입니다.\n",
      "커피는 아메리카노만 팔아요.\n",
      "가격은 3000원 입니다.\n",
      "오늘 커피 남은 양은 3잔입니다\n",
      "1회 주문시 1잔 씩만 판매합니다\n",
      "====================\n",
      "지불할 금액: 5000\n",
      "거스름돈은,2000원\n",
      "커피 맛있게 드세요\n",
      "남은 커피의 양은 2 잔입니다.\n",
      "지불할 금액: 3000\n",
      "커피 맛있게 드세요\n",
      "남은 커피의 양은 1 잔입니다.\n",
      "지불할 금액: 3000\n",
      "커피 맛있게 드세요\n",
      "남은 커피의 양은 0 잔입니다.\n",
      "커피가 없어요 --. 장사끝\n"
     ]
    }
   ],
   "source": [
    "print (\"여기는 커피 전문점입니다.\")\n",
    "print (\"커피는 아메리카노만 팔아요.\")\n",
    "print (\"가격은 3000원 입니다.\")\n",
    "print (\"오늘 커피 남은 양은 3잔입니다\")\n",
    "print (\"1회 주문시 1잔 씩만 판매합니다\")\n",
    "print (\"==\" * 10)\n",
    "\n",
    "coffee = 3\n",
    "while True:\n",
    "    pay = int(input('지불할 금액: '))\n",
    "    if pay == 3000:\n",
    "        print('커피 맛있게 드세요')\n",
    "        coffee = coffee -1 \n",
    "        print(f'남은 커피의 양은 {coffee} 잔입니다.')\n",
    "    \n",
    "    elif pay > 3000:\n",
    "        print(f'거스름돈은,{(pay-3000)}원')\n",
    "        print('커피 맛있게 드세요')\n",
    "        coffee = coffee -1 \n",
    "        print(f'남은 커피의 양은 {coffee} 잔입니다.')\n",
    "        \n",
    "    else:\n",
    "        print('금액이 부족합니다')\n",
    "        print(f'남은 커피의 양은 {coffee} 잔입니다.')\n",
    "    \n",
    "    if coffee == 0:\n",
    "        print('커피가 없어요 --. 장사끝')\n",
    "        break\n",
    "        \n",
    "    \n"
   ]
  },
  {
   "cell_type": "code",
   "execution_count": 6,
   "id": "9c8f07fb",
   "metadata": {},
   "outputs": [
    {
     "name": "stdout",
     "output_type": "stream",
     "text": [
      "친구 관리 프로그램\n",
      "====================\n",
      "1.친구 리스트 출력\n",
      "2. 친구 추가\n",
      "3. 친구 삭제\n",
      "4. 이름 변경\n",
      "9. 종료\n",
      "메뉴를 선택 :2\n",
      "이름을 입력:홍길동\n",
      "---------------\n",
      "1.친구 리스트 출력\n",
      "2. 친구 추가\n",
      "3. 친구 삭제\n",
      "4. 이름 변경\n",
      "9. 종료\n",
      "메뉴를 선택 :2\n",
      "이름을 입력:임꺽정\n",
      "---------------\n",
      "1.친구 리스트 출력\n",
      "2. 친구 추가\n",
      "3. 친구 삭제\n",
      "4. 이름 변경\n",
      "9. 종료\n",
      "메뉴를 선택 :1\n",
      "['홍길동', '임꺽정']\n",
      "---------------\n",
      "1.친구 리스트 출력\n",
      "2. 친구 추가\n",
      "3. 친구 삭제\n",
      "4. 이름 변경\n",
      "9. 종료\n",
      "메뉴를 선택 :4\n",
      "변경할 이름 선택 :홍길동\n",
      "변경하고 싶은 이름 입력 :홍길순\n",
      "---------------\n",
      "1.친구 리스트 출력\n",
      "2. 친구 추가\n",
      "3. 친구 삭제\n",
      "4. 이름 변경\n",
      "9. 종료\n",
      "메뉴를 선택 :1\n",
      "['임꺽정', '홍길순']\n",
      "---------------\n",
      "1.친구 리스트 출력\n",
      "2. 친구 추가\n",
      "3. 친구 삭제\n",
      "4. 이름 변경\n",
      "9. 종료\n",
      "메뉴를 선택 :3\n",
      "삭제할 이름 입력: 홍길순\n",
      "---------------\n",
      "1.친구 리스트 출력\n",
      "2. 친구 추가\n",
      "3. 친구 삭제\n",
      "4. 이름 변경\n",
      "9. 종료\n",
      "메뉴를 선택 :1\n",
      "['임꺽정']\n",
      "---------------\n",
      "1.친구 리스트 출력\n",
      "2. 친구 추가\n",
      "3. 친구 삭제\n",
      "4. 이름 변경\n",
      "9. 종료\n",
      "메뉴를 선택 :9\n"
     ]
    }
   ],
   "source": [
    "print('친구 관리 프로그램')\n",
    "print('='*20)\n",
    "\n",
    "list = []\n",
    "while True:\n",
    "    print('1.친구 리스트 출력','2. 친구 추가','3. 친구 삭제'\n",
    "          ,'4. 이름 변경', '9. 종료',sep='\\n')\n",
    "    \n",
    "    choice = int(input('메뉴를 선택 :'))\n",
    "    \n",
    "    if choice == 1:\n",
    "        print(list)\n",
    "        print('-'*15)\n",
    "    elif choice == 2:\n",
    "        name = input('이름을 입력:')\n",
    "        list.append(name)\n",
    "        print('-'*15)\n",
    "    elif choice ==3:\n",
    "        delete = input('삭제할 이름 입력: ')\n",
    "        list.remove(delete)\n",
    "        print('-'*15)\n",
    "    elif choice ==4:\n",
    "        name1 = input('변경할 이름 선택 :')\n",
    "        name2 = input('변경하고 싶은 이름 입력 :')\n",
    "        list.append(name2)\n",
    "        list.remove(name1)\n",
    "        print('-'*15)\n",
    "    else:\n",
    "        break\n",
    "        \n",
    "    \n",
    "    "
   ]
  },
  {
   "cell_type": "code",
   "execution_count": 6,
   "id": "adca4107",
   "metadata": {},
   "outputs": [
    {
     "name": "stdout",
     "output_type": "stream",
     "text": [
      "1.친구 리스트 출력\n",
      " 2.친구 추가\n",
      " 3.친구 삭제\n",
      " 4.이름 변경\n",
      " 9.종료\n",
      "\n",
      "메뉴를 선택: 1\n",
      "[]\n",
      "-------------------------------------\n",
      "1.친구 리스트 출력\n",
      " 2.친구 추가\n",
      " 3.친구 삭제\n",
      " 4.이름 변경\n",
      " 9.종료\n",
      "\n",
      "메뉴를 선택: 2\n",
      "이름을 입력: dsds\n",
      "-------------------------------------\n",
      "1.친구 리스트 출력\n",
      " 2.친구 추가\n",
      " 3.친구 삭제\n",
      " 4.이름 변경\n",
      " 9.종료\n",
      "\n",
      "메뉴를 선택: 9\n"
     ]
    }
   ],
   "source": [
    "list = []\n",
    "while (True):\n",
    "    print(\"1.친구 리스트 출력\\n 2.친구 추가\\n 3.친구 삭제\\n 4.이름 변경\\n 9.종료\\n\")\n",
    "    \n",
    "    선택 = int(input(\"메뉴를 선택: \"))\n",
    "    \n",
    "    if 선택 == 1:\n",
    "        print(list)\n",
    "    elif 선택 == 2:\n",
    "        이름 = input(\"이름을 입력: \")\n",
    "        list.append(이름)\n",
    "    elif 선택 == 3:\n",
    "        이름 = input(\"삭제할 이름을 입력: \")\n",
    "        list.remove(이름)\n",
    "    elif 선택 == 4:\n",
    "        이름1 = input(\"변경할 이름 선택 : \")\n",
    "        이름2 = input(\"변경하고 싶은 이름 선택: \")\n",
    "        list.remove(이름1)\n",
    "        list.append(이름2)\n",
    "    eli 선택 == 9:\n",
    "        break\n",
    "    print(\"-------------------------------------\")"
   ]
  },
  {
   "cell_type": "code",
   "execution_count": null,
   "id": "66b207ea",
   "metadata": {},
   "outputs": [],
   "source": []
  }
 ],
 "metadata": {
  "kernelspec": {
   "display_name": "Python 3",
   "language": "python",
   "name": "python3"
  },
  "language_info": {
   "codemirror_mode": {
    "name": "ipython",
    "version": 3
   },
   "file_extension": ".py",
   "mimetype": "text/x-python",
   "name": "python",
   "nbconvert_exporter": "python",
   "pygments_lexer": "ipython3",
   "version": "3.8.8"
  }
 },
 "nbformat": 4,
 "nbformat_minor": 5
}
