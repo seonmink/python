{
 "cells": [
  {
   "cell_type": "markdown",
   "id": "282b98f5",
   "metadata": {},
   "source": [
    "## 1. 특징\n",
    "\n",
    "+ 묶음(코드 블럭) --> 제어문, 함수도 코드를 묶지만 더 큰 단위로 묶는 것, 규모가 큼\n",
    "    - 변수(멤버 변수:클레스에서의 변수, 속성, 필드), 함수(멤버 함수, 메서드)\n",
    "    - 여러 개의 함수를 묶어서 좀 더 큰 단위의 모듈로 관리할 수 있게 해줌.\n",
    "    \n",
    "+ 설계도(추상적,단순히 계획을 세우는, 실제로 메모리에 만들어지는게 아님, 메모리를 차지하지 않음)\n",
    "    - 인스턴스(instance),객체(object,실제로 메모리에 만들어지는 결과물)\n",
    "\n",
    "+ 사용자 정의 자료형 \n",
    "    int, str, float,bool,list,dict,tupe,set 이것 제외 모두 사용자 정의 자료형 \n",
    "    내 편의를 위해 \n",
    "    \n",
    "+ 객체의 조건 - 객체지향 언어\n",
    "    - 반드시 클래스로 만들어야 함.\n",
    "    - 상속성(Inheritance) --> 예전에 만들어 놓은 코드가 있으면 한줄만 쓰면 가져다가 쓸 수 있음. 객체지향 언어의 꽃이라 할 수 있음. \n",
    "    - 다형성(Polymorphism)\n",
    "    - 캡슐화(Encapsulation) --> 편의, 보안 \n",
    "    - public, private --> public 외부에서 사용할 수 있도록 공개하는, private --> 외부 공개 거부하는 "
   ]
  },
  {
   "cell_type": "markdown",
   "id": "eed09a03",
   "metadata": {},
   "source": [
    "----\n",
    "\n",
    "## 2. 작성방법\n",
    "\n",
    "    class 이름:\n",
    "          변수\n",
    "          함수\n",
    "          변수만, 함수만 묶어도 가능\n",
    "    또는 \n",
    "    \n",
    "    class 이름(...)\n",
    "        변수\n",
    "        함수"
   ]
  },
  {
   "cell_type": "code",
   "execution_count": null,
   "id": "e1c1916f",
   "metadata": {},
   "outputs": [],
   "source": [
    "# 전자계산기, 가위바위보 큼지막한것만 함수로 만들기"
   ]
  },
  {
   "cell_type": "code",
   "execution_count": 1,
   "id": "8b50531c",
   "metadata": {},
   "outputs": [
    {
     "ename": "NameError",
     "evalue": "name 'a' is not defined",
     "output_type": "error",
     "traceback": [
      "\u001b[1;31m---------------------------------------------------------------------------\u001b[0m",
      "\u001b[1;31mNameError\u001b[0m                                 Traceback (most recent call last)",
      "\u001b[1;32m<ipython-input-1-1f5046c347b3>\u001b[0m in \u001b[0;36m<module>\u001b[1;34m\u001b[0m\n\u001b[0;32m      7\u001b[0m \u001b[1;31m#############객체 지향 언어################################\u001b[0m\u001b[1;33m\u001b[0m\u001b[1;33m\u001b[0m\u001b[1;33m\u001b[0m\u001b[0m\n\u001b[0;32m      8\u001b[0m \u001b[1;33m\u001b[0m\u001b[0m\n\u001b[1;32m----> 9\u001b[1;33m \u001b[0mprint\u001b[0m\u001b[1;33m(\u001b[0m\u001b[0ma\u001b[0m\u001b[1;33m)\u001b[0m\u001b[1;33m\u001b[0m\u001b[1;33m\u001b[0m\u001b[0m\n\u001b[0m\u001b[0;32m     10\u001b[0m \u001b[1;33m\u001b[0m\u001b[0m\n",
      "\u001b[1;31mNameError\u001b[0m: name 'a' is not defined"
     ]
    }
   ],
   "source": [
    "class Test:\n",
    "    a =10\n",
    "    #무조건 인자(매개변수)는 있어야 함\n",
    "    def show(self):\n",
    "        print('Test 클래스')\n",
    "        \n",
    "#############객체 지향 언어################################\n",
    "# 아직 안만들어 졌기 때문에 에러가 남.\n",
    "print(a)\n",
    "        "
   ]
  },
  {
   "cell_type": "code",
   "execution_count": 8,
   "id": "f47501ea",
   "metadata": {},
   "outputs": [
    {
     "name": "stdout",
     "output_type": "stream",
     "text": [
      "10\n",
      "Test 클래스\n"
     ]
    }
   ],
   "source": [
    "class Test:\n",
    "    a =10\n",
    "    #무조건 인자(매개변수)는 있어야 함\n",
    "    def show(self):\n",
    "        return 'Test 클래스'\n",
    "        \n",
    "#############객체 지향 언어################################\n",
    "# 가져다 쓰려면 인스턴스(객체)를 만들어 내야함. 마치 함수 호출하는 것 처럼. \n",
    "print(Test().a) # 이렇게 하면 a의 값을 쓸 수 있음\n",
    "print(Test().show())"
   ]
  },
  {
   "cell_type": "code",
   "execution_count": 12,
   "id": "db59f23e",
   "metadata": {},
   "outputs": [
    {
     "name": "stdout",
     "output_type": "stream",
     "text": [
      "10\n",
      "Test 클래스\n",
      "<class 'int'>\n"
     ]
    }
   ],
   "source": [
    "# ### 인스턴스(객체)의 생성방법\n",
    "class Test:\n",
    "    a =10\n",
    "    #무조건 인자(매개변수)는 있어야 함\n",
    "    def show(self):\n",
    "        return 'Test 클래스'\n",
    "        #밖에서 쓸 수 있게 묶어 놓은 것.\n",
    "#############객체 지향 언어################################\n",
    "# 가져다 쓰려면 인스턴스(객체)를 만들어 내야함. 마치 함수 호출하는 것 처럼. \n",
    "ob = Test()\n",
    "print(ob.a)\n",
    "print(ob.show())\n",
    "#메모리에 접근 할 수 있는 연산자 '.' \n",
    "a=10 \n",
    "print(type(a))"
   ]
  },
  {
   "cell_type": "markdown",
   "id": "41fefef7",
   "metadata": {},
   "source": [
    "#### 사용자 정의 자료형 예제\n",
    "#자주 쓰는 것\n",
    "# 국적, 이름, 나이, 신정, 취미 \n",
    "#클래스는 함수의 비중이 거의 90% \n",
    "\n",
    "\n"
   ]
  },
  {
   "cell_type": "code",
   "execution_count": 145,
   "id": "a0fe7aa7",
   "metadata": {},
   "outputs": [
    {
     "name": "stdout",
     "output_type": "stream",
     "text": [
      "국적: 한국\n",
      "이름: 츄\n",
      "나이: 23\n",
      "신장: 163\n",
      "취미: ['여행', '유튜브']\n",
      "\n",
      "------------------\n",
      "국적: 프랑스\n",
      "이름: 윈터\n",
      "나이: 21\n",
      "신장: 164\n",
      "취미: ['우표수집', '여행', '음악감상']\n",
      "\n",
      "------------------\n",
      "국적: 독일\n",
      "이름: 카리나\n",
      "나이: 22\n",
      "신장: 167\n",
      "취미: ['노래']\n",
      "\n",
      "------------------\n"
     ]
    }
   ],
   "source": [
    "class person:\n",
    "    nation= '한국'\n",
    "    name = str()\n",
    "    age = int()\n",
    "    height = float()\n",
    "    hobbies = []\n",
    "    \n",
    "    def show(self):#반드시 한개 이상의 매개변수(인자)가 있어야 함\n",
    "        print('국적:',self.nation)\n",
    "        print('이름:',self.name)\n",
    "        print('나이:',self.age)\n",
    "        print('신장:',self.height)\n",
    "        print('취미:',self.hobbies)\n",
    "        print('\\n------------------')\n",
    "       \n",
    "#####################################################\n",
    "\n",
    "chuu=person()\n",
    "winter=person()\n",
    "karina=person()\n",
    "\n",
    "chuu.name ='츄'\n",
    "chuu.age = 23\n",
    "chuu.height = 163\n",
    "chuu.hobbies = ['여행','유튜브']\n",
    "\n",
    "winter.nation = '프랑스'\n",
    "winter.name ='윈터'\n",
    "winter.age = 21\n",
    "winter.height = 164\n",
    "winter.hobbies = ['우표수집','여행','음악감상']\n",
    "\n",
    "karina.nation = '독일'\n",
    "karina.name ='카리나'\n",
    "karina.age = 22\n",
    "karina.height = 167\n",
    "karina.hobbies = ['노래']\n",
    "\n",
    "data = [chuu, winter,karina]\n",
    "for i in range(len(data)):\n",
    "    data[i].show()"
   ]
  },
  {
   "cell_type": "markdown",
   "id": "53bf9728",
   "metadata": {},
   "source": [
    "---\n",
    "\n",
    "### (1). self\n",
    "\n",
    "- 현재 사용중인 객체의 주소를 저장하고 있는 참조 변수 --> 주소를 저장하고 있는 변수\n",
    "- read only -->  읽기만 해야함 수정하거나 하면 안됌\n",
    "\n"
   ]
  },
  {
   "cell_type": "code",
   "execution_count": 27,
   "id": "e79d92c6",
   "metadata": {},
   "outputs": [],
   "source": [
    "class Test:\n",
    "#     a = int()\n",
    "#     b= float()\n",
    "#     c= str()\n",
    "    \n",
    "    def show(self):\n",
    "        print(self.a,self.b,self.c)\n",
    "        print('현재 주소: ',id(self))\n",
    "    \n",
    "    def setValue(self,a,b,c):\n",
    "#         검증 또는 방어\n",
    "        self.a =a\n",
    "        self.b = b\n",
    "        self.c = c"
   ]
  },
  {
   "cell_type": "code",
   "execution_count": 28,
   "id": "564a6cc9",
   "metadata": {},
   "outputs": [
    {
     "name": "stdout",
     "output_type": "stream",
     "text": [
      "10 3.14 츄\n",
      "현재 주소:  2551239647968\n",
      "----------------\n",
      "100 4.5 윈터\n",
      "현재 주소:  2551239647584\n",
      "----------------\n",
      "200 5.15 카리나\n",
      "현재 주소:  2551239956080\n"
     ]
    }
   ],
   "source": [
    "\n",
    "t1 = Test()\n",
    "t2 = Test()\n",
    "t3 = Test()\n",
    "t1.a=10\n",
    "t1.b=3.14\n",
    "t1.c='츄'\n",
    "\n",
    "# 주소를 알려줘야함\n",
    "# 함수 안에 객체가 인자로 와야함. t1을 받아주는 보이지 않는 객체가 있고 그것이 함수에 인자로 씀\n",
    "t1.show()\n",
    "\n",
    "print('----------------')\n",
    "t2.a = 100\n",
    "t2.b= 4.5\n",
    "t2.c = '윈터'\n",
    "\n",
    "t2.show()\n",
    "\n",
    "print('----------------')\n",
    "# 변수를 따로 기억하지 않고 한번에, 이게 더 일반적이래\n",
    "t3.setValue(200,5.15,'카리나')\n",
    "t3.show()"
   ]
  },
  {
   "cell_type": "code",
   "execution_count": null,
   "id": "0f9ca544",
   "metadata": {},
   "outputs": [],
   "source": [
    "# a =10 변수를 값에 직접 저장하면 2가지 이유로 별로 안좋음\n",
    "#변수 이름을 다 기억 해야함."
   ]
  },
  {
   "cell_type": "markdown",
   "id": "75864f52",
   "metadata": {},
   "source": [
    "------\n",
    "\n",
    "### (2) 생성자(Constructor) 메서드와 소멸자(Deconstructor) 메서드\n",
    "\n",
    "- 메서드\n",
    "- 객체(인스턴스)를 생성하는 용도\n",
    "- 생성자의 경우 객체를 처음 만들때 호출된다. <--> 일반함수와의 차이점,,,, 단 한번만 호출, 변수를 초기화 할때, 디폴트 인수를 사용해야 효율적으로 사용할 수 있음.  \n",
    "- 소멸자도 안보이는 것 뿐이지 있음"
   ]
  },
  {
   "cell_type": "code",
   "execution_count": 56,
   "id": "7f32ac3e",
   "metadata": {},
   "outputs": [],
   "source": [
    "# 클레스의 이름은 대문자로(관례) - 객체인지 구분하기 위해 \n",
    "class Test:\n",
    "#     a = int()\n",
    "#     b = str()\n",
    "    \n",
    "#     def __init__(self): #객체를 생성할때마다 이 함수가 계속생성됨\n",
    "#         print('생성자 호출됨')\n",
    "#         self.a = 5 \n",
    "#         self.b ='무명씨'\n",
    "    def __init__(self,a=0,b=' '):\n",
    "        self.a=a\n",
    "        self.b=b\n",
    "        \n",
    "    def __del__(self)    :\n",
    "        print('소멸자 호출')\n",
    "        \n",
    "    def setVal(self,a,b):\n",
    "        self.a=a\n",
    "        self.b=b"
   ]
  },
  {
   "cell_type": "code",
   "execution_count": 62,
   "id": "eb4236a1",
   "metadata": {},
   "outputs": [
    {
     "name": "stdout",
     "output_type": "stream",
     "text": [
      "소멸자 호출\n",
      "10  츄\n",
      "----------------\n",
      "소멸자 호출\n",
      "20 윈터\n",
      "----------------\n",
      "소멸자 호출\n",
      "0  \n",
      "----------------\n",
      "40 카리나\n"
     ]
    }
   ],
   "source": [
    "#클래스를 받아주기 위한 객체 생성\n",
    "t1=Test()\n",
    "t1.setVal(10,' 츄')\n",
    "print(t1.a,t1.b)\n",
    "\n",
    "\n",
    "print('----------------')\n",
    "\n",
    "t2 =Test()\n",
    "t2.setVal(20,'윈터')\n",
    "print(t2.a,t2.b)\n",
    "\n",
    "\n",
    "print('----------------')\n",
    "# 값을 넣지 않아도 기본값으로 \n",
    "t3 = Test()\n",
    "print(t3.a,t3.b)\n",
    "\n",
    "\n",
    "print('----------------')\n",
    "t4 =Test()\n",
    "t4.setVal(40,'카리나')\n",
    "print(t4.a,t4.b)"
   ]
  },
  {
   "cell_type": "code",
   "execution_count": 61,
   "id": "15d6b33d",
   "metadata": {},
   "outputs": [
    {
     "name": "stdout",
     "output_type": "stream",
     "text": [
      "소멸자 호출\n"
     ]
    }
   ],
   "source": [
    "del  t4"
   ]
  },
  {
   "cell_type": "markdown",
   "id": "b31f343e",
   "metadata": {},
   "source": [
    "---\n",
    "\n",
    "### (3) static - 고정적인, 정적인 \n",
    "\n",
    "- 인스턴스(메모리의 복사본, 객체)와 구별 --> static은 단 하나만\n",
    "- 동일한 공간을 모든 객체들이 공동으로 사용\n",
    "- 클레스를 만들었을때 생성되는 기본 공간 \n",
    "- 같은 데이터로 공동 데이터를 사용할 때 \n",
    "- 정적(클래스) 변수, 정적(클래스) 메서드"
   ]
  },
  {
   "cell_type": "code",
   "execution_count": 99,
   "id": "d552f72e",
   "metadata": {},
   "outputs": [],
   "source": [
    "class Person:\n",
    "    nation= '한국'\n",
    "    name = str()\n",
    "    age = int()\n",
    "    height = float()\n",
    "    hobbies = []\n",
    "    company = str() # static으로 사용하면 공간을 효율적으로 사용할 수 있음. 디폴트는 매개변수의 단순히 기본 값이 상수, static은 함수나 변수\n",
    "    \n",
    "    def show(self):#반드시 한개 이상의 매개변수(인자)가 있어야 함\n",
    "        print('국적:',self.nation)\n",
    "        print('이름:',self.name)\n",
    "        print('나이:',self.age)\n",
    "        print('신장:',self.height)\n",
    "        print('취미:',self.hobbies)\n",
    "        print('회사명: ', Person.company)\n",
    "        print('\\n------------------')\n",
    "    \n",
    "    @staticmethod # 스태틱을 선언. @ --> 데코레이션 \n",
    "    def funcCompany():#정적 함수는 self가 없음\n",
    "        Person.company = '파이썬 주식회사'\n",
    "        return '회사명: '+ Person.company"
   ]
  },
  {
   "cell_type": "code",
   "execution_count": 100,
   "id": "fcf4887c",
   "metadata": {},
   "outputs": [
    {
     "name": "stdout",
     "output_type": "stream",
     "text": [
      "한국\n"
     ]
    }
   ],
   "source": [
    "#객체를 생성하지 않아도 메모리가 있기 때문에 출력가능\n",
    "print(Person.nation) # --> static"
   ]
  },
  {
   "cell_type": "code",
   "execution_count": 101,
   "id": "6f87ddaf",
   "metadata": {},
   "outputs": [
    {
     "name": "stdout",
     "output_type": "stream",
     "text": [
      "한국 한국\n"
     ]
    }
   ],
   "source": [
    "p1 = Person() #객체 생성 \n",
    "p2 = Person()\n",
    "\n",
    "print(p1.nation,p2.nation)\n",
    "# 인스턴스, 어떤 주소로 접근하는지에 따라 인스턴스냐 static이냐 달라짐 "
   ]
  },
  {
   "cell_type": "code",
   "execution_count": 102,
   "id": "201abfba",
   "metadata": {},
   "outputs": [
    {
     "name": "stdout",
     "output_type": "stream",
     "text": [
      "독일 프랑스\n",
      "한국\n"
     ]
    }
   ],
   "source": [
    "p1.nation = '독일'\n",
    "p2.nation = '프랑스'\n",
    "print(p1.nation,p2.nation)\n",
    "print(Person.nation)"
   ]
  },
  {
   "cell_type": "code",
   "execution_count": 103,
   "id": "cc295cbe",
   "metadata": {},
   "outputs": [
    {
     "name": "stdout",
     "output_type": "stream",
     "text": [
      "파이썬 주식회사 파이썬 주식회사\n",
      "국적: 독일\n",
      "이름: \n",
      "나이: 0\n",
      "신장: 0.0\n",
      "취미: []\n",
      "회사명:  파이썬 주식회사\n",
      "\n",
      "------------------\n"
     ]
    }
   ],
   "source": [
    "Person.company = '파이썬 주식회사'\n",
    "\n",
    "print(p1.company, p2.company)\n",
    "p1.show()"
   ]
  },
  {
   "cell_type": "code",
   "execution_count": 104,
   "id": "6c092e01",
   "metadata": {},
   "outputs": [
    {
     "data": {
      "text/plain": [
       "'회사명: 파이썬 주식회사'"
      ]
     },
     "execution_count": 104,
     "metadata": {},
     "output_type": "execute_result"
    }
   ],
   "source": [
    "p1.funcCompany() # 매개변수가 없으니 호출이 안됨\n"
   ]
  },
  {
   "cell_type": "code",
   "execution_count": 105,
   "id": "c6d2b5b0",
   "metadata": {},
   "outputs": [
    {
     "data": {
      "text/plain": [
       "'회사명: 파이썬 주식회사'"
      ]
     },
     "execution_count": 105,
     "metadata": {},
     "output_type": "execute_result"
    }
   ],
   "source": [
    "Person.funcCompany()"
   ]
  },
  {
   "cell_type": "code",
   "execution_count": 143,
   "id": "bc2819ac",
   "metadata": {},
   "outputs": [],
   "source": [
    "#### 객체의 수를 카운팅 \n",
    "\n",
    "class Counter: \n",
    "    m_cnt = 0 \n",
    "    \n",
    "    def __init__(self):\n",
    "        Counter.m_cnt +=1\n",
    "    \n",
    "    @staticmethod    \n",
    "    def printConunt():\n",
    "        print('총 객체의 수 : ', Counter.m_cnt)\n",
    "    "
   ]
  },
  {
   "cell_type": "code",
   "execution_count": 144,
   "id": "eda556de",
   "metadata": {},
   "outputs": [
    {
     "name": "stdout",
     "output_type": "stream",
     "text": [
      "총 객체의 수 :  3\n",
      "총 객체의 수 :  3\n",
      "총 객체의 수 :  3\n"
     ]
    },
    {
     "ename": "AttributeError",
     "evalue": "type object 'Counter' has no attribute 'printCount'",
     "output_type": "error",
     "traceback": [
      "\u001b[1;31m---------------------------------------------------------------------------\u001b[0m",
      "\u001b[1;31mAttributeError\u001b[0m                            Traceback (most recent call last)",
      "\u001b[1;32m<ipython-input-144-e33c3ee6f784>\u001b[0m in \u001b[0;36m<module>\u001b[1;34m\u001b[0m\n\u001b[0;32m      5\u001b[0m \u001b[0mc\u001b[0m\u001b[1;33m.\u001b[0m\u001b[0mprintConunt\u001b[0m\u001b[1;33m(\u001b[0m\u001b[1;33m)\u001b[0m\u001b[1;33m\u001b[0m\u001b[1;33m\u001b[0m\u001b[0m\n\u001b[0;32m      6\u001b[0m \u001b[1;33m\u001b[0m\u001b[0m\n\u001b[1;32m----> 7\u001b[1;33m \u001b[0mCounter\u001b[0m\u001b[1;33m.\u001b[0m\u001b[0mprintCount\u001b[0m\u001b[1;33m(\u001b[0m\u001b[1;33m)\u001b[0m\u001b[1;33m\u001b[0m\u001b[1;33m\u001b[0m\u001b[0m\n\u001b[0m",
      "\u001b[1;31mAttributeError\u001b[0m: type object 'Counter' has no attribute 'printCount'"
     ]
    }
   ],
   "source": [
    "a,b,c = Counter(), Counter(), Counter()\n",
    "\n",
    "a.printConunt()\n",
    "b.printConunt()\n",
    "c.printConunt()\n",
    "\n",
    "Counter.printCount()"
   ]
  },
  {
   "cell_type": "code",
   "execution_count": null,
   "id": "479f8fd1",
   "metadata": {},
   "outputs": [],
   "source": [
    "\"\"\"Employee라는 클레스를 만들어서 \n",
    "e1 = Employee(1111, \"홍길동\", 1000000, [\"여행\", \"낚시\", \"운동\"])\n",
    "e1.display()\n",
    "이 결과 도출해 내기 \n",
    "결과 :\n",
    "    사번 : 1111\n",
    "    이름 : 홍길동\n",
    "    급여 : 1000000\n",
    "    취미 : 여행, 낚시, 운동\n",
    "\n",
    "사원 추가 \n",
    "e2 = Employee(1112, \"임꺽정\", 1200000, [\"자전거\", \"볼링\"])\n",
    "e3 = Employee(1113, \"신돌석\", 1400000, [\"독서\"])\n",
    "\n",
    "total = Employee.getCount()    getCount이런 클레스를 만들어라 \n",
    "print(\"인원수 : \", total)\n",
    "\n",
    "# 데이터 수정\n",
    "e3.setSalary(2000000)\n",
    "e3.appendHobby(\"피아노\", \"드론\")\n",
    "e3.display()\n",
    "\n",
    "결과 :\n",
    "    사번 : 1113\n",
    "    이름 : 신돌석\n",
    "    급여 : 2000000\n",
    "    취미 : 독서, 피아노, 드론\n",
    "\"\"\"\n"
   ]
  },
  {
   "cell_type": "code",
   "execution_count": null,
   "id": "d6868367",
   "metadata": {},
   "outputs": [],
   "source": [
    "class Employee():\n",
    "    사번 = int()\n",
    "    이름 = str()\n",
    "    급여 = int()\n",
    "    취미 = list()\n",
    "    사원수 = 0\n",
    "    \n",
    "    def __init__(self, 사번, 이름, 급여, 취미):\n",
    "        self.사번 = 사번\n",
    "        self.이름 = 이름\n",
    "        self.급여 = 급여\n",
    "        self.취미 = 취미\n",
    "        Employee.사원수 += 1\n",
    "    \n",
    "    def display(self):\n",
    "        print(f\"\"\"결과 : \n",
    "    사번 : {self.사번}\n",
    "    이름 : {self.이름}\n",
    "    급여 : {self.급여}\n",
    "    취미 :\"\"\", *self.취미)\n",
    "    \n",
    "    @staticmethod\n",
    "    def getCount():\n",
    "        return Employee.사원수\n",
    "    \n",
    "    def setSalary(self, 급여):\n",
    "        self.급여 = 급여\n",
    "    \n",
    "    def appendHobby(self, *취미):\n",
    "        self.취미.extend(취미)\n",
    "\n",
    "e1 = Employee(1111, \"홍길동\", 1000000, [\"여행\", \"낚시\", \"운동\"])\n",
    "e1.display()\n",
    "\n",
    "print(\"-----------------------\\n\")\n",
    "\n",
    "e2 = Employee(1112, \"임꺽정\", 1200000, [\"자전거\", \"볼링\"])\n",
    "e3 = Employee(1113, \"신돌석\", 1400000, [\"독서\"])\n",
    "\n",
    "total = Employee.getCount()\n",
    "print(\"인원수 : \", total)\n",
    "\n",
    "print(\"-----------------------\\n\")\n",
    "\n",
    "# 데이터 수정\n",
    "e3.setSalary(2000000)\n",
    "e3.appendHobby(\"피아노\", \"드론\")\n",
    "e3.display()"
   ]
  },
  {
   "cell_type": "code",
   "execution_count": null,
   "id": "2310dc56",
   "metadata": {},
   "outputs": [],
   "source": [
    "class Employee:\n",
    "    s = int()\n",
    "    n = str()\n",
    "    p = int()\n",
    "    h = str()\n",
    "    e_cnt = 0\n",
    "    \n",
    "    def display(self):\n",
    "        print('결과:')\n",
    "        print('사번: ',self.s)\n",
    "        print('이름: ',self.n)\n",
    "        print('급여: ',self.p)\n",
    "        print('취미: ',self.h)\n",
    "    \n",
    "    def __init__(self,s,n,p,h):\n",
    "        self.s =s\n",
    "        self.n =n\n",
    "        self.p = p\n",
    "        self.h = h\n",
    "        Employee.e_cnt +=1\n",
    "    \n",
    "    @staticmethod    \n",
    "    def getCount():\n",
    "        return Employee.e_cnt\n",
    "    \n",
    "    def setSalary(self,p):\n",
    "        self.p = p\n",
    "        \n",
    "    def appendHobby(self,*h):\n",
    "        self.h.extend(h)\n",
    "        \n",
    "e1 = Employee(1111, \"홍길동\", 1000000, [\"여행\", \"낚시\", \"운동\"])\n",
    "e1.display()\n",
    "\n",
    "print('-'*50)\n",
    "\n",
    "e2 = Employee(1112, \"임꺽정\", 1200000, [\"자전거\", \"볼링\"])\n",
    "e3 = Employee(1113, \"신돌석\", 1400000, [\"독서\"])\n",
    "\n",
    "total = Employee.getCount()   \n",
    "print(\"인원수 : \", total)\n",
    "\n",
    "print('-'*50)\n",
    "e3.setSalary(2000000)\n",
    "e3.appendHobby('피아노','드론')\n",
    "e3.display()"
   ]
  },
  {
   "cell_type": "markdown",
   "id": "ea54c8cd",
   "metadata": {},
   "source": [
    "---\n",
    "\n",
    "### (4) 원래 설계된 멤버변수 외에 객체별로 멤버변수를 추가할 수 있다."
   ]
  },
  {
   "cell_type": "code",
   "execution_count": 1,
   "id": "62d4c570",
   "metadata": {},
   "outputs": [],
   "source": [
    "class Test:\n",
    "    a = 0\n",
    "    \n",
    "    def display(self):\n",
    "        print(self.a)"
   ]
  },
  {
   "cell_type": "code",
   "execution_count": 4,
   "id": "31c39b7e",
   "metadata": {},
   "outputs": [
    {
     "name": "stdout",
     "output_type": "stream",
     "text": [
      "0\n",
      "0\n",
      "10 100\n"
     ]
    }
   ],
   "source": [
    "ob1 = Test()\n",
    "ob1.display()\n",
    "\n",
    "ob2 = Test()\n",
    "ob2.display()\n",
    "\n",
    "ob2.a = 10\n",
    "ob2.b = 100 #실제로 클레스가 변경된 것은 아니지만 객체를 사용할때 데이터를 수정 사용 가능 임시로 객체를 추가하는 동안 사용할 수 있음.\n",
    "print(ob2.a,ob2.b)"
   ]
  },
  {
   "cell_type": "markdown",
   "id": "73f92e58",
   "metadata": {},
   "source": [
    "---\n",
    "\n",
    "### (5)  _ 와 __\n",
    "\n",
    "- 기본 인터프리터(기본 틀)에서 사용(마지막으로 실행된 결과값을 불러오기) -> _ , 연산도 가능 \n",
    "- 값을 무시 -> 머신러닝 딥러닝에서 많이 쓰임 : _\n",
    "- 접근 권한 : "
   ]
  },
  {
   "cell_type": "code",
   "execution_count": 13,
   "id": "8fa7d6d1",
   "metadata": {},
   "outputs": [
    {
     "ename": "ValueError",
     "evalue": "too many values to unpack (expected 2)",
     "output_type": "error",
     "traceback": [
      "\u001b[1;31m---------------------------------------------------------------------------\u001b[0m",
      "\u001b[1;31mValueError\u001b[0m                                Traceback (most recent call last)",
      "\u001b[1;32m<ipython-input-13-30d377e24f9a>\u001b[0m in \u001b[0;36m<module>\u001b[1;34m\u001b[0m\n\u001b[1;32m----> 1\u001b[1;33m \u001b[0mb\u001b[0m\u001b[1;33m,\u001b[0m\u001b[0mc\u001b[0m \u001b[1;33m=\u001b[0m \u001b[1;33m(\u001b[0m\u001b[1;36m10\u001b[0m\u001b[1;33m,\u001b[0m\u001b[1;36m20\u001b[0m\u001b[1;33m,\u001b[0m\u001b[1;36m30\u001b[0m\u001b[1;33m)\u001b[0m\u001b[1;33m\u001b[0m\u001b[1;33m\u001b[0m\u001b[0m\n\u001b[0m\u001b[0;32m      2\u001b[0m \u001b[0mprint\u001b[0m\u001b[1;33m(\u001b[0m\u001b[0mb\u001b[0m\u001b[1;33m,\u001b[0m\u001b[0mc\u001b[0m\u001b[1;33m)\u001b[0m\u001b[1;33m\u001b[0m\u001b[1;33m\u001b[0m\u001b[0m\n",
      "\u001b[1;31mValueError\u001b[0m: too many values to unpack (expected 2)"
     ]
    }
   ],
   "source": [
    "b,c = (10,20,30)\n",
    "print(b,c)"
   ]
  },
  {
   "cell_type": "code",
   "execution_count": 12,
   "id": "db76dfe8",
   "metadata": {},
   "outputs": [
    {
     "name": "stdout",
     "output_type": "stream",
     "text": [
      "20 30\n"
     ]
    }
   ],
   "source": [
    "# 데이터가 3개면 변수도 3개여야 하는데 필요에 의해 변수를 무시하고 가져올 수 있음\n",
    "_,b,c = (10,20,30)\n",
    "a,_,c = (10,20,30)\n",
    "_,_,c = (10,20,30)\n",
    "\n",
    "print(b,c)\n"
   ]
  },
  {
   "cell_type": "code",
   "execution_count": 16,
   "id": "73fce9ee",
   "metadata": {},
   "outputs": [
    {
     "name": "stdout",
     "output_type": "stream",
     "text": [
      "10 60\n",
      "10 60\n",
      "10 60\n"
     ]
    }
   ],
   "source": [
    "# _ 를 여러번 사용해야 할 때 \n",
    "a,_,_,_,_,b=(10,20,30,40,50,60)\n",
    "print(a,b)\n",
    "a,*_,b=(10,20,30,40,50,60)\n",
    "print(a,b)\n",
    "a,c,d,e,f,b=(10,20,30,40,50,60) # 귀찮아 \n",
    "print(a,b)"
   ]
  },
  {
   "cell_type": "code",
   "execution_count": 24,
   "id": "1b0d8303",
   "metadata": {},
   "outputs": [],
   "source": [
    "class Test:\n",
    "    str1 = '안녕하세요!!'\n",
    "    _str2 = '홍길동 입니다.'\n",
    "    __str3 = '이것은 건들지 마세요' # __ 두개는 좀 더 강력한 접근 제한"
   ]
  },
  {
   "cell_type": "code",
   "execution_count": 43,
   "id": "93c74cb9",
   "metadata": {
    "scrolled": true
   },
   "outputs": [
    {
     "name": "stdout",
     "output_type": "stream",
     "text": [
      "안녕하세요!!\n",
      "홍길동 입니다.\n",
      "임꺽정 입니다.\n",
      "['_Test__str3', '__class__', '__delattr__', '__dict__', '__dir__', '__doc__', '__eq__', '__format__', '__ge__', '__getattribute__', '__gt__', '__hash__', '__init__', '__init_subclass__', '__le__', '__lt__', '__module__', '__ne__', '__new__', '__reduce__', '__reduce_ex__', '__repr__', '__setattr__', '__sizeof__', '__str__', '__subclasshook__', '__weakref__', '_str2', 'funcTest', 'getStr3', 'setStr3', 'str1']\n",
      "이것은 건들지 마세요\n"
     ]
    },
    {
     "ename": "AttributeError",
     "evalue": "'Test' object has no attribute '_Test__funTest'",
     "output_type": "error",
     "traceback": [
      "\u001b[1;31m---------------------------------------------------------------------------\u001b[0m",
      "\u001b[1;31mAttributeError\u001b[0m                            Traceback (most recent call last)",
      "\u001b[1;32m<ipython-input-43-da5e8ce6e5ad>\u001b[0m in \u001b[0;36m<module>\u001b[1;34m\u001b[0m\n\u001b[0;32m     12\u001b[0m \u001b[0mprint\u001b[0m\u001b[1;33m(\u001b[0m\u001b[0mob1\u001b[0m\u001b[1;33m.\u001b[0m\u001b[0m_Test__str3\u001b[0m\u001b[1;33m)\u001b[0m\u001b[1;33m\u001b[0m\u001b[1;33m\u001b[0m\u001b[0m\n\u001b[0;32m     13\u001b[0m \u001b[1;33m\u001b[0m\u001b[0m\n\u001b[1;32m---> 14\u001b[1;33m \u001b[0mob1\u001b[0m\u001b[1;33m.\u001b[0m\u001b[0m_Test__funTest\u001b[0m\u001b[1;33m(\u001b[0m\u001b[1;33m)\u001b[0m \u001b[1;31m# 이름을 알아와서 억지로 쓰지 말고\u001b[0m\u001b[1;33m\u001b[0m\u001b[1;33m\u001b[0m\u001b[0m\n\u001b[0m\u001b[0;32m     15\u001b[0m \u001b[1;33m\u001b[0m\u001b[0m\n\u001b[0;32m     16\u001b[0m \u001b[0mob\u001b[0m\u001b[1;33m.\u001b[0m\u001b[0msetStr3\u001b[0m\u001b[1;33m(\u001b[0m\u001b[1;34m'수정하였음...'\u001b[0m\u001b[1;33m)\u001b[0m\u001b[1;33m\u001b[0m\u001b[1;33m\u001b[0m\u001b[0m\n",
      "\u001b[1;31mAttributeError\u001b[0m: 'Test' object has no attribute '_Test__funTest'"
     ]
    }
   ],
   "source": [
    "ob1 =Test()\n",
    "print(ob1.str1)\n",
    "# 어떤 구속력(쓰지 말라는)은 없지만 잘못되도 상관 겂어 라는 뜻, 가급적 _ 사용된 코드는 사용하지 마라!! \n",
    "print(ob1._str2)\n",
    "ob1._str2 = '임꺽정 입니다.'\n",
    "print(ob1._str2)\n",
    "\n",
    "# print(ob1.__str3)\n",
    "# 어떻게 접근을 막을까?\n",
    "print(dir(ob1)) #--->'_Test__str3' 로 변수이름을 바꾸어 버렸기 때문에 접근을 막음, 완벽하게 접근을 막은 것은 아니야~~~\n",
    "#그럼에도 가져오고싶으면? \n",
    "print(ob1._Test__str3) \n",
    "\n",
    "ob1._Test__funTest() # 이름을 알아와서 억지로 쓰지 말고 \n",
    "\n",
    "ob.setStr3('수정하였음...')\n",
    "print(ob1.getStr3())"
   ]
  },
  {
   "cell_type": "code",
   "execution_count": 42,
   "id": "f86d382e",
   "metadata": {},
   "outputs": [],
   "source": [
    "class Test:\n",
    "    str1 = '안녕하세요!!'\n",
    "    _str2 = '홍길동 입니다.'\n",
    "    __str3 = '이것은 건들지 마세요'\n",
    "    \n",
    "    def funcTest():\n",
    "        print('funcTest 입니다.',self.str1)\n",
    "    \n",
    "    def setStr3(self,a):\n",
    "        self.__str3 =a\n",
    "        # 직접적 노출을 싫어 하지만 함수를 사용하여 우회적으로 사용하게 \n",
    "    \n",
    "    def getStr3(self):\n",
    "        return self.__str3\n",
    "    # 이름을 일일이 찾아서 불러오기 힘드니 함수를 사용하여 간접적으로 사용하게 하는 것."
   ]
  },
  {
   "cell_type": "markdown",
   "id": "7467f6cb",
   "metadata": {},
   "source": [
    "---\n",
    "\n",
    "## 3. 상속(Inheritance)\n",
    "\n",
    "- 코드를 물려주는 것임(변수나 함수를, 일종의 복사)\n",
    "- 부모 클래스(상속을 하는, super class, base class) --> 자식 클래스(상속을 받는, sub class, derived class, 부모의 것 + a)\n",
    "\n",
    "- 상속의 원칙 : a가 부모 자식이 b,c,d,e 가 있다 하면 자식이 각각 ab 기능이 필요한데 마지막만 a,b,c가 필요할 때 부모 클래스가 abc기능 이 있어야 할 까? 가능은 하지만 필요 없는 것도 중간 자식들이 가지게 됨. 역효과 --> 부모 클레스를 만들때는 자식들이 공통적으로 필요한 기능, 최소한의 기능만 있으면 됨. \n",
    "\n",
    "- 상속 설계시 고려할 점 \n",
    "    - 부모 클래스는 최소한의 코드로 작성(모든 자식들이 공통적으로 필요하는 것들로 구성)\n",
    "    - 상속받는 자식 클래스는 반드시 기능을 추가(확장)시켜야한다. \n",
    "    - 중복된 기능이 있어서는 안됨 \n",
    "    \n",
    "- Override(재정의)-반드시 상속,부모가 물려준 것을 고쳐서 사용->표준화에 좋음 , Overload(중복정의)-다형성,반드시 상속은 아님, 파이썬에서는 지원하지 않음 "
   ]
  },
  {
   "cell_type": "code",
   "execution_count": 44,
   "id": "54580ca7",
   "metadata": {},
   "outputs": [],
   "source": [
    "\n",
    "class Animal:\n",
    "    def move(self):\n",
    "        print('움직인다.')\n",
    "        \n",
    "\n",
    "class Dog(Animal):  #  얘 부모는  Animal\n",
    "    def bark(self):\n",
    "        print('멍멍!!!')\n",
    "   \n",
    "        \n",
    "class Hoes(Animal):\n",
    "    def speed(self,s):\n",
    "        print('현재속도는',s)"
   ]
  },
  {
   "cell_type": "code",
   "execution_count": 46,
   "id": "308b111f",
   "metadata": {},
   "outputs": [
    {
     "name": "stdout",
     "output_type": "stream",
     "text": [
      "멍멍\n",
      "움직인다.\n"
     ]
    }
   ],
   "source": [
    "d1 =  Dog()\n",
    "d1.bark()\n",
    "d1.move()"
   ]
  },
  {
   "cell_type": "code",
   "execution_count": 62,
   "id": "b6326b9b",
   "metadata": {},
   "outputs": [],
   "source": [
    "class Calculator:\n",
    "    first = 0 \n",
    "    second = 0 \n",
    "    \n",
    "    def __init__(self,first=None, second=None):\n",
    "        self.first= first\n",
    "        self.second= second\n",
    "        \n",
    "    def setData(self,first=None, second=None):\n",
    "        self.first= first\n",
    "        self.second= second\n",
    "        \n",
    "    def sum(self):\n",
    "        return self.first + self.second\n",
    "    \n",
    "    def div(self):\n",
    "        return self.first / self.second\n",
    "    \n",
    "    def mul(self):\n",
    "        return self.first * self.second\n",
    "    \n",
    "    def sub(self):\n",
    "        return self.first - self.second        \n",
    "        \n",
    "class Calculator2(Calculator):\n",
    "    def pow(self):\n",
    "        return self.first ** self.second"
   ]
  },
  {
   "cell_type": "code",
   "execution_count": 64,
   "id": "360e9f06",
   "metadata": {},
   "outputs": [
    {
     "name": "stdout",
     "output_type": "stream",
     "text": [
      "30\n",
      "2000\n",
      "0.8333333333333334\n",
      "1024\n"
     ]
    }
   ],
   "source": [
    "cal1 = Calculator()\n",
    "cal1.setData(10,20)\n",
    "print(cal1.sum())\n",
    "\n",
    "cal2 =Calculator(20,100)\n",
    "print(cal2.mul())\n",
    "\n",
    "cal3 = Calculator(50,60)\n",
    "print(cal3.div())\n",
    "\n",
    "cal4 = Calculator2(2,10)\n",
    "print(cal4.pow())\n",
    "\n",
    "# 쓰는 사람은 편하지만 만드는 사람은 힘들 수 있음. "
   ]
  },
  {
   "cell_type": "code",
   "execution_count": 65,
   "id": "10d4fd9d",
   "metadata": {},
   "outputs": [],
   "source": [
    "# 오버라이딩- 재정의\n",
    "class Phone:\n",
    "    def call(self):\n",
    "        print('전화 걸기')\n",
    "\n",
    "\n",
    "class FolderPhone(Phone):\n",
    "    def call(self):#부모가 물려준것과 동일하게 해야함 \n",
    "        print('전화 걸기 + 게임')\n",
    "\n",
    "\n",
    "class CameraPhone(Phone):\n",
    "    def call(self):\n",
    "        print('전화걸기 + 카메라 추가')\n",
    "\n",
    "\n",
    "class SmartPhone(Phone):\n",
    "    def call(self):\n",
    "        print('전화걸기 +카메라 추가 + 인터넷 기능')\n",
    "        \n",
    "\n",
    "    "
   ]
  },
  {
   "cell_type": "code",
   "execution_count": 68,
   "id": "0f554bd5",
   "metadata": {},
   "outputs": [
    {
     "name": "stdout",
     "output_type": "stream",
     "text": [
      "전화 걸기 + 게임\n",
      "None\n"
     ]
    }
   ],
   "source": [
    "call1 = FolderPhone()\n",
    "print(call1.call())"
   ]
  },
  {
   "cell_type": "code",
   "execution_count": 70,
   "id": "b64e0c76",
   "metadata": {},
   "outputs": [],
   "source": [
    "class Person:\n",
    "    say = '난 사람이다.'\n",
    "    age = 20\n",
    "    \n",
    "    def info(self):\n",
    "        print('나이 : {},하고 싶은 말 : {}'.format(self.age,self.say))\n",
    "    \n",
    "    def __init__(self):\n",
    "        print('Person 클래스')\n",
    "        \n",
    "class Employee(Person):\n",
    "    def __init__(self):\n",
    "        print('employee 클래스')\n",
    "    \n",
    "    say = '난 회사원이다.'\n",
    "    \n",
    "    def info(self):\n",
    "        print(self.say)\n",
    "        print(self.age)"
   ]
  },
  {
   "cell_type": "code",
   "execution_count": 71,
   "id": "4971e7b8",
   "metadata": {},
   "outputs": [
    {
     "name": "stdout",
     "output_type": "stream",
     "text": [
      "employee 클래스\n",
      "난 회사원이다.\n",
      "20\n"
     ]
    }
   ],
   "source": [
    "e1 = Employee()\n",
    "e1.info()"
   ]
  },
  {
   "cell_type": "code",
   "execution_count": 80,
   "id": "012bd414",
   "metadata": {},
   "outputs": [],
   "source": [
    "#고치기 전의 부모의 것을 다시 쓰고 싶다면????? \n",
    "# 일단 부모의 주소를 알아야 함. \n",
    "##### --> super()  부모클래스의 주소를 가지고 있음. \n",
    "\n",
    "class Person:\n",
    "    say = '난 사람이다.'\n",
    "    age = 20\n",
    "    \n",
    "    def info(self):\n",
    "        print('나이 : {}, 하고 싶은 말 : {}'.format(self.age,self.say))\n",
    "    \n",
    "    def __init__(self):\n",
    "        print('Person 클래스')\n",
    "        \n",
    "class Employee(Person):\n",
    "    def __init__(self):\n",
    "        print('employee 클래스')\n",
    "    \n",
    "    say = '난 회사원이다.'\n",
    "    \n",
    "    def info(self):\n",
    "        print(self.say)\n",
    "        print(self.age)\n",
    "        print(super().say)\n",
    "        super().info()"
   ]
  },
  {
   "cell_type": "code",
   "execution_count": 81,
   "id": "2a48b8cb",
   "metadata": {},
   "outputs": [
    {
     "name": "stdout",
     "output_type": "stream",
     "text": [
      "employee 클래스\n",
      "난 회사원이다.\n",
      "20\n",
      "난 사람이다.\n",
      "나이 : 20, 하고 싶은 말 : 난 회사원이다.\n"
     ]
    }
   ],
   "source": [
    "e1 = Employee()\n",
    "e1.info()"
   ]
  },
  {
   "cell_type": "markdown",
   "id": "ed14e10f",
   "metadata": {},
   "source": [
    "----\n",
    "\n",
    "## 4. 다중 상속\n",
    "\n",
    "- 여러 부모 클래스에게 상속 받는 경우 \n",
    "- 중복이 많이 될 수 있다. 그럼 어떻게 해야할까? \n",
    "- "
   ]
  },
  {
   "cell_type": "code",
   "execution_count": 85,
   "id": "6fb8b61e",
   "metadata": {},
   "outputs": [],
   "source": [
    "class Phone:\n",
    "    def call(self):\n",
    "        print('전화걸기')\n",
    "        \n",
    "class Camera:\n",
    "    def picture(self):\n",
    "        print('사진찍기')\n",
    "\n",
    "class Game:\n",
    "    def rendering(self):\n",
    "        print('화면 그리기')\n",
    "        \n",
    "        \n",
    "class SmartPhone(Phone,Camera):\n",
    "    pass"
   ]
  },
  {
   "cell_type": "code",
   "execution_count": 86,
   "id": "1a6ab1a1",
   "metadata": {},
   "outputs": [
    {
     "name": "stdout",
     "output_type": "stream",
     "text": [
      "전화걸기\n",
      "사진찍기\n"
     ]
    }
   ],
   "source": [
    "sp = SmartPhone()\n",
    "sp.call()\n",
    "sp.picture()"
   ]
  },
  {
   "cell_type": "markdown",
   "id": "d7439646",
   "metadata": {},
   "source": [
    "___\n",
    "\n",
    "## 5. object\n",
    "\n",
    "+ 파이썬 클래스들 중에서 가장 상위 클래스"
   ]
  },
  {
   "cell_type": "code",
   "execution_count": 87,
   "id": "0c21d256",
   "metadata": {},
   "outputs": [
    {
     "name": "stdout",
     "output_type": "stream",
     "text": [
      "['__class__', '__delattr__', '__dir__', '__doc__', '__eq__', '__format__', '__ge__', '__getattribute__', '__gt__', '__hash__', '__init__', '__init_subclass__', '__le__', '__lt__', '__ne__', '__new__', '__reduce__', '__reduce_ex__', '__repr__', '__setattr__', '__sizeof__', '__str__', '__subclasshook__']\n"
     ]
    }
   ],
   "source": [
    "print(dir(object))"
   ]
  },
  {
   "cell_type": "code",
   "execution_count": 88,
   "id": "ece9673a",
   "metadata": {},
   "outputs": [],
   "source": [
    "class Test:\n",
    "    a=10"
   ]
  },
  {
   "cell_type": "code",
   "execution_count": 89,
   "id": "f426e14d",
   "metadata": {},
   "outputs": [
    {
     "name": "stdout",
     "output_type": "stream",
     "text": [
      "['__class__', '__delattr__', '__dict__', '__dir__', '__doc__', '__eq__', '__format__', '__ge__', '__getattribute__', '__gt__', '__hash__', '__init__', '__init_subclass__', '__le__', '__lt__', '__module__', '__ne__', '__new__', '__reduce__', '__reduce_ex__', '__repr__', '__setattr__', '__sizeof__', '__str__', '__subclasshook__', '__weakref__', 'a']\n"
     ]
    }
   ],
   "source": [
    "print(dir(Test)) # 이런걸 만든적이 없는데 왜?? object의 기본기능들 "
   ]
  },
  {
   "cell_type": "markdown",
   "id": "f8ea8661",
   "metadata": {},
   "source": [
    "---\n",
    "\n",
    "### 6. 고급함수\n",
    "\n",
    "- 기존의 함수에 클래스가 가진 장점을 더함 ---> 함수의 기능을 더 강화 시키는"
   ]
  },
  {
   "cell_type": "markdown",
   "id": "14181af1",
   "metadata": {},
   "source": [
    "#### (1) 변수의 생존 범위: global, nonlocal"
   ]
  },
  {
   "cell_type": "code",
   "execution_count": 91,
   "id": "96565685",
   "metadata": {},
   "outputs": [
    {
     "name": "stdout",
     "output_type": "stream",
     "text": [
      "전국 대표\n",
      "전국 대표\n"
     ]
    }
   ],
   "source": [
    "player = '전국 대표'\n",
    "\n",
    "def funcSoccer():\n",
    "    name = '홍길동'\n",
    "    player = '지역 대표'\n",
    "#     player --> 지역 변수임 \n",
    "#################################\n",
    "\n",
    "print(player)\n",
    "funcSoccer()\n",
    "print(player)"
   ]
  },
  {
   "cell_type": "code",
   "execution_count": 96,
   "id": "2a6fb04f",
   "metadata": {},
   "outputs": [
    {
     "name": "stdout",
     "output_type": "stream",
     "text": [
      "전국 대표\n",
      "지역 대표\n"
     ]
    }
   ],
   "source": [
    "player = '전국 대표'\n",
    "\n",
    "def funcSoccer():\n",
    "    global player\n",
    "    \n",
    "    name = '홍길동'\n",
    "    player = '지역 대표'\n",
    "#     player --> 지역 변수임 \n",
    "#################################\n",
    "\n",
    "print(player)\n",
    "funcSoccer()\n",
    "print(player)"
   ]
  },
  {
   "cell_type": "code",
   "execution_count": 103,
   "id": "c2421fc7",
   "metadata": {},
   "outputs": [
    {
     "name": "stdout",
     "output_type": "stream",
     "text": [
      "kbs2 함수 내부 :  2\n",
      "kbs1 함수 내부 : 1\n"
     ]
    }
   ],
   "source": [
    "a= 100\n",
    "\n",
    "def kbs1():\n",
    "    a =1\n",
    "    #함수 안에 함수를 끼워 넣기\n",
    "    def kbs2():\n",
    "        a= 2 \n",
    "        print('kbs2 함수 내부 : ',a)\n",
    "    \n",
    "    kbs2()\n",
    "    print('kbs1 함수 내부 :',a)\n",
    "\n",
    "    ################################\n",
    "\n",
    "kbs1()"
   ]
  },
  {
   "cell_type": "code",
   "execution_count": 102,
   "id": "b0e8e2b2",
   "metadata": {},
   "outputs": [
    {
     "name": "stdout",
     "output_type": "stream",
     "text": [
      "kbs2 함수 내부 :  2\n"
     ]
    }
   ],
   "source": [
    "kbs1()"
   ]
  },
  {
   "cell_type": "code",
   "execution_count": 105,
   "id": "28fa33c2",
   "metadata": {},
   "outputs": [
    {
     "name": "stdout",
     "output_type": "stream",
     "text": [
      "100\n",
      "kbs2 함수 내부 :  2\n",
      "kbs1 함수 내부 : 1\n",
      "2\n"
     ]
    }
   ],
   "source": [
    "a= 100\n",
    "\n",
    "def kbs1():\n",
    "    a =1\n",
    "    #함수 안에 함수를 끼워 넣기\n",
    "    def kbs2():\n",
    "        global a\n",
    "        a= 2 \n",
    "        print('kbs2 함수 내부 : ',a)\n",
    "    \n",
    "    kbs2()\n",
    "    print('kbs1 함수 내부 :',a)\n",
    "\n",
    "    ################################\n",
    "\n",
    "print(a)\n",
    "kbs1()\n",
    "print(a)"
   ]
  },
  {
   "cell_type": "code",
   "execution_count": 107,
   "id": "691dd6a3",
   "metadata": {},
   "outputs": [
    {
     "name": "stdout",
     "output_type": "stream",
     "text": [
      "kbs2 함수 내부 :  2\n",
      "kbs1 함수 내부 : 1\n"
     ]
    }
   ],
   "source": [
    "kbs1()"
   ]
  },
  {
   "cell_type": "code",
   "execution_count": 108,
   "id": "37a415ce",
   "metadata": {},
   "outputs": [
    {
     "name": "stdout",
     "output_type": "stream",
     "text": [
      "100\n",
      "kbs2 함수 내부 :  2\n",
      "kbs1 함수 내부 : 2\n",
      "100\n"
     ]
    }
   ],
   "source": [
    "a= 100\n",
    "\n",
    "def kbs1():\n",
    "    a =1\n",
    "    \n",
    "    def kbs2():\n",
    "        #지역 변수인데 지역변수가 아닌것 처럼 쓰이는 \n",
    "        nonlocal a\n",
    "        a= 2 \n",
    "        print('kbs2 함수 내부 : ',a)\n",
    "    \n",
    "    kbs2()\n",
    "    print('kbs1 함수 내부 :',a)\n",
    "\n",
    "    ################################\n",
    "\n",
    "print(a)\n",
    "kbs1()\n",
    "print(a)"
   ]
  },
  {
   "cell_type": "markdown",
   "id": "b1a4b71f",
   "metadata": {},
   "source": [
    "#### (2) 클로저(Closer)\n",
    "\n",
    "+ 함수 밖에서 임의의 함수 안에 선언된 지역변수를 계속 참조할 수 있게 하는 방법\n"
   ]
  },
  {
   "cell_type": "code",
   "execution_count": 115,
   "id": "465024b8",
   "metadata": {},
   "outputs": [
    {
     "name": "stdout",
     "output_type": "stream",
     "text": [
      "1\n",
      "1\n",
      "1\n"
     ]
    }
   ],
   "source": [
    "# count의 초기값이 있어야 함 밖에 있는 것을 함수 안에서 쓸 수 없음 --> 이때 nonlocal을 씀\n",
    "def out():\n",
    "    count = 0 \n",
    "    \n",
    "    def inn():\n",
    "        nonlocal count\n",
    "        \n",
    "        count += 1\n",
    "        print(count)\n",
    "    \n",
    "    inn()\n",
    "\n",
    "############################# 함수 호출할때 마다 1씩 증가하고 싶은 뜻. \n",
    "out()\n",
    "out()\n",
    "out()"
   ]
  },
  {
   "cell_type": "code",
   "execution_count": 117,
   "id": "02214458",
   "metadata": {},
   "outputs": [
    {
     "name": "stdout",
     "output_type": "stream",
     "text": [
      "1\n",
      "2\n",
      "3\n"
     ]
    }
   ],
   "source": [
    "# count의 초기값이 있어야 함 밖에 있는 것을 함수 안에서 쓸 수 없음 --> 이때 nonlocal을 씀\n",
    "count = 0\n",
    "def out():\n",
    "    count = 0 \n",
    "    \n",
    "    def inn():\n",
    "        global count\n",
    "        \n",
    "        count += 1\n",
    "        print(count)\n",
    "    \n",
    "    inn()\n",
    "\n",
    "############################# 함수 호출할때 마다 1씩 증가하고 싶은 뜻.\n",
    "# 가장 간단히는 globl 쓰기 --> 그러나 전역변수는 가급적 쓰지 않아야 함. \n",
    "# 어디에서나 쉽게 써어도 되니까 잘못됬을때 못찾음....그래서 클로저를 씀!!!!\n",
    "out()\n",
    "out()\n",
    "out()"
   ]
  },
  {
   "cell_type": "code",
   "execution_count": 125,
   "id": "72e7999b",
   "metadata": {},
   "outputs": [
    {
     "name": "stdout",
     "output_type": "stream",
     "text": [
      "1\n",
      "2\n",
      "3\n",
      "4\n",
      "5\n",
      "1\n",
      "2\n",
      "3\n",
      "4\n"
     ]
    }
   ],
   "source": [
    "def out():\n",
    "    count = 0 \n",
    "    \n",
    "    def inn():\n",
    "        nonlocal count\n",
    "        \n",
    "        count += 1\n",
    "        print(count)\n",
    "    #inn이라는 함수를 밖에서 호출할 수 있도록 주소값을 리턴 해주면 됨\n",
    "    return inn\n",
    "\n",
    "############################# \n",
    "a = out()\n",
    "a()\n",
    "a()\n",
    "a()\n",
    "a()\n",
    "a()\n",
    "\n",
    "b= out()\n",
    "b()\n",
    "b()\n",
    "b()\n",
    "b()\n"
   ]
  },
  {
   "cell_type": "code",
   "execution_count": 131,
   "id": "1a11799b",
   "metadata": {},
   "outputs": [
    {
     "name": "stdout",
     "output_type": "stream",
     "text": [
      "2500.0\n",
      "3600.0\n",
      "1250.0\n"
     ]
    }
   ],
   "source": [
    "def outer(tax):\n",
    "    def inner(su,dan):\n",
    "        amount =su * dan * tax\n",
    "        return amount\n",
    "    \n",
    "    return inner\n",
    "\n",
    "tax_rate =outer(0.1)\n",
    "mouse = tax_rate(5,5000)\n",
    "print(mouse)\n",
    "\n",
    "usb = tax_rate(3, 12000)\n",
    "print(usb)\n",
    "\n",
    "tax_rate2= outer(.05)\n",
    "mouse = tax_rate2(5,5000)\n",
    "print(mouse)"
   ]
  },
  {
   "cell_type": "markdown",
   "id": "f000c2f5",
   "metadata": {},
   "source": [
    "#### (3) 람다 함수(무명 함수, 익명 함수)\n",
    "\n",
    "- 함수를 어떻게 하면 짧게 쓸까? \n"
   ]
  },
  {
   "cell_type": "code",
   "execution_count": 1,
   "id": "ed66fe52",
   "metadata": {},
   "outputs": [
    {
     "name": "stdout",
     "output_type": "stream",
     "text": [
      "30\n"
     ]
    }
   ],
   "source": [
    "def hap(x,y):\n",
    "    return x+y\n",
    "\n",
    "##################################\n",
    "\n",
    "result = hap(10,20)\n",
    "print(result)"
   ]
  },
  {
   "cell_type": "code",
   "execution_count": 2,
   "id": "f0374037",
   "metadata": {},
   "outputs": [
    {
     "data": {
      "text/plain": [
       "30"
      ]
     },
     "execution_count": 2,
     "metadata": {},
     "output_type": "execute_result"
    }
   ],
   "source": [
    "# 일회용으로 간단히 쓰는 --> 그래서 함수명은 없음 \n",
    "(lambda x,y: x+y)(10,20) # return이 생략되어 있음\n",
    "#매개변수와 리턴 식을 쓰면 됨 \n",
    "# 꼭필요한 것만 가져다가 함수를 만든 것"
   ]
  },
  {
   "cell_type": "code",
   "execution_count": 5,
   "id": "242a4362",
   "metadata": {},
   "outputs": [
    {
     "name": "stdout",
     "output_type": "stream",
     "text": [
      "50\n",
      "40\n"
     ]
    }
   ],
   "source": [
    "add = (lambda x,y=10: x+y)\n",
    "print(add(20,30))\n",
    "print(add(30))"
   ]
  },
  {
   "cell_type": "code",
   "execution_count": 6,
   "id": "786f22bb",
   "metadata": {},
   "outputs": [
    {
     "name": "stdout",
     "output_type": "stream",
     "text": [
      "1 (2, 3, 4, 5) {'m': 6, 'n': 7, 'o': 8}\n"
     ]
    }
   ],
   "source": [
    "def func_test(a,*b,**c):#*b 가변 인수 튜플로 ,**가변인 수인데 딕셔너리로 \n",
    "    print(a,b,c)\n",
    "    \n",
    "##########################\n",
    "func_test(1,2,3,4,5,m=6,n=7,o=8)"
   ]
  },
  {
   "cell_type": "code",
   "execution_count": 9,
   "id": "6a10689b",
   "metadata": {},
   "outputs": [
    {
     "name": "stdout",
     "output_type": "stream",
     "text": [
      "1 (2, 3, 4, 5) {'m': 6, 'n': 7, 'o': 8}\n"
     ]
    }
   ],
   "source": [
    "(lambda a,*b,**c:print(a,b,c))(1,2,3,4,5,m=6,n=7,o=8)\n",
    "#함수 자체가 단순할 때 사용"
   ]
  },
  {
   "cell_type": "code",
   "execution_count": 17,
   "id": "3cc29b5c",
   "metadata": {},
   "outputs": [
    {
     "name": "stdout",
     "output_type": "stream",
     "text": [
      "[1, 4, 3, 16, 5]\n"
     ]
    }
   ],
   "source": [
    "ex =[1,2,3,4,5]\n",
    "\n",
    "def func_test(x):\n",
    "    if x % 2 == 0:\n",
    "        return x**2\n",
    "    else:\n",
    "        return x\n",
    "\n",
    "#######################################\n",
    "result = []\n",
    "for i in ex:\n",
    "    result.append(func_test(i))\n",
    "print(result)\n"
   ]
  },
  {
   "cell_type": "code",
   "execution_count": 23,
   "id": "6faf89e0",
   "metadata": {},
   "outputs": [
    {
     "data": {
      "text/plain": [
       "[1, 4, 3, 16, 5]"
      ]
     },
     "execution_count": 23,
     "metadata": {},
     "output_type": "execute_result"
    }
   ],
   "source": [
    "#자동으로 데이터 값을 넣어서 해주는 함수는?  map(데이터와 함수를 매핑해주는, 일종의 반복문을 자동으로 만들어 주는)\n",
    "#일회용 , 계속사용하려면 def로 만들어 줘야 함.\n",
    "list(map(func_test,ex)) # map(사용할 함수, 데이터)"
   ]
  },
  {
   "cell_type": "code",
   "execution_count": 25,
   "id": "fa51a326",
   "metadata": {},
   "outputs": [
    {
     "data": {
      "text/plain": [
       "[1, 4, 3, 16, 5]"
      ]
     },
     "execution_count": 25,
     "metadata": {},
     "output_type": "execute_result"
    }
   ],
   "source": [
    "# 람다로 한줄로 만들어 벌이기 \n",
    "list(map((lambda x : x**2 if x %2 ==0 else x),ex))"
   ]
  },
  {
   "cell_type": "markdown",
   "id": "93223120",
   "metadata": {},
   "source": [
    "#### (4) 함수 장식자(decorator)\n",
    "- @ ....... (함수 위에)\n",
    "- 함수\n",
    "\n",
    "- 일종의 함수 감싸기(wrapping)를 해주는 디자인 패턴 \n",
    "- 메타 프로그래밍 기법\n",
    "- @staticmethod, @classmethod, @abstract, ...."
   ]
  },
  {
   "cell_type": "code",
   "execution_count": 34,
   "id": "878b27d1",
   "metadata": {},
   "outputs": [
    {
     "data": {
      "text/plain": [
       "'반가워홍길동'"
      ]
     },
     "execution_count": 34,
     "metadata": {},
     "output_type": "execute_result"
    }
   ],
   "source": [
    "# 미리 함수를 호출하는 것이 아닌 놔뒀다가 필요할 때 호출에서 쓰는 법!!!!!!!!\n",
    "def make1(fn):\n",
    "    return lambda : '반가워' + fn() # 람다에서 매개변수가 없을때는 생략 가능 \n",
    "# 리턴값이 결국 함수\n",
    "def hello():\n",
    "    return '홍길동'\n",
    "\n",
    "####################################\n",
    "# 결과 값이 반가워 홍길동으로 ?\n",
    "# hello를 make1에서 호출하도록 해야함.\n",
    "# 주소를 받아와서 호출하도록\n",
    "make1(hello)()"
   ]
  },
  {
   "cell_type": "code",
   "execution_count": 39,
   "id": "1710cff6",
   "metadata": {},
   "outputs": [
    {
     "data": {
      "text/plain": [
       "'반가워홍길동'"
      ]
     },
     "execution_count": 39,
     "metadata": {},
     "output_type": "execute_result"
    }
   ],
   "source": [
    "m1 = make1(hello)\n",
    "m1()\n"
   ]
  },
  {
   "cell_type": "code",
   "execution_count": 41,
   "id": "0a2d1f00",
   "metadata": {},
   "outputs": [
    {
     "data": {
      "text/plain": [
       "'안녕 반가워 홍길동'"
      ]
     },
     "execution_count": 41,
     "metadata": {},
     "output_type": "execute_result"
    }
   ],
   "source": [
    "def make2(fn):\n",
    "    return lambda: '안녕 ' + fn()\n",
    "\n",
    "def make1(fn):\n",
    "    return lambda : '반가워 ' + fn() \n",
    "\n",
    "def hello():\n",
    "    return '홍길동'\n",
    "\n",
    "make2(make1(hello))()"
   ]
  },
  {
   "cell_type": "code",
   "execution_count": 42,
   "id": "e9d8e2e1",
   "metadata": {},
   "outputs": [
    {
     "data": {
      "text/plain": [
       "'안녕 반가워 홍길동'"
      ]
     },
     "execution_count": 42,
     "metadata": {},
     "output_type": "execute_result"
    }
   ],
   "source": [
    "def make2(fn):\n",
    "    return lambda: '안녕 ' + fn()\n",
    "\n",
    "def make1(fn):\n",
    "    return lambda : '반가워 ' + fn() \n",
    "\n",
    "@make2 # 다시 make2에 전달하겠다\n",
    "@make1 # hello의 주소값이 make1에 전달하겠다\n",
    "def hello():\n",
    "    return '홍길동'\n",
    "\n",
    "hello()"
   ]
  },
  {
   "cell_type": "code",
   "execution_count": 45,
   "id": "4c18ab15",
   "metadata": {},
   "outputs": [
    {
     "name": "stdout",
     "output_type": "stream",
     "text": [
      "결과는 30이다.\n"
     ]
    }
   ],
   "source": [
    " def outer(fn):\n",
    "        def inner(n1,n2):\n",
    "            print('결과는 {}이다.'.format(fn(n1,n2)))\n",
    "            \n",
    "        return inner\n",
    "\n",
    "def func(n1,n2):\n",
    "    return n1+n2\n",
    "\n",
    "####################################\n",
    "\n",
    "result=outer(func)\n",
    "result(10,20)"
   ]
  },
  {
   "cell_type": "code",
   "execution_count": 46,
   "id": "b763835d",
   "metadata": {},
   "outputs": [
    {
     "name": "stdout",
     "output_type": "stream",
     "text": [
      "결과는 30이다.\n"
     ]
    }
   ],
   "source": [
    " def outer(fn):\n",
    "        def inner(n1,n2):\n",
    "            print('결과는 {}이다.'.format(fn(n1,n2)))\n",
    "            \n",
    "        return inner\n",
    "@outer\n",
    "def func(n1,n2):\n",
    "    return n1+n2\n",
    "\n",
    "####################################\n",
    "\n",
    "func(10,20)"
   ]
  },
  {
   "cell_type": "code",
   "execution_count": null,
   "id": "a2cae0d0",
   "metadata": {},
   "outputs": [],
   "source": [
    " "
   ]
  }
 ],
 "metadata": {
  "kernelspec": {
   "display_name": "Python 3",
   "language": "python",
   "name": "python3"
  },
  "language_info": {
   "codemirror_mode": {
    "name": "ipython",
    "version": 3
   },
   "file_extension": ".py",
   "mimetype": "text/x-python",
   "name": "python",
   "nbconvert_exporter": "python",
   "pygments_lexer": "ipython3",
   "version": "3.8.8"
  }
 },
 "nbformat": 4,
 "nbformat_minor": 5
}
