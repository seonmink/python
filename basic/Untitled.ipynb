{
 "cells": [
  {
   "cell_type": "code",
   "execution_count": 1,
   "id": "e88f14a5",
   "metadata": {},
   "outputs": [
    {
     "data": {
      "text/plain": [
       "'Employee라는 클레스를 만들어서 \\ne1 = Employee(1111, \"홍길동\", 1000000, [\"여행\", \"낚시\", \"운동\"])\\ne1.display()\\n이 결과 도출해 내기 \\n결과 :\\n    사번 : 1111\\n    이름 : 홍길동\\n    급여 : 1000000\\n    취미 : 여행, 낚시, 운동\\n\\n사원 추가 \\ne2 = Employee(1112, \"임꺽정\", 1200000, [\"자전거\", \"볼링\"])\\ne3 = Employee(1113, \"신돌석\", 1400000, [\"독서\"])\\n\\ntotal = Employee.getCount()    getCount이런 클레스를 만들어라 \\nprint(\"인원수 : \", total)\\n\\n# 데이터 수정\\ne3.setSalary(2000000)\\ne3.appendHobby(\"피아노\", \"드론\")\\ne3.display()\\n\\n결과 :\\n    사번 : 1113\\n    이름 : 신돌석\\n    급여 : 2000000\\n    취미 : 독서, 피아노, 드론\\n'"
      ]
     },
     "execution_count": 1,
     "metadata": {},
     "output_type": "execute_result"
    }
   ],
   "source": [
    "\"\"\"Employee라는 클레스를 만들어서 \n",
    "e1 = Employee(1111, \"홍길동\", 1000000, [\"여행\", \"낚시\", \"운동\"])\n",
    "e1.display()\n",
    "이 결과 도출해 내기 \n",
    "결과 :\n",
    "    사번 : 1111\n",
    "    이름 : 홍길동\n",
    "    급여 : 1000000\n",
    "    취미 : 여행, 낚시, 운동\n",
    "\n",
    "사원 추가 \n",
    "e2 = Employee(1112, \"임꺽정\", 1200000, [\"자전거\", \"볼링\"])\n",
    "e3 = Employee(1113, \"신돌석\", 1400000, [\"독서\"])\n",
    "\n",
    "total = Employee.getCount()    getCount이런 클레스를 만들어라 \n",
    "print(\"인원수 : \", total)\n",
    "\n",
    "# 데이터 수정\n",
    "e3.setSalary(2000000)\n",
    "e3.appendHobby(\"피아노\", \"드론\")\n",
    "e3.display()\n",
    "\n",
    "결과 :\n",
    "    사번 : 1113\n",
    "    이름 : 신돌석\n",
    "    급여 : 2000000\n",
    "    취미 : 독서, 피아노, 드론\n",
    "\"\"\""
   ]
  },
  {
   "cell_type": "code",
   "execution_count": 17,
   "id": "239c1931",
   "metadata": {},
   "outputs": [
    {
     "name": "stdout",
     "output_type": "stream",
     "text": [
      "결과:\n",
      "사번:  1111\n",
      "이름:  홍길동\n",
      "급여:  1000000\n",
      "취미:  ['여행', '낚시', '운동']\n",
      "--------------------------------------------------\n",
      "인원수 :  3\n",
      "--------------------------------------------------\n",
      "결과:\n",
      "사번:  1113\n",
      "이름:  신돌석\n",
      "급여:  2000000\n",
      "취미:  ['독서', '피아노', '드론']\n"
     ]
    }
   ],
   "source": [
    "class Employee:\n",
    "    s = int()\n",
    "    n = str()\n",
    "    p = int()\n",
    "    h = list()\n",
    "    e_cnt = 0\n",
    "    \n",
    "    def display(self):\n",
    "        print('결과:')\n",
    "        print('사번: ',self.s)\n",
    "        print('이름: ',self.n)\n",
    "        print('급여: ',self.p)\n",
    "        print('취미: ',self.h)\n",
    "    \n",
    "    def __init__(self,s,n,p,h):\n",
    "        self.s =s\n",
    "        self.n =n\n",
    "        self.p = p\n",
    "        self.h = h\n",
    "        Employee.e_cnt +=1\n",
    "    \n",
    "    @staticmethod    \n",
    "    def getCount():\n",
    "        return Employee.e_cnt\n",
    "    \n",
    "    def setSalary(self,p):\n",
    "        self.p = p\n",
    "        \n",
    "    def appendHobby(self,*h):\n",
    "        self.h.extend(h)\n",
    "        \n",
    "e1 = Employee(1111, \"홍길동\", 1000000, [\"여행\", \"낚시\", \"운동\"])\n",
    "e1.display()\n",
    "\n",
    "print('-'*50)\n",
    "\n",
    "e2 = Employee(1112, \"임꺽정\", 1200000, [\"자전거\", \"볼링\"])\n",
    "e3 = Employee(1113, \"신돌석\", 1400000, [\"독서\"])\n",
    "\n",
    "total = Employee.getCount()   \n",
    "print(\"인원수 : \", total)\n",
    "\n",
    "print('-'*50)\n",
    "e3.setSalary(2000000)\n",
    "e3.appendHobby('피아노','드론')\n",
    "e3.display()\n",
    "\n"
   ]
  },
  {
   "cell_type": "code",
   "execution_count": 7,
   "id": "1a2386b8",
   "metadata": {},
   "outputs": [
    {
     "name": "stdout",
     "output_type": "stream",
     "text": [
      "결과 : \n",
      "    사번 : 1111\n",
      "    이름 : 홍길동\n",
      "    급여 : 1000000\n",
      "    취미 : 여행 낚시 운동\n",
      "-----------------------\n",
      "\n",
      "인원수 :  3\n",
      "-----------------------\n",
      "\n",
      "결과 : \n",
      "    사번 : 1113\n",
      "    이름 : 신돌석\n",
      "    급여 : 2000000\n",
      "    취미 : 독서 피아노 드론\n"
     ]
    }
   ],
   "source": [
    "class Employee():\n",
    "    사번 = int()\n",
    "    이름 = str()\n",
    "    급여 = int()\n",
    "    취미 = list()\n",
    "    사원수 = 0\n",
    "    \n",
    "    def __init__(self, 사번, 이름, 급여, 취미):\n",
    "        self.사번 = 사번\n",
    "        self.이름 = 이름\n",
    "        self.급여 = 급여\n",
    "        self.취미 = 취미\n",
    "        Employee.사원수 += 1\n",
    "    \n",
    "    def display(self):\n",
    "        print(f\"\"\"결과 : \n",
    "    사번 : {self.사번}\n",
    "    이름 : {self.이름}\n",
    "    급여 : {self.급여}\n",
    "    취미 :\"\"\", *self.취미)\n",
    "    \n",
    "    @staticmethod\n",
    "    def getCount():\n",
    "        return Employee.사원수\n",
    "    \n",
    "    def setSalary(self, 급여):\n",
    "        self.급여 = 급여\n",
    "    \n",
    "    def appendHobby(self, *취미):\n",
    "        self.취미.extend(취미)\n",
    "\n",
    "e1 = Employee(1111, \"홍길동\", 1000000, [\"여행\", \"낚시\", \"운동\"])\n",
    "e1.display()\n",
    "\n",
    "print(\"-----------------------\\n\")\n",
    "\n",
    "e2 = Employee(1112, \"임꺽정\", 1200000, [\"자전거\", \"볼링\"])\n",
    "e3 = Employee(1113, \"신돌석\", 1400000, [\"독서\"])\n",
    "\n",
    "total = Employee.getCount()\n",
    "print(\"인원수 : \", total)\n",
    "\n",
    "print(\"-----------------------\\n\")\n",
    "\n",
    "# 데이터 수정\n",
    "e3.setSalary(2000000)\n",
    "e3.appendHobby(\"피아노\", \"드론\")\n",
    "e3.display()"
   ]
  },
  {
   "cell_type": "code",
   "execution_count": 8,
   "id": "21bc0978",
   "metadata": {},
   "outputs": [
    {
     "name": "stdout",
     "output_type": "stream",
     "text": [
      "결과:\n",
      "사번:  1111\n",
      "이름:  홍길동\n",
      "급여:  1000000\n",
      "취미:  ['여행', '낚시', '운동']\n",
      "인원수:  3\n",
      "결과:\n",
      "사번:  1113\n",
      "이름:  신돌석\n",
      "급여:  2000000\n",
      "취미:  ['독서', '피아노', '드론']\n"
     ]
    }
   ],
   "source": [
    "class Employee:\n",
    "    \n",
    "    num = int()\n",
    "    name = str()\n",
    "    salary = int()\n",
    "    hobbies = []\n",
    "    e_cnt = 0\n",
    "    \n",
    "    def display(self):\n",
    "        print(\"결과:\")\n",
    "        print(\"사번: \",self.num)\n",
    "        print(\"이름: \",self.name)\n",
    "        print(\"급여: \",self.salary)\n",
    "        print(\"취미: \",self.hobbies)\n",
    "    \n",
    "    def __init__(self,num,name,salary,hobbies):\n",
    "       \n",
    "        self.num = num\n",
    "        self.name = name\n",
    "        self.salary = salary\n",
    "        self.hobbies = hobbies\n",
    "        Employee.e_cnt += 1\n",
    "        \n",
    "    \n",
    "    def getCount():\n",
    "        return Employee.e_cnt\n",
    "    \n",
    "    def setSalary(self,salary):\n",
    "        self.salary = salary\n",
    "    \n",
    "    def appendHobby(self,*hobbies):\n",
    "        self.hobbies.extend(hobbies)\n",
    "        \n",
    "        \n",
    "e1 = Employee(1111,\"홍길동\",1000000,[\"여행\",\"낚시\",\"운동\"])\n",
    "e1.display()\n",
    "\n",
    "e2 = Employee(1112,\"임꺽정\",1200000,[\"자전거\",\"볼링\"])\n",
    "e3 = Employee(1113,\"신돌석\",1400000,[\"독서\"])\n",
    "\n",
    "total = Employee.getCount()\n",
    "print(\"인원수: \",total)\n",
    "\n",
    "# 데이터 수정\n",
    "e3.setSalary(2000000)\n",
    "e3.appendHobby(\"피아노\",\"드론\")\n",
    "e3.display()"
   ]
  },
  {
   "cell_type": "code",
   "execution_count": 21,
   "id": "7b5e9153",
   "metadata": {},
   "outputs": [
    {
     "name": "stdout",
     "output_type": "stream",
     "text": [
      "a#b#c#d\n"
     ]
    }
   ],
   "source": [
    "a = 'a:b:c:d'\n",
    "b = a.replace(':','#')\n",
    "print(b)"
   ]
  },
  {
   "cell_type": "code",
   "execution_count": 24,
   "id": "1ddcdc13",
   "metadata": {},
   "outputs": [
    {
     "name": "stdout",
     "output_type": "stream",
     "text": [
      "[5, 4, 3, 2, 1]\n"
     ]
    }
   ],
   "source": [
    "a = [1,3,5,4,2]\n",
    "a.sort()\n",
    "a.reverse()\n",
    "print(a)"
   ]
  },
  {
   "cell_type": "code",
   "execution_count": null,
   "id": "de33977c",
   "metadata": {},
   "outputs": [],
   "source": []
  }
 ],
 "metadata": {
  "kernelspec": {
   "display_name": "Python 3",
   "language": "python",
   "name": "python3"
  },
  "language_info": {
   "codemirror_mode": {
    "name": "ipython",
    "version": 3
   },
   "file_extension": ".py",
   "mimetype": "text/x-python",
   "name": "python",
   "nbconvert_exporter": "python",
   "pygments_lexer": "ipython3",
   "version": "3.8.8"
  }
 },
 "nbformat": 4,
 "nbformat_minor": 5
}
