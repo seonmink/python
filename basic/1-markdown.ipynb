{
 "cells": [
  {
   "cell_type": "code",
   "execution_count": null,
   "id": "3eb0982d",
   "metadata": {},
   "outputs": [],
   "source": [
    "# html : hyper text markup language\n",
    "# markup 에 해당하는 언어 \n",
    "# 데이터를 양쪽으로 꾸며줘서 <>데이터</> 코드를 작성하는 방식 \n",
    "# 주로 디자인을 꾸밀때 사용, 시각적인 언어 "
   ]
  },
  {
   "cell_type": "markdown",
   "id": "01ee79e6",
   "metadata": {},
   "source": [
    "# 글자 크기 \n",
    "## 글자 크기\n",
    "### 글자 크기\n",
    "#### 글자 크기\n",
    "##### 글자 크기\n",
    "###### 글자 크기 \n",
    "--> 이제 차이가 없음\n",
    "\n",
    "<h1> 글자 크기 </h1>\n",
    "html 의 불편함을 줄이기 위해 markdown이 있음 \n",
    "\n",
    "글자 크기\n",
    "==\n",
    "\n",
    "글자 크기 \n",
    "--\n",
    "\n"
   ]
  },
  {
   "cell_type": "markdown",
   "id": "78984621",
   "metadata": {},
   "source": [
    "---\n",
    "\n",
    "들여쓰기 문법입니다. \n",
    "> 첫번째 들여쓰기\n",
    "\n",
    "> 두번째 들여쓰기\n",
    "\n",
    ">> 세번째 들여쓰기"
   ]
  },
  {
   "cell_type": "markdown",
   "id": "d57d6628",
   "metadata": {},
   "source": [
    "---\n",
    "\n",
    "과일의 종류\n",
    "1. 사과\n",
    "2. 배\n",
    "3. 포도 \n",
    "앞에 숫자 e.g. 1. 를 사용하면 순서 있는 리스트가 됨 \n",
    "\n",
    "좋아하는 색상(순서 없는 리스트)\n",
    "+ 빨강\n",
    "* 노랑\n",
    "- 파랑\n",
    "\n",
    "지역\n",
    "- 서울 \n",
    "    - 강남구\n",
    "    - 강북구\n",
    "    - 강서구\n",
    "    - 강동구\n",
    "    \n",
    "- 경기\n",
    "    - 의정부\n",
    "    - 포천\n",
    "    \n"
   ]
  },
  {
   "cell_type": "markdown",
   "id": "8f2c7aa9",
   "metadata": {},
   "source": [
    "링크 거는 법\n",
    "\n",
    "[네이버](http://naver.com)\n"
   ]
  },
  {
   "cell_type": "markdown",
   "id": "c28640a9",
   "metadata": {},
   "source": [
    "이것은 *이탤릭체 입니다.\n",
    "\n",
    "이것은 *이탤릭체* 입니다.\n",
    "\n",
    "이것은 **볼드체** 입니다.\n",
    "\n",
    "이것은 ~관통선~ 입니다."
   ]
  },
  {
   "cell_type": "markdown",
   "id": "acc1bda6",
   "metadata": {},
   "source": [
    "이미지 불러오기 \n",
    "\n",
    "#--> 이미지가 없을 때 텍스트 \n",
    "![이미지](images/images.winter) \n",
    "\n",
    "같은 폴더 \n",
    "\n",
    "![이미지](C:\\seonmin\\pythonwork\\basic\\images\\winter.jpg)\n",
    "\n",
    "다른 폴더\n",
    "\n",
    "\n",
    "\n"
   ]
  },
  {
   "cell_type": "markdown",
   "id": "3baea49b",
   "metadata": {},
   "source": [
    "파이썬으로 무엇을 할 수 있는가? \n",
    "\n",
    "- 개발 e.g. gui 프로그래밍,c/c++ 와의 결합 ,웹 프로그래밍\n",
    "- 수치 연산 프로그래밍, 데이터베이스 프로그래밍, 데이터 분석, 사물 인터넷 "
   ]
  }
 ],
 "metadata": {
  "kernelspec": {
   "display_name": "Python 3",
   "language": "python",
   "name": "python3"
  },
  "language_info": {
   "codemirror_mode": {
    "name": "ipython",
    "version": 3
   },
   "file_extension": ".py",
   "mimetype": "text/x-python",
   "name": "python",
   "nbconvert_exporter": "python",
   "pygments_lexer": "ipython3",
   "version": "3.8.8"
  }
 },
 "nbformat": 4,
 "nbformat_minor": 5
}
