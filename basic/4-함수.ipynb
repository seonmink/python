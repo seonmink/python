{
 "cells": [
  {
   "cell_type": "markdown",
   "id": "78866a48",
   "metadata": {},
   "source": [
    "## 1. 함수의 정의 \n",
    "\n",
    "+ 일정한 작업을 수행하는 코드 블럭 \n",
    "+ 함수들을 모아놓은 것을 API라 함\n",
    "\n",
    "## 2. 함수의 장점\n",
    "\n",
    "- 반복적인 코드를 없애주어 전체 코드의 길이를 짧게 만들어 준다(재사용)\n",
    "- 프로그램의 유지보수를 쉽게 만들어 준다.\n",
    "\n",
    "## 3. 함수의 구현\n",
    "    \n",
    "    def 함수명(...) :\n",
    "        코드 정의\n",
    "        ...\n",
    "        return...]\n",
    "        \n",
    "     \n",
    "## 4. 함수의 호출 방식 \n",
    "\n",
    "    1). 인자가(인수) 없는 방식  \n",
    "    2). 인자가(인수) 있는 방식\n",
    "    3). 반환값이 있는 경우 \n",
    "        - return의 두 가지 기능\n",
    "            *. 값을 반환: 값은 1개만 반환\n",
    "            *. 함수의 강제 종료 기능\n",
    "            \n",
    "## 함수 설계\n",
    "  \n",
    "  \n",
    "- 단일 기능\n",
    "- 재사용성\n",
    "\n",
    "\n",
    "## 함수의 종류\n",
    "\n",
    "- 사용자 정의 함수U=(User define function)\n",
    "- 내장 함수 (built-in function) -> 파이썬에서 기본으로 사용하는 함수\n",
    "- 외장함수 (external fuction) --> \n",
    "  \n",
    "  \n",
    "  \n",
    "  \n",
    "  "
   ]
  },
  {
   "cell_type": "code",
   "execution_count": 5,
   "id": "d0cfd45c",
   "metadata": {},
   "outputs": [],
   "source": [
    "def line(): #파일로 저장해두면 파이썬 이외에 다른 프로그램에서도 사용 가능. \n",
    "    print('******************************************') # interrupt 방해, 내가 작업을 하던중에 어떤것을 해달라고 하는 것 "
   ]
  },
  {
   "cell_type": "code",
   "execution_count": 2,
   "id": "ff85ead2",
   "metadata": {
    "scrolled": true
   },
   "outputs": [
    {
     "name": "stdout",
     "output_type": "stream",
     "text": [
      "******************************************\n",
      "            친구관리 프로그램             \n",
      "******************************************\n",
      "1. 리스트 출력\n",
      "2. 친구 추가\n",
      "3. 종료\n"
     ]
    }
   ],
   "source": [
    "print('******************************************')\n",
    "print('            친구관리 프로그램             ')\n",
    "print('******************************************')\n",
    "print('1. 리스트 출력')\n",
    "print('2. 친구 추가')\n",
    "print('3. 종료')"
   ]
  },
  {
   "cell_type": "code",
   "execution_count": 29,
   "id": "bb7ec459",
   "metadata": {},
   "outputs": [
    {
     "name": "stdout",
     "output_type": "stream",
     "text": [
      "******************************************\n",
      "            친구관리 프로그램             \n",
      "******************************************\n",
      "1. 리스트 출력\n",
      "2. 친구 추가\n",
      "3. 종료\n",
      "******************************************\n"
     ]
    }
   ],
   "source": [
    "line(30) # --> 함수 호출\n",
    "print('            친구관리 프로그램             ')\n",
    "line(40)\n",
    "print('1. 리스트 출력')\n",
    "print('2. 친구 추가')\n",
    "print('3. 종료')\n",
    "line(50)"
   ]
  },
  {
   "cell_type": "code",
   "execution_count": 30,
   "id": "c362a813",
   "metadata": {},
   "outputs": [],
   "source": [
    "def line(cnt): # cnt ==> ant 매개변수, 함수와 메인코드 사이에서 매개해주는 것\n",
    "    for i in range(cnt):\n",
    "        print('*',end='')\n",
    "    print()"
   ]
  },
  {
   "cell_type": "code",
   "execution_count": 31,
   "id": "a2af3962",
   "metadata": {},
   "outputs": [
    {
     "name": "stdout",
     "output_type": "stream",
     "text": [
      "******************************\n"
     ]
    }
   ],
   "source": [
    "line(30)"
   ]
  },
  {
   "cell_type": "code",
   "execution_count": 32,
   "id": "e87f2bf7",
   "metadata": {
    "scrolled": true
   },
   "outputs": [
    {
     "name": "stdout",
     "output_type": "stream",
     "text": [
      "******************************\n",
      "            친구관리 프로그램             \n",
      "****************************************\n",
      "1. 리스트 출력\n",
      "2. 친구 추가\n",
      "3. 종료\n",
      "**************************************************\n"
     ]
    }
   ],
   "source": [
    "line(30) # 30 --> 실인자, 실인수 (호출할때)\n",
    "print('            친구관리 프로그램             ')\n",
    "line(40)\n",
    "print('1. 리스트 출력')\n",
    "print('2. 친구 추가')\n",
    "print('3. 종료')\n",
    "line(50)"
   ]
  },
  {
   "cell_type": "code",
   "execution_count": 33,
   "id": "813efdb0",
   "metadata": {},
   "outputs": [],
   "source": [
    "def line(cnt,shape): # 매개변수 여러개도 가능하다.\n",
    "    for i in range(cnt):\n",
    "        print(shape,end='')\n",
    "    print()"
   ]
  },
  {
   "cell_type": "code",
   "execution_count": 34,
   "id": "41b1e16a",
   "metadata": {
    "scrolled": false
   },
   "outputs": [
    {
     "name": "stdout",
     "output_type": "stream",
     "text": [
      "------------------------------\n",
      "            친구관리 프로그램             \n",
      "========================================\n",
      "1. 리스트 출력\n",
      "2. 친구 추가\n",
      "3. 종료\n",
      "**************************************************\n"
     ]
    }
   ],
   "source": [
    "line(30,'-') # 30 --> 실인자, 실인수 (호출할때)\n",
    "print('            친구관리 프로그램             ')\n",
    "line(40,'=')\n",
    "print('1. 리스트 출력')\n",
    "print('2. 친구 추가')\n",
    "print('3. 종료')\n",
    "line(50,'*')"
   ]
  },
  {
   "cell_type": "code",
   "execution_count": 47,
   "id": "79cb7899",
   "metadata": {},
   "outputs": [],
   "source": [
    "def swap(num1,num2):\n",
    "    temp= num1\n",
    "    num1=num2\n",
    "    num2=temp\n",
    "    \n",
    "    "
   ]
  },
  {
   "cell_type": "code",
   "execution_count": 48,
   "id": "203e5909",
   "metadata": {},
   "outputs": [
    {
     "name": "stdout",
     "output_type": "stream",
     "text": [
      "두 수의 교환\n"
     ]
    }
   ],
   "source": [
    "num1, num2 = 10,5\n",
    "\n",
    "print('두 수의 교환') #swap \n",
    "swap(num1, num2)\n",
    "\n",
    "print('결과: ',)\n",
    "# num1 =num2\n",
    "# num2 = num1 --> 이래 짜면 안됨"
   ]
  },
  {
   "cell_type": "code",
   "execution_count": 49,
   "id": "18818a7c",
   "metadata": {},
   "outputs": [],
   "source": [
    "swap(num1,num2)"
   ]
  },
  {
   "cell_type": "code",
   "execution_count": 63,
   "id": "0eb9e055",
   "metadata": {},
   "outputs": [],
   "source": [
    "def swap(num1,num2):\n",
    "    temp= num1\n",
    "    num1=num2\n",
    "    num2=temp\n",
    "    #자동으로 packing\n",
    "    return num1,num2 # --> 주소 값 1개 "
   ]
  },
  {
   "cell_type": "code",
   "execution_count": 55,
   "id": "b693bb38",
   "metadata": {},
   "outputs": [
    {
     "name": "stdout",
     "output_type": "stream",
     "text": [
      "두 수의 교환\n",
      "5 10\n"
     ]
    }
   ],
   "source": [
    "num1, num2 = 10,5\n",
    "\n",
    "print('두 수의 교환') #swap \n",
    "n1,n2=swap(num1, num2)\n",
    "\n",
    "print(n1,n2)"
   ]
  },
  {
   "cell_type": "code",
   "execution_count": 60,
   "id": "16d64d0f",
   "metadata": {},
   "outputs": [
    {
     "name": "stdout",
     "output_type": "stream",
     "text": [
      "두 수의 교환\n"
     ]
    },
    {
     "ename": "TypeError",
     "evalue": "cannot unpack non-iterable NoneType object",
     "output_type": "error",
     "traceback": [
      "\u001b[1;31m---------------------------------------------------------------------------\u001b[0m",
      "\u001b[1;31mTypeError\u001b[0m                                 Traceback (most recent call last)",
      "\u001b[1;32m<ipython-input-60-6b4af32561cc>\u001b[0m in \u001b[0;36m<module>\u001b[1;34m\u001b[0m\n\u001b[0;32m      3\u001b[0m \u001b[0mprint\u001b[0m\u001b[1;33m(\u001b[0m\u001b[1;34m'두 수의 교환'\u001b[0m\u001b[1;33m)\u001b[0m \u001b[1;31m#swap\u001b[0m\u001b[1;33m\u001b[0m\u001b[1;33m\u001b[0m\u001b[0m\n\u001b[0;32m      4\u001b[0m \u001b[1;31m# print(swap(num1, num2))\u001b[0m\u001b[1;33m\u001b[0m\u001b[1;33m\u001b[0m\u001b[1;33m\u001b[0m\u001b[0m\n\u001b[1;32m----> 5\u001b[1;33m \u001b[0mn1\u001b[0m\u001b[1;33m,\u001b[0m\u001b[0mn2\u001b[0m\u001b[1;33m=\u001b[0m\u001b[0mswap\u001b[0m\u001b[1;33m(\u001b[0m\u001b[0mnum1\u001b[0m\u001b[1;33m,\u001b[0m \u001b[0mnum2\u001b[0m\u001b[1;33m)\u001b[0m \u001b[1;31m#--> unpacking\u001b[0m\u001b[1;33m\u001b[0m\u001b[1;33m\u001b[0m\u001b[0m\n\u001b[0m\u001b[0;32m      6\u001b[0m \u001b[0mprint\u001b[0m\u001b[1;33m(\u001b[0m\u001b[0mn1\u001b[0m\u001b[1;33m,\u001b[0m\u001b[0mn2\u001b[0m\u001b[1;33m)\u001b[0m\u001b[1;33m\u001b[0m\u001b[1;33m\u001b[0m\u001b[0m\n",
      "\u001b[1;31mTypeError\u001b[0m: cannot unpack non-iterable NoneType object"
     ]
    }
   ],
   "source": [
    "num1, num2 = 10,5\n",
    "\n",
    "print('두 수의 교환') #swap \n",
    "# print(swap(num1, num2))\n",
    "n1,n2=swap(num1, num2) #--> unpacking \n",
    "print(n1,n2)"
   ]
  },
  {
   "cell_type": "code",
   "execution_count": 59,
   "id": "89dd1ff3",
   "metadata": {},
   "outputs": [],
   "source": [
    "def swap(num1,num2):\n",
    "    temp= num1\n",
    "    num1=num2\n",
    "    return #--> 조건문 쓸때 많이 씀 중간에 끝낼때, 값 없이 쓸 수 있음\n",
    "\n",
    "    num2=temp\n",
    "    "
   ]
  },
  {
   "cell_type": "code",
   "execution_count": 64,
   "id": "802d7bc5",
   "metadata": {},
   "outputs": [
    {
     "name": "stdout",
     "output_type": "stream",
     "text": [
      "두 수의 교환\n",
      "(10, 5)\n"
     ]
    }
   ],
   "source": [
    "num1, num2 = 10,5\n",
    "\n",
    "print('두 수의 교환') #swap \n",
    "# # print(swap(num1, num2))\n",
    "# n1,n2=swap(num1, num2) #--> unpacking \n",
    "print(swap(n1,n2)) # 변수로 저장안할때 "
   ]
  },
  {
   "cell_type": "markdown",
   "id": "1e4fd194",
   "metadata": {},
   "source": [
    "---\n",
    "\n",
    "### 파이썬에서 함수를 지원하기 위한 문법 \n"
   ]
  },
  {
   "cell_type": "code",
   "execution_count": 76,
   "id": "e8807727",
   "metadata": {},
   "outputs": [
    {
     "name": "stdout",
     "output_type": "stream",
     "text": [
      "전국 대표\n",
      "손흥민 지역 대표\n",
      "전국 대표\n"
     ]
    }
   ],
   "source": [
    "##### 변수의 유효(생존) 범위 : 지역변수(함수 안에 있는 함수), 전역변수(특정한 코드블록에 포함되지 않음) \n",
    "\n",
    "# 변수가 처음 사용된 위치를 벗어나면 사라짐.  --> 지역변수(그 지역에서만 사용할 수 있다.) <-> 전역변수( 더 넓은 범위)\n",
    "\n",
    "player = '전국 대표' # 전역 변수 어디서든(해당 페이지) 사용할 수 있음. \n",
    "\n",
    "def funcSoccer():\n",
    "    name = '손흥민'\n",
    "    player = '지역 대표' #전역함수를 지역함수로 변경된것인가?  nope!! 같은 이름의 새로운 지역변수를 만들었을 뿐!!\n",
    "    print(name, player)\n",
    "    \n",
    "#############################################\n",
    "\n",
    "print(player)\n",
    "\n",
    "funcSoccer()\n",
    "# print(name)# error name은 함수 안에서만 사용가능한 것이기에 \n",
    "print(player)"
   ]
  },
  {
   "cell_type": "code",
   "execution_count": 80,
   "id": "8b3dfefc",
   "metadata": {},
   "outputs": [
    {
     "name": "stdout",
     "output_type": "stream",
     "text": [
      "전국 대표\n",
      "손흥민 지역 대표\n",
      "지역 대표\n"
     ]
    }
   ],
   "source": [
    "player = '전국 대표' # 전역 변수 어디서든(해당 페이지) 사용할 수 있음. \n",
    "# 전역 변수를 지역변수로 쓰고 싶다? 선언을 해야함. !! global\n",
    "def funcSoccer():\n",
    "    global player\n",
    "    name = '손흥민'\n",
    "    player = '지역 대표' \n",
    "    print(name, player)\n",
    "    \n",
    "#############################################\n",
    "\n",
    "print(player)\n",
    "\n",
    "funcSoccer()\n",
    "\n",
    "print(player)"
   ]
  },
  {
   "cell_type": "code",
   "execution_count": 75,
   "id": "939c4991",
   "metadata": {},
   "outputs": [
    {
     "data": {
      "text/plain": [
       "'전국 대표'"
      ]
     },
     "execution_count": 75,
     "metadata": {},
     "output_type": "execute_result"
    }
   ],
   "source": [
    "player"
   ]
  },
  {
   "cell_type": "code",
   "execution_count": 20,
   "id": "fb6af97b",
   "metadata": {},
   "outputs": [
    {
     "name": "stdout",
     "output_type": "stream",
     "text": [
      "**********\n",
      "**********\n",
      "이름이 뭐예요?\n",
      "안녕하세요! 서울에 사는 츄님.... 당신의 나이는 23입니다\n",
      "안녕하세요! 서울에 사는 츄님.... 당신의 나이는 23입니다\n"
     ]
    }
   ],
   "source": [
    "##### defualt 인수\n",
    "\n",
    "def line(cnt):\n",
    "    for i in range(cnt):\n",
    "        print('*',end='')\n",
    "    print()\n",
    "    \n",
    "########################################\n",
    "\n",
    "# line()  이렇게만 사용하면 안됨- 매개변수가 있게 정의 했으니 매개변수 입력\n",
    "# 근데 쓰고 싶다면?\n",
    "line(10)\n",
    "\n",
    "def line(cnt=10): #default 값을 미리 주면 됨.\n",
    "    for i in range(cnt):\n",
    "        print('*',end='')\n",
    "    print()\n",
    "\n",
    "line()\n",
    "\n",
    "######################################\n",
    "\n",
    "def hello1(name=None):\n",
    "    if name == None:\n",
    "        print('이름이 뭐예요?')\n",
    "        return #break --> 반복문에서만 사용 가능 \n",
    "              \n",
    "    print('안녕하세오우~~{}님'.format(name))\n",
    "    \n",
    "hello1()\n",
    "\n",
    "######################################\n",
    "\n",
    "def hello2(name, age,addr='서울'):#디폴트 인수는 반드시 맨 뒤에 써야 함 \n",
    "    print('안녕하세요! %s에 사는 %s님.... 당신의 나이는 %d입니다'%(addr, name, age))\n",
    "    \n",
    "hello2('츄',23)\n",
    "\n",
    "\n",
    "def hello2(name,age=23,addr='서울'):#디폴트 인수는 반드시 맨 뒤에 써야 함 \n",
    "    print('안녕하세요! %s에 사는 %s님.... 당신의 나이는 %d입니다'%(addr, name, age))\n",
    "    \n",
    "hello2('츄')\n",
    "    "
   ]
  },
  {
   "cell_type": "code",
   "execution_count": 36,
   "id": "78698a2e",
   "metadata": {},
   "outputs": [
    {
     "name": "stdout",
     "output_type": "stream",
     "text": [
      "츄 안녕하세요\n",
      "('츄', '윈터', '카리나') 안녕하세요\n",
      "[1, 2] [3, 4] [5, 6]\n",
      "[1, 2] [3, 4] [5, 6]\n",
      "43 165 츄\n",
      "43 165 츄\n",
      "{'blood': 'o', 'age': 23, 'addr': '대전'}\n"
     ]
    }
   ],
   "source": [
    "##### 가변 인수\n",
    "\n",
    "def greeting(name):\n",
    "    print(name,'안녕하세요')\n",
    "    \n",
    "################################\n",
    "\n",
    "greeting('츄')\n",
    "\n",
    "\n",
    "def greeting(*name):\n",
    "    print(name,'안녕하세요')\n",
    "    \n",
    "greeting('츄','윈터','카리나') #인자의 개수가 바뀔 수 있을 때 사용할 수 있는 매개변수는?\n",
    "# *args, 매개변수 앞에 별만 붙이면 됨, 인자의 개수를 모를때 \n",
    "# 자동 팩킹 됨 \n",
    "\n",
    "\n",
    "#  *의 기능 : 곱셈, 반복(문자와 숫자를 붙었을 경우), 매개변수(가변 인수,packing), 일반변수(unpacking)\n",
    "# ** 의 기능 : 거듭 제곱, 매개변수(가변인수, dict)\n",
    "#unpacking\n",
    "a,b,c =([1,2],[3,4],[5,6])\n",
    "print(a,b,c)\n",
    "# list와 tuple의 차이 tuple은 수정 불가 , 패킹의 여부 \n",
    "\n",
    "\n",
    "d =([1,2],[3,4],[5,6])\n",
    "print(*d) # 언패킬이 자동으로 됨\n",
    "\n",
    "##############################\n",
    "\n",
    "def info(weight, height,name):\n",
    "    print(weight,height,name)\n",
    "    \n",
    "info(43,165,'츄')\n",
    "\n",
    "# 매개변수 앞에 **이면 딕셔너리로 되기 때문에 키:값이 나오게 됨.\n",
    "def info(weight, height,name,**other): \n",
    "    print(weight,height,name)\n",
    "    print(other)\n",
    "    \n",
    "info(43,165,'츄',blood='o',age=23,addr='대전')\n",
    "\n"
   ]
  },
  {
   "cell_type": "markdown",
   "id": "1f1755c3",
   "metadata": {},
   "source": [
    "### Built-in Function\n"
   ]
  },
  {
   "cell_type": "code",
   "execution_count": 40,
   "id": "4c4ae087",
   "metadata": {},
   "outputs": [
    {
     "name": "stdout",
     "output_type": "stream",
     "text": [
      "True\n",
      "False\n",
      "False\n",
      "False\n",
      "True\n",
      "True\n",
      "True\n",
      "True\n"
     ]
    }
   ],
   "source": [
    "#------------------------------------------------------------------\n",
    "# all(), any(): and, or 연산자 처럼 처리할 수 있도록 만들어진 함수\n",
    "#------------------------------------------------------------------\n",
    "\n",
    "print(all([1,2,3,-1,-2]))\n",
    "print(all([1,2,3,0,-1,-2]))\n",
    "print(all([1,2,3,'',-1,-2]))\n",
    "print(all([1,2,3,None,-1,-2]))\n",
    "#any는 하나라도 포함되면 다 true\n",
    "print(any([1,2,3,-1,-2]))\n",
    "print(any([1,2,3,0,-1,-2]))\n",
    "print(any([1,2,3,'',-1,-2]))\n",
    "print(any([1,2,3,None,-1,-2]))"
   ]
  },
  {
   "cell_type": "code",
   "execution_count": 45,
   "id": "4c4c848f",
   "metadata": {},
   "outputs": [
    {
     "name": "stdout",
     "output_type": "stream",
     "text": [
      "100 츄\n",
      "101 올리비아혜\n",
      "102 윈터\n",
      "103 카리나\n",
      "104 슬기\n"
     ]
    }
   ],
   "source": [
    "#---------------------------------------------------------------------------------------\n",
    "# enumerate(iterator) --> 열거, 순서가 있는 자료형을 입력받아 인덱스 값을 포함해서 리턴\n",
    "#---------------------------------------------------------------------------------------\n",
    "# stert: 인덱스시작을 지정할 수 있음 \n",
    "for i, v in enumerate(['츄','올리비아혜','윈터','카리나','슬기'],start=100):\n",
    "    print(i,v)"
   ]
  },
  {
   "cell_type": "code",
   "execution_count": 63,
   "id": "be7dcc6a",
   "metadata": {},
   "outputs": [
    {
     "name": "stdout",
     "output_type": "stream",
     "text": [
      "3+4\n",
      "7\n",
      "7\n",
      "print('안녕하세요')\n",
      "안녕하세요\n"
     ]
    },
    {
     "data": {
      "text/plain": [
       "(2, 1)"
      ]
     },
     "execution_count": 63,
     "metadata": {},
     "output_type": "execute_result"
    }
   ],
   "source": [
    "#---------------------------------------------------------------------------------------\n",
    "# eval(expression): --> 표현식을 파이썬에서 실행 가능하게 만들어주는 역할\n",
    "#---------------------------------------------------------------------------------------\n",
    "# 코드식이 파이썬문법에 맞는지 알려주는 것 \n",
    "#이건 계산이 안됨 그럼 계산이 되게 하려면?\n",
    "print('3+4')\n",
    "a = '3+4' # 문자열은 인덱스가 있다. \n",
    "print(int(a[0])+int(a[-1]))\n",
    "\n",
    "print(eval(a)) # 문자 뿐만 아니라 숫자도 가능하다.\n",
    "\n",
    "b =\"print('안녕하세요')\"\n",
    "print(b)\n",
    "eval(b)\n",
    "\n",
    "#몫과 나머지를 함께 보여주는\n",
    "c= 'divmod(9,4)'\n",
    "eval(c)"
   ]
  },
  {
   "cell_type": "code",
   "execution_count": 65,
   "id": "a9ece19a",
   "metadata": {},
   "outputs": [
    {
     "name": "stdout",
     "output_type": "stream",
     "text": [
      "12\n",
      "[12, 22, 32, 42, 52]\n"
     ]
    }
   ],
   "source": [
    "#---------------------------------------------------------------------------------------\n",
    "# map(fubction,ilterator): 집합의 각 요소가 함수에 의해 수행된 결과를 묶어서 리턴\n",
    "#---------------------------------------------------------------------------------------\n",
    "#iterator --> 순서있는 자료형 \n",
    "\n",
    "def calc(x):\n",
    "    return x+2\n",
    "\n",
    "##################################################\n",
    "\n",
    "print(calc(10))\n",
    "\n",
    "data = [10,20,30,40,50]\n",
    "resualt = []\n",
    "resualt.append(calc(data[0]))\n",
    "resualt.append(calc(data[1]))\n",
    "resualt.append(calc(data[2]))\n",
    "resualt.append(calc(data[3]))\n",
    "resualt.append(calc(data[4]))\n",
    "print(resualt)\n"
   ]
  },
  {
   "cell_type": "code",
   "execution_count": 73,
   "id": "810d288a",
   "metadata": {},
   "outputs": [
    {
     "name": "stdout",
     "output_type": "stream",
     "text": [
      "[12, 22, 32, 42, 52]\n",
      "12 22 32 42 52 "
     ]
    },
    {
     "data": {
      "text/plain": [
       "[12, 22, 32, 42, 52]"
      ]
     },
     "execution_count": 73,
     "metadata": {},
     "output_type": "execute_result"
    }
   ],
   "source": [
    "data = [10,20,30,40,50]\n",
    "resualt = []\n",
    "for i in data:\n",
    "    resualt.append(calc(i))\n",
    "print(resualt)\n",
    "\n",
    "############################\n",
    "\n",
    "#map\n",
    "map(calc,data)#데이터를 하나씩 꺼내서 함수를 실행 후 메모리에 저장\n",
    "# 실행하면 결과값이 저장된 주소가 나옴 \n",
    "for i in map(calc,data):\n",
    "    print(i,end=' ')\n",
    "    \n",
    "\n",
    "list(map(calc,data))"
   ]
  },
  {
   "cell_type": "code",
   "execution_count": 81,
   "id": "1b95eacb",
   "metadata": {},
   "outputs": [
    {
     "name": "stdout",
     "output_type": "stream",
     "text": [
      "a1 b1 c1\n",
      "a2 b2 c2\n",
      "a3 b3 c3\n",
      "0 a1 b1 c1\n",
      "1 a2 b2 c2\n",
      "2 a3 b3 c3\n"
     ]
    }
   ],
   "source": [
    "#---------------------------------------------------------------------------------------\n",
    "# zip(ilterator): 동일한 갯수로 이루어진 자료형을 묶어주는 역할\n",
    "#---------------------------------------------------------------------------------------\n",
    "#iterator --> 순서있는 자료형\n",
    "# 같은 열을 묶어 주는\n",
    "a = ['a1','a2','a3']\n",
    "b = ['b1','b2','b3']\n",
    "c = ['c1','c2','c3']\n",
    "#주소만 나옴\n",
    "zip(a,b,c)\n",
    "list(zip(a,b,c))\n",
    "\n",
    "# ''''''\n",
    "# 0 a1 b1 c1\n",
    "# 1 a2 b2 c2\n",
    "# 2 a3 b3 c3\n",
    "# ''''''\n",
    "\n",
    "for (v1,v2,v3) in zip(a,b,c):\n",
    "    print(v1,v2,v3)\n",
    "\n",
    "for i,v in enumerate(zip(a,b,c)):\n",
    "    print(i,*v)"
   ]
  },
  {
   "cell_type": "markdown",
   "id": "adce6bf4",
   "metadata": {},
   "source": [
    "### External Function\n",
    "\n",
    "- import 모듈명 \n",
    "- C:\\Users\\Administrator\\anaconda3\\Lib\\site-packages"
   ]
  },
  {
   "cell_type": "code",
   "execution_count": 87,
   "id": "a8fde64f",
   "metadata": {},
   "outputs": [
    {
     "name": "stdout",
     "output_type": "stream",
     "text": [
      "['__breakpointhook__', '__displayhook__', '__doc__', '__excepthook__', '__interactivehook__', '__loader__', '__name__', '__package__', '__spec__', '__stderr__', '__stdin__', '__stdout__', '__unraisablehook__', '_base_executable', '_clear_type_cache', '_current_frames', '_debugmallocstats', '_enablelegacywindowsfsencoding', '_framework', '_getframe', '_git', '_home', '_xoptions', 'addaudithook', 'api_version', 'argv', 'audit', 'base_exec_prefix', 'base_prefix', 'breakpointhook', 'builtin_module_names', 'byteorder', 'call_tracing', 'callstats', 'copyright', 'displayhook', 'dllhandle', 'dont_write_bytecode', 'exc_info', 'excepthook', 'exec_prefix', 'executable', 'exit', 'flags', 'float_info', 'float_repr_style', 'get_asyncgen_hooks', 'get_coroutine_origin_tracking_depth', 'getallocatedblocks', 'getcheckinterval', 'getdefaultencoding', 'getfilesystemencodeerrors', 'getfilesystemencoding', 'getprofile', 'getrecursionlimit', 'getrefcount', 'getsizeof', 'getswitchinterval', 'gettrace', 'getwindowsversion', 'hash_info', 'hexversion', 'implementation', 'int_info', 'intern', 'is_finalizing', 'last_traceback', 'last_type', 'last_value', 'maxsize', 'maxunicode', 'meta_path', 'modules', 'path', 'path_hooks', 'path_importer_cache', 'platform', 'prefix', 'ps1', 'ps2', 'ps3', 'pycache_prefix', 'set_asyncgen_hooks', 'set_coroutine_origin_tracking_depth', 'setcheckinterval', 'setprofile', 'setrecursionlimit', 'setswitchinterval', 'settrace', 'stderr', 'stdin', 'stdout', 'thread_info', 'unraisablehook', 'version', 'version_info', 'warnoptions', 'winver']\n",
      "------------------------------------------------------\n",
      "['C:\\\\seonmin\\\\pythonwork\\\\basic', 'C:\\\\ProgramData\\\\Anaconda3\\\\python38.zip', 'C:\\\\ProgramData\\\\Anaconda3\\\\DLLs', 'C:\\\\ProgramData\\\\Anaconda3\\\\lib', 'C:\\\\ProgramData\\\\Anaconda3', '', 'C:\\\\ProgramData\\\\Anaconda3\\\\lib\\\\site-packages', 'C:\\\\ProgramData\\\\Anaconda3\\\\lib\\\\site-packages\\\\locket-0.2.1-py3.8.egg', 'C:\\\\ProgramData\\\\Anaconda3\\\\lib\\\\site-packages\\\\win32', 'C:\\\\ProgramData\\\\Anaconda3\\\\lib\\\\site-packages\\\\win32\\\\lib', 'C:\\\\ProgramData\\\\Anaconda3\\\\lib\\\\site-packages\\\\Pythonwin', 'C:\\\\ProgramData\\\\Anaconda3\\\\lib\\\\site-packages\\\\IPython\\\\extensions', 'C:\\\\Users\\\\Administrator\\\\.ipython']\n",
      "win32\n",
      "3.8.8 (default, Apr 13 2021, 15:08:03) [MSC v.1916 64 bit (AMD64)]\n"
     ]
    }
   ],
   "source": [
    "# 시스템, 환경설정에 관련된 함수 \n",
    "import sys \n",
    "print(dir(sys))\n",
    "#결과창에는 sys안에 있는 여러가지 함수, 변수들\n",
    "print('------------------------------------------------------')\n",
    "\n",
    "print(sys.path) # 미리 만들어져 있는 변수 / path에 걸려있는 경로를 의미 \n",
    "# 언제든지 불러다 쓸 수 있는\n",
    "\n",
    "print(sys.platform)\n",
    "print(sys.version)# 파이썬 버젼 확인"
   ]
  },
  {
   "cell_type": "code",
   "execution_count": 89,
   "id": "d28d974c",
   "metadata": {},
   "outputs": [
    {
     "name": "stdout",
     "output_type": "stream",
     "text": [
      "['DirEntry', 'F_OK', 'MutableMapping', 'O_APPEND', 'O_BINARY', 'O_CREAT', 'O_EXCL', 'O_NOINHERIT', 'O_RANDOM', 'O_RDONLY', 'O_RDWR', 'O_SEQUENTIAL', 'O_SHORT_LIVED', 'O_TEMPORARY', 'O_TEXT', 'O_TRUNC', 'O_WRONLY', 'P_DETACH', 'P_NOWAIT', 'P_NOWAITO', 'P_OVERLAY', 'P_WAIT', 'PathLike', 'R_OK', 'SEEK_CUR', 'SEEK_END', 'SEEK_SET', 'TMP_MAX', 'W_OK', 'X_OK', '_AddedDllDirectory', '_Environ', '__all__', '__builtins__', '__cached__', '__doc__', '__file__', '__loader__', '__name__', '__package__', '__spec__', '_check_methods', '_execvpe', '_exists', '_exit', '_fspath', '_get_exports_list', '_putenv', '_unsetenv', '_wrap_close', 'abc', 'abort', 'access', 'add_dll_directory', 'altsep', 'chdir', 'chmod', 'close', 'closerange', 'cpu_count', 'curdir', 'defpath', 'device_encoding', 'devnull', 'dup', 'dup2', 'environ', 'error', 'execl', 'execle', 'execlp', 'execlpe', 'execv', 'execve', 'execvp', 'execvpe', 'extsep', 'fdopen', 'fsdecode', 'fsencode', 'fspath', 'fstat', 'fsync', 'ftruncate', 'get_exec_path', 'get_handle_inheritable', 'get_inheritable', 'get_terminal_size', 'getcwd', 'getcwdb', 'getenv', 'getlogin', 'getpid', 'getppid', 'isatty', 'kill', 'linesep', 'link', 'listdir', 'lseek', 'lstat', 'makedirs', 'mkdir', 'name', 'open', 'pardir', 'path', 'pathsep', 'pipe', 'popen', 'putenv', 'read', 'readlink', 'remove', 'removedirs', 'rename', 'renames', 'replace', 'rmdir', 'scandir', 'sep', 'set_handle_inheritable', 'set_inheritable', 'spawnl', 'spawnle', 'spawnv', 'spawnve', 'st', 'startfile', 'stat', 'stat_result', 'statvfs_result', 'strerror', 'supports_bytes_environ', 'supports_dir_fd', 'supports_effective_ids', 'supports_fd', 'supports_follow_symlinks', 'symlink', 'sys', 'system', 'terminal_size', 'times', 'times_result', 'truncate', 'umask', 'uname_result', 'unlink', 'urandom', 'utime', 'waitpid', 'walk', 'write']\n",
      "-----------------------------------------------\n",
      "C:\\seonmin\\pythonwork\\basic\n"
     ]
    }
   ],
   "source": [
    "import os \n",
    "\n",
    "print(dir(os))\n",
    "\n",
    "print('-----------------------------------------------')\n",
    "print(os.getcwd()) # 내가 작업하고 있는 위치 "
   ]
  },
  {
   "cell_type": "code",
   "execution_count": 101,
   "id": "ad655407",
   "metadata": {},
   "outputs": [
    {
     "name": "stdout",
     "output_type": "stream",
     "text": [
      "['__builtins__', '__cached__', '__doc__', '__file__', '__loader__', '__name__', '__package__', '__spec__', 'company', 'info', 'sum']\n",
      "----------------------------------------------------\n",
      "300\n",
      "키:  173\n",
      "몸무게:  73\n",
      "기타:  {'edu': '대학원 졸', 'age': 30, 'addr': '서울'}\n",
      "None\n",
      "회사명:  파이썬 주식회사\n"
     ]
    }
   ],
   "source": [
    "# 직접 모듈 만들기 \n",
    "import mymodule\n",
    "#메모장에 코드 저장(현재 쥬피터와 같은 위치에 저장)\n",
    "print(dir(mymodule))#내가 만든 모듈 확인하기 \n",
    "print('----------------------------------------------------')\n",
    "print(mymodule.sum(100,200))\n",
    "print(mymodule.info(73,173,edu='대학원 졸',age=30,addr='서울'))\n",
    "# ->  none 이 나온 이유는 이미 print를 모듈안에서 해놨기 때문에\n",
    "#  --> 리턴값을 설정하지 않았기 때문에 print를 해놓으면 none이 나옴 \n",
    "# 그래서 print없이 그냥 쓰면 됨.\n",
    "print('회사명: ',mymodule.company)"
   ]
  },
  {
   "cell_type": "code",
   "execution_count": 102,
   "id": "513755d4",
   "metadata": {},
   "outputs": [
    {
     "name": "stdout",
     "output_type": "stream",
     "text": [
      "['__builtins__', '__cached__', '__doc__', '__file__', '__loader__', '__name__', '__package__', '__spec__', 'company', 'info', 'sum']\n",
      "----------------------------------------------------\n",
      "300\n",
      "키:  173\n",
      "몸무게:  73\n",
      "기타:  {'edu': '대학원 졸', 'age': 30, 'addr': '서울'}\n",
      "회사명:  파이썬 주식회사\n"
     ]
    }
   ],
   "source": [
    "# 직접 모듈 만들기 \n",
    "import mymodule\n",
    "#메모장에 코드 저장(현재 쥬피터와 같은 위치에 저장)\n",
    "print(dir(mymodule))#내가 만든 모듈 확인하기 \n",
    "print('----------------------------------------------------')\n",
    "print(mymodule.sum(100,200))\n",
    "mymodule.info(73,173,edu='대학원 졸',age=30,addr='서울')\n",
    "# ->  none 이 나온 이유는 이미 print를 모듈안에서 해놨기 때문에\n",
    "#  --> 리턴값을 설정하지 않았기 때문에 print를 해놓으면 none이 나옴 \n",
    "# 그래서 print없이 그냥 쓰면 됨.\n",
    "print('회사명: ',mymodule.company)"
   ]
  },
  {
   "cell_type": "code",
   "execution_count": 132,
   "id": "63f29e3b",
   "metadata": {},
   "outputs": [
    {
     "name": "stdout",
     "output_type": "stream",
     "text": [
      "2021-09-16 ,  2021 ,  9 ,  16\n",
      "-------------------------------------------------------\n",
      "2021-09-16 17:36:46.377923\n",
      "-------------------------------------------------------\n",
      "-1 day, 0:00:00\n",
      "어제 :2021-09-15\n",
      "8시간 전은? 2021-09-16 09:36:46.377923\n",
      "<class 'str'>\n",
      "2021-09-09 17^36^46\n",
      "---------------------------------------------------------\n",
      "<class 'str'>\n",
      "<class 'datetime.datetime'>\n",
      "2021-05-05 11:56:57\n"
     ]
    }
   ],
   "source": [
    "# 시간과 날짜에 관한 외장함수 \n",
    "import datetime\n",
    "\n",
    "# 현재날짜 \n",
    "today = datetime.date.today()\n",
    "print(today, ', ', today.year,', ', today.month,', ', today.day)\n",
    "\n",
    "print('-------------------------------------------------------')\n",
    "\n",
    "#현재시간\n",
    "ctime=datetime.datetime.today()\n",
    "print(ctime)\n",
    "\n",
    "print('-------------------------------------------------------')\n",
    "\n",
    "#날짜와 시간을 계산\n",
    "# 특정 날짜에서 더한다거나 뺀다는 것 \n",
    "mydays=datetime.timedelta(days=-1)\n",
    "print(mydays)\n",
    "print('어제 :{}'.format(today + mydays))\n",
    "\n",
    "myhours = datetime.timedelta(hours=-8)\n",
    "print('8시간 전은? {}'.format(ctime+myhours))\n",
    "\n",
    "#날짜와 시간의 형식을 바꿔줄 수 있는 형식\n",
    "today.strftime('%m/%d/%Y')\n",
    "\n",
    "print(type(today.strftime('%m/%d/%Y')))\n",
    "print(ctime.strftime('%Y-%m-%m %H^%M^%S'))\n",
    "\n",
    "print('---------------------------------------------------------')\n",
    "\n",
    "#날짜의 형식 변환 \n",
    "#날짜를 문자열로 : strftime(),문자열을 날짜로 : strptime()\n",
    "\n",
    "str1 = '2021-5-5 11:56:57'\n",
    "print(type(str1))\n",
    "\n",
    "d1=datetime.datetime.strptime(str1, '%Y-%m-%d %H:%M:%S')\n",
    "print(type(d1))\n",
    "print(d1)"
   ]
  },
  {
   "cell_type": "markdown",
   "id": "97c7a47c",
   "metadata": {},
   "source": [
    "---\n",
    "\n",
    "### 파일 처리\n"
   ]
  },
  {
   "cell_type": "markdown",
   "id": "97dca150",
   "metadata": {},
   "source": [
    "- 출력 output \n",
    "    print() --> 모니터(콘솔)\n",
    "                표준 출력장치\n",
    "- 입력 input\n",
    "    input() --> 키보드\n",
    "                표준입력장치\n",
    "              \n",
    "- 파일로 부터 입력, 파일 불러오기\n",
    "\n",
    "1. I.O\n",
    "2. Data persistence\n",
    "- 사용 함수 \n",
    "    - open(파일명(경로포함),모드) 파이썬에서 제공하는 기본 인자 \n",
    "        - 모드 :r(읽기 전용, 수정불가,기본값), w, a, rb, wb, ab\n",
    "    - close()\n",
    "    - 읽어 올때 : readline():한줄씩, readlines(): 한번에 모든 줄,리스트로, read(): 전체 데이터 한번에 읽기,파일 내용 전체를 문자열로 돌려줌\n",
    "    - 저장할 때 : write()\n",
    "    \n",
    " * 보조기억 장치에 있는 파일을 주기억장치 메모리에 로드 하는 것 --> open"
   ]
  },
  {
   "cell_type": "code",
   "execution_count": 17,
   "id": "8d41c916",
   "metadata": {},
   "outputs": [
    {
     "name": "stdout",
     "output_type": "stream",
     "text": [
      "<_io.TextIOWrapper name='mymodule.py' mode='r' encoding='cp949'>\n",
      "def sum(num1,num2):\n",
      "\n",
      "        hap = num1 + num2\n",
      "\n",
      "        return hap\n",
      "\n",
      "        \n",
      "\n",
      "def info(weight, height, **other):\n",
      "\n",
      "          print('키: ',height)\n",
      "\n",
      "          print('몸무게: ',weight)\n",
      "\n",
      "          print('기타: ', other)\n",
      "\n",
      "          \n",
      "\n",
      "company = '파이썬 주식회사'\n",
      "------------------------------------\n"
     ]
    }
   ],
   "source": [
    "f=open('mymodule.py','r')\n",
    "print(f)\n",
    "\n",
    "# print(f.readline())\n",
    "# print(f.readline())\n",
    "# print(f.readline())\n",
    "# print(f.readline())\n",
    "# print(f.readline())\n",
    "# print(f.readline())\n",
    "\n",
    "\n",
    "while True:\n",
    "    line = f.readline()\n",
    "#     값이 없을 때 끝내라 \n",
    "#     if line == '':\n",
    "    if not line: #\n",
    "        break\n",
    "        \n",
    "    else:\n",
    "        print(line)\n",
    "# 쓸데 없는 메모리를 제거하기 위해 \n",
    "f.close()\n",
    "    \n",
    "#ASSII --> unicode(표준이 아님) \n",
    "# 1byte + 1byte\n",
    "# cp949 --> 한글 표준 코드 \n",
    "\n",
    "print('------------------------------------')"
   ]
  },
  {
   "cell_type": "code",
   "execution_count": 32,
   "id": "44077ea9",
   "metadata": {},
   "outputs": [
    {
     "name": "stdout",
     "output_type": "stream",
     "text": [
      "abcd \n",
      "efgh\n",
      "seonmkim\n",
      "1234\n",
      "5678\n",
      "에스파는 \n",
      "나야나\n",
      "둘이될수없어"
     ]
    }
   ],
   "source": [
    "# f = open('C:/seonmin/pythonwork/basic/data/filetest1.txt','r')\n",
    "f = open('data/filetest1.txt','r')\n",
    "\n",
    "while True:\n",
    "    line = f.readline()\n",
    "#     값이 없을 때 끝내라 \n",
    "#     if line == '':\n",
    "    if not line: #\n",
    "        break\n",
    "        \n",
    "    else:\n",
    "        print(line,end='')#줄바꿈 삭제\n",
    "f.close()"
   ]
  },
  {
   "cell_type": "code",
   "execution_count": 31,
   "id": "cfddedef",
   "metadata": {},
   "outputs": [
    {
     "name": "stdout",
     "output_type": "stream",
     "text": [
      "['abcd \\n', 'efgh\\n', 'seonmkim\\n', '1234\\n', '5678\\n', '에스파는 \\n', '나야나\\n', '둘이될수없어']\n"
     ]
    }
   ],
   "source": [
    "f = open('data/filetest1.txt','r')\n",
    "lines=f.readlines()\n",
    "print(lines)\n",
    "f.close()"
   ]
  },
  {
   "cell_type": "code",
   "execution_count": 34,
   "id": "5202ae59",
   "metadata": {},
   "outputs": [
    {
     "name": "stdout",
     "output_type": "stream",
     "text": [
      "abcd \n",
      "efgh\n",
      "seonmkim\n",
      "1234\n",
      "5678\n",
      "에스파는 \n",
      "나야나\n",
      "둘이될수없어\n",
      "<class 'str'>\n"
     ]
    }
   ],
   "source": [
    "f = open('data/filetest1.txt','r')\n",
    "data= f.read()\n",
    "print(data)\n",
    "print(type(data))\n",
    "f.close()"
   ]
  },
  {
   "cell_type": "code",
   "execution_count": 51,
   "id": "52ad68be",
   "metadata": {},
   "outputs": [
    {
     "name": "stdout",
     "output_type": "stream",
     "text": [
      " 1: abcd \n",
      "  2: efgh\n",
      "  3: seonmkim\n",
      "  4: 1234\n",
      "  5: 5678\n",
      "  6: 에스파는 \n",
      "  7: 나야나\n",
      "  8: 둘이될수없어 "
     ]
    }
   ],
   "source": [
    "a = 0\n",
    "f = open('data/filetest1.txt','r')\n",
    "while True:\n",
    "    line = f.readline()\n",
    "#     값이 없을 때 끝내라 \n",
    "#     if line == '':\n",
    "    if not line: #\n",
    "        break\n",
    "        \n",
    "    else:\n",
    "        a+= 1\n",
    "        print(f' {a}: {line}', end=' ')"
   ]
  },
  {
   "cell_type": "code",
   "execution_count": 43,
   "id": "cd175429",
   "metadata": {},
   "outputs": [
    {
     "name": "stdout",
     "output_type": "stream",
     "text": [
      "1 : abcd \n",
      "2 : efgh\n",
      "3 : seonmkim\n",
      "4 : 1234\n",
      "5 : 5678\n",
      "6 : 에스파는 \n",
      "7 : 나야나\n",
      "8 : 둘이될수없어\n",
      "---------------------------------------\n",
      "1 : abcd \n",
      "2 : efgh\n",
      "3 : seonmkim\n",
      "4 : 1234\n",
      "5 : 5678\n",
      "6 : 에스파는 \n",
      "7 : 나야나\n",
      "8 : 둘이될수없어\n"
     ]
    }
   ],
   "source": [
    "f = open('data/filetest1.txt','r')\n",
    "data= f.read()\n",
    "sdata = data.split('\\n')\n",
    "cnt =1 \n",
    "\n",
    "for line in sdata:\n",
    "    print(cnt,':',line)\n",
    "    cnt +=1\n",
    "\n",
    "print('---------------------------------------')\n",
    "\n",
    "for idx, line in enumerate(sdata):\n",
    "    print(idx +1,':',line)\n",
    "    \n",
    "f.close()"
   ]
  },
  {
   "cell_type": "code",
   "execution_count": 55,
   "id": "165cde2d",
   "metadata": {},
   "outputs": [
    {
     "name": "stdout",
     "output_type": "stream",
     "text": [
      "0 : abcd \n",
      "1 : efgh\n",
      "2 : seonmkim\n",
      "3 : 1234\n",
      "4 : 5678\n",
      "5 : 에스파는 \n",
      "6 : 나야나\n",
      "7 : 둘이될수없어"
     ]
    }
   ],
   "source": [
    "f = open('data/filetest1.txt','r')\n",
    "data= f.readlines()\n",
    "for i,v in enumerate(data):\n",
    "    print(i,':',v,end='')"
   ]
  },
  {
   "cell_type": "code",
   "execution_count": 60,
   "id": "813e83f4",
   "metadata": {},
   "outputs": [],
   "source": [
    "# 파일 저장\n",
    "f = open('data/filetest2.txt','w') #'w' --> 있으면 불러오고 없으면 새로 만들어 줌\n",
    "f.write('이름: 김지우')\n",
    "f.write('전화: 010-1111-1111')\n",
    "f.write('주소: 서울시 강남구\\n')\n",
    "\n",
    "f.write('이름: 올리비아 혜')\n",
    "f.write('전화: 010-2222-2222')\n",
    "f.write('주소: 서울시 강북구\\n')\n",
    "\n",
    "f.close()\n"
   ]
  },
  {
   "cell_type": "code",
   "execution_count": 59,
   "id": "c6fbeedc",
   "metadata": {},
   "outputs": [],
   "source": [
    "f = open('data/filetest2.txt','w') \n",
    "f.write('이름: 윈터')\n",
    "f.write('전화: 010-3333-3333')\n",
    "f.write('주소: 서울시 동작구\\n')\n",
    "\n",
    "\n",
    "f.close()\n",
    "#---> 이러면 기존 데이터에 덮어 쓰기 기존 데이터 삭제됨."
   ]
  },
  {
   "cell_type": "code",
   "execution_count": 62,
   "id": "4dc1ae34",
   "metadata": {},
   "outputs": [
    {
     "data": {
      "text/plain": [
       "12"
      ]
     },
     "execution_count": 62,
     "metadata": {},
     "output_type": "execute_result"
    }
   ],
   "source": [
    "f = open('data/filetest2.txt','a') # 'a'를 하면 추가됨\n",
    "f.write('이름: 윈터')\n",
    "f.write('전화: 010-3333-3333')\n",
    "f.write('주소: 서울시 동작구\\n')"
   ]
  },
  {
   "cell_type": "code",
   "execution_count": 64,
   "id": "daeb3f7e",
   "metadata": {},
   "outputs": [],
   "source": [
    "nums = [11,21,31,41,51,61,71,81,91]\n",
    "f= open('data/filetest3.txt','w')\n",
    "f.write(str(nums))# 반드시 문자열이여야 한다.\n",
    "f.close()"
   ]
  },
  {
   "cell_type": "code",
   "execution_count": 72,
   "id": "5b1d9ac7",
   "metadata": {},
   "outputs": [],
   "source": [
    "#### csv형식으로 저장 \n",
    "f= open('data/filetest3.txt','w')\n",
    "\n",
    "for i in range(len(nums)):\n",
    "    #nums의 갯수만큼 반복\n",
    "    f.write(str(nums[i])+ ', ')\n",
    "    \n",
    "\n",
    "f.close()"
   ]
  },
  {
   "cell_type": "code",
   "execution_count": 73,
   "id": "e62166e7",
   "metadata": {},
   "outputs": [],
   "source": [
    "#### csv형식으로 저장 -마지막 데이터는 , 안찍게\n",
    "f= open('data/filetest3.txt','w')\n",
    "cnt =len(nums)\n",
    "for i in range(cnt):\n",
    "    #nums의 갯수만큼 반복\n",
    "    if i < cnt -1:\n",
    "        f.write(str(nums[i])+ ', ')\n",
    "    else:\n",
    "        f.write(str(nums[i]))\n",
    "        \n",
    "    \n",
    "\n",
    "f.close()"
   ]
  },
  {
   "cell_type": "code",
   "execution_count": 74,
   "id": "7afedc59",
   "metadata": {},
   "outputs": [],
   "source": [
    "f= open('data/filetest3.txt','w')\n",
    "f.write(','.join([str(i) for i in nums]))\n",
    "f.close()"
   ]
  },
  {
   "cell_type": "code",
   "execution_count": 75,
   "id": "3a57362b",
   "metadata": {},
   "outputs": [
    {
     "name": "stdout",
     "output_type": "stream",
     "text": [
      "['1-markdown.ipynb', '2-변수와 자료형.ipynb', '3-제어문.ipynb', '4-함수.ipynb', 'data', 'images', 'mymodule.py', 'practice.ipynb', 'test.ipynb', '__pycache__']\n"
     ]
    }
   ],
   "source": [
    "#### 동시에 여러개의 파일을 읽어오는 방법\n",
    "\n",
    "import glob\n",
    "files=glob.glob('*')#'*' 현재위치에 있는 모든것을 다 가져오기 폴더부터 시작해서\n",
    "print(files)"
   ]
  },
  {
   "cell_type": "code",
   "execution_count": 76,
   "id": "fdeed96f",
   "metadata": {},
   "outputs": [
    {
     "name": "stdout",
     "output_type": "stream",
     "text": [
      "['1-markdown.ipynb', '2-변수와 자료형.ipynb', '3-제어문.ipynb', '4-함수.ipynb', 'mymodule.py', 'practice.ipynb', 'test.ipynb']\n"
     ]
    }
   ],
   "source": [
    "\n",
    "import glob\n",
    "files=glob.glob('*.*')#'*.*' 폴더 빼고 파일만 가져오겠다\n",
    "print(files)"
   ]
  },
  {
   "cell_type": "code",
   "execution_count": 77,
   "id": "71ab14d6",
   "metadata": {},
   "outputs": [
    {
     "name": "stdout",
     "output_type": "stream",
     "text": [
      "['1-markdown.ipynb', '2-변수와 자료형.ipynb', '3-제어문.ipynb', '4-함수.ipynb', 'practice.ipynb', 'test.ipynb']\n"
     ]
    }
   ],
   "source": [
    "#지정 파일 가져오기  # 단!! 파일들 이름만 가져오는것임\n",
    "import glob\n",
    "files = glob.glob('*.ipynb')\n",
    "print(files)"
   ]
  },
  {
   "cell_type": "code",
   "execution_count": null,
   "id": "c0bde1a3",
   "metadata": {},
   "outputs": [],
   "source": []
  }
 ],
 "metadata": {
  "kernelspec": {
   "display_name": "Python 3",
   "language": "python",
   "name": "python3"
  },
  "language_info": {
   "codemirror_mode": {
    "name": "ipython",
    "version": 3
   },
   "file_extension": ".py",
   "mimetype": "text/x-python",
   "name": "python",
   "nbconvert_exporter": "python",
   "pygments_lexer": "ipython3",
   "version": "3.8.8"
  }
 },
 "nbformat": 4,
 "nbformat_minor": 5
}
