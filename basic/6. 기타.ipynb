{
 "cells": [
  {
   "cell_type": "markdown",
   "id": "42e90b78",
   "metadata": {},
   "source": [
    "# 1. 모듈"
   ]
  },
  {
   "cell_type": "markdown",
   "id": "189b10be",
   "metadata": {},
   "source": [
    "### (1). 정의\n",
    "\n",
    "- 비슷하거나 관련된 일을 하는 함수, 클레스 상수값을 모아서 하나의 파일에 저장하고 추후에 재사용하기 위란 목적\n",
    "- 상수, 함스,클레스 들을 모아 놓은 파일 : .py\n",
    "\n",
    "\n",
    "### (2). 종류\n",
    "\n",
    "- 표준 모듈(별도 설치 없이 사용 가능)\n",
    "- 사용자 정의 모듈\n",
    "- 서드 파티 모듈(별도로 다운을 받아야 함, 회사같은 곳에서 제공하는\n",
    "\n",
    "\n",
    "### (3). 참조\n",
    "\n",
    "- 같은 경로에 모듈 갖다 놓기\n",
    "- 기존 모튤 경로에 추가하는 방법 : 주로 아나콘다의 경우에는 lib/site-packages에 저장되어 있음 --> 별로 권장하지는 않음.\n",
    "- 가장 권장 --> sys 모듈이용해서 path 경로에 추가 \n",
    "    -sys.path.append('경로')\n",
    "    \n",
    "### (4) 선언 방법\n",
    "\n",
    "+ import 모듈명\n",
    "+ import 모듈명 as 별칭\n",
    "+ from 모듈명 import 상수, 함수, 클래스(모듈 이름을 생략할 수 있음)\n",
    "+ from 모듈명 import * (모듈에 들어 있는게 많을 경우, 모든 것을 메모리에 올려 놓음)\n",
    "+ from 모듈명 import 이름 as 별칭 \n",
    "\n",
    "### (5) 패키지\n",
    "- 여러 모듈들을 모아 놓은 폴더"
   ]
  },
  {
   "cell_type": "code",
   "execution_count": 24,
   "id": "ff45d72a",
   "metadata": {},
   "outputs": [],
   "source": [
    "# 모듈 시작 위치를 설정하는 것!!!!!!!!!!!!!!!!!!!!\n",
    "import sys\n",
    "sys.path.append('C:/mylib')"
   ]
  },
  {
   "cell_type": "code",
   "execution_count": 2,
   "id": "e0ee0960",
   "metadata": {
    "scrolled": true
   },
   "outputs": [
    {
     "ename": "ModuleNotFoundError",
     "evalue": "No module named 'mymodule2'",
     "output_type": "error",
     "traceback": [
      "\u001b[1;31m---------------------------------------------------------------------------\u001b[0m",
      "\u001b[1;31mModuleNotFoundError\u001b[0m                       Traceback (most recent call last)",
      "\u001b[1;32m<ipython-input-2-027a25d48b3b>\u001b[0m in \u001b[0;36m<module>\u001b[1;34m\u001b[0m\n\u001b[1;32m----> 1\u001b[1;33m \u001b[1;32mimport\u001b[0m \u001b[0mmymodule2\u001b[0m\u001b[1;33m\u001b[0m\u001b[1;33m\u001b[0m\u001b[0m\n\u001b[0m",
      "\u001b[1;31mModuleNotFoundError\u001b[0m: No module named 'mymodule2'"
     ]
    }
   ],
   "source": [
    "import mymodule2 # 같은 위치에 없기에..\n"
   ]
  },
  {
   "cell_type": "code",
   "execution_count": 3,
   "id": "1f42b8fa",
   "metadata": {},
   "outputs": [],
   "source": [
    "import mymodule # 내 위치에서 만들어 놓은게 있기 때문"
   ]
  },
  {
   "cell_type": "code",
   "execution_count": 18,
   "id": "776d3d91",
   "metadata": {},
   "outputs": [
    {
     "name": "stdout",
     "output_type": "stream",
     "text": [
      "40\n",
      "키 :  180\n",
      "몸무게 :  80\n",
      "기타 :  {'name': '김지우', 'blood': 'O'}\n",
      "파이썬 주식회사\n",
      "3.141592\n",
      "28.274328\n"
     ]
    }
   ],
   "source": [
    "import mymodule2\n",
    "\n",
    "print(mymodule2.sum(20,20))\n",
    "mymodule2.info(80,180,name='김지우',blood='O')\n",
    "print(mymodule2.company)\n",
    "print(mymodule2.Math().PI)\n",
    "print(mymodule2.Math().solve(3))\n"
   ]
  },
  {
   "cell_type": "code",
   "execution_count": 19,
   "id": "b7a2c1f2",
   "metadata": {},
   "outputs": [
    {
     "name": "stdout",
     "output_type": "stream",
     "text": [
      "40\n",
      "키 :  180\n",
      "몸무게 :  80\n",
      "기타 :  {'name': '김지우', 'blood': 'O'}\n",
      "파이썬 주식회사\n",
      "3.141592\n",
      "28.274328\n"
     ]
    }
   ],
   "source": [
    "# 모듈 별칭으로 ~ 모듈명 as 별칭\n",
    "import mymodule2 as my2\n",
    "\n",
    "print(my2.sum(20,20))\n",
    "my2.info(80,180,name='김지우',blood='O')\n",
    "print(my2.company)\n",
    "print(my2.Math().PI)\n",
    "print(my2.Math().solve(3))"
   ]
  },
  {
   "cell_type": "code",
   "execution_count": 20,
   "id": "5d5b31d2",
   "metadata": {},
   "outputs": [
    {
     "name": "stdout",
     "output_type": "stream",
     "text": [
      "40\n",
      "키 :  180\n",
      "몸무게 :  80\n",
      "기타 :  {'name': '김지우', 'blood': 'O'}\n",
      "파이썬 주식회사\n",
      "3.141592\n",
      "28.274328\n"
     ]
    }
   ],
   "source": [
    "# from 모듈명 import 상수, 함수, 클래스(모듈 이름을 생략할 수 있음)\n",
    "from mymodule2 import sum, info, company, Math\n",
    "# sum이라는게 동일한 내장 함수가 있기 때문에 충돌이 일어날 수(헷갈림) 있음.그때는 모듈명이랑 같이 써라 \n",
    "print(sum(20,20))\n",
    "info(80,180,name='김지우',blood='O')\n",
    "print(company)\n",
    "print(Math().PI)\n",
    "print(Math().solve(3))"
   ]
  },
  {
   "cell_type": "code",
   "execution_count": 21,
   "id": "bba4e805",
   "metadata": {},
   "outputs": [
    {
     "name": "stdout",
     "output_type": "stream",
     "text": [
      "40\n",
      "키 :  180\n",
      "몸무게 :  80\n",
      "기타 :  {'name': '김지우', 'blood': 'O'}\n",
      "파이썬 주식회사\n",
      "3.141592\n",
      "28.274328\n"
     ]
    }
   ],
   "source": [
    "# from 모듈명 import * (모듈에 들어 있는게 많을 경우, 모든 것을 메모리에 올려 놓음)\n",
    "from mymodule2 import *\n",
    "\n",
    "print(my2.sum(20,20))\n",
    "my2.info(80,180,name='김지우',blood='O')\n",
    "print(my2.company)\n",
    "print(my2.Math().PI)\n",
    "print(my2.Math().solve(3))"
   ]
  },
  {
   "cell_type": "code",
   "execution_count": 33,
   "id": "7887c1ab",
   "metadata": {},
   "outputs": [
    {
     "name": "stdout",
     "output_type": "stream",
     "text": [
      "play\n",
      "render\n",
      "echo\n"
     ]
    }
   ],
   "source": [
    "#  모듈들을 모아 둔 것이 package\n",
    "\n",
    "# 반드시 모듈 이름까지 지정을 해줘야함 폴더명만 해주면 에러가 남. \n",
    "import game.play\n",
    "import game.graphic.render\n",
    "import game.sound.echo\n",
    "\n",
    "game.play.play_test()#게임이라는 폴더안에 플레이라는 파일에 플레이테스트라는 모듈이 있는 것임. \n",
    "game.graphic.render.render_test()\n",
    "game.sound.echo.echo_test()"
   ]
  },
  {
   "cell_type": "markdown",
   "id": "8ed598c5",
   "metadata": {},
   "source": [
    "-----\n",
    "\n",
    "## 2. 예외 처리\n",
    "\n",
    "- 에러가 났을 떄 어떻게 처리할 것인가."
   ]
  },
  {
   "cell_type": "markdown",
   "id": "a50a96d6",
   "metadata": {},
   "source": [
    "### (1) 예외처리를 하는 이유\n",
    "\n",
    "- 자연스러운 예외 메시지를 출력\n",
    "- 프로그램의 비정상적인 종료를 방지\n",
    "\n",
    "### (2) 문법\n",
    "    \n",
    "    try :               # 모니터링 \n",
    "        코드\n",
    "        ....\n",
    "    except :\n",
    "        코드\n",
    "        ...."
   ]
  },
  {
   "cell_type": "code",
   "execution_count": 37,
   "id": "6931ebac",
   "metadata": {},
   "outputs": [
    {
     "name": "stdout",
     "output_type": "stream",
     "text": [
      "3.3333333333333335\n",
      "나머지 코드 실행~~~\n",
      "1.0\n",
      "나머지 코드 실행~~~\n"
     ]
    },
    {
     "ename": "ZeroDivisionError",
     "evalue": "division by zero",
     "output_type": "error",
     "traceback": [
      "\u001b[1;31m---------------------------------------------------------------------------\u001b[0m",
      "\u001b[1;31mZeroDivisionError\u001b[0m                         Traceback (most recent call last)",
      "\u001b[1;32m<ipython-input-37-7bd81405b21f>\u001b[0m in \u001b[0;36m<module>\u001b[1;34m\u001b[0m\n\u001b[0;32m     10\u001b[0m \u001b[1;33m\u001b[0m\u001b[0m\n\u001b[0;32m     11\u001b[0m \u001b[0mtest\u001b[0m\u001b[1;33m(\u001b[0m\u001b[1;36m10\u001b[0m\u001b[1;33m)\u001b[0m\u001b[1;33m\u001b[0m\u001b[1;33m\u001b[0m\u001b[0m\n\u001b[1;32m---> 12\u001b[1;33m \u001b[0mtest\u001b[0m\u001b[1;33m(\u001b[0m\u001b[1;36m0\u001b[0m\u001b[1;33m)\u001b[0m\u001b[1;33m\u001b[0m\u001b[1;33m\u001b[0m\u001b[0m\n\u001b[0m",
      "\u001b[1;32m<ipython-input-37-7bd81405b21f>\u001b[0m in \u001b[0;36mtest\u001b[1;34m(num)\u001b[0m\n\u001b[0;32m      1\u001b[0m \u001b[1;32mdef\u001b[0m \u001b[0mtest\u001b[0m\u001b[1;33m(\u001b[0m\u001b[0mnum\u001b[0m\u001b[1;33m)\u001b[0m\u001b[1;33m:\u001b[0m\u001b[1;33m\u001b[0m\u001b[1;33m\u001b[0m\u001b[0m\n\u001b[1;32m----> 2\u001b[1;33m     \u001b[0mresult\u001b[0m \u001b[1;33m=\u001b[0m \u001b[1;36m10\u001b[0m \u001b[1;33m/\u001b[0m \u001b[0mnum\u001b[0m\u001b[1;33m\u001b[0m\u001b[1;33m\u001b[0m\u001b[0m\n\u001b[0m\u001b[0;32m      3\u001b[0m     \u001b[0mprint\u001b[0m\u001b[1;33m(\u001b[0m\u001b[0mresult\u001b[0m\u001b[1;33m)\u001b[0m\u001b[1;33m\u001b[0m\u001b[1;33m\u001b[0m\u001b[0m\n\u001b[0;32m      4\u001b[0m \u001b[1;33m\u001b[0m\u001b[0m\n\u001b[0;32m      5\u001b[0m     \u001b[0mprint\u001b[0m\u001b[1;33m(\u001b[0m\u001b[1;34m'나머지 코드 실행~~~'\u001b[0m\u001b[1;33m)\u001b[0m\u001b[1;33m\u001b[0m\u001b[1;33m\u001b[0m\u001b[0m\n",
      "\u001b[1;31mZeroDivisionError\u001b[0m: division by zero"
     ]
    }
   ],
   "source": [
    "def test(num):\n",
    "    result = 10 / num #여기서 에러가 나서 끝나벌임\n",
    "    print(result)\n",
    "    \n",
    "    print('나머지 코드 실행~~~') # 여기까지 와서 끝나야 하는데 \n",
    "    \n",
    "#######################################\n",
    "\n",
    "# test(3)\n",
    "# test(10)\n",
    "test(0)"
   ]
  },
  {
   "cell_type": "code",
   "execution_count": 40,
   "id": "9391ac12",
   "metadata": {},
   "outputs": [
    {
     "name": "stdout",
     "output_type": "stream",
     "text": [
      "3.3333333333333335\n",
      "나머지 코드 실행~~~\n",
      "1.0\n",
      "나머지 코드 실행~~~\n",
      "삡 에러입니당\n",
      "나머지 코드 실행~~~\n"
     ]
    }
   ],
   "source": [
    "# 예외 처리\n",
    "\n",
    "def test(num):\n",
    "    try: # 적당히 묶으면 된다?????\n",
    "        result = 10 / num \n",
    "        print(result)\n",
    "    except:\n",
    "        print('삡 에러입니당')\n",
    "        \n",
    "    print('나머지 코드 실행~~~') \n",
    "    \n",
    "#######################################\n",
    "\n",
    "test(3)\n",
    "test(10)\n",
    "test(0)"
   ]
  },
  {
   "cell_type": "code",
   "execution_count": 42,
   "id": "0521d7eb",
   "metadata": {},
   "outputs": [
    {
     "name": "stdout",
     "output_type": "stream",
     "text": [
      "3.3333333333333335\n",
      "나머지 코드 실행~~~\n",
      "1.0\n",
      "나머지 코드 실행~~~\n",
      "0으로 나누면 안되는거 알잖아?\n",
      "나머지 코드 실행~~~\n"
     ]
    }
   ],
   "source": [
    "# 예외 클래스 처리\n",
    "\n",
    "\n",
    "def test(num):\n",
    "    try: # 적당히 묶으면 된다?????\n",
    "        result = 10 / num \n",
    "        print(result)\n",
    "    except ZeroDivisionError:\n",
    "        print('0으로 나누면 안되는거 알잖아?')\n",
    "        \n",
    "    print('나머지 코드 실행~~~') \n",
    "    \n",
    "#######################################\n",
    "\n",
    "test(3)\n",
    "test(10)\n",
    "test(0)"
   ]
  },
  {
   "cell_type": "code",
   "execution_count": 44,
   "id": "05e0ffb1",
   "metadata": {},
   "outputs": [
    {
     "name": "stdout",
     "output_type": "stream",
     "text": [
      "3.3333333333333335\n",
      "나머지 코드 실행~~~\n",
      "1.0\n",
      "나머지 코드 실행~~~\n",
      "0으로 나누면 안되는거 알잖아?\n",
      "나머지 코드 실행~~~\n",
      "삡 알수 없는 오류\n",
      "나머지 코드 실행~~~\n"
     ]
    }
   ],
   "source": [
    "# 예외 클래스 처리\n",
    "\n",
    "\n",
    "def test(num):\n",
    "    try: # 적당히 묶으면 된다?????\n",
    "        result = 10 / num \n",
    "        print(result)\n",
    "    except ZeroDivisionError: # 얘 때문에 나는 에러가 아니면\n",
    "        print('0으로 나누면 안되는거 알잖아?')\n",
    "    except : # 하나를 더 추가 하면 나머지 에러를 잡을 수 이따!!!!!!!!!!!!!!\n",
    "        print('삡 알수 없는 오류')\n",
    "        \n",
    "    print('나머지 코드 실행~~~') \n",
    "    \n",
    "#######################################\n",
    "\n",
    "test(3)\n",
    "test(10)\n",
    "test(0)\n",
    "test('ㅇ')"
   ]
  },
  {
   "cell_type": "code",
   "execution_count": 50,
   "id": "a92d3b8b",
   "metadata": {},
   "outputs": [
    {
     "name": "stdout",
     "output_type": "stream",
     "text": [
      "5.0\n",
      "2\n",
      "나머지 코드 실행쓰!!\n",
      "3.3333333333333335\n",
      "인덱스 확인 안할래??\n",
      "나머지 코드 실행쓰!!\n",
      "모든 에러 잡아 버린다!! 이건 나도 모르는 에러인데??\n",
      "나머지 코드 실행쓰!!\n"
     ]
    }
   ],
   "source": [
    "#except를 여러개 쓰면 위에서 부터 하나씩 잡고 못잡으면 내려오는 식으로 상속의 느낌\n",
    "\n",
    "def test(num):\n",
    "    try:\n",
    "        result = 10/num\n",
    "        print(result)\n",
    "        \n",
    "        arr = [0,1,2]\n",
    "        print(arr[num])\n",
    "    except ZeroDivisionError:\n",
    "        print('0으로 나누면 안된다구요')\n",
    "    except IndexError:\n",
    "        print('인덱스 확인 안할래??')\n",
    "    except :\n",
    "        print('모든 에러 잡아 버린다!! 이건 나도 모르는 에러인데??')\n",
    "    print('나머지 코드 실행쓰!!')\n",
    "\n",
    "######################################\n",
    "\n",
    "test(2)\n",
    "test(3) # arr의 인덱스는 0 1 2 인데 3이 나오니까 에러가 난거야 \n",
    "test('d')"
   ]
  },
  {
   "cell_type": "code",
   "execution_count": 55,
   "id": "bd9bd8c7",
   "metadata": {},
   "outputs": [
    {
     "name": "stdout",
     "output_type": "stream",
     "text": [
      "5.0\n",
      "2\n",
      "나머지 코드 실행쓰!!\n",
      "3.3333333333333335\n",
      "0으로 나누었거나 인덱스 겁근이 잘못됬어\n",
      "나머지 코드 실행쓰!!\n"
     ]
    }
   ],
   "source": [
    "#조금 짧게\n",
    "\n",
    "#except를 여러개 쓰면 위에서 부터 하나씩 잡고 못잡으면 내려오는 식으로 상속의 느낌\n",
    "\n",
    "def test(num):\n",
    "    try:\n",
    "        result = 10/num\n",
    "        print(result)\n",
    "        \n",
    "        arr = [0,1,2]\n",
    "        print(arr[num])\n",
    "    except (ZeroDivisionError, IndexError): # 여러개를 묶을 수가 있음.\n",
    "        print('0으로 나누었거나 인덱스 겁근이 잘못됬어')\n",
    "    \n",
    "    except :\n",
    "        print('모든 에러 잡아 버린다!! 이건 나도 모르는 에러인데??')\n",
    "    print('나머지 코드 실행쓰!!')\n",
    "\n",
    "######################################\n",
    "\n",
    "test(2)\n",
    "test(3) # arr의 인덱스는 0 1 2 인데 3이 나오니까 에러가 난거야 \n"
   ]
  },
  {
   "cell_type": "code",
   "execution_count": 61,
   "id": "bce5bc0e",
   "metadata": {},
   "outputs": [
    {
     "name": "stdout",
     "output_type": "stream",
     "text": [
      "5.0\n",
      "2\n",
      "나머지 코드 실행쓰!!\n",
      "3.3333333333333335\n",
      "오류:인덱스 접근이 잘못되엇습니다.: list index out of range\n",
      "나머지 코드 실행쓰!!\n"
     ]
    }
   ],
   "source": [
    "#모든 에러 메시지를 설정 해줄 수 없으니까 파이썬에서 알려주는 것을 가져오쟈\n",
    "def test(num):\n",
    "    try:\n",
    "        result = 10/num\n",
    "        print(result)\n",
    "        \n",
    "        arr = [0,1,2]\n",
    "        print(arr[num])\n",
    "    except ZeroDivisionError as e:\n",
    "        print('0으로 나누면 안돼',e)\n",
    "    \n",
    "    except IndexError as e:\n",
    "        print('오류:인덱스 접근이 잘못되엇습니다.:',e)\n",
    "    except:\n",
    "        print('모든 에러 잡아 버린다!! 이건 나도 모르는 에러인데??',e)\n",
    "   \n",
    "    print('나머지 코드 실행쓰!!')\n",
    "\n",
    "######################################\n",
    "\n",
    "test(2)\n",
    "test(3) # arr의 인덱스는 0 1 2 인데 3이 나오니까 에러가 난거야 \n"
   ]
  },
  {
   "cell_type": "code",
   "execution_count": 9,
   "id": "aa67a4b3",
   "metadata": {},
   "outputs": [
    {
     "name": "stdout",
     "output_type": "stream",
     "text": [
      "5.0\n",
      "2\n",
      "모든 에러 잡아 버린다!! 이건 나도 모르는 에러인데?? [Errno 2] No such file or directory: 'othing.txt'\n",
      "이곳의 코드는 반드시 실행됨\n"
     ]
    }
   ],
   "source": [
    "def test(num):\n",
    "    try:\n",
    "        result = 10/num\n",
    "        print(result)\n",
    "        \n",
    "        arr = [0,1,2]\n",
    "        print(arr[num])\n",
    "        f = None\n",
    "        f = open('othing.txt','r')\n",
    "        f.close() # 가 실행이 안됨 위에서 에러가 낫기 때문에\n",
    "        \n",
    "    except ZeroDivisionError as e:\n",
    "        print('0으로 나누면 안돼',e)\n",
    "        return # 종료시킴 중간에 오류가 나면 더 이상 진행할 의미가 없기에\n",
    "    \n",
    "    \n",
    "    except IndexError as e:\n",
    "        print('오류:인덱스 접근이 잘못되엇습니다.:',e)\n",
    "        return\n",
    "    except Exception as e:\n",
    "        print('모든 에러 잡아 버린다!! 이건 나도 모르는 에러인데??',e)\n",
    "        return\n",
    "    \n",
    "    finally:\n",
    "        print('이곳의 코드는 반드시 실행됨') # 반드시 실행해야 하는 코드는 finally에다가 해줘야함.!!!\n",
    "    print('나머지 코드 실행쓰!!') #얘는 반드시 실행 되는데 finally 를 굳이 써야 하냐?? 일반적으로 에러나면 끝나게 return 해줌 그러면 얘는 실행이 안됌\n",
    "    #그러나 finally는 return 으로 끝나도 실행됨\n",
    "\n",
    "######################################\n",
    "\n",
    "test(2)\n"
   ]
  },
  {
   "cell_type": "code",
   "execution_count": 8,
   "id": "ce773db1",
   "metadata": {},
   "outputs": [
    {
     "name": "stdout",
     "output_type": "stream",
     "text": [
      "5.0\n",
      "2\n",
      "모든 에러 잡아 버린다!! 이건 나도 모르는 에러인데?? [Errno 2] No such file or directory: 'nothing.txt'\n",
      "이곳의 코드는 반드시 실행됨\n"
     ]
    }
   ],
   "source": [
    "def test(num):\n",
    "    try:\n",
    "        result = 10/num\n",
    "        print(result)\n",
    "        \n",
    "        arr = [0,1,2]\n",
    "        print(arr[num])\n",
    "        f =None # 초기화를 먼저 시켜줘야 함. \n",
    "        f = open('nothing.txt','r')       \n",
    "    except ZeroDivisionError as e:\n",
    "        print('0으로 나누면 안돼',e)\n",
    "        return # 종료시킴 중간에 오류가 나면 더 이상 진행할 의미가 없기에    \n",
    "    \n",
    "    except IndexError as e:\n",
    "        print('오류:인덱스 접근이 잘못되엇습니다.:',e)\n",
    "        return\n",
    "    except Exception as e:\n",
    "        print('모든 에러 잡아 버린다!! 이건 나도 모르는 에러인데??',e)\n",
    "        return\n",
    "    \n",
    "    finally:\n",
    "        print('이곳의 코드는 반드시 실행됨') # 반드시 실행해야 하는 코드는 finally에다가 해줘야함.!!!\n",
    "        if f != None:\n",
    "            f.close()\n",
    "        \n",
    "    print('나머지 코드 실행쓰!!') #얘는 반드시 실행 되는데 finally 를 굳이 써야 하냐?? 일반적으로 에러나면 끝나게 return 해줌 그러면 얘는 실행이 안됌\n",
    "    #그러나 finally는 return 으로 끝나도 실행됨\n",
    "\n",
    "######################################\n",
    "\n",
    "test(2)"
   ]
  },
  {
   "cell_type": "code",
   "execution_count": null,
   "id": "45d1d5e0",
   "metadata": {},
   "outputs": [],
   "source": []
  }
 ],
 "metadata": {
  "kernelspec": {
   "display_name": "Python 3",
   "language": "python",
   "name": "python3"
  },
  "language_info": {
   "codemirror_mode": {
    "name": "ipython",
    "version": 3
   },
   "file_extension": ".py",
   "mimetype": "text/x-python",
   "name": "python",
   "nbconvert_exporter": "python",
   "pygments_lexer": "ipython3",
   "version": "3.8.8"
  }
 },
 "nbformat": 4,
 "nbformat_minor": 5
}
