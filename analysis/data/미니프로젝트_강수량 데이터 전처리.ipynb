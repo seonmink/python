{
 "cells": [
  {
   "cell_type": "code",
   "execution_count": 2,
   "id": "44b7b64d",
   "metadata": {},
   "outputs": [],
   "source": [
    "import numpy as np\n",
    "import pandas as pd\n",
    "import matplotlib.pyplot as plt\n",
    "import seaborn as sns\n",
    "\n",
    "import warnings\n",
    "warnings.filterwarnings(action=\"ignore\") #경고 표시 제거는 일시적으로만 하자... 중요한 내용일수도\n",
    "\n",
    "import matplotlib.font_manager as fm #한글 안깨지게\n",
    "font_name=fm.FontProperties(fname=\"C:/Windows/Fonts/malgun.ttf\").get_name()\n",
    "plt.rc(\"font\", family=font_name)\n",
    "\n",
    "import matplotlib as mpl # - 표시 정상적으로 되도록\n",
    "mpl.rcParams[\"axes.unicode_minus\"]=False\n",
    "\n",
    "import urllib.request as req\n",
    "from urllib.request import urlopen\n",
    "from urllib.error import HTTPError, URLError\n",
    "import urllib.parse\n",
    "from urllib.parse import quote\n",
    "from bs4 import BeautifulSoup\n",
    "import requests\n"
   ]
  },
  {
   "cell_type": "code",
   "execution_count": 3,
   "id": "7e18a921",
   "metadata": {},
   "outputs": [
    {
     "name": "stdout",
     "output_type": "stream",
     "text": [
      "<class 'pandas.core.frame.DataFrame'>\n",
      "RangeIndex: 10186 entries, 0 to 10185\n",
      "Data columns (total 7 columns):\n",
      " #   Column        Non-Null Count  Dtype  \n",
      "---  ------        --------------  -----  \n",
      " 0   \t지점번호         10186 non-null  int64  \n",
      " 1   지점명           10186 non-null  object \n",
      " 2   일시            10186 non-null  object \n",
      " 3   강수량(mm)       10181 non-null  float64\n",
      " 4   1시간최다강수량(mm)  10183 non-null  float64\n",
      " 5   1시간최다강수량시각    10186 non-null  object \n",
      " 6   Unnamed: 6    0 non-null      float64\n",
      "dtypes: float64(3), int64(1), object(3)\n",
      "memory usage: 557.2+ KB\n"
     ]
    }
   ],
   "source": [
    "rain2018=pd.read_csv(\"data/미니프로젝트/2018년 서울 일별 강우량 데이터_수정.csv\", encoding=\"euc-kr\")\n",
    "rain2018.info() #강수량/1시간최다강수량에서 결측치 있는듯"
   ]
  },
  {
   "cell_type": "code",
   "execution_count": 4,
   "id": "688229d3",
   "metadata": {
    "scrolled": true
   },
   "outputs": [
    {
     "name": "stdout",
     "output_type": "stream",
     "text": [
      "<class 'pandas.core.frame.DataFrame'>\n",
      "RangeIndex: 365 entries, 0 to 364\n",
      "Data columns (total 7 columns):\n",
      " #   Column        Non-Null Count  Dtype  \n",
      "---  ------        --------------  -----  \n",
      " 0   \t지점번호         365 non-null    int64  \n",
      " 1   지점명           365 non-null    object \n",
      " 2   일시            365 non-null    object \n",
      " 3   강수량(mm)       128 non-null    float64\n",
      " 4   1시간최다강수량(mm)  85 non-null     float64\n",
      " 5   1시간최다강수량시각    65 non-null     object \n",
      " 6   Unnamed: 6    0 non-null      float64\n",
      "dtypes: float64(3), int64(1), object(3)\n",
      "memory usage: 20.1+ KB\n"
     ]
    }
   ],
   "source": [
    "jongro2018=pd.read_csv(\"data/미니프로젝트/2018년 종로구 일별 강수량.csv\", encoding=\"euc-kr\")\n",
    "jongro2018.info()"
   ]
  },
  {
   "cell_type": "code",
   "execution_count": 5,
   "id": "0a2f76c2",
   "metadata": {},
   "outputs": [
    {
     "data": {
      "text/plain": [
       "array(['강남', '서초', '강동', '송파', '강서', '양천', '도봉', '노원', '동대문', '중랑', '기상청',\n",
       "       '마포', '서대문', '광진', '성북', '용산', '은평', '금천', '한강', '중구', '성동', '북악산',\n",
       "       '구로', '강북', '남현', '관악', '영등포 ', '현충원', '서울'], dtype=object)"
      ]
     },
     "execution_count": 5,
     "metadata": {},
     "output_type": "execute_result"
    }
   ],
   "source": [
    "rain2018=pd.concat([rain2018,jongro2018])\n",
    "rain2018[\"지점명\"].unique()"
   ]
  },
  {
   "cell_type": "code",
   "execution_count": 6,
   "id": "0a9286db",
   "metadata": {
    "scrolled": true
   },
   "outputs": [
    {
     "name": "stdout",
     "output_type": "stream",
     "text": [
      "<class 'pandas.core.frame.DataFrame'>\n",
      "RangeIndex: 9845 entries, 0 to 9844\n",
      "Data columns (total 7 columns):\n",
      " #   Column        Non-Null Count  Dtype  \n",
      "---  ------        --------------  -----  \n",
      " 0   \t지점번호         9845 non-null   int64  \n",
      " 1   지점명           9845 non-null   object \n",
      " 2   일시            9845 non-null   object \n",
      " 3   강수량(mm)       9828 non-null   float64\n",
      " 4   1시간최다강수량(mm)  9830 non-null   float64\n",
      " 5   1시간최다강수량시각    9844 non-null   object \n",
      " 6   Unnamed: 6    0 non-null      float64\n",
      "dtypes: float64(3), int64(1), object(3)\n",
      "memory usage: 538.5+ KB\n"
     ]
    }
   ],
   "source": [
    "rain2019=pd.read_csv(\"data/미니프로젝트/2019년 서울 일별 강우량 데이터_수정.csv\", encoding=\"euc-kr\")\n",
    "rain2019.info() "
   ]
  },
  {
   "cell_type": "code",
   "execution_count": 7,
   "id": "462d9934",
   "metadata": {
    "scrolled": true
   },
   "outputs": [
    {
     "name": "stdout",
     "output_type": "stream",
     "text": [
      "<class 'pandas.core.frame.DataFrame'>\n",
      "RangeIndex: 365 entries, 0 to 364\n",
      "Data columns (total 7 columns):\n",
      " #   Column        Non-Null Count  Dtype  \n",
      "---  ------        --------------  -----  \n",
      " 0   \t지점번호         365 non-null    int64  \n",
      " 1   지점명           365 non-null    object \n",
      " 2   일시            365 non-null    object \n",
      " 3   강수량(mm)       139 non-null    float64\n",
      " 4   1시간최다강수량(mm)  88 non-null     float64\n",
      " 5   1시간최다강수량시각    58 non-null     object \n",
      " 6   Unnamed: 6    0 non-null      float64\n",
      "dtypes: float64(3), int64(1), object(3)\n",
      "memory usage: 20.1+ KB\n"
     ]
    }
   ],
   "source": [
    "jongro2019=pd.read_csv(\"data/미니프로젝트/2019년 종로구 일별 강수량.csv\", encoding=\"euc-kr\")\n",
    "jongro2019.info()"
   ]
  },
  {
   "cell_type": "code",
   "execution_count": 8,
   "id": "b84c5f8b",
   "metadata": {},
   "outputs": [],
   "source": [
    "rain2019=pd.concat([rain2019,jongro2019])"
   ]
  },
  {
   "cell_type": "code",
   "execution_count": 14,
   "id": "c6eba549",
   "metadata": {},
   "outputs": [
    {
     "name": "stdout",
     "output_type": "stream",
     "text": [
      "<class 'pandas.core.frame.DataFrame'>\n",
      "Int64Index: 20761 entries, 0 to 364\n",
      "Data columns (total 7 columns):\n",
      " #   Column        Non-Null Count  Dtype  \n",
      "---  ------        --------------  -----  \n",
      " 0   \t지점번호         20761 non-null  int64  \n",
      " 1   지점명           20761 non-null  object \n",
      " 2   일시            20761 non-null  object \n",
      " 3   강수량(mm)       20276 non-null  float64\n",
      " 4   1시간최다강수량(mm)  20186 non-null  float64\n",
      " 5   1시간최다강수량시각    20153 non-null  object \n",
      " 6   Unnamed: 6    0 non-null      float64\n",
      "dtypes: float64(3), int64(1), object(3)\n",
      "memory usage: 1.3+ MB\n"
     ]
    }
   ],
   "source": [
    "seoul=pd.concat([rain2018,rain2019])\n",
    "seoul.info()"
   ]
  },
  {
   "cell_type": "code",
   "execution_count": 15,
   "id": "6ecf15a8",
   "metadata": {},
   "outputs": [
    {
     "name": "stdout",
     "output_type": "stream",
     "text": [
      "<class 'pandas.core.frame.DataFrame'>\n",
      "Int64Index: 20761 entries, 0 to 364\n",
      "Data columns (total 4 columns):\n",
      " #   Column        Non-Null Count  Dtype  \n",
      "---  ------        --------------  -----  \n",
      " 0   지점명           20761 non-null  object \n",
      " 1   일시            20761 non-null  object \n",
      " 2   강수량(mm)       20276 non-null  float64\n",
      " 3   1시간최다강수량(mm)  20186 non-null  float64\n",
      "dtypes: float64(2), object(2)\n",
      "memory usage: 811.0+ KB\n"
     ]
    }
   ],
   "source": [
    "seoul.drop([\"\\t지점번호\", \"Unnamed: 6\", \"1시간최다강수량시각\"], axis=1, inplace=True)\n",
    "seoul.info()"
   ]
  },
  {
   "cell_type": "code",
   "execution_count": 19,
   "id": "cd7ba5f8",
   "metadata": {},
   "outputs": [],
   "source": [
    "su=seoul.groupby(by=\"일시\").mean()"
   ]
  },
  {
   "cell_type": "code",
   "execution_count": 21,
   "id": "fc48b5b8",
   "metadata": {},
   "outputs": [
    {
     "data": {
      "text/html": [
       "<div>\n",
       "<style scoped>\n",
       "    .dataframe tbody tr th:only-of-type {\n",
       "        vertical-align: middle;\n",
       "    }\n",
       "\n",
       "    .dataframe tbody tr th {\n",
       "        vertical-align: top;\n",
       "    }\n",
       "\n",
       "    .dataframe thead th {\n",
       "        text-align: right;\n",
       "    }\n",
       "</style>\n",
       "<table border=\"1\" class=\"dataframe\">\n",
       "  <thead>\n",
       "    <tr style=\"text-align: right;\">\n",
       "      <th></th>\n",
       "      <th>강수량(mm)</th>\n",
       "      <th>1시간최다강수량(mm)</th>\n",
       "      <th>지점명</th>\n",
       "    </tr>\n",
       "    <tr>\n",
       "      <th>일시</th>\n",
       "      <th></th>\n",
       "      <th></th>\n",
       "      <th></th>\n",
       "    </tr>\n",
       "  </thead>\n",
       "  <tbody>\n",
       "    <tr>\n",
       "      <th>2018-01-01</th>\n",
       "      <td>0.000000</td>\n",
       "      <td>0.000000</td>\n",
       "      <td>서울</td>\n",
       "    </tr>\n",
       "    <tr>\n",
       "      <th>2018-01-02</th>\n",
       "      <td>0.000000</td>\n",
       "      <td>0.000000</td>\n",
       "      <td>서울</td>\n",
       "    </tr>\n",
       "    <tr>\n",
       "      <th>2018-01-03</th>\n",
       "      <td>0.000000</td>\n",
       "      <td>0.000000</td>\n",
       "      <td>서울</td>\n",
       "    </tr>\n",
       "    <tr>\n",
       "      <th>2018-01-04</th>\n",
       "      <td>0.000000</td>\n",
       "      <td>0.000000</td>\n",
       "      <td>서울</td>\n",
       "    </tr>\n",
       "    <tr>\n",
       "      <th>2018-01-05</th>\n",
       "      <td>0.000000</td>\n",
       "      <td>0.000000</td>\n",
       "      <td>서울</td>\n",
       "    </tr>\n",
       "    <tr>\n",
       "      <th>...</th>\n",
       "      <td>...</td>\n",
       "      <td>...</td>\n",
       "      <td>...</td>\n",
       "    </tr>\n",
       "    <tr>\n",
       "      <th>2019-12-27</th>\n",
       "      <td>0.000000</td>\n",
       "      <td>0.000000</td>\n",
       "      <td>서울</td>\n",
       "    </tr>\n",
       "    <tr>\n",
       "      <th>2019-12-28</th>\n",
       "      <td>0.000000</td>\n",
       "      <td>0.000000</td>\n",
       "      <td>서울</td>\n",
       "    </tr>\n",
       "    <tr>\n",
       "      <th>2019-12-29</th>\n",
       "      <td>0.942857</td>\n",
       "      <td>0.592593</td>\n",
       "      <td>서울</td>\n",
       "    </tr>\n",
       "    <tr>\n",
       "      <th>2019-12-30</th>\n",
       "      <td>0.210714</td>\n",
       "      <td>0.333333</td>\n",
       "      <td>서울</td>\n",
       "    </tr>\n",
       "    <tr>\n",
       "      <th>2019-12-31</th>\n",
       "      <td>0.000000</td>\n",
       "      <td>0.000000</td>\n",
       "      <td>서울</td>\n",
       "    </tr>\n",
       "  </tbody>\n",
       "</table>\n",
       "<p>730 rows × 3 columns</p>\n",
       "</div>"
      ],
      "text/plain": [
       "             강수량(mm)  1시간최다강수량(mm) 지점명\n",
       "일시                                    \n",
       "2018-01-01  0.000000      0.000000  서울\n",
       "2018-01-02  0.000000      0.000000  서울\n",
       "2018-01-03  0.000000      0.000000  서울\n",
       "2018-01-04  0.000000      0.000000  서울\n",
       "2018-01-05  0.000000      0.000000  서울\n",
       "...              ...           ...  ..\n",
       "2019-12-27  0.000000      0.000000  서울\n",
       "2019-12-28  0.000000      0.000000  서울\n",
       "2019-12-29  0.942857      0.592593  서울\n",
       "2019-12-30  0.210714      0.333333  서울\n",
       "2019-12-31  0.000000      0.000000  서울\n",
       "\n",
       "[730 rows x 3 columns]"
      ]
     },
     "execution_count": 21,
     "metadata": {},
     "output_type": "execute_result"
    }
   ],
   "source": [
    "su[\"지점명\"]=\"서울\"\n",
    "su"
   ]
  },
  {
   "cell_type": "code",
   "execution_count": 20,
   "id": "8e0c2526",
   "metadata": {},
   "outputs": [],
   "source": [
    "gg=pd.read_csv(\"data/미니프로젝트/2018-2019-경기도-시별-강수량-데이터7.csv\")\n",
    "ic=pd.read_csv(\"data/미니프로젝트/인천_18_19.csv\")"
   ]
  },
  {
   "cell_type": "code",
   "execution_count": 22,
   "id": "c8a7cee5",
   "metadata": {},
   "outputs": [
    {
     "data": {
      "text/html": [
       "<div>\n",
       "<style scoped>\n",
       "    .dataframe tbody tr th:only-of-type {\n",
       "        vertical-align: middle;\n",
       "    }\n",
       "\n",
       "    .dataframe tbody tr th {\n",
       "        vertical-align: top;\n",
       "    }\n",
       "\n",
       "    .dataframe thead th {\n",
       "        text-align: right;\n",
       "    }\n",
       "</style>\n",
       "<table border=\"1\" class=\"dataframe\">\n",
       "  <thead>\n",
       "    <tr style=\"text-align: right;\">\n",
       "      <th></th>\n",
       "      <th>강수량(mm)</th>\n",
       "      <th>1시간최다강수량(mm)</th>\n",
       "      <th>지점명</th>\n",
       "    </tr>\n",
       "    <tr>\n",
       "      <th>일시</th>\n",
       "      <th></th>\n",
       "      <th></th>\n",
       "      <th></th>\n",
       "    </tr>\n",
       "  </thead>\n",
       "  <tbody>\n",
       "    <tr>\n",
       "      <th>2018-01-01</th>\n",
       "      <td>0.000000</td>\n",
       "      <td>0.000000</td>\n",
       "      <td>서울</td>\n",
       "    </tr>\n",
       "    <tr>\n",
       "      <th>2018-01-02</th>\n",
       "      <td>0.000000</td>\n",
       "      <td>0.000000</td>\n",
       "      <td>서울</td>\n",
       "    </tr>\n",
       "    <tr>\n",
       "      <th>2018-01-03</th>\n",
       "      <td>0.000000</td>\n",
       "      <td>0.000000</td>\n",
       "      <td>서울</td>\n",
       "    </tr>\n",
       "    <tr>\n",
       "      <th>2018-01-04</th>\n",
       "      <td>0.000000</td>\n",
       "      <td>0.000000</td>\n",
       "      <td>서울</td>\n",
       "    </tr>\n",
       "    <tr>\n",
       "      <th>2018-01-05</th>\n",
       "      <td>0.000000</td>\n",
       "      <td>0.000000</td>\n",
       "      <td>서울</td>\n",
       "    </tr>\n",
       "    <tr>\n",
       "      <th>...</th>\n",
       "      <td>...</td>\n",
       "      <td>...</td>\n",
       "      <td>...</td>\n",
       "    </tr>\n",
       "    <tr>\n",
       "      <th>2019-12-27</th>\n",
       "      <td>0.000000</td>\n",
       "      <td>0.000000</td>\n",
       "      <td>서울</td>\n",
       "    </tr>\n",
       "    <tr>\n",
       "      <th>2019-12-28</th>\n",
       "      <td>0.000000</td>\n",
       "      <td>0.000000</td>\n",
       "      <td>서울</td>\n",
       "    </tr>\n",
       "    <tr>\n",
       "      <th>2019-12-29</th>\n",
       "      <td>0.942857</td>\n",
       "      <td>0.592593</td>\n",
       "      <td>서울</td>\n",
       "    </tr>\n",
       "    <tr>\n",
       "      <th>2019-12-30</th>\n",
       "      <td>0.210714</td>\n",
       "      <td>0.333333</td>\n",
       "      <td>서울</td>\n",
       "    </tr>\n",
       "    <tr>\n",
       "      <th>2019-12-31</th>\n",
       "      <td>0.000000</td>\n",
       "      <td>0.000000</td>\n",
       "      <td>서울</td>\n",
       "    </tr>\n",
       "  </tbody>\n",
       "</table>\n",
       "<p>730 rows × 3 columns</p>\n",
       "</div>"
      ],
      "text/plain": [
       "             강수량(mm)  1시간최다강수량(mm) 지점명\n",
       "일시                                    \n",
       "2018-01-01  0.000000      0.000000  서울\n",
       "2018-01-02  0.000000      0.000000  서울\n",
       "2018-01-03  0.000000      0.000000  서울\n",
       "2018-01-04  0.000000      0.000000  서울\n",
       "2018-01-05  0.000000      0.000000  서울\n",
       "...              ...           ...  ..\n",
       "2019-12-27  0.000000      0.000000  서울\n",
       "2019-12-28  0.000000      0.000000  서울\n",
       "2019-12-29  0.942857      0.592593  서울\n",
       "2019-12-30  0.210714      0.333333  서울\n",
       "2019-12-31  0.000000      0.000000  서울\n",
       "\n",
       "[730 rows x 3 columns]"
      ]
     },
     "execution_count": 22,
     "metadata": {},
     "output_type": "execute_result"
    }
   ],
   "source": [
    "su.rename(columns={\"강수량\":\"강수량(mm)\",\"1시간최다강수량\":\"1시간최다강수량(mm)\"}, inplace=True)\n",
    "su"
   ]
  },
  {
   "cell_type": "code",
   "execution_count": 23,
   "id": "cfa5118d",
   "metadata": {},
   "outputs": [
    {
     "data": {
      "text/html": [
       "<div>\n",
       "<style scoped>\n",
       "    .dataframe tbody tr th:only-of-type {\n",
       "        vertical-align: middle;\n",
       "    }\n",
       "\n",
       "    .dataframe tbody tr th {\n",
       "        vertical-align: top;\n",
       "    }\n",
       "\n",
       "    .dataframe thead th {\n",
       "        text-align: right;\n",
       "    }\n",
       "</style>\n",
       "<table border=\"1\" class=\"dataframe\">\n",
       "  <thead>\n",
       "    <tr style=\"text-align: right;\">\n",
       "      <th></th>\n",
       "      <th>지점명</th>\n",
       "      <th>날짜</th>\n",
       "      <th>강수량(mm)</th>\n",
       "      <th>1시간최다강수량(mm)</th>\n",
       "    </tr>\n",
       "  </thead>\n",
       "  <tbody>\n",
       "    <tr>\n",
       "      <th>0</th>\n",
       "      <td>고양시</td>\n",
       "      <td>2018-01-01</td>\n",
       "      <td>0.0</td>\n",
       "      <td>0.0</td>\n",
       "    </tr>\n",
       "    <tr>\n",
       "      <th>1</th>\n",
       "      <td>고양시</td>\n",
       "      <td>2018-01-02</td>\n",
       "      <td>0.0</td>\n",
       "      <td>0.0</td>\n",
       "    </tr>\n",
       "    <tr>\n",
       "      <th>2</th>\n",
       "      <td>고양시</td>\n",
       "      <td>2018-01-03</td>\n",
       "      <td>0.0</td>\n",
       "      <td>0.0</td>\n",
       "    </tr>\n",
       "    <tr>\n",
       "      <th>3</th>\n",
       "      <td>고양시</td>\n",
       "      <td>2018-01-04</td>\n",
       "      <td>0.0</td>\n",
       "      <td>0.0</td>\n",
       "    </tr>\n",
       "    <tr>\n",
       "      <th>4</th>\n",
       "      <td>고양시</td>\n",
       "      <td>2018-01-05</td>\n",
       "      <td>0.0</td>\n",
       "      <td>0.0</td>\n",
       "    </tr>\n",
       "    <tr>\n",
       "      <th>...</th>\n",
       "      <td>...</td>\n",
       "      <td>...</td>\n",
       "      <td>...</td>\n",
       "      <td>...</td>\n",
       "    </tr>\n",
       "    <tr>\n",
       "      <th>19705</th>\n",
       "      <td>화성시</td>\n",
       "      <td>2019-12-27</td>\n",
       "      <td>0.0</td>\n",
       "      <td>0.0</td>\n",
       "    </tr>\n",
       "    <tr>\n",
       "      <th>19706</th>\n",
       "      <td>화성시</td>\n",
       "      <td>2019-12-28</td>\n",
       "      <td>0.0</td>\n",
       "      <td>0.0</td>\n",
       "    </tr>\n",
       "    <tr>\n",
       "      <th>19707</th>\n",
       "      <td>화성시</td>\n",
       "      <td>2019-12-29</td>\n",
       "      <td>0.5</td>\n",
       "      <td>0.5</td>\n",
       "    </tr>\n",
       "    <tr>\n",
       "      <th>19708</th>\n",
       "      <td>화성시</td>\n",
       "      <td>2019-12-30</td>\n",
       "      <td>0.5</td>\n",
       "      <td>0.5</td>\n",
       "    </tr>\n",
       "    <tr>\n",
       "      <th>19709</th>\n",
       "      <td>화성시</td>\n",
       "      <td>2019-12-31</td>\n",
       "      <td>0.0</td>\n",
       "      <td>0.0</td>\n",
       "    </tr>\n",
       "  </tbody>\n",
       "</table>\n",
       "<p>19710 rows × 4 columns</p>\n",
       "</div>"
      ],
      "text/plain": [
       "       지점명          날짜  강수량(mm)  1시간최다강수량(mm)\n",
       "0      고양시  2018-01-01      0.0           0.0\n",
       "1      고양시  2018-01-02      0.0           0.0\n",
       "2      고양시  2018-01-03      0.0           0.0\n",
       "3      고양시  2018-01-04      0.0           0.0\n",
       "4      고양시  2018-01-05      0.0           0.0\n",
       "...    ...         ...      ...           ...\n",
       "19705  화성시  2019-12-27      0.0           0.0\n",
       "19706  화성시  2019-12-28      0.0           0.0\n",
       "19707  화성시  2019-12-29      0.5           0.5\n",
       "19708  화성시  2019-12-30      0.5           0.5\n",
       "19709  화성시  2019-12-31      0.0           0.0\n",
       "\n",
       "[19710 rows x 4 columns]"
      ]
     },
     "execution_count": 23,
     "metadata": {},
     "output_type": "execute_result"
    }
   ],
   "source": [
    "gg.rename(columns={\"지점명3\":\"지점명\", \"일시\":\"날짜\"}, inplace=True)\n",
    "gg"
   ]
  },
  {
   "cell_type": "code",
   "execution_count": 24,
   "id": "499433eb",
   "metadata": {},
   "outputs": [],
   "source": [
    "def si(x):\n",
    "    return x[:-1]"
   ]
  },
  {
   "cell_type": "code",
   "execution_count": 25,
   "id": "8a090891",
   "metadata": {},
   "outputs": [],
   "source": [
    "gg[\"지점명\"]=gg[\"지점명\"].apply(si)"
   ]
  },
  {
   "cell_type": "code",
   "execution_count": 26,
   "id": "579131c5",
   "metadata": {},
   "outputs": [
    {
     "data": {
      "text/plain": [
       "array(['고양', '과천', '광명', '광주', '구리', '군포', '김포', '남양주', '동두천', '부천', '성남',\n",
       "       '수원', '시흥', '안산', '안성', '안양', '양주', '여주', '오산', '용인', '의왕', '의정부',\n",
       "       '이천', '파주', '평택', '포천', '화성'], dtype=object)"
      ]
     },
     "execution_count": 26,
     "metadata": {},
     "output_type": "execute_result"
    }
   ],
   "source": [
    "gg[\"지점명\"].unique()"
   ]
  },
  {
   "cell_type": "code",
   "execution_count": 27,
   "id": "36d20b50",
   "metadata": {},
   "outputs": [
    {
     "data": {
      "text/html": [
       "<div>\n",
       "<style scoped>\n",
       "    .dataframe tbody tr th:only-of-type {\n",
       "        vertical-align: middle;\n",
       "    }\n",
       "\n",
       "    .dataframe tbody tr th {\n",
       "        vertical-align: top;\n",
       "    }\n",
       "\n",
       "    .dataframe thead th {\n",
       "        text-align: right;\n",
       "    }\n",
       "</style>\n",
       "<table border=\"1\" class=\"dataframe\">\n",
       "  <thead>\n",
       "    <tr style=\"text-align: right;\">\n",
       "      <th></th>\n",
       "      <th>날짜</th>\n",
       "      <th>지점명</th>\n",
       "      <th>강수량(mm)</th>\n",
       "      <th>1시간최다강수량(mm)</th>\n",
       "    </tr>\n",
       "  </thead>\n",
       "  <tbody>\n",
       "    <tr>\n",
       "      <th>0</th>\n",
       "      <td>2018-01-01</td>\n",
       "      <td>인천</td>\n",
       "      <td>0.00</td>\n",
       "      <td>0.00</td>\n",
       "    </tr>\n",
       "    <tr>\n",
       "      <th>1</th>\n",
       "      <td>2018-01-02</td>\n",
       "      <td>인천</td>\n",
       "      <td>0.00</td>\n",
       "      <td>0.00</td>\n",
       "    </tr>\n",
       "    <tr>\n",
       "      <th>2</th>\n",
       "      <td>2018-01-03</td>\n",
       "      <td>인천</td>\n",
       "      <td>0.00</td>\n",
       "      <td>0.00</td>\n",
       "    </tr>\n",
       "    <tr>\n",
       "      <th>3</th>\n",
       "      <td>2018-01-04</td>\n",
       "      <td>인천</td>\n",
       "      <td>0.00</td>\n",
       "      <td>0.00</td>\n",
       "    </tr>\n",
       "    <tr>\n",
       "      <th>4</th>\n",
       "      <td>2018-01-05</td>\n",
       "      <td>인천</td>\n",
       "      <td>0.00</td>\n",
       "      <td>0.00</td>\n",
       "    </tr>\n",
       "    <tr>\n",
       "      <th>...</th>\n",
       "      <td>...</td>\n",
       "      <td>...</td>\n",
       "      <td>...</td>\n",
       "      <td>...</td>\n",
       "    </tr>\n",
       "    <tr>\n",
       "      <th>725</th>\n",
       "      <td>2019-12-27</td>\n",
       "      <td>인천</td>\n",
       "      <td>0.00</td>\n",
       "      <td>0.00</td>\n",
       "    </tr>\n",
       "    <tr>\n",
       "      <th>726</th>\n",
       "      <td>2019-12-28</td>\n",
       "      <td>인천</td>\n",
       "      <td>0.03</td>\n",
       "      <td>0.03</td>\n",
       "    </tr>\n",
       "    <tr>\n",
       "      <th>727</th>\n",
       "      <td>2019-12-29</td>\n",
       "      <td>인천</td>\n",
       "      <td>1.00</td>\n",
       "      <td>0.58</td>\n",
       "    </tr>\n",
       "    <tr>\n",
       "      <th>728</th>\n",
       "      <td>2019-12-30</td>\n",
       "      <td>인천</td>\n",
       "      <td>0.18</td>\n",
       "      <td>0.24</td>\n",
       "    </tr>\n",
       "    <tr>\n",
       "      <th>729</th>\n",
       "      <td>2019-12-31</td>\n",
       "      <td>인천</td>\n",
       "      <td>0.00</td>\n",
       "      <td>0.00</td>\n",
       "    </tr>\n",
       "  </tbody>\n",
       "</table>\n",
       "<p>730 rows × 4 columns</p>\n",
       "</div>"
      ],
      "text/plain": [
       "             날짜 지점명  강수량(mm)  1시간최다강수량(mm)\n",
       "0    2018-01-01  인천     0.00          0.00\n",
       "1    2018-01-02  인천     0.00          0.00\n",
       "2    2018-01-03  인천     0.00          0.00\n",
       "3    2018-01-04  인천     0.00          0.00\n",
       "4    2018-01-05  인천     0.00          0.00\n",
       "..          ...  ..      ...           ...\n",
       "725  2019-12-27  인천     0.00          0.00\n",
       "726  2019-12-28  인천     0.03          0.03\n",
       "727  2019-12-29  인천     1.00          0.58\n",
       "728  2019-12-30  인천     0.18          0.24\n",
       "729  2019-12-31  인천     0.00          0.00\n",
       "\n",
       "[730 rows x 4 columns]"
      ]
     },
     "execution_count": 27,
     "metadata": {},
     "output_type": "execute_result"
    }
   ],
   "source": [
    "ic.drop(\"Unnamed: 0\", axis=1, inplace=True)\n",
    "ic.rename(columns={\"일시\":\"날짜\"}, inplace=True)\n",
    "ic"
   ]
  },
  {
   "cell_type": "code",
   "execution_count": 28,
   "id": "86b6d5ca",
   "metadata": {},
   "outputs": [],
   "source": [
    "rain=pd.concat([su, gg])"
   ]
  },
  {
   "cell_type": "code",
   "execution_count": 29,
   "id": "c9228480",
   "metadata": {},
   "outputs": [],
   "source": [
    "rain=pd.concat([rain,ic])"
   ]
  },
  {
   "cell_type": "code",
   "execution_count": 16,
   "id": "c760e8b5",
   "metadata": {},
   "outputs": [],
   "source": [
    "rain.to_csv(\"data/미니프로젝트/서울,인천,경기도 강수량 데이터(경기도 하남시 제외)2.csv\", sep=\",\")"
   ]
  },
  {
   "cell_type": "code",
   "execution_count": null,
   "id": "8e43ccd8",
   "metadata": {},
   "outputs": [],
   "source": []
  },
  {
   "cell_type": "code",
   "execution_count": null,
   "id": "f0de6f96",
   "metadata": {},
   "outputs": [],
   "source": []
  },
  {
   "cell_type": "code",
   "execution_count": null,
   "id": "2ffc2922",
   "metadata": {},
   "outputs": [],
   "source": []
  },
  {
   "cell_type": "code",
   "execution_count": null,
   "id": "9e1ae2cf",
   "metadata": {},
   "outputs": [],
   "source": []
  },
  {
   "cell_type": "code",
   "execution_count": null,
   "id": "e7280814",
   "metadata": {},
   "outputs": [],
   "source": []
  },
  {
   "cell_type": "code",
   "execution_count": null,
   "id": "636c051e",
   "metadata": {},
   "outputs": [],
   "source": []
  },
  {
   "cell_type": "code",
   "execution_count": null,
   "id": "549d601e",
   "metadata": {},
   "outputs": [],
   "source": []
  }
 ],
 "metadata": {
  "kernelspec": {
   "display_name": "Python 3",
   "language": "python",
   "name": "python3"
  },
  "language_info": {
   "codemirror_mode": {
    "name": "ipython",
    "version": 3
   },
   "file_extension": ".py",
   "mimetype": "text/x-python",
   "name": "python",
   "nbconvert_exporter": "python",
   "pygments_lexer": "ipython3",
   "version": "3.8.8"
  }
 },
 "nbformat": 4,
 "nbformat_minor": 5
}
