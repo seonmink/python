{
 "cells": [
  {
   "cell_type": "markdown",
   "id": "8224adaa",
   "metadata": {},
   "source": [
    "## 특징\n",
    "\n",
    "+ 벡터 및 행렬 연산과 관련된 편리한 기능을 제공(선형 대수 관련)\n",
    "+ 리스트에 비해 빠르고 메모리를 효율적으로 사용(ndarray) 제공 \n",
    "+ 반복문 없이 데이터 베열에 대한 처리를 지원(인덱싱, 질의)\n",
    "+ http://www.numpy.org"
   ]
  },
  {
   "cell_type": "code",
   "execution_count": 1,
   "id": "73b79294",
   "metadata": {},
   "outputs": [],
   "source": [
    "import numpy as np"
   ]
  },
  {
   "cell_type": "markdown",
   "id": "3a35344a",
   "metadata": {},
   "source": [
    "## 1.1 차원 배열"
   ]
  },
  {
   "cell_type": "code",
   "execution_count": 8,
   "id": "6bbc31a7",
   "metadata": {},
   "outputs": [
    {
     "name": "stdout",
     "output_type": "stream",
     "text": [
      "[1, 2, 3, 4, 5, 10, 20, '가', '나']\n",
      "<class 'list'>\n"
     ]
    }
   ],
   "source": [
    "#리스트형, 숫자, 문자 다 같이 쓸 수 있는 \n",
    "a1= [1,2,3,4,5,10,20,'가','나']\n",
    "print(a1)\n",
    "print(type(a1))\n",
    "#shape, dtype 는 배열에서만 사용 가능 \n",
    "#print(a1.shape)\n",
    "#print(a1.dtype)"
   ]
  },
  {
   "cell_type": "code",
   "execution_count": 13,
   "id": "e6064938",
   "metadata": {},
   "outputs": [
    {
     "name": "stdout",
     "output_type": "stream",
     "text": [
      "['1' '2' '3' '4' '5' '10' '20' '가' '나']\n",
      "(9,)\n",
      "<U11\n"
     ]
    }
   ],
   "source": [
    "# array 로 묶어 주면 배열로 만들 수 있음\n",
    "a2= np.array([1,2,3,4,5,10,20,'가','나'])\n",
    "print(a2)\n",
    "#배열은 같은 형식으로 되어야 하기 때문에 숫자를 문자로 바뀌고 콤마(,)가 사라짐.\n",
    "\n",
    "print(a2.shape) # 1차원 배열이니까 9개\n",
    "print(a2.dtype) # 유니코드 11개 한글은 2바이트 숫자 7개 한글 2개(4) = 11 바이트"
   ]
  },
  {
   "cell_type": "code",
   "execution_count": 9,
   "id": "9f5dc99e",
   "metadata": {},
   "outputs": [
    {
     "name": "stdout",
     "output_type": "stream",
     "text": [
      "['1' '2' '3' '4' '5' '10' '20' '가나다']\n"
     ]
    }
   ],
   "source": [
    "a = np.array([1, 2, 3, 4, 5, 10, 20, \"가나다\"])\n",
    "print(a)"
   ]
  },
  {
   "cell_type": "code",
   "execution_count": 18,
   "id": "7d399237",
   "metadata": {},
   "outputs": [
    {
     "name": "stdout",
     "output_type": "stream",
     "text": [
      "[ 1.  2.  3.  4.  5. 10. 20. 30. 40.]\n",
      "float64\n"
     ]
    }
   ],
   "source": [
    "# a3= np.array([1,2,3,4,5,10,20,'30','40'],dtype=float)\n",
    "a3= np.array([1,2,3,4,5,10,20,'30','40'],float)\n",
    "print(a3)\n",
    "print(a3.dtype)"
   ]
  },
  {
   "cell_type": "code",
   "execution_count": 2,
   "id": "9e10e8a1",
   "metadata": {
    "scrolled": true
   },
   "outputs": [
    {
     "name": "stdout",
     "output_type": "stream",
     "text": [
      "[0, 1, 3, 4, 5, 6, 7, 8, 9, 0, 1, 3, 4, 5, 6, 7, 8, 9]\n"
     ]
    }
   ],
   "source": [
    "# 벡터화 연산\n",
    "\n",
    "data1=[0,1,3,4,5,6,7,8,9] # 리스트를 자체적으로 연산을 할 수 있나? \n",
    "print(data1*2)# 2를 곱한게 아니라 두 번 반복해라라는 것 연산이 아님 \n",
    "# print(data1-2)# 리스트는 연산을 할 수 없음. \n"
   ]
  },
  {
   "cell_type": "code",
   "execution_count": 3,
   "id": "7eaa8914",
   "metadata": {},
   "outputs": [
    {
     "data": {
      "text/plain": [
       "array([ 0,  2,  6,  8, 10, 12, 14, 16, 18])"
      ]
     },
     "execution_count": 3,
     "metadata": {},
     "output_type": "execute_result"
    }
   ],
   "source": [
    "data2=np.array(data1)\n",
    "data2*2"
   ]
  },
  {
   "cell_type": "code",
   "execution_count": 23,
   "id": "df36f6f1",
   "metadata": {},
   "outputs": [
    {
     "name": "stdout",
     "output_type": "stream",
     "text": [
      "[ 0  2  6  8 10 12 14 16 18]\n",
      "[-2 -1  1  2  3  4  5  6  7]\n",
      "[ 2  3  5  6  7  8  9 10 11]\n"
     ]
    }
   ],
   "source": [
    "data2=np.array(data1)\n",
    "print(data2*2)\n",
    "#배열로 변경하면 연산이 가능하다. \n",
    "\n",
    "print(data2-2)\n",
    "print(data2+2)"
   ]
  },
  {
   "cell_type": "code",
   "execution_count": 24,
   "id": "30570476",
   "metadata": {},
   "outputs": [
    {
     "name": "stdout",
     "output_type": "stream",
     "text": [
      "0 1\n"
     ]
    }
   ],
   "source": [
    "# 인덱스 접근 - 리스트와 동일하게 인덱스로 접근이 가능하다. \n",
    "print(data2[0],data2[1])"
   ]
  },
  {
   "cell_type": "markdown",
   "id": "619f8819",
   "metadata": {},
   "source": [
    "## 2. 2차원 배열 "
   ]
  },
  {
   "cell_type": "code",
   "execution_count": 32,
   "id": "ebc33440",
   "metadata": {},
   "outputs": [
    {
     "name": "stdout",
     "output_type": "stream",
     "text": [
      "[[1 2 3]\n",
      " [4 5 6]]\n",
      "<class 'numpy.ndarray'>\n",
      "(2, 3)\n",
      "int32\n"
     ]
    }
   ],
   "source": [
    "arr=np.array([[1,2,3],[4,5,6]])\n",
    "print(arr)\n",
    "print(type(arr))\n",
    "print(arr.shape) # 2차원 행렬 2행 3열 \n",
    "print(arr.dtype) "
   ]
  },
  {
   "cell_type": "code",
   "execution_count": 36,
   "id": "f88bd661",
   "metadata": {},
   "outputs": [
    {
     "name": "stdout",
     "output_type": "stream",
     "text": [
      "[1 2 3]\n",
      "2\n",
      "--------------\n",
      "2\n",
      "3\n"
     ]
    }
   ],
   "source": [
    "#접근 \n",
    "print(arr[0])\n",
    "print(arr[0][1])\n",
    "print('--------------')\n",
    "print(len(arr)) # 전체 행의 길이 \n",
    "print(len(arr[0])) # 첫번째 행의 길이 --> 열의 길이 "
   ]
  },
  {
   "cell_type": "markdown",
   "id": "e8f74947",
   "metadata": {},
   "source": [
    "## 3. 3차원 배열"
   ]
  },
  {
   "cell_type": "code",
   "execution_count": 46,
   "id": "2a5d393c",
   "metadata": {},
   "outputs": [
    {
     "name": "stdout",
     "output_type": "stream",
     "text": [
      "[[[ 1  2  3  4]\n",
      "  [ 3  4  5  6]]\n",
      "\n",
      " [[ 7  8  9 10]\n",
      "  [11 12 13 14]]]\n",
      "(2, 2, 4)\n",
      "3\n",
      "----------------------\n",
      "[[1 2 3 4]\n",
      " [3 4 5 6]]\n",
      "----------------------\n",
      "[1 2 3 4]\n",
      "----------------------\n",
      "1\n",
      "----------------------\n",
      "2 2 4\n"
     ]
    }
   ],
   "source": [
    "#2차원 배열을 여러개 묶은게 3차원 \n",
    "[[1,2,3,4],[3,4,5,6]] # --> 2차원 \n",
    "[[[1,2,3,4],[3,4,5,6]],[[7,8,9,10],[11,12,13,14]]] # --> 3차원 \n",
    "\n",
    "arr=np.array([[[1,2,3,4],[3,4,5,6]],[[7,8,9,10],[11,12,13,14]]])\n",
    "print(arr)\n",
    "print(arr.shape) # 2차원이 2행 4열로 구성 되어 있다\n",
    "print(arr.ndim) # 차원의 갯수\n",
    "print('----------------------')\n",
    "print(arr[0]) # 첫번째 2차원\n",
    "print('----------------------')\n",
    "print(arr[0][0])#첫번째 2차원의 1행 -> 1차원\n",
    "print('----------------------')\n",
    "print(arr[0][0][0]) # 첫번째 2차원의 1 행의 첫번째 데이터 - 실제 데이터 가져오기 \n",
    "print('----------------------')\n",
    "print(len(arr),len(arr[0]),len(arr[0][0])) #  면, 행, 열 의 길이 "
   ]
  },
  {
   "cell_type": "code",
   "execution_count": 55,
   "id": "b073b2ea",
   "metadata": {},
   "outputs": [
    {
     "name": "stdout",
     "output_type": "stream",
     "text": [
      "[[[10]]]\n",
      "int32\n",
      "(1, 1, 1)\n",
      "3\n"
     ]
    }
   ],
   "source": [
    "arr= np.array([[[10]]]) # 차원은 묶어 나가는 것 \n",
    "print(arr)\n",
    "print(arr.dtype)\n",
    "print(arr.shape) # 차원은 없는 것 \n",
    "print(arr.ndim)"
   ]
  },
  {
   "cell_type": "markdown",
   "id": "a842f3c5",
   "metadata": {},
   "source": [
    "## 4. 집계 함수"
   ]
  },
  {
   "cell_type": "code",
   "execution_count": 60,
   "id": "4837f170",
   "metadata": {},
   "outputs": [
    {
     "name": "stdout",
     "output_type": "stream",
     "text": [
      "[ 1.19017686  0.86182622  0.01237736  0.42339773  0.03550452 -1.23318507\n",
      "  0.08477457 -1.11910705]\n",
      "[ 0.37989286 -0.26594834 -0.34412951 -1.32552999  0.5645189   0.8064721\n",
      "  0.41395035 -0.65203858]\n"
     ]
    }
   ],
   "source": [
    "x= np.random.randn(8) # randn 정규분포 안에서 난수를 뽑아라\n",
    "y= np.random.randn(8)\n",
    "\n",
    "print(x)\n",
    "print(y)"
   ]
  },
  {
   "cell_type": "code",
   "execution_count": 61,
   "id": "e4654d3e",
   "metadata": {},
   "outputs": [
    {
     "data": {
      "text/plain": [
       "array([ 1.19017686,  0.86182622,  0.01237736,  0.42339773,  0.5645189 ,\n",
       "        0.8064721 ,  0.41395035, -0.65203858])"
      ]
     },
     "execution_count": 61,
     "metadata": {},
     "output_type": "execute_result"
    }
   ],
   "source": [
    "np.maximum(x,y) # x,y의 첫번째 vs 첫번째 --> 큰것, 서로 비교해서 큰 값을 출력하는 함수 "
   ]
  },
  {
   "cell_type": "code",
   "execution_count": 62,
   "id": "7b3b75b4",
   "metadata": {},
   "outputs": [
    {
     "data": {
      "text/plain": [
       "array([[-0.92541514, -0.62118669,  0.16596288, -0.63714277],\n",
       "       [ 0.9073249 ,  1.04977396,  0.72527073, -0.96650192],\n",
       "       [-0.17896503,  1.49841054,  2.2598556 ,  0.10343773],\n",
       "       [ 1.08058711,  1.62833395, -0.8251792 ,  0.76728182],\n",
       "       [-0.43158726,  1.8131857 ,  1.37936164,  1.23422878]])"
      ]
     },
     "execution_count": 62,
     "metadata": {},
     "output_type": "execute_result"
    }
   ],
   "source": [
    "arr = np.random.randn(5,4)\n",
    "arr"
   ]
  },
  {
   "cell_type": "code",
   "execution_count": 69,
   "id": "eb61afd1",
   "metadata": {},
   "outputs": [
    {
     "name": "stdout",
     "output_type": "stream",
     "text": [
      "10.027037354513588\n",
      "[0.45194458 5.36851747 3.70527166 0.50130364]\n",
      "[-2.01778171  1.71586768  3.68273885  2.65102368  3.99518887]\n"
     ]
    }
   ],
   "source": [
    "?np.sum\n",
    "print(arr.sum()) # 다 더한 값\n",
    "# 축 설정해서 sum을 할 수 있음.\n",
    "print(arr.sum(axis=0)) #  0 = 열\n",
    "print(arr.sum(axis=1)) #  1 은 행 "
   ]
  },
  {
   "cell_type": "markdown",
   "id": "b18dff55",
   "metadata": {},
   "source": [
    "## 5. 배열의 인덱싱"
   ]
  },
  {
   "cell_type": "code",
   "execution_count": 74,
   "id": "a188afe4",
   "metadata": {},
   "outputs": [
    {
     "name": "stdout",
     "output_type": "stream",
     "text": [
      "300 500 500 300\n"
     ]
    }
   ],
   "source": [
    "arr=np.array([100,200,300,400,500])\n",
    "\n",
    "print(arr[2],arr[4],arr[-1],arr[-3])# R에서는 - 인덱스는 제거 였지만, 파이썬에서는 역수, -1은 맨 마지막 "
   ]
  },
  {
   "cell_type": "code",
   "execution_count": 79,
   "id": "de83cb17",
   "metadata": {},
   "outputs": [
    {
     "ename": "TypeError",
     "evalue": "list indices must be integers or slices, not tuple",
     "output_type": "error",
     "traceback": [
      "\u001b[1;31m---------------------------------------------------------------------------\u001b[0m",
      "\u001b[1;31mTypeError\u001b[0m                                 Traceback (most recent call last)",
      "\u001b[1;32m<ipython-input-79-b7e2b1c89f19>\u001b[0m in \u001b[0;36m<module>\u001b[1;34m\u001b[0m\n\u001b[0;32m      2\u001b[0m \u001b[0marr\u001b[0m\u001b[1;33m=\u001b[0m\u001b[1;33m[\u001b[0m\u001b[1;33m[\u001b[0m\u001b[1;36m0\u001b[0m\u001b[1;33m,\u001b[0m\u001b[1;36m1\u001b[0m\u001b[1;33m,\u001b[0m\u001b[1;36m2\u001b[0m\u001b[1;33m]\u001b[0m\u001b[1;33m,\u001b[0m\u001b[1;33m[\u001b[0m\u001b[1;36m3\u001b[0m\u001b[1;33m,\u001b[0m\u001b[1;36m4\u001b[0m\u001b[1;33m,\u001b[0m\u001b[1;36m5\u001b[0m\u001b[1;33m]\u001b[0m\u001b[1;33m]\u001b[0m\u001b[1;33m\u001b[0m\u001b[1;33m\u001b[0m\u001b[0m\n\u001b[0;32m      3\u001b[0m \u001b[1;33m\u001b[0m\u001b[0m\n\u001b[1;32m----> 4\u001b[1;33m \u001b[0mprint\u001b[0m\u001b[1;33m(\u001b[0m\u001b[0marr\u001b[0m\u001b[1;33m[\u001b[0m\u001b[1;36m0\u001b[0m\u001b[1;33m]\u001b[0m\u001b[1;33m[\u001b[0m\u001b[1;36m2\u001b[0m\u001b[1;33m]\u001b[0m\u001b[1;33m,\u001b[0m\u001b[0marr\u001b[0m\u001b[1;33m[\u001b[0m\u001b[1;36m0\u001b[0m\u001b[1;33m,\u001b[0m \u001b[1;36m2\u001b[0m\u001b[1;33m]\u001b[0m\u001b[1;33m,\u001b[0m\u001b[0marr\u001b[0m\u001b[1;33m[\u001b[0m\u001b[1;33m-\u001b[0m\u001b[1;36m1\u001b[0m\u001b[1;33m,\u001b[0m \u001b[1;33m-\u001b[0m\u001b[1;36m1\u001b[0m\u001b[1;33m]\u001b[0m\u001b[1;33m)\u001b[0m \u001b[1;31m# 리스트로 한번에 묶어서 쓰면 안됨.\u001b[0m\u001b[1;33m\u001b[0m\u001b[1;33m\u001b[0m\u001b[0m\n\u001b[0m",
      "\u001b[1;31mTypeError\u001b[0m: list indices must be integers or slices, not tuple"
     ]
    }
   ],
   "source": [
    "# 2차원 \n",
    "arr=[[0,1,2],[3,4,5]]\n",
    "\n",
    "print(arr[0][2],arr[0, 2],arr[-1, -1]) # 리스트로 한번에 묶어서 쓰면 안됨.\n",
    "\n"
   ]
  },
  {
   "cell_type": "code",
   "execution_count": 81,
   "id": "c100fe02",
   "metadata": {},
   "outputs": [
    {
     "name": "stdout",
     "output_type": "stream",
     "text": [
      "2 2 5\n"
     ]
    }
   ],
   "source": [
    "arr=np.array([[0,1,2],[3,4,5]])\n",
    "\n",
    "print(arr[0][2],arr[0, 2],arr[-1, -1]) # 배열로 만들면 가능함"
   ]
  },
  {
   "cell_type": "code",
   "execution_count": 18,
   "id": "80554bc3",
   "metadata": {},
   "outputs": [
    {
     "name": "stdout",
     "output_type": "stream",
     "text": [
      "(10,)\n",
      "int32\n",
      "[0 1 2 3 4 5 6 7 8 9]\n",
      "[0 2 4 6 8]\n",
      "[0 2 4 6 8]\n",
      "[0 3 6 9]\n",
      "[1 5 9]\n",
      "[9]\n"
     ]
    }
   ],
   "source": [
    "#### fancy index\n",
    "\n",
    "arr= np.array([i for i in range(10)]) # 0~10 까지 자동으로 1차원 배열 만들어줌.\n",
    "print(arr.shape)\n",
    "print(arr.dtype)\n",
    "print(arr)\n",
    "idx = np.array([True,False,True,False,True,False,True,False,True,False])\n",
    "print(arr[idx]) # --> 짝수만 골라내줌.\n",
    "print(arr[arr%2==0]) # --> 원하는 코드를 인덱스로 옮겨 넣을 수 있음. 인덱스를 자유롭게 사용 가능함.\n",
    "\n",
    "\n",
    "# arr에서 3의 배수를 찾아라 \n",
    "print(arr[arr%3==0])\n",
    "#arr 에서 4로 나누면 1이 남는 수를 찾아라 \n",
    "print(arr[arr%4==1])\n",
    "# arr에서 3으로 나누면 나눠지고 4로 나누면 1이 남는 수를 찾아라 \n",
    "print(arr[(arr%3==0) & (arr%4==1)])"
   ]
  },
  {
   "cell_type": "markdown",
   "id": "788dc3b2",
   "metadata": {},
   "source": [
    "## 6. 배열의 슬라이싱"
   ]
  },
  {
   "cell_type": "code",
   "execution_count": 111,
   "id": "2ae576e6",
   "metadata": {
    "scrolled": true
   },
   "outputs": [
    {
     "name": "stdout",
     "output_type": "stream",
     "text": [
      "[[ 0  1  2  3]\n",
      " [ 4  5  6  7]\n",
      " [ 8  9 10 11]]\n",
      "[0 1]\n",
      "------------------\n",
      "[[4 5]\n",
      " [8 9]]\n",
      "------------------\n",
      "[0 1 2 3]\n",
      "------------------\n",
      "[[0 1]\n",
      " [4 5]]\n",
      "[[0 1]\n",
      " [4 5]]\n",
      "------------------\n",
      "[[ 8  9 10 11]\n",
      " [ 4  5  6  7]\n",
      " [ 0  1  2  3]]\n",
      "------------------\n",
      "[[ 0  3]\n",
      " [ 4  7]\n",
      " [ 8 11]]\n"
     ]
    }
   ],
   "source": [
    "arr = np.array([[0,1,2,3],\n",
    "               [4,5,6,7],\n",
    "               [8,9,10,11]])\n",
    "print(arr)\n",
    "\n",
    "print(arr[0, 0:2])\n",
    "print('------------------')\n",
    "print(arr[1:3,0:2])\n",
    "print('------------------')\n",
    "print(arr[0,:])\n",
    "print('------------------')\n",
    "#[[0,1],[4,5]] 출력 \n",
    "print(arr[0:2,0:2])\n",
    "print(arr[:2,:2])\n",
    "print('------------------')\n",
    "print(arr[[2,1,0],:])\n",
    "print('------------------')\n",
    "print(arr[:,[0,3]])"
   ]
  },
  {
   "cell_type": "code",
   "execution_count": 244,
   "id": "ee280bc6",
   "metadata": {},
   "outputs": [
    {
     "name": "stdout",
     "output_type": "stream",
     "text": [
      "[[4 5]\n",
      " [8 9]]\n"
     ]
    }
   ],
   "source": [
    "arr = np.array([[0,1,2,3],\n",
    "               [4,5,6,7],\n",
    "               [8,9,10,11]])\n",
    "\n",
    "\n",
    "\n",
    "print(arr[1:3,0:2])"
   ]
  },
  {
   "cell_type": "markdown",
   "id": "6a2f974f",
   "metadata": {},
   "source": [
    "## 7. numpy 자료형\n",
    "\n",
    "+ b : 불리인\n",
    "+ i : 정수형\n",
    "+ u : 부호없는 정수형\n",
    "+ f : 부동 소수점\n",
    "+ c : 복소수\n",
    "+ O : 객체\n",
    "+ S : 바이트 문자열\n",
    "+ U : 유니코드 문자열"
   ]
  },
  {
   "cell_type": "code",
   "execution_count": 117,
   "id": "419737d4",
   "metadata": {},
   "outputs": [
    {
     "name": "stdout",
     "output_type": "stream",
     "text": [
      ">i4\n",
      "int32\n",
      ">i8\n",
      "int64\n"
     ]
    }
   ],
   "source": [
    "# 원하는 자료형 만들기 \n",
    "a1 = np.dtype('>i4')\n",
    "print(a1)\n",
    "print(a1.name)\n",
    "\n",
    "a2 = np.dtype('>i8')\n",
    "print(a2)\n",
    "print(a2.name)"
   ]
  },
  {
   "cell_type": "code",
   "execution_count": 122,
   "id": "9e44b129",
   "metadata": {},
   "outputs": [
    {
     "name": "stdout",
     "output_type": "stream",
     "text": [
      "float16\n",
      "------------------\n",
      "<U1\n",
      "12\n"
     ]
    }
   ],
   "source": [
    "#arr= np.array([1,2,3],dtype='f')\n",
    "arr = np.array([1,2,3],dtype=np.float16)\n",
    "print(arr.dtype)\n",
    "\n",
    "print('------------------')\n",
    "\n",
    "arr = np.array([1,2,3],dtype='U')\n",
    "print(arr.dtype)\n",
    "print(arr[0]+arr[1])"
   ]
  },
  {
   "cell_type": "markdown",
   "id": "ff5487a1",
   "metadata": {},
   "source": [
    "## 8. 배열 생성 "
   ]
  },
  {
   "cell_type": "code",
   "execution_count": 136,
   "id": "4f176710",
   "metadata": {},
   "outputs": [
    {
     "name": "stdout",
     "output_type": "stream",
     "text": [
      "[0. 0. 0. 0. 0.]\n",
      "float64\n",
      "<class 'numpy.ndarray'>\n",
      "------------------\n",
      "[0 0 0 0 0]\n",
      "int64\n",
      "------------------\n",
      "['' '' '' '' '']\n",
      "<U4\n",
      "['abc' 'abcd' 'abcd' '' '']\n",
      "------------------\n"
     ]
    },
    {
     "data": {
      "text/plain": [
       "array([[0., 0., 0.],\n",
       "       [0., 0., 0.]])"
      ]
     },
     "execution_count": 136,
     "metadata": {},
     "output_type": "execute_result"
    }
   ],
   "source": [
    "arr =np.zeros(5)\n",
    "print(arr)\n",
    "print(arr.dtype)\n",
    "print(type(arr))\n",
    "\n",
    "print('------------------')\n",
    "\n",
    "arr= np.zeros(5,dtype='i8')\n",
    "print(arr)\n",
    "print(arr.dtype)\n",
    "\n",
    "print('------------------')\n",
    "\n",
    "arr = np.zeros(5, dtype='U4') # 4글자 까지만 \n",
    "print(arr)\n",
    "print(arr.dtype)\n",
    "arr[0]='abc'\n",
    "arr[1]='abcd'\n",
    "arr[2]='abcde'\n",
    "print(arr)\n",
    "\n",
    "print('------------------')\n",
    "\n",
    "arr = np.zeros((2,3))\n",
    "arr"
   ]
  },
  {
   "cell_type": "code",
   "execution_count": 147,
   "id": "fa506462",
   "metadata": {},
   "outputs": [
    {
     "name": "stdout",
     "output_type": "stream",
     "text": [
      "[[[1. 1. 1. 1.]\n",
      "  [1. 1. 1. 1.]\n",
      "  [1. 1. 1. 1.]]\n",
      "\n",
      " [[1. 1. 1. 1.]\n",
      "  [1. 1. 1. 1.]\n",
      "  [1. 1. 1. 1.]]]\n",
      "------------------\n",
      "[[0. 0. 0.]\n",
      " [0. 0. 0.]]\n",
      "[[1. 1. 1.]\n",
      " [1. 1. 1.]]\n",
      "------------------\n",
      "[[1.12067402e-311 2.47032823e-322 0.00000000e+000]\n",
      " [0.00000000e+000 0.00000000e+000 5.64233733e-067]\n",
      " [6.81758537e-091 2.03890575e+160 8.46400867e+164]\n",
      " [1.46393830e-075 3.99910963e+252 4.76785585e-038]]\n",
      "[0 1 2 3 4 5 6 7 8 9]\n",
      "------------------\n",
      "[  1.    25.75  50.5   75.25 100.  ]\n"
     ]
    }
   ],
   "source": [
    "arr= np.ones((2,3,4))\n",
    "print(arr)\n",
    "\n",
    "print('------------------')\n",
    "\n",
    "arr1 =np.zeros((2,3))\n",
    "arr2=np.ones_like(arr1) # 1로 바꾸기\n",
    "print(arr1)\n",
    "print(arr2)\n",
    "\n",
    "print('------------------')\n",
    "\n",
    "arr=np.empty((4,3)) # 새로운 값이 없다. 초기화하는 값이 없다는 뜻이야\n",
    "print(arr)\n",
    "\n",
    "arr= np.arange(10)\n",
    "print(arr)\n",
    "\n",
    "print('------------------')\n",
    "\n",
    "arr=np.linspace(1,100,5)\n",
    "print(arr) # 100까지 5등분 "
   ]
  },
  {
   "cell_type": "markdown",
   "id": "b53d362d",
   "metadata": {},
   "source": [
    "## 9. 전치 연산(Transpose)\n",
    "- 행열 바꾸기\n"
   ]
  },
  {
   "cell_type": "code",
   "execution_count": 152,
   "id": "9443f064",
   "metadata": {},
   "outputs": [
    {
     "name": "stdout",
     "output_type": "stream",
     "text": [
      "[[1 2 3]\n",
      " [4 5 6]]\n",
      "[[1 4]\n",
      " [2 5]\n",
      " [3 6]]\n"
     ]
    }
   ],
   "source": [
    "    arr = np.array([[1,2,3],[4,5,6]])\n",
    "print(arr)\n",
    "print(arr.T)"
   ]
  },
  {
   "cell_type": "markdown",
   "id": "a664378c",
   "metadata": {},
   "source": [
    "## 10. 배열의 크기 변형: reshape(),flatten(),revel()\n",
    "    - 꼭 필요한 숨"
   ]
  },
  {
   "cell_type": "code",
   "execution_count": 155,
   "id": "030e4890",
   "metadata": {},
   "outputs": [
    {
     "name": "stdout",
     "output_type": "stream",
     "text": [
      "[ 0  1  2  3  4  5  6  7  8  9 10 11]\n",
      "(12,)\n"
     ]
    }
   ],
   "source": [
    "arr=np.arange(12)\n",
    "print(arr)\n",
    "print(arr.shape)"
   ]
  },
  {
   "cell_type": "code",
   "execution_count": 160,
   "id": "f0c4c620",
   "metadata": {},
   "outputs": [
    {
     "name": "stdout",
     "output_type": "stream",
     "text": [
      "[[ 0  1  2  3]\n",
      " [ 4  5  6  7]\n",
      " [ 8  9 10 11]]\n",
      "(3, 4)\n",
      "------------------\n",
      "[[ 0  1  2  3]\n",
      " [ 4  5  6  7]\n",
      " [ 8  9 10 11]]\n",
      "(3, 4)\n",
      "[[ 0  1  2  3]\n",
      " [ 4  5  6  7]\n",
      " [ 8  9 10 11]]\n",
      "(3, 4)\n"
     ]
    }
   ],
   "source": [
    "arr1=arr.reshape(3,4)\n",
    "print(arr1)\n",
    "print(arr1.shape)\n",
    "\n",
    "print('------------------')\n",
    "\n",
    "arr1=arr.reshape(3,-1) # -1은 알아서 자동으로로 처리해라 \n",
    "print(arr1)\n",
    "print(arr1.shape)\n",
    "\n",
    "arr1=arr.reshape(-1,4) # -1은 알아서 자동으로로 처리해라 \n",
    "print(arr1)\n",
    "print(arr1.shape)"
   ]
  },
  {
   "cell_type": "code",
   "execution_count": 164,
   "id": "8fab8e7d",
   "metadata": {},
   "outputs": [
    {
     "name": "stdout",
     "output_type": "stream",
     "text": [
      "[[[ 0  1  2]\n",
      "  [ 3  4  5]]\n",
      "\n",
      " [[ 6  7  8]\n",
      "  [ 9 10 11]]]\n",
      "(2, 2, 3)\n",
      "------------------\n",
      "[[[ 0  1  2]\n",
      "  [ 3  4  5]]\n",
      "\n",
      " [[ 6  7  8]\n",
      "  [ 9 10 11]]]\n",
      "(2, 2, 3)\n",
      "------------------\n",
      "[[[ 0  1  2]\n",
      "  [ 3  4  5]]\n",
      "\n",
      " [[ 6  7  8]\n",
      "  [ 9 10 11]]]\n",
      "(2, 2, 3)\n",
      "------------------\n",
      "[[[ 0  1  2]\n",
      "  [ 3  4  5]]\n",
      "\n",
      " [[ 6  7  8]\n",
      "  [ 9 10 11]]]\n",
      "(2, 2, 3)\n"
     ]
    }
   ],
   "source": [
    "arr2= arr.reshape(2,2,3)\n",
    "print(arr2)\n",
    "print(arr2.shape)\n",
    "\n",
    "print('------------------')\n",
    "\n",
    "arr2= arr.reshape(2,2,-1) # 면과 행이 정해지면 열은 자동으로 옴\n",
    "print(arr2)\n",
    "print(arr2.shape)\n",
    "\n",
    "print('------------------')\n",
    "arr2= arr.reshape(2,-1,3)\n",
    "print(arr2)\n",
    "print(arr2.shape)\n",
    "\n",
    "print('------------------')\n",
    "\n",
    "arr2= arr.reshape(-1,2,3)\n",
    "print(arr2)\n",
    "print(arr2.shape)"
   ]
  },
  {
   "cell_type": "code",
   "execution_count": 168,
   "id": "ff84a149",
   "metadata": {},
   "outputs": [
    {
     "name": "stdout",
     "output_type": "stream",
     "text": [
      "[ 0  1  2  3  4  5  6  7  8  9 10 11]\n",
      "[ 0  1  2  3  4  5  6  7  8  9 10 11]\n",
      "------------------\n",
      "[ 0  1  2  3  4  5  6  7  8  9 10 11]\n",
      "[ 0  1  2  3  4  5  6  7  8  9 10 11]\n"
     ]
    }
   ],
   "source": [
    "#3차원을 다시 1차원으로\n",
    "print(arr1.flatten())\n",
    "print(arr1.ravel())\n",
    "\n",
    "print('------------------')\n",
    "\n",
    "print(arr2.flatten())\n",
    "print(arr2.ravel())"
   ]
  },
  {
   "cell_type": "code",
   "execution_count": 173,
   "id": "7d70ae4c",
   "metadata": {},
   "outputs": [
    {
     "name": "stdout",
     "output_type": "stream",
     "text": [
      "[[0 1 2 3 4]]\n",
      "[[0]\n",
      " [1]\n",
      " [2]\n",
      " [3]\n",
      " [4]]\n",
      "------------------\n",
      "[[0]\n",
      " [1]\n",
      " [2]\n",
      " [3]\n",
      " [4]]\n",
      "[[0 1 2 3 4]]\n",
      "------------------\n",
      "[[0]\n",
      " [1]\n",
      " [2]\n",
      " [3]\n",
      " [4]]\n"
     ]
    }
   ],
   "source": [
    "arr= np.arange(5)\n",
    "\n",
    "#1차원을 2차원으로 \n",
    "print(arr.reshape(1,5))\n",
    "print(arr.reshape(5,1))\n",
    "\n",
    "print('------------------')\n",
    "\n",
    "print(arr.reshape(1,5).T)\n",
    "print(arr.reshape(5,1).T)\n",
    "\n",
    "print('------------------')\n",
    "\n",
    "print(arr[:,np.newaxis])"
   ]
  },
  {
   "cell_type": "markdown",
   "id": "13e9aa68",
   "metadata": {},
   "source": [
    "## 11. 서로다른 배열 합치기 : stack(), hstack(),vstack(),dstack(),tile()"
   ]
  },
  {
   "cell_type": "code",
   "execution_count": 177,
   "id": "840b7e47",
   "metadata": {},
   "outputs": [
    {
     "name": "stdout",
     "output_type": "stream",
     "text": [
      "[[1. 1. 1.]\n",
      " [1. 1. 1.]]\n",
      "[[1. 1.]\n",
      " [1. 1.]]\n",
      "[[1. 1. 1. 1. 1.]\n",
      " [1. 1. 1. 1. 1.]]\n"
     ]
    }
   ],
   "source": [
    "#### hstack(),vstack()\n",
    "\n",
    "arr1= np.ones((2,3))\n",
    "arr2 = np.ones((2,2))\n",
    "\n",
    "print(arr1)\n",
    "print(arr2)\n",
    "\n",
    "# 수직? 수평? 수평\n",
    "arr3=np.hstack([arr1,arr2])\n",
    "print(arr3)\n",
    "\n",
    "# 수직\n",
    "# arr4 = np.vstack([arr1,arr2]) 열이 맞지 않기 때문에 합쳐지지가 않음. \n"
   ]
  },
  {
   "cell_type": "code",
   "execution_count": 182,
   "id": "12d3d9b5",
   "metadata": {},
   "outputs": [
    {
     "name": "stdout",
     "output_type": "stream",
     "text": [
      "[[1. 1. 1. 1.]\n",
      " [1. 1. 1. 1.]\n",
      " [1. 1. 1. 1.]]\n",
      "[[1. 1. 1. 1.]\n",
      " [1. 1. 1. 1.]\n",
      " [1. 1. 1. 1.]]\n",
      "------------------\n",
      "[[[1. 1.]\n",
      "  [1. 1.]\n",
      "  [1. 1.]\n",
      "  [1. 1.]]\n",
      "\n",
      " [[1. 1.]\n",
      "  [1. 1.]\n",
      "  [1. 1.]\n",
      "  [1. 1.]]\n",
      "\n",
      " [[1. 1.]\n",
      "  [1. 1.]\n",
      "  [1. 1.]\n",
      "  [1. 1.]]]\n",
      "[[[1. 1. 1. 1.]\n",
      "  [1. 1. 1. 1.]\n",
      "  [1. 1. 1. 1.]\n",
      "  [1. 1. 1. 1.]]\n",
      "\n",
      " [[1. 1. 1. 1.]\n",
      "  [1. 1. 1. 1.]\n",
      "  [1. 1. 1. 1.]\n",
      "  [1. 1. 1. 1.]]\n",
      "\n",
      " [[1. 1. 1. 1.]\n",
      "  [1. 1. 1. 1.]\n",
      "  [1. 1. 1. 1.]\n",
      "  [1. 1. 1. 1.]]]\n"
     ]
    }
   ],
   "source": [
    "#### dstack() --> 차원의 증가 2차원을 3차원으로 , 새로운 열을 하나 추가 하여 , 정해놓고 쓰는것 \n",
    "\n",
    "arr1= np.ones((3,4))\n",
    "arr2= np.ones((3,4))\n",
    "print(arr1)\n",
    "print(arr2)\n",
    "print('------------------')\n",
    "\n",
    "arr3=np.dstack([arr1,arr2]) # --> 3면 4행 2열\n",
    "print(arr3)\n",
    "\n",
    "arr4=np.dstack([arr1,arr2,arr3]) # --> 3면 4행  4열\n",
    "print(arr4)"
   ]
  },
  {
   "cell_type": "code",
   "execution_count": 188,
   "id": "563216c4",
   "metadata": {},
   "outputs": [
    {
     "name": "stdout",
     "output_type": "stream",
     "text": [
      "[[[1. 1. 1. 1.]\n",
      "  [1. 1. 1. 1.]\n",
      "  [1. 1. 1. 1.]]\n",
      "\n",
      " [[1. 1. 1. 1.]\n",
      "  [1. 1. 1. 1.]\n",
      "  [1. 1. 1. 1.]]]\n",
      "(2, 3, 4)\n",
      "------------------\n",
      "[[[1. 1. 1. 1.]\n",
      "  [1. 1. 1. 1.]\n",
      "  [1. 1. 1. 1.]]\n",
      "\n",
      " [[1. 1. 1. 1.]\n",
      "  [1. 1. 1. 1.]\n",
      "  [1. 1. 1. 1.]]]\n",
      "(2, 3, 4)\n",
      "[[[1. 1. 1. 1.]\n",
      "  [1. 1. 1. 1.]]\n",
      "\n",
      " [[1. 1. 1. 1.]\n",
      "  [1. 1. 1. 1.]]\n",
      "\n",
      " [[1. 1. 1. 1.]\n",
      "  [1. 1. 1. 1.]]]\n",
      "(3, 2, 4)\n",
      "[[[1. 1.]\n",
      "  [1. 1.]\n",
      "  [1. 1.]\n",
      "  [1. 1.]]\n",
      "\n",
      " [[1. 1.]\n",
      "  [1. 1.]\n",
      "  [1. 1.]\n",
      "  [1. 1.]]\n",
      "\n",
      " [[1. 1.]\n",
      "  [1. 1.]\n",
      "  [1. 1.]\n",
      "  [1. 1.]]]\n",
      "(3, 4, 2)\n"
     ]
    }
   ],
   "source": [
    "#### stack() 면자리에 축을 세워 차원 증가 \n",
    "# axis = 새로운 축을 세울 위치  0,1.2  -> 면, 행, 열 \n",
    "\n",
    "arr1= np.ones((3,4))\n",
    "arr2= np.ones((3,4))\n",
    "\n",
    "arr3 = np.stack([arr1,arr2])\n",
    "print(arr3)\n",
    "print(arr3.shape)\n",
    "\n",
    "print('------------------')\n",
    "\n",
    "arr3 = np.stack([arr1,arr2],axis=0) #  axis=0 이게 생략이 된 것 ,2면 3행, 4열\n",
    "print(arr3)\n",
    "print(arr3.shape)\n",
    "\n",
    "arr3 = np.stack([arr1,arr2],axis=1)  # 3면 2행 4열\n",
    "print(arr3)\n",
    "print(arr3.shape)\n",
    "\n",
    "arr3 = np.stack([arr1,arr2],axis=2) #  3면 4행 2열, 마지막에 축을 세우는 것은 dstack과 동일 \n",
    "print(arr3)\n",
    "print(arr3.shape)"
   ]
  },
  {
   "cell_type": "code",
   "execution_count": 191,
   "id": "d3018d5a",
   "metadata": {},
   "outputs": [
    {
     "name": "stdout",
     "output_type": "stream",
     "text": [
      "[[0 1 2 0 1 2]\n",
      " [3 4 5 3 4 5]]\n",
      "------------------\n",
      "[[0 1 2 0 1 2]\n",
      " [3 4 5 3 4 5]\n",
      " [0 1 2 0 1 2]\n",
      " [3 4 5 3 4 5]\n",
      " [0 1 2 0 1 2]\n",
      " [3 4 5 3 4 5]]\n"
     ]
    }
   ],
   "source": [
    "#### tile()\n",
    "\n",
    "arr=np.array([[0,1,2],[3,4,5]])\n",
    "\n",
    "print(np.tile(arr,2)) # 두번씩 반복해서 붙여주는 것 \n",
    "print('------------------')\n",
    "\n",
    "print(np.tile(arr,(3,2)))\n"
   ]
  },
  {
   "cell_type": "markdown",
   "id": "a13c51b1",
   "metadata": {},
   "source": [
    "## 12. 2차원 그리드 포인트 생성: meshgrid()\n",
    "- x와 y를 서로 대응 시켜 포인트를 만드는"
   ]
  },
  {
   "cell_type": "code",
   "execution_count": 192,
   "id": "335f93f7",
   "metadata": {},
   "outputs": [
    {
     "data": {
      "text/plain": [
       "array([0, 1, 2])"
      ]
     },
     "execution_count": 192,
     "metadata": {},
     "output_type": "execute_result"
    }
   ],
   "source": [
    "x= np.arange(3)\n",
    "x"
   ]
  },
  {
   "cell_type": "code",
   "execution_count": 194,
   "id": "29b1a46b",
   "metadata": {},
   "outputs": [
    {
     "data": {
      "text/plain": [
       "array([0, 1, 2, 3, 4])"
      ]
     },
     "execution_count": 194,
     "metadata": {},
     "output_type": "execute_result"
    }
   ],
   "source": [
    "y= np.arange(5)\n",
    "y"
   ]
  },
  {
   "cell_type": "code",
   "execution_count": 198,
   "id": "5c3ad305",
   "metadata": {},
   "outputs": [
    {
     "name": "stdout",
     "output_type": "stream",
     "text": [
      "[[0 1 2]\n",
      " [0 1 2]\n",
      " [0 1 2]\n",
      " [0 1 2]\n",
      " [0 1 2]]\n",
      "------------------\n",
      "[[0 0 0]\n",
      " [1 1 1]\n",
      " [2 2 2]\n",
      " [3 3 3]\n",
      " [4 4 4]]\n"
     ]
    }
   ],
   "source": [
    "X,Y=np.meshgrid(x,y)\n",
    "print(X)\n",
    "print('------------------')\n",
    "print(Y)"
   ]
  },
  {
   "cell_type": "code",
   "execution_count": 199,
   "id": "ecdd665d",
   "metadata": {},
   "outputs": [
    {
     "data": {
      "text/plain": [
       "<matplotlib.collections.PathCollection at 0x21025181f10>"
      ]
     },
     "execution_count": 199,
     "metadata": {},
     "output_type": "execute_result"
    },
    {
     "data": {
      "image/png": "[encoded data removed]",
      "text/plain": [
       "<Figure size 432x288 with 1 Axes>"
      ]
     },
     "metadata": {
      "needs_background": "light"
     },
     "output_type": "display_data"
    }
   ],
   "source": [
    "import matplotlib.pylab as plt\n",
    "plt.scatter(X,Y)"
   ]
  },
  {
   "cell_type": "markdown",
   "id": "0a93b59c",
   "metadata": {},
   "source": [
    "## 13. BroadCasting\n",
    "    :  크기가 다른 행렬(벡터) 끼리 연산을 가능하게 하는 것\n",
    "    \n",
    "    + unicast(1:1)\n",
    "    + multicast(다수에게 전달)\n",
    "    + broadcast(방송, 신호를 보내면 불특정 다수가 받는 방식)"
   ]
  },
  {
   "cell_type": "code",
   "execution_count": 211,
   "id": "42ece0b7",
   "metadata": {},
   "outputs": [
    {
     "name": "stdout",
     "output_type": "stream",
     "text": [
      "[[0 1 2]\n",
      " [1 2 3]\n",
      " [2 3 4]\n",
      " [3 4 5]\n",
      " [4 5 6]]\n",
      "[[0]\n",
      " [1]\n",
      " [2]\n",
      " [3]\n",
      " [4]]\n",
      "[[ 0  1  2]\n",
      " [ 2  3  4]\n",
      " [ 4  5  6]\n",
      " [ 6  7  8]\n",
      " [ 8  9 10]]\n",
      "[[0 2 4]\n",
      " [1 3 5]\n",
      " [2 4 6]\n",
      " [3 5 7]\n",
      " [4 6 8]]\n"
     ]
    }
   ],
   "source": [
    "#(2,3) *(3,5) -> 가능? yes 처음 행렬의 열과 두번째 행렬의 행의 크기가 같기 때문에 연산할 수 있다.\n",
    "# 넘파이가 가능하게 해줌 리스트는 불가\n",
    "\n",
    "x= np.vstack([range(7)[i:i+3] for i in range(5)])\n",
    "print(x)\n",
    "\n",
    "y= np.arange(5)[:,np.newaxis]\n",
    "print(y)\n",
    "\n",
    "print(x+y)\n",
    "\n",
    "y= np.arange(3)\n",
    "\n",
    "print(x+y)"
   ]
  },
  {
   "cell_type": "code",
   "execution_count": 204,
   "id": "4fc74fd1",
   "metadata": {},
   "outputs": [
    {
     "data": {
      "text/plain": [
       "[0, 1, 2, 3, 4]"
      ]
     },
     "execution_count": 204,
     "metadata": {},
     "output_type": "execute_result"
    }
   ],
   "source": [
    "[range(7)[i] for i in range(5)]"
   ]
  },
  {
   "cell_type": "code",
   "execution_count": 207,
   "id": "8b7220ca",
   "metadata": {},
   "outputs": [
    {
     "data": {
      "text/plain": [
       "[range(0, 3), range(1, 4), range(2, 5), range(3, 6), range(4, 7)]"
      ]
     },
     "execution_count": 207,
     "metadata": {},
     "output_type": "execute_result"
    }
   ],
   "source": [
    "[range(7)[i:i+3] for i in range(5)]"
   ]
  },
  {
   "cell_type": "markdown",
   "id": "d5a203c5",
   "metadata": {},
   "source": [
    "## 차원 축소(dimension reduction) 연산 \n",
    "\n",
    "+ 최대값 / 최소값 : max(),min(),argmax(),argmin()\n",
    "+ 대표값 : sum(),mean(),median(),std(),var()\n",
    "+ 논리값 : all(),any()\n",
    "\n",
    "---------\n",
    "행렬의 하나의 행에 있는 원소들을 하나의 데이터 집합으로 보고 그 집합의 평균을 구하면 각 행에 대해 하나의 숫자가 나오게 된다.\n",
    "이러한 연산을 차원축소 연산이라고 한다."
   ]
  },
  {
   "cell_type": "code",
   "execution_count": 217,
   "id": "55acf7de",
   "metadata": {},
   "outputs": [
    {
     "name": "stdout",
     "output_type": "stream",
     "text": [
      "3\n",
      "------------------\n",
      "1\n"
     ]
    }
   ],
   "source": [
    "x = np.array([1,3,2,-3]) # 값이 뭐냐가 중요한게 아니라 위치가 필요한게 있음. \n",
    "\n",
    "result=np.argmin(x)\n",
    "print(result)\n",
    "\n",
    "print('------------------')\n",
    "\n",
    "result2 = np.argmax(x)\n",
    "print(result2)"
   ]
  },
  {
   "cell_type": "markdown",
   "id": "7f9e093a",
   "metadata": {},
   "source": [
    "## 15. 기술통계\n",
    "\n",
    "+ len()\n",
    "+ sum() ,mean()\n",
    "+ var(),std()\n",
    "+ max(),std()\n",
    "+ median()\n",
    "+ percentile()\n",
    "+ ...\n"
   ]
  },
  {
   "cell_type": "code",
   "execution_count": 219,
   "id": "94708e3b",
   "metadata": {},
   "outputs": [
    {
     "data": {
      "text/plain": [
       "DescribeResult(nobs=20, minmax=(-1.4443498257293421, 1.4547911133636013), mean=-0.14003442619225945, variance=0.6189023219479076, skewness=0.014857523716627626, kurtosis=-0.7854273419410807)"
      ]
     },
     "execution_count": 219,
     "metadata": {},
     "output_type": "execute_result"
    }
   ],
   "source": [
    "from scipy.stats import describe\n",
    "\n",
    "x = np.random.randn(20)\n",
    "describe(x)\n",
    "\n",
    "# skewness : 왜도(좌우 비대칭)\n",
    "#  kurtosis : 첨도 (위 아래 뾰족한 정도) --> 정규분포 파악하는 "
   ]
  },
  {
   "cell_type": "markdown",
   "id": "4a01573c",
   "metadata": {},
   "source": [
    "## 16. 정렬"
   ]
  },
  {
   "cell_type": "code",
   "execution_count": 223,
   "id": "d8a81f13",
   "metadata": {},
   "outputs": [
    {
     "name": "stdout",
     "output_type": "stream",
     "text": [
      "[[ 3  4  5  7]\n",
      " [ 1  9 11 12]\n",
      " [ 1  2 14 15]]\n",
      "------------------\n",
      "[[ 3  4  5  7]\n",
      " [ 1  9 11 12]\n",
      " [ 1  2 14 15]]\n",
      "------------------\n",
      "[[ 1  3  1  7]\n",
      " [ 2 12  5  9]\n",
      " [ 4 15 11 14]]\n"
     ]
    }
   ],
   "source": [
    "arr = np.array([[4,3,5,7],\n",
    "               [1,12,11,9],\n",
    "               [2,15,1,14]])\n",
    "\n",
    "print(np.sort(arr)) # 각 행별 정렬 \n",
    "print('------------------')\n",
    "print(np.sort(arr,axis=1)) # 행을 기준으로 정렬\n",
    "print('------------------')\n",
    "print(np.sort(arr,axis=0)) # 열을 기준으로 정렬 "
   ]
  },
  {
   "cell_type": "code",
   "execution_count": 227,
   "id": "97696e2a",
   "metadata": {},
   "outputs": [
    {
     "name": "stdout",
     "output_type": "stream",
     "text": [
      "[[ 3  4  5  7]\n",
      " [ 1  9 11 12]\n",
      " [ 1  2 14 15]]\n"
     ]
    }
   ],
   "source": [
    "print(arr) # --> 원본에는 안바뀜\n",
    "\n",
    "# 원본에 적용 \n",
    "arr= np.sort(arr)\n",
    "\n",
    "# 또는\n",
    "arr.sort()\n"
   ]
  },
  {
   "cell_type": "code",
   "execution_count": 233,
   "id": "81ad04dd",
   "metadata": {},
   "outputs": [
    {
     "name": "stdout",
     "output_type": "stream",
     "text": [
      "[2 3 1 0]\n",
      "[12 25 38 42]\n"
     ]
    }
   ],
   "source": [
    "#### argsort : 인덱스로 정렬을 해주는 \n",
    "\n",
    "arr = np.array([42,38,12,25]) # 0 =45,1=38,2=12,3=25\n",
    "idx=np.argsort(arr)\n",
    "print(idx)\n",
    "\n",
    "print(arr[idx]) # 정렬된 값을 보여주는 "
   ]
  },
  {
   "cell_type": "code",
   "execution_count": 234,
   "id": "ccd8d273",
   "metadata": {},
   "outputs": [
    {
     "name": "stdout",
     "output_type": "stream",
     "text": [
      "[42 38 25 12]\n"
     ]
    }
   ],
   "source": [
    "#### 내림차순\n",
    "print(np.sort(arr)[::-1]) # (::) 슬라이스"
   ]
  },
  {
   "cell_type": "code",
   "execution_count": 241,
   "id": "ffc40b8a",
   "metadata": {},
   "outputs": [
    {
     "name": "stdout",
     "output_type": "stream",
     "text": [
      "[0, 1, 2, 3, 4, 5, 6, 7, 8, 9]\n",
      "[0, 1, 2, 3, 4, 5, 6, 7, 8, 9]\n",
      "[0, 2, 4, 6, 8]\n",
      "[9, 8, 7, 6, 5, 4, 3, 2, 1, 0]\n",
      "[9, 7, 5, 3, 1]\n"
     ]
    }
   ],
   "source": [
    "# 슬라이스: 배열[시작위치 : 끝 위치: 간격]\n",
    "ex = range(10)\n",
    "\n",
    "\n",
    "print(list(ex)) # 1이니까 생략 가능 \n",
    "print(list(ex[::1]))# 처음, 끝 값 생략 --> 다 가져와라 , 단 1씩 증가해서 \n",
    "print(list(ex[::2]))\n",
    "print(list(ex[::-1]))# 역순\n",
    "print(list(ex[::-2]))"
   ]
  },
  {
   "cell_type": "markdown",
   "id": "3745c9e1",
   "metadata": {},
   "source": [
    "## 17. 난수 \n",
    "\n",
    "+ rand() : 0~ 1 사이의 균일 분포 \n",
    "+ randn() : 표준 정규분포에서 난수 뽑기\n",
    "+ randint() : 균일분포 내에 정수값을 뽑는( 균일한 분포) 1/6 ~~~~~~~~1/6"
   ]
  },
  {
   "cell_type": "code",
   "execution_count": 3,
   "id": "8873fa09",
   "metadata": {},
   "outputs": [
    {
     "name": "stdout",
     "output_type": "stream",
     "text": [
      "[0.23680672 0.0888871  0.78836359 0.15297592 0.14999744 0.66063905\n",
      " 0.80423883 0.66817114 0.12649854 0.48900506]\n",
      "====================\n",
      "[[0.30950908 0.94150989 0.77066721 0.98197866 0.04663844]\n",
      " [0.896354   0.13417833 0.73447807 0.5373641  0.04219753]\n",
      " [0.22220021 0.53995867 0.84982298 0.71899397 0.01219261]]\n"
     ]
    }
   ],
   "source": [
    "print(np.random.rand(10))\n",
    "print('====================')\n",
    "print(np.random.rand(3,5)) # 2 차원으로도 뽑을 수 있음."
   ]
  },
  {
   "cell_type": "code",
   "execution_count": 7,
   "id": "6572ab86",
   "metadata": {},
   "outputs": [
    {
     "name": "stdout",
     "output_type": "stream",
     "text": [
      "6\n",
      "====================\n",
      "13\n",
      "====================\n",
      "[12 14 16 13 12 18 13 13 11 14 18 15 16 12 13 19 15 19 18 16 13 17 15 18\n",
      " 19 15 19 17 17 17 16 12 19 12 17 12 19 19 17 11 16 11 11 19 18 11 17 16\n",
      " 14 11 19 16 19 18 12 11 16 12 19 19 17 13 19 16 11 16 13 19 15 12 11 14\n",
      " 16 14 12 12 18 15 15 11 13 11 14 16 13 15 17 12 16 12 15 11 17 19 19 17\n",
      " 16 13 13 11]\n",
      "====================\n",
      "[[14 15 14 12]\n",
      " [18 18 18 13]\n",
      " [15 18 19 14]]\n"
     ]
    }
   ],
   "source": [
    "print(np.random.randint(10)) # 0~9까지 사이의 난수 1개\n",
    "print('====================')\n",
    "print(np.random.randint(11,20)) # 범위 설정 가능 11 부터 19까지\n",
    "print('====================')\n",
    "print(np.random.randint(11,20,size=100)) # 100 개 나타내기 \n",
    "print('====================')\n",
    "print(np.random.randint(11,20,size=(3,4))) # 2차원도 가능 "
   ]
  },
  {
   "cell_type": "code",
   "execution_count": 11,
   "id": "799b78d0",
   "metadata": {},
   "outputs": [
    {
     "data": {
      "text/plain": [
       "array([0.54340494, 0.27836939])"
      ]
     },
     "execution_count": 11,
     "metadata": {},
     "output_type": "execute_result"
    }
   ],
   "source": [
    "#### 재현성(난수 고정) 처음에만 난수 그 후로는 고정 --> 머신러닝때 많이 활욜됨.\n",
    "\n",
    "np.random.seed(100) # 100은 위치\n",
    "\n",
    "np.random.rand(2) # 다시 실행하면 난수가 바뀌지 않음."
   ]
  },
  {
   "cell_type": "code",
   "execution_count": 18,
   "id": "07ebd3e5",
   "metadata": {},
   "outputs": [
    {
     "name": "stdout",
     "output_type": "stream",
     "text": [
      "[0 1 2 3 4 5 6 7 8 9]\n",
      "[1 8 3 9 2 4 6 5 7 0]\n"
     ]
    }
   ],
   "source": [
    "##### 데이터의 순서 바꾸기\n",
    "\n",
    "x= np.arange(10)\n",
    "print(x)\n",
    "\n",
    "np.random.shuffle(x) #랜덤하게 인덱스를 섞어 줌(실행할때 마다)\n",
    "print(x)"
   ]
  },
  {
   "cell_type": "code",
   "execution_count": 37,
   "id": "287a2c7a",
   "metadata": {},
   "outputs": [
    {
     "name": "stdout",
     "output_type": "stream",
     "text": [
      "[4 1 1 2 3 1 4]\n",
      "====================\n",
      "[3 2 1 0 4]\n",
      "====================\n",
      "[4 0 2 4 4 0 2 3 0 2]\n",
      "[4 0 4 4 4 4 4 2 4 4]\n"
     ]
    }
   ],
   "source": [
    "##### 샘플링: 복원(defualt), 비복원\n",
    "\n",
    "print(np.random.choice(5,7)) # 범위, 뽑는 횟수 #0~4까지의 숫자 중에서 7번 추출(복원 추출)\n",
    "print('====================')\n",
    "print(np.random.choice(5,5,replace=False)) # 바복원 추출(중복 x), 그래서 범위 이상 추출 x, 한번 뽑은건 절대 뽑지 않음\n",
    "print('====================')\n",
    "#복원 추출일 때 확률을 지정해서 특정 값을 더 많이 나오게끔\n",
    "print(np.random.choice(5,10)) # 어떤게 더 많이 나올지 모름 \n",
    "print(np.random.choice(5,10,p=[0.1,0,0.3,0,0.6]))# 확률로 정해줌 0,1,2,3,4 가 나올 확률을 지정 0 =0.1, 4=0.6 으로 4가 많이 나오게"
   ]
  },
  {
   "cell_type": "markdown",
   "id": "b4347555",
   "metadata": {},
   "source": [
    "## 18. 정수형 데이터 카운팅: unique(),bincount()"
   ]
  },
  {
   "cell_type": "code",
   "execution_count": 41,
   "id": "c77c4eae",
   "metadata": {},
   "outputs": [
    {
     "name": "stdout",
     "output_type": "stream",
     "text": [
      "5\n",
      "['a' 'b' 'c']\n",
      "3\n",
      "====================\n",
      "['a' 'b' 'c'] [2 2 1]\n"
     ]
    }
   ],
   "source": [
    "##### unique\n",
    "\n",
    "arr = np.array(['a','b','b','c','a'])\n",
    "print(len(arr))\n",
    "print(np.unique(arr)) # 중복된것은 빼고 카운팅\n",
    "print(len(np.unique(arr))) # 중복된 것은 빼고 갯수\n",
    "\n",
    "print('====================')\n",
    "##### 중복된 갯수 알고 싶을 때\n",
    "idx,cnt=np.unique(arr,return_counts=True)\n",
    "print(idx,cnt)"
   ]
  },
  {
   "cell_type": "code",
   "execution_count": 43,
   "id": "6cc226bf",
   "metadata": {},
   "outputs": [
    {
     "name": "stdout",
     "output_type": "stream",
     "text": [
      "(array([1, 2, 3]), array([2, 3, 1], dtype=int64))\n",
      "[0 2 3 1 0 0]\n"
     ]
    }
   ],
   "source": [
    "##### bincount : 중복된 갯수를 알려주는 것은 동일, 그러나 발생하지 않은 사건에 대해서도 카운팅 해줌(중복되지 않은 것도 알려줌) \n",
    "\n",
    "arr=np.array([1,1,2,2,2,3])\n",
    "\n",
    "print(np.unique(arr,return_counts=True))\n",
    "print(np.bincount(arr,minlength=6))# 결과를 보면 0은 0번 1은 2번 이런식으로 알려줌 , 6번 굴렸을 때 "
   ]
  },
  {
   "cell_type": "markdown",
   "id": "67a8c219",
   "metadata": {},
   "source": [
    "## 실습: 영화 평점 데이터 \n",
    "\n",
    "+ https://grouplens.org/datasets/movielens/\n",
    "    -Order Dataset 에서 MovieLens 1 M DataSet 받기"
   ]
  },
  {
   "cell_type": "code",
   "execution_count": 3,
   "id": "7672b491",
   "metadata": {},
   "outputs": [],
   "source": [
    "import numpy as np"
   ]
  },
  {
   "cell_type": "code",
   "execution_count": 4,
   "id": "c208577f",
   "metadata": {},
   "outputs": [],
   "source": [
    "#### 넘파이로 불러오기 - 가져올때 바로 배열로 가져옴\n",
    "data=np.loadtxt('./data/ml-1m/ratings.dat',delimiter='::',dtype=np.int64)"
   ]
  },
  {
   "cell_type": "code",
   "execution_count": 6,
   "id": "2c03bf0a",
   "metadata": {},
   "outputs": [
    {
     "name": "stdout",
     "output_type": "stream",
     "text": [
      "[[        1      1193         5 978300760]\n",
      " [        1       661         3 978302109]\n",
      " [        1       914         3 978301968]\n",
      " ...\n",
      " [     6040       562         5 956704746]\n",
      " [     6040      1096         4 956715648]\n",
      " [     6040      1097         4 956715569]]\n",
      "(1000209, 4)\n"
     ]
    }
   ],
   "source": [
    "print(data)\n",
    "print(data.shape)"
   ]
  },
  {
   "cell_type": "code",
   "execution_count": 7,
   "id": "b8566849",
   "metadata": {},
   "outputs": [
    {
     "data": {
      "text/plain": [
       "array([[        1,      1193,         5, 978300760],\n",
       "       [        1,       661,         3, 978302109],\n",
       "       [        1,       914,         3, 978301968],\n",
       "       [        1,      3408,         4, 978300275],\n",
       "       [        1,      2355,         5, 978824291],\n",
       "       [        1,      1197,         3, 978302268],\n",
       "       [        1,      1287,         5, 978302039],\n",
       "       [        1,      2804,         5, 978300719],\n",
       "       [        1,       594,         4, 978302268],\n",
       "       [        1,       919,         4, 978301368],\n",
       "       [        1,       595,         5, 978824268],\n",
       "       [        1,       938,         4, 978301752],\n",
       "       [        1,      2398,         4, 978302281],\n",
       "       [        1,      2918,         4, 978302124],\n",
       "       [        1,      1035,         5, 978301753],\n",
       "       [        1,      2791,         4, 978302188],\n",
       "       [        1,      2687,         3, 978824268],\n",
       "       [        1,      2018,         4, 978301777],\n",
       "       [        1,      3105,         5, 978301713],\n",
       "       [        1,      2797,         4, 978302039]], dtype=int64)"
      ]
     },
     "execution_count": 7,
     "metadata": {},
     "output_type": "execute_result"
    }
   ],
   "source": [
    "# 첫행부터 20행까지 출력 \n",
    "data = np.array(data)\n",
    "data[:20,]"
   ]
  },
  {
   "cell_type": "code",
   "execution_count": 8,
   "id": "dd11ab2a",
   "metadata": {},
   "outputs": [
    {
     "data": {
      "text/plain": [
       "array([[   1,  720],\n",
       "       [   1, 1270],\n",
       "       [   1,  527],\n",
       "       [   1, 2340],\n",
       "       [   1,   48],\n",
       "       [   1, 1097],\n",
       "       [   1, 1721],\n",
       "       [   1, 1545],\n",
       "       [   1,  745]], dtype=int64)"
      ]
     },
     "execution_count": 8,
     "metadata": {},
     "output_type": "execute_result"
    }
   ],
   "source": [
    "# 21행부터 30행까지 userid와 movieid 만 출력\n",
    "#data[21:30,0:2]\n",
    "data[21:30,:2]"
   ]
  },
  {
   "cell_type": "code",
   "execution_count": 6,
   "id": "e9bdbc32",
   "metadata": {},
   "outputs": [
    {
     "name": "stdout",
     "output_type": "stream",
     "text": [
      "3.581564453029317\n",
      "3.581564453029317\n"
     ]
    }
   ],
   "source": [
    "# 전체 평점에 대한 평균\n",
    "print(data[:,2].mean())\n",
    "print(np.mean(data[:,2]))\n",
    "\n"
   ]
  },
  {
   "cell_type": "code",
   "execution_count": 12,
   "id": "97b39074",
   "metadata": {},
   "outputs": [
    {
     "name": "stdout",
     "output_type": "stream",
     "text": [
      "[   1    2    3 ... 6038 6039 6040]\n",
      "결과: [[1, 4.188679245283019], [2, 3.7131782945736433], [3, 3.9019607843137254], [4, 4.190476190476191], [5, 3.1464646464646466], [6, 3.9014084507042255], [7, 4.32258064516129], [8, 3.884892086330935], [9, 3.7358490566037736], [10, 4.114713216957606]]\n"
     ]
    }
   ],
   "source": [
    "# 사용자별로 평점 평균(10명 출력)\n",
    "# 구별을 해야함. \n",
    "# 중복된 아이디를 빼고 \n",
    "\n",
    "user_id = np.unique(data[:,0])\n",
    "print(user_id)\n",
    "\n",
    "mean_values =[]\n",
    "for id in user_id: #6040개의 아이디 가져오기 \n",
    "    data_for_user=data[data[:,0]== id, : ]# 1번 아이디 데이터 가져오기\n",
    "    value=data_for_user[:,2].mean()\n",
    "    mean_values.append([id,value])\n",
    "\n",
    "print('결과:',mean_values[:10])"
   ]
  },
  {
   "cell_type": "code",
   "execution_count": 34,
   "id": "43d4a35a",
   "metadata": {},
   "outputs": [
    {
     "name": "stdout",
     "output_type": "stream",
     "text": [
      "[[1.00000000e+00 4.18867925e+00]\n",
      " [2.00000000e+00 3.71317829e+00]\n",
      " [3.00000000e+00 3.90196078e+00]\n",
      " ...\n",
      " [6.03800000e+03 3.80000000e+00]\n",
      " [6.03900000e+03 3.87804878e+00]\n",
      " [6.04000000e+03 3.57771261e+00]]\n",
      "====================\n",
      "[3597 4485 2743 ... 3323 2338  282]\n",
      "[283.           4.96296296]\n",
      "[ 282 2338 3323 ... 2743 4485 3597]\n",
      "[ 282 2338 3323 ... 2743 4485 3597]\n",
      "====================\n",
      "[283.           4.96296296]\n",
      "4.962962962962963\n",
      "====================\n",
      "282\n",
      "[283.           4.96296296]\n",
      "[283.           4.96296296]\n",
      "====================\n",
      "[282]\n"
     ]
    }
   ],
   "source": [
    "# 위의 결과 중 최고 평점 평균을 구하기(userid와 함께)\n",
    "\n",
    "arr_mean_values = np.array(mean_values)\n",
    "print(arr_mean_values)\n",
    "\n",
    "print('====================')\n",
    "\n",
    "print(np.argsort(arr_mean_values[:,1]))# 위치를 가지고 정렬을(defualt는 오름차순) 시킴 실제 아이디는 283\n",
    "print(arr_mean_values[282]) # --> 이게 제일 간단 \n",
    "\n",
    "print(np.argsort(arr_mean_values[:,1])[::-1])#인덱스 지정해주면 내림차순\n",
    "\n",
    "#한줄로\n",
    "print(np.argsort(arr_mean_values[:,1])[::-1])\n",
    "print('====================')\n",
    "print(arr_mean_values[np.argsort(arr_mean_values[:,1])[-1]]) # 한번에\n",
    "#max를 쓰면 --> 누구인지는 안나오니까 안돼\n",
    "print(np.max(arr_mean_values[:,1]))\n",
    "\n",
    "print('====================')\n",
    "#argmax\n",
    "print(np.argmax(arr_mean_values[:,1])) # 가장 높은 평점 id  알려줌 \n",
    "print(arr_mean_values[282])\n",
    "# 한줄로 \n",
    "print(arr_mean_values[np.argmax(arr_mean_values[:,1])])\n",
    "print('====================')\n",
    "print([arr_mean_values.argmax(axis=0)[1]])\n",
    "                             "
   ]
  },
  {
   "cell_type": "code",
   "execution_count": 41,
   "id": "12f8e538",
   "metadata": {},
   "outputs": [],
   "source": [
    "# 결과값을 파일로 저장, 중간중간에 파일로 저장할때 \n",
    "np.savetxt('C:/Users/Administrator/Downloads/seonmin/pythonwork/analysis/data/ml-1m/id_rations.csv',arr_mean_values,delimiter=',',fmt='%.1f')\n"
   ]
  },
  {
   "cell_type": "code",
   "execution_count": null,
   "id": "712861de",
   "metadata": {},
   "outputs": [],
   "source": []
  }
 ],
 "metadata": {
  "kernelspec": {
   "display_name": "Python 3",
   "language": "python",
   "name": "python3"
  },
  "language_info": {
   "codemirror_mode": {
    "name": "ipython",
    "version": 3
   },
   "file_extension": ".py",
   "mimetype": "text/x-python",
   "name": "python",
   "nbconvert_exporter": "python",
   "pygments_lexer": "ipython3",
   "version": "3.8.8"
  }
 },
 "nbformat": 4,
 "nbformat_minor": 5
}
