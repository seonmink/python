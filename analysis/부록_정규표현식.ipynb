{
 "cells": [
  {
   "cell_type": "code",
   "execution_count": null,
   "id": "b45b2410",
   "metadata": {},
   "outputs": [],
   "source": [
    "II. Regular Expression\n",
    "\n",
    "1. 반복 \n",
    "  1) * : 0번 이상 반복(안올 수도 있음)\n",
    "    ab* : ab는 확실한데 뒤에 뭐들어가는지는 모를때, *는 앞글자인 b를 가르킴\n",
    "    b라는 것이 0번이상 반복? :: a,ab,abb,abbbb,....\n",
    "    lo*1 :ll,lol,lool,loool,looool..... 이런식으로 사용 \n",
    "    뽑아내고자 하는 특정 문자열의 규칙을 만들어낼 수 있음 \n",
    "    \n",
    "  2) + : 1번 이상 반복 무조건 한번은 들어가는 \n",
    "    ab+ :ab ,abb,abbb,....\n",
    "    \n",
    "  3) ? : 0회 또는 1회(갯수를 정확하게 알고 있을때 사용하면 좋음)\n",
    "    ab? : a,ab\n",
    "    \n",
    "  4) {m} : m회 반복 \n",
    "    a{3}b :aaab\n",
    "    \n",
    "  5) {m, n}: m회 부터 n회까지 반복 \n",
    "    a{2,3}bc: aabc, aaabc\n",
    "    \n",
    "2. 매칭\n",
    "  1) . : 줄바꿈 문자(\\n)를 제외한 모든 문자와 일치하는 문자를 찾아라\n",
    "    a.b : aab,abb,acb,adb.... 줄바꿈 문자 제외하고 가운데에 누가와도 상관이     없음.\n",
    "  \n",
    "  2) ^ : 문자열의 시작\n",
    "    ^abc: abc... 무조건 a로 시각해야함.\n",
    "    \n",
    "  3) $ : 문자열의 마지막\n",
    "    $a : 어떤 문자로 시작해도 상관 없는데 무조건 마지막에는 a로 끝나야 함.\n",
    "          zxcvba, za\n",
    "  \n",
    "  4) [ ]: 문자 집합 중 한 문자와 매치 \n",
    "    [abc]xyz : axyz,bxyz,cxyz\n",
    "    범위 지정 가능 \n",
    "    [a-z]bc : abc,bbc,cbc,dbc,...,zbc\n",
    "    a[.]b : a.b\n",
    "    [a^bc]hello : b라는 단어를 제외해라 ahello, chello\n",
    "    [a-zA-Z0-9]hello : 특수 문자를 제외한 모든 숫자와 문자가 올 수 있다\n",
    "    \n",
    "3. 특수문자(\\문자)\n",
    "  1) \\d : 모든 숫자와 매치\n",
    "    ab\\d\\dc : ab00c,ab01c,ab99c,...\n",
    "    ab[0-9][0-9]c\n",
    "    \n",
    "  2) \\D : 숫자가 아닌 나머지 문자와 매치 \n",
    "  \n",
    "  3) \\s : 공백문자와 매치 \n",
    "  \n",
    "  4) \\S : 공백문자를 제외한 모든 것과 매치 \n",
    "  \n",
    "  5) \\w : 숫자 또는 문자와 매치\n",
    "  \n",
    "  6) \\W : 숫자 또는 문자가 아닌 모든 문자와 매치 "
   ]
  },
  {
   "cell_type": "markdown",
   "id": "f1d70705",
   "metadata": {},
   "source": [
    "+ https://docs.python.org/3/library/re.html?highlight=re#module-re"
   ]
  },
  {
   "cell_type": "markdown",
   "id": "a04e6c80",
   "metadata": {},
   "source": [
    "#### 파이썬이 제공하는 객체 또는 메서드\n",
    "\n",
    "+ compile() : 정규표현식 객체 생성\n",
    "+ match() : 문자열의 처음부터 정규식과 매치되는지 조사\n",
    "+ search() : 문자열 전체를 검색해서 정규식과 매치되는지 조사\n",
    "+ finding() : 정규식과 매치되는 모든 문자열을 리스트로 리턴 \n",
    "+ finditer() : 정규식과 매치되는 모든 문자열을 반복 가능한 객체로 리턴 \n",
    "+ split() : 문자열 분리(교체)\n",
    "+ sub() : 문자열 변경(교체)\n",
    "+ ... "
   ]
  },
  {
   "cell_type": "code",
   "execution_count": 1,
   "id": "e666332c",
   "metadata": {},
   "outputs": [],
   "source": [
    "#그냥 쓰면 안되고 모듈 임포트 해야함\n",
    "import re"
   ]
  },
  {
   "cell_type": "code",
   "execution_count": 4,
   "id": "f15ae2ce",
   "metadata": {},
   "outputs": [
    {
     "name": "stdout",
     "output_type": "stream",
     "text": [
      "888 abc가나다ABC_888\n"
     ]
    }
   ],
   "source": [
    "m = re.sub(\"[0-9]+\", \"888\", \"1234 abc가나다ABC_567\")\n",
    "print(m)"
   ]
  },
  {
   "cell_type": "code",
   "execution_count": 8,
   "id": "981b533f",
   "metadata": {},
   "outputs": [
    {
     "name": "stdout",
     "output_type": "stream",
     "text": [
      "True\n",
      "False\n"
     ]
    }
   ],
   "source": [
    "# 객체를 생성해서 사용하는 방법 -자주 사용한다면, 객체(변수) 생성해서 쓰는게 편리하다. \n",
    "p = re.compile('[0-9] [a-z]+ .') # 0-9까지의 숫자 중 \"한개\"의 숫자 매칭, 공백 ,한개의 문자 +를 해주면 한개 이상의 문자, 공백\n",
    "# .은 줄바꿈 문자를 제외하고 문자 하나 + 한번 이상 반복 \n",
    "p.match('3 akslmkfsdml alsdlmkflenf345')\n",
    "\n",
    "#친숙하게 알아보기\n",
    "print(bool(p.match('3 akslmkfsdml alsdlmkflenf345')))\n",
    "print(bool(p.match('3 akslmkfsdml, alsdlmkflenf345'))) # , 를 쓰면 매치가 안됨"
   ]
  },
  {
   "cell_type": "code",
   "execution_count": 20,
   "id": "a203be48",
   "metadata": {},
   "outputs": [
    {
     "name": "stdout",
     "output_type": "stream",
     "text": [
      "True\n",
      "False\n",
      "True\n",
      "-------------------------------------------------------------------\n"
     ]
    },
    {
     "data": {
      "text/plain": [
       "True"
      ]
     },
     "execution_count": 20,
     "metadata": {},
     "output_type": "execute_result"
    }
   ],
   "source": [
    "# 한번만 쓰면 된다면 \n",
    "# 바로 함수를 사용하는 방법(객체 생성 x)\n",
    "#re.match('패턴','데이터')\n",
    "\n",
    "print(bool(re.match('[0-9]+th', '35th is everything')))\n",
    "print(bool(re.match('[0-9]+th', 'aaa bbb ccc 35th is everything'))) #--> false\n",
    "# match 함수는 처음부터 검사를 하기 때문에 처음에 맞지 않으면 매치가 되지 않음\n",
    "\n",
    "#search는 전체를 검사해서 매치되는 것을 찾음 그래서 아래 코드는 True가 됨\n",
    "print(bool(re.search('[0-9]+th', 'aaa bbb ccc 35th is everything')))\n",
    "re.search('[0-9]+th', 'aaa bbb ccc 35th is everything') # --> 위치를 알려줌 12번째 부터 15번째까지 있다.\n",
    "\n",
    "print('-------------------------------------------------------------------')\n",
    "\n",
    "#전화번호 매칭되는 패턴 작성: '010-2222-2222은 내 전화 번호 입니다.'\n",
    "bool(re.match('[0-9]{3}-[0-9]{3,4}-[0-9]{4}','010-2222-2222은 내 전화 번호 입니다.'))"
   ]
  },
  {
   "cell_type": "code",
   "execution_count": 30,
   "id": "1d101677",
   "metadata": {},
   "outputs": [
    {
     "name": "stdout",
     "output_type": "stream",
     "text": [
      "<re.Match object; span=(0, 4), match='life'>\n",
      "<re.Match object; span=(0, 4), match='life'>\n",
      "['life', 'is', 'too', 'short']\n",
      "-----------------------\n",
      "<callable_iterator object at 0x000001DAE19C3D60>\n",
      "<re.Match object; span=(0, 4), match='life'>\n",
      "<re.Match object; span=(10, 12), match='is'>\n",
      "<re.Match object; span=(27, 30), match='too'>\n",
      "<re.Match object; span=(34, 39), match='short'>\n"
     ]
    }
   ],
   "source": [
    "##### findall(), finditer()\n",
    "\n",
    "data = 'life 3333 is 2222 3333 444 too 10 short'\n",
    "p=re.compile('[a-z]+')\n",
    "\n",
    "print(p.match(data))\n",
    "print(p.search(data)) # 한개라도 매치되는게 있으면 결과로 나타내줌 \n",
    "# 즉 반복적으로 찾아주는것이 아님 그럴려면 반복문을 써주면됨 근데 반복문 쓰기 귀찮차나...\n",
    "# 그걸 해주는게 findall()\n",
    "\n",
    "m=p.findall(data)\n",
    "print(m)\n",
    "print('-----------------------')\n",
    "#반복이 돌 수 있는 객체로 가져오는 \n",
    "m1 = p.finditer(data)\n",
    "print(m1)\n",
    "for i in m1:\n",
    "    print(i)\n",
    "    \n",
    "# 찾은 것을 따로 따로 저장해줌 --> 저장 스타일만 다르지 findall과 동일한 결과 \n",
    "\n"
   ]
  },
  {
   "cell_type": "code",
   "execution_count": 31,
   "id": "fa86c5f2",
   "metadata": {},
   "outputs": [
    {
     "name": "stdout",
     "output_type": "stream",
     "text": [
      "<callable_iterator object at 0x000001DAE18F9280>\n",
      "<re.Match object; span=(0, 4), match='life'>\n",
      "life\n",
      "<re.Match object; span=(10, 12), match='is'>\n",
      "is\n",
      "<re.Match object; span=(27, 30), match='too'>\n",
      "too\n",
      "<re.Match object; span=(34, 39), match='short'>\n",
      "short\n"
     ]
    }
   ],
   "source": [
    "m1 = p.finditer(data)\n",
    "print(m1)\n",
    "for i in m1:\n",
    "    print(i)\n",
    "    print(i.group()) # -> 정보만 따로 "
   ]
  },
  {
   "cell_type": "code",
   "execution_count": 34,
   "id": "acf8ca40",
   "metadata": {},
   "outputs": [
    {
     "name": "stdout",
     "output_type": "stream",
     "text": [
      "<callable_iterator object at 0x000001DAE19C36D0>\n",
      "<re.Match object; span=(0, 4), match='life'>\n",
      "life\n",
      "(0, 4)\n",
      "<re.Match object; span=(10, 12), match='is'>\n",
      "is\n",
      "(10, 12)\n",
      "<re.Match object; span=(27, 30), match='too'>\n",
      "too\n",
      "(27, 30)\n",
      "<re.Match object; span=(34, 39), match='short'>\n",
      "short\n",
      "(34, 39)\n"
     ]
    }
   ],
   "source": [
    "m1 = p.finditer(data)\n",
    "print(m1)\n",
    "for i in m1:\n",
    "    print(i)\n",
    "    print(i.group())\n",
    "    print(i.span()) # 위치만 따로 "
   ]
  },
  {
   "cell_type": "code",
   "execution_count": 69,
   "id": "dbbb6c48",
   "metadata": {},
   "outputs": [
    {
     "name": "stdout",
     "output_type": "stream",
     "text": [
      "<re.Match object; span=(0, 1), match='1'>\n",
      "['1', '2', '3', '4', '5', '5', '5', '6']\n",
      "<re.Match object; span=(0, 4), match='1234'>\n",
      "<re.Match object; span=(0, 2), match='12'>\n",
      "<re.Match object; span=(0, 3), match='123'>\n"
     ]
    }
   ],
   "source": [
    "data= '1234 abc가나다ABC_555_6'\n",
    "\n",
    "# 숫자 1개만 일치하는 패턴 \n",
    "print(re.match('\\d',data))\n",
    "p = re.compile(\"[0-9]\")\n",
    "m = p.findall(data)\n",
    "print(m)\n",
    "# 숫자 1개 이상 일치하는 패턴\n",
    "print(re.match('\\d+',data))\n",
    "# 숫자 2개와 일치하는 패턴\n",
    "print(re.match('[0-9]{2}',data))\n",
    "# 숫자 2개부터 3개까지 일치하는 패턴 \n",
    "print(re.match('[0-9]{2,3}',data))"
   ]
  },
  {
   "cell_type": "code",
   "execution_count": 83,
   "id": "a0acffe8",
   "metadata": {},
   "outputs": [
    {
     "name": "stdout",
     "output_type": "stream",
     "text": [
      "['abc', 'mbc']\n",
      "['abc', 'mbc']\n",
      "['abc', 'air', 'air']\n",
      "[' air', ' air']\n",
      "['1234']\n",
      "['234 abc가나다ABC_555_6 mbc air air']\n",
      "['1234']\n"
     ]
    }
   ],
   "source": [
    "data = '1234 abc가나다ABC_555_6 mbc air air'\n",
    "\n",
    "#bc로 끝나는 세글자를 찾으시오(abc, mbc)\n",
    "print(re.findall('\\w+bc',data))\n",
    "print(re.findall('.[$bc]+',data))\n",
    "#a로 시작하는 세글자(abc,air,air)\n",
    "print(re.findall('a\\w{2}',data))\n",
    "#가장 마지막에 air로 끝나는 패턴(air)\n",
    "print(re.findall('.air',data))\n",
    "#가장 처음에 1로 시작하는 숫자들 (1,1234)\n",
    "print(re.findall('1+\\d*',data))\n",
    "# 1을 뺀 모든 데이터(234 abc가나다ABC_555_6 mbc air air)\n",
    "print(re.findall('[^1]+',data))\n",
    "\n"
   ]
  },
  {
   "cell_type": "code",
   "execution_count": 44,
   "id": "cb7cf048",
   "metadata": {},
   "outputs": [
    {
     "name": "stdout",
     "output_type": "stream",
     "text": [
      "['mbc', 'kbs sbs:ytn']\n",
      "----------------------------------------------------------\n",
      "['mbc', 'kbs', 'sbs', 'ytn']\n",
      "['mbc', 'kbs', 'sbs', 'ytn']\n",
      "['mbc', 'kbs', 'sbs', 'ytn']\n",
      "['mbc', 'kbs', 'sbs', 'ytn']\n"
     ]
    }
   ],
   "source": [
    "##### split()\n",
    "\n",
    "data='mbc,kbs sbs:ytn'\n",
    "\n",
    "print(data.split(\",\")) # 문자열에서 split은 구분자 1개밖에 못써 \n",
    "\n",
    "print('----------------------------------------------------------')\n",
    "# 그러나 정규표현식 split은 여러개의 구분자를 사용할 수 있음.\n",
    "print(re.split('[\\s,:]',data)) # 공백도 올 수 있고 콜론도 올 수 있다. \n",
    "print(re.split(\"[,: ]\", data))\n",
    "print(re.split(\"\\W+\", data))\n",
    "print(re.split(\",|:| \", data))\n"
   ]
  },
  {
   "cell_type": "code",
   "execution_count": 47,
   "id": "c3b96f53",
   "metadata": {},
   "outputs": [
    {
     "name": "stdout",
     "output_type": "stream",
     "text": [
      "69 abc가나다ABC_69_69\n"
     ]
    }
   ],
   "source": [
    "##### sub 특정문자를 다른 문자로 교체해주는 일종의 replace \n",
    "\n",
    "data= '1234 abc가나다ABC_555_6'\n",
    "\n",
    "# re.sub('패턴','바꿀 문자',데이터)\n",
    "m=re.sub('[0-9]+','69',data)\n",
    "print(m)"
   ]
  },
  {
   "cell_type": "code",
   "execution_count": 48,
   "id": "72d285cd",
   "metadata": {
    "scrolled": true
   },
   "outputs": [
    {
     "name": "stdout",
     "output_type": "stream",
     "text": [
      "69696969 abc가나다ABC_696969_69\n"
     ]
    }
   ],
   "source": [
    "#한자리만 찾아서 다 69로 바꿔라!!! \n",
    "m=re.sub('[0-9]','69',data)\n",
    "print(m)"
   ]
  },
  {
   "cell_type": "code",
   "execution_count": 5,
   "id": "e7328ff2",
   "metadata": {},
   "outputs": [
    {
     "data": {
      "text/plain": [
       "'888 abc가나다ABC_888'"
      ]
     },
     "execution_count": 5,
     "metadata": {},
     "output_type": "execute_result"
    }
   ],
   "source": [
    " m=re.sub(\"[0-9]+\", \"888\", \"1234 abc가나다ABC_567\")\n",
    "m"
   ]
  },
  {
   "cell_type": "code",
   "execution_count": 49,
   "id": "397c4a86",
   "metadata": {},
   "outputs": [
    {
     "name": "stdout",
     "output_type": "stream",
     "text": [
      "mbc,kbs,sbs,ytn\n"
     ]
    }
   ],
   "source": [
    "#구분자가 많은 데이터를 한가지 구분자로 통일시켜버리기\n",
    "data='mbc,kbs sbs:ytn'\n",
    "m=re.sub('\\W+',',',data)\n",
    "print(m)"
   ]
  },
  {
   "cell_type": "code",
   "execution_count": 53,
   "id": "7239d604",
   "metadata": {},
   "outputs": [
    {
     "name": "stdout",
     "output_type": "stream",
     "text": [
      "<re.Match object; span=(0, 3), match='axb'>\n",
      "<re.Match object; span=(0, 3), match='a+b'>\n",
      "None\n",
      "<re.Match object; span=(0, 3), match='a\\nb'>\n"
     ]
    }
   ],
   "source": [
    "##### 컴파일 옵션\n",
    "#: S(or DOTALL), I(or IGNORECASE), M(or MULTILINE)\n",
    "\n",
    "p = re.compile('a.b') # 줄바꿈을 제외한 모든 문자\n",
    "\n",
    "m1 = p.match('axb is bla bla~~')\n",
    "print(m1)\n",
    "\n",
    "m2 = p.match('a+b is bla bla ~~')\n",
    "print(m2)\n",
    "\n",
    "m3 = p.match('a\\nb is bla bla bla ~~') # \\n은 줄바꿈문자기에 매칭 x\n",
    "print(m3)\n",
    "\n",
    "#### 줄바꿈문자 까지도 매치 시킬 수 있게 해주는게 S \n",
    "p = re.compile('a.b',re.S)\n",
    "m3 = p.match('a\\nb is bla bla bla ~~')\n",
    "print(m3)"
   ]
  },
  {
   "cell_type": "code",
   "execution_count": 3,
   "id": "cfaa27c7",
   "metadata": {},
   "outputs": [
    {
     "name": "stdout",
     "output_type": "stream",
     "text": [
      "<re.Match object; span=(0, 1), match='p'>\n",
      "None\n"
     ]
    }
   ],
   "source": [
    "p = re.compile('[a-z]')\n",
    "print(p.match('python'))\n",
    "print(p.match('Python')) # --> 대문자는 안됨."
   ]
  },
  {
   "cell_type": "code",
   "execution_count": 5,
   "id": "f661310a",
   "metadata": {},
   "outputs": [
    {
     "name": "stdout",
     "output_type": "stream",
     "text": [
      "<re.Match object; span=(0, 1), match='P'>\n",
      "<re.Match object; span=(0, 1), match='P'>\n"
     ]
    }
   ],
   "source": [
    "p = re.compile('[a-zA-Z]') # A-Z 추가하면 대문자도 인식\n",
    "print(p.match('Python'))\n",
    "\n",
    "#간단히 하면 \n",
    "p = re.compile('[a-z]',re.I) # 옵션으로 re.I 하면  대소문자 관계 없이 매치\n",
    "print(p.match('Python'))"
   ]
  },
  {
   "cell_type": "code",
   "execution_count": 20,
   "id": "d8d15a9d",
   "metadata": {},
   "outputs": [],
   "source": [
    "data = \"\"\"python one \n",
    "life is too short \n",
    "python two \n",
    "you need python \n",
    "Python three\"\"\""
   ]
  },
  {
   "cell_type": "code",
   "execution_count": 10,
   "id": "2bbf3e66",
   "metadata": {},
   "outputs": [
    {
     "data": {
      "text/plain": [
       "re.compile(r'python', re.IGNORECASE|re.UNICODE)"
      ]
     },
     "execution_count": 10,
     "metadata": {},
     "output_type": "execute_result"
    }
   ],
   "source": [
    "#첫글자 대소문자 상관없이 python으로 시작하는 문자열 \n",
    "re.compile('python',re.I)"
   ]
  },
  {
   "cell_type": "code",
   "execution_count": 11,
   "id": "31f734c8",
   "metadata": {},
   "outputs": [
    {
     "name": "stdout",
     "output_type": "stream",
     "text": [
      "['python one life is too short python two you need python Python three']\n"
     ]
    }
   ],
   "source": [
    "p = re.compile(\"[pP]ython.+\")\n",
    "print(re.findall(p, data))\n"
   ]
  },
  {
   "cell_type": "code",
   "execution_count": 14,
   "id": "e08bd5a2",
   "metadata": {},
   "outputs": [
    {
     "name": "stdout",
     "output_type": "stream",
     "text": [
      "['python one', 'python two', 'Python three']\n"
     ]
    }
   ],
   "source": [
    "p=re.compile(\"[pP]ython [a-z]+\")\n",
    "print(re.findall(p,data))"
   ]
  },
  {
   "cell_type": "code",
   "execution_count": 18,
   "id": "7fbc1a46",
   "metadata": {},
   "outputs": [
    {
     "name": "stdout",
     "output_type": "stream",
     "text": [
      "['python']\n"
     ]
    }
   ],
   "source": [
    "p=re.compile('^[p|P]ython') # 이러면 python만 찾음\n",
    "print(p.findall(data))"
   ]
  },
  {
   "cell_type": "code",
   "execution_count": 21,
   "id": "3e3c8f41",
   "metadata": {},
   "outputs": [
    {
     "name": "stdout",
     "output_type": "stream",
     "text": [
      "['python one']\n"
     ]
    }
   ],
   "source": [
    "p=re.compile('^[p|P]ython\\s\\w+') # 파이썬 다음 공백 다음 어떤 문자도 가능 \n",
    "print(p.findall(data)) # 그러나 한줄에서만 찾음 "
   ]
  },
  {
   "cell_type": "code",
   "execution_count": 22,
   "id": "9b981340",
   "metadata": {},
   "outputs": [
    {
     "name": "stdout",
     "output_type": "stream",
     "text": [
      "['python one', 'python two', 'Python three']\n"
     ]
    }
   ],
   "source": [
    "#여러줄에서 찾고 싶을 때 \n",
    "p=re.compile('^[p|P]ython\\s\\w+',re.M)\n",
    "print(p.findall(data))"
   ]
  },
  {
   "cell_type": "code",
   "execution_count": 26,
   "id": "55b5c0bc",
   "metadata": {},
   "outputs": [
    {
     "name": "stdout",
     "output_type": "stream",
     "text": [
      "<re.Match object; span=(0, 6), match='python'>\n",
      "python\n",
      "0 6\n",
      "(0, 6)\n"
     ]
    }
   ],
   "source": [
    "##### match(), search()의 객체의 메서드로부터 매치된 결과를 어떻게 써야 하나? \n",
    "\n",
    "p= re.compile('[a-z]+')\n",
    "data='python 123 !? python'\n",
    "m=p.match(data)\n",
    "print(m) # --> 이거는 객체 형태\n",
    "\n",
    "print(m.group()) # --> 매치되는 값 가져오기, 매치 여부로 많이 쓰임 \n",
    "print(m.start(),m.end())# 매치되는 값의 시작값과 끝값의 위치를 가져오는 것.\n",
    "\n",
    "#통채로 가져오기 \n",
    "print(m.span())\n",
    "\n",
    "# do it 파이썬책 뒤에 있음 참고 할것 - 정규표현식"
   ]
  },
  {
   "cell_type": "code",
   "execution_count": 31,
   "id": "a337ad06",
   "metadata": {},
   "outputs": [],
   "source": [
    "data = \"\"\"\n",
    "<a href=\"abc1.html\">abc1</a>\n",
    "<a href=\"abc2.html\">abc2</a>\n",
    "<a href=\"abc3.html\">abc3</a>\n",
    "<a href=\"xyz.html\">xyz</a>\n",
    "<a href=\"pic.jpg\">pic</a>\n",
    "\"\"\"\n",
    "\n",
    "#[abc1.html,abc2.html,abc3.html,xyz.html,pic.jpg]"
   ]
  },
  {
   "cell_type": "code",
   "execution_count": 32,
   "id": "f422f477",
   "metadata": {},
   "outputs": [
    {
     "name": "stdout",
     "output_type": "stream",
     "text": [
      "['abc1.html', 'abc2.html', 'abc3.html', 'xyz.html', 'pic.jpg']\n"
     ]
    }
   ],
   "source": [
    "p=re.findall('\\w+[.]\\w+',data)\n",
    "print(p)"
   ]
  },
  {
   "cell_type": "code",
   "execution_count": 33,
   "id": "cd27e61c",
   "metadata": {},
   "outputs": [
    {
     "data": {
      "text/plain": [
       "['abc1.html', 'abc2.html', 'abc3.html', 'xyz.html', 'pic.jpg']"
      ]
     },
     "execution_count": 33,
     "metadata": {},
     "output_type": "execute_result"
    }
   ],
   "source": [
    "p = re.compile(\"\\w+[.]\\w+\")\n",
    "p.findall(data)\n"
   ]
  },
  {
   "cell_type": "code",
   "execution_count": 43,
   "id": "db4e2078",
   "metadata": {},
   "outputs": [
    {
     "name": "stdout",
     "output_type": "stream",
     "text": [
      "['abc1.html', 'abc2.html', 'abc3.html', 'xyz.html', 'pic.jpg']\n",
      "['abc1.html', 'abc2.html', 'abc3.html', 'xyz.html', 'pic.jpg']\n"
     ]
    }
   ],
   "source": [
    "p = re.compile(\"[a-z0-9]+[.html|jpg]+\")\n",
    "print(p.findall(data))\n",
    "\n",
    "p = re.compile(\"[a-z0-9]+[.][h|j]\\w+\")\n",
    "print(p.findall(data))"
   ]
  },
  {
   "cell_type": "code",
   "execution_count": 35,
   "id": "fe4f4f5d",
   "metadata": {},
   "outputs": [
    {
     "name": "stdout",
     "output_type": "stream",
     "text": [
      "['abc1.html', 'abc2.html', 'abc3.html', 'xyz.html', 'pic.jpg']\n"
     ]
    }
   ],
   "source": [
    "p = re.compile(\"\\w+\\.\\w+\")\n",
    "print(p.findall(data))"
   ]
  },
  {
   "cell_type": "code",
   "execution_count": 36,
   "id": "4f565770",
   "metadata": {},
   "outputs": [
    {
     "data": {
      "text/plain": [
       "['abc1.html', 'abc2.html', 'abc3.html', 'xyz.html', 'pic.jpg']"
      ]
     },
     "execution_count": 36,
     "metadata": {},
     "output_type": "execute_result"
    }
   ],
   "source": [
    "p = re.compile('\\w*[.][a-z]*')\n",
    "p.findall(data)\n"
   ]
  },
  {
   "cell_type": "code",
   "execution_count": 38,
   "id": "f397802e",
   "metadata": {},
   "outputs": [
    {
     "data": {
      "text/plain": [
       "['abc1.html', 'abc2.html', 'abc3.html', 'xyz.html', 'pic.jpg']"
      ]
     },
     "execution_count": 38,
     "metadata": {},
     "output_type": "execute_result"
    }
   ],
   "source": [
    "p=re.compile(\"[a-z0-9]+[.][a-z]+\")\n",
    "p.findall(data)"
   ]
  },
  {
   "cell_type": "code",
   "execution_count": 39,
   "id": "2708d652",
   "metadata": {},
   "outputs": [
    {
     "name": "stdout",
     "output_type": "stream",
     "text": [
      "['abc1.html', 'abc2.html', 'abc3.html', 'xyz.html', 'pic.jpg']\n"
     ]
    }
   ],
   "source": [
    "p = re.compile(\"\\w{3,4}[.]\\w+\")\n",
    "print(p.findall(data))\n"
   ]
  },
  {
   "cell_type": "code",
   "execution_count": 45,
   "id": "7359efdc",
   "metadata": {},
   "outputs": [
    {
     "data": {
      "text/plain": [
       "['abc1.html', 'abc2.html', 'abc3.html', 'xyz.html', 'pic.jpg']"
      ]
     },
     "execution_count": 45,
     "metadata": {},
     "output_type": "execute_result"
    }
   ],
   "source": [
    "p=re.compile('href=\"(.+)\"')\n",
    "p.findall(data)"
   ]
  },
  {
   "cell_type": "code",
   "execution_count": 7,
   "id": "92603fd7",
   "metadata": {},
   "outputs": [
    {
     "name": "stdout",
     "output_type": "stream",
     "text": [
      "특종대한민국통일됨후후후조아아주조아cheeze\n"
     ]
    }
   ],
   "source": [
    "import re\n",
    "\n",
    "text = '[특종]대한민국 통일됨(후후후)\\n\\n#조아 #아주 조아 #cheeze'\n",
    "newtext = re.sub(r'[^\\w]', '', text)\n",
    "print( newtext )"
   ]
  },
  {
   "cell_type": "code",
   "execution_count": null,
   "id": "52450ce8",
   "metadata": {},
   "outputs": [],
   "source": [
    "raw string\n",
    "문자열 앞에 r이 붙으면 해당 문자열이 구성된 그대로 문자열로 반환"
   ]
  },
  {
   "cell_type": "code",
   "execution_count": null,
   "id": "826bcbd9",
   "metadata": {},
   "outputs": [],
   "source": []
  },
  {
   "cell_type": "code",
   "execution_count": null,
   "id": "96ca71c3",
   "metadata": {},
   "outputs": [],
   "source": []
  },
  {
   "cell_type": "code",
   "execution_count": null,
   "id": "158b0b6d",
   "metadata": {},
   "outputs": [],
   "source": []
  },
  {
   "cell_type": "code",
   "execution_count": null,
   "id": "7465ee48",
   "metadata": {},
   "outputs": [],
   "source": []
  },
  {
   "cell_type": "code",
   "execution_count": null,
   "id": "38dedf8b",
   "metadata": {},
   "outputs": [],
   "source": []
  },
  {
   "cell_type": "code",
   "execution_count": null,
   "id": "601098ad",
   "metadata": {},
   "outputs": [],
   "source": []
  },
  {
   "cell_type": "code",
   "execution_count": null,
   "id": "25bd4ee1",
   "metadata": {},
   "outputs": [],
   "source": []
  },
  {
   "cell_type": "code",
   "execution_count": null,
   "id": "ef1f5311",
   "metadata": {},
   "outputs": [],
   "source": []
  },
  {
   "cell_type": "code",
   "execution_count": null,
   "id": "c34f47b1",
   "metadata": {},
   "outputs": [],
   "source": []
  },
  {
   "cell_type": "code",
   "execution_count": null,
   "id": "36a402b6",
   "metadata": {},
   "outputs": [],
   "source": []
  },
  {
   "cell_type": "code",
   "execution_count": null,
   "id": "37af9c34",
   "metadata": {},
   "outputs": [],
   "source": []
  },
  {
   "cell_type": "code",
   "execution_count": null,
   "id": "8c87dbdc",
   "metadata": {},
   "outputs": [],
   "source": []
  },
  {
   "cell_type": "code",
   "execution_count": null,
   "id": "32736379",
   "metadata": {},
   "outputs": [],
   "source": []
  },
  {
   "cell_type": "code",
   "execution_count": null,
   "id": "b5b6ac33",
   "metadata": {},
   "outputs": [],
   "source": []
  },
  {
   "cell_type": "code",
   "execution_count": null,
   "id": "aa4da65c",
   "metadata": {},
   "outputs": [],
   "source": []
  },
  {
   "cell_type": "code",
   "execution_count": null,
   "id": "5bb54611",
   "metadata": {},
   "outputs": [],
   "source": []
  },
  {
   "cell_type": "code",
   "execution_count": null,
   "id": "84a08741",
   "metadata": {},
   "outputs": [],
   "source": []
  }
 ],
 "metadata": {
  "kernelspec": {
   "display_name": "Python 3",
   "language": "python",
   "name": "python3"
  },
  "language_info": {
   "codemirror_mode": {
    "name": "ipython",
    "version": 3
   },
   "file_extension": ".py",
   "mimetype": "text/x-python",
   "name": "python",
   "nbconvert_exporter": "python",
   "pygments_lexer": "ipython3",
   "version": "3.8.8"
  }
 },
 "nbformat": 4,
 "nbformat_minor": 5
}
