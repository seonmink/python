{
 "cells": [
  {
   "cell_type": "code",
   "execution_count": 1,
   "id": "f752610e",
   "metadata": {},
   "outputs": [],
   "source": [
    "import pandas as pd\n",
    "import numpy as np\n",
    "#실제 그래프를 그릴 수 있는 서브 함수\n",
    "import matplotlib.pyplot as plt\n",
    "import seaborn as sns\n",
    "\n",
    "#경고표시 생략(일시적으로 생략하는게 좋음) \n",
    "import warnings\n",
    "warnings.filterwarnings(action='ignore')\n",
    "\n",
    "#한글폰트 지정 \n",
    "import matplotlib.font_manager as fm\n",
    "font_name= fm.FontProperties(fname=\"C:/Windows/Fonts/malgun.ttf\").get_name()\n",
    "plt.rc(\"font\",family=font_name)\n",
    "\n",
    "import matplotlib as mpl\n",
    "mpl.rcParams['axes.unicode_minus']=False\n",
    "\n",
    "import urllib.request as req\n",
    "from urllib.request import urlopen\n",
    "from urllib.error import HTTPError, URLError\n",
    "import urllib.parse\n",
    "from bs4 import BeautifulSoup\n",
    "import requests"
   ]
  },
  {
   "cell_type": "code",
   "execution_count": 2,
   "id": "e7accef7",
   "metadata": {},
   "outputs": [],
   "source": [
    "# 데이터를 마냥 쉽게 긁어 올수는없음 그럴때는 어떻할까??? "
   ]
  },
  {
   "cell_type": "markdown",
   "id": "da4956bf",
   "metadata": {},
   "source": [
    "## Selenium\n",
    "\n",
    "+ 원격으로 조정할 수 있는 웹페이지\n",
    "+ 코딩으로 로그인을 시킬 수 있음. \n",
    "+ 내가 코드로 조정할 수 있다는 것임. \n",
    "\n",
    "+ Chrome Driver 또는 PhantomJS 를 이용해서 원격으로 연결시켜줄 수 있는 프로그램\n",
    "\n",
    "    - 구글에서 'chrome driver' 로 검색해서 현재 버전에 맞는 프로그램을 다운로드(현재 그롬브라우져에 맞는 드라이버 설치하면 댐)\n",
    "    \n",
    "  95.0.4638.69\n",
    "  \n",
    "+ pip install selenium"
   ]
  },
  {
   "cell_type": "code",
   "execution_count": 2,
   "id": "6f47817f",
   "metadata": {},
   "outputs": [],
   "source": [
    "# 설치 test\n",
    "from selenium import webdriver"
   ]
  },
  {
   "cell_type": "code",
   "execution_count": 11,
   "id": "22a6983b",
   "metadata": {},
   "outputs": [],
   "source": [
    "driver=webdriver.Chrome('C:/Program Files/cd/chromedriver.exe')\n",
    "driver.get('https://www.naver.com')\n",
    "### 실행하면 브라우저 창이 하나 생김 --> 이게 아바타임."
   ]
  },
  {
   "cell_type": "code",
   "execution_count": 12,
   "id": "62df1463",
   "metadata": {},
   "outputs": [
    {
     "data": {
      "text/plain": [
       "True"
      ]
     },
     "execution_count": 12,
     "metadata": {},
     "output_type": "execute_result"
    }
   ],
   "source": [
    "#### 현재 화면을 스크린 샷을 할 수 있음 \n",
    "driver.save_screenshot('data/001.png')"
   ]
  },
  {
   "cell_type": "code",
   "execution_count": 13,
   "id": "2f0a4e7d",
   "metadata": {},
   "outputs": [],
   "source": [
    "#### 브라우저 닫기도 코드로 할 수 있음. \n",
    "driver.close()"
   ]
  },
  {
   "cell_type": "code",
   "execution_count": 16,
   "id": "4636a216",
   "metadata": {},
   "outputs": [],
   "source": [
    "#### 메일 내용을 수집을 해야한다. 로그인을 해야 데이터를 긁어 올 수 있을 때 \n",
    "#--> 이것을 자동적으로 접근해서 해야할 때도 코드로 자동화 할 수 있음 \n",
    "driver=webdriver.Chrome('C:/Program Files/cd/chromedriver.exe')\n",
    "driver.get('https://logins.daum.net/accounts/signinform.do?url=https%3A%2F%2Fwww.daum.net%2F')\n"
   ]
  },
  {
   "cell_type": "code",
   "execution_count": 26,
   "id": "5aaffe60",
   "metadata": {},
   "outputs": [],
   "source": [
    "## 로그인 할려고 할때\n",
    "# id 창에 접근할 수 tag를 가져 와야함. --> 브라우져에 관리자 모드에서 살펴보면 \n",
    "# tag는 input임 \n",
    "elem_login=driver.find_element_by_id('id') # id 속성값이 id 인 애를 가져오겠다\n",
    "elem_login.clear() # 잘못친 id도 지울 수 있음 ㅎㅎ \n",
    "\n",
    "#원격으로 id 입력 \n",
    "elem_login.send_keys('blue4sky4')\n",
    "\n",
    "## pw 도 동일하게 할 수 있음!!! \n",
    "elem_pwd =driver.find_element_by_id('inputPwd')\n",
    "elem_pwd.send_keys('4897dmsthf!!')\n",
    "\n",
    "## 그다음에 로그인 버튼을 눌러야하자나 그렇담 어떻게 하까? \n",
    "# 클릭이라는 사건(event)을 발생시키는 것임 위에는 그냥 입력만 하는거고 그래서 다름\n",
    "# 특별한 경로를 알아내야함. \n",
    "# 로그인 버튼 태그를 관리자 모드에서 찾아서 마우스 오른쪽 버튼에서 카피 -> Xpath\n",
    "xpath = \"\"\"//*[@id=\"loginBtn\"]\"\"\"#--> 버튼의 접근\n",
    "driver.find_element_by_xpath(xpath).click() #xpath 에는 이벤트 생성하는 함수 있음\n",
    "\n"
   ]
  },
  {
   "cell_type": "code",
   "execution_count": 27,
   "id": "02078374",
   "metadata": {},
   "outputs": [],
   "source": [
    "driver.close()"
   ]
  },
  {
   "cell_type": "markdown",
   "id": "3fec55bf",
   "metadata": {},
   "source": [
    "---\n",
    "## 셀프 주유소는 과연 저렴한가? \n",
    "\n",
    "+ 실제 셀프 주유소가 저렴한지에 대한 팩트 체크\n",
    "+ 가장 싼 주유소는 어디인가? \n",
    "+ http://www.opinet.co.kr\n"
   ]
  },
  {
   "cell_type": "code",
   "execution_count": null,
   "id": "3ae8d4b0",
   "metadata": {},
   "outputs": [],
   "source": [
    "# 페이지가 바뀌여야 주소 대체해서 스크랩을 할 수 있어야 하는데 구가 바뀌어도 \n",
    "# 페이지가 바뀌지 않음 구별할 수 있는게 없음 주소가 같음 어떤 정보가 필요하다고\n",
    "# 요청할 수 없기 때문에 예전 방식은 쓸 수 없음 \n",
    "# Selenium이 도와 줄 수 있음(일반적인 방식을 쓸 수 없을 때)\n"
   ]
  },
  {
   "cell_type": "markdown",
   "id": "78ad5444",
   "metadata": {},
   "source": [
    "### 1. 서울시 구별 주유소 가격 정보 가져오기"
   ]
  },
  {
   "cell_type": "markdown",
   "id": "91de9f34",
   "metadata": {},
   "source": [
    "#### (1) Sample data"
   ]
  },
  {
   "cell_type": "code",
   "execution_count": 48,
   "id": "fbcc4b32",
   "metadata": {},
   "outputs": [],
   "source": [
    "driver=webdriver.Chrome('C:/Program Files/cd/chromedriver.exe')\n",
    "driver.get('https://www.opinet.co.kr/searRgSelect.do')\n",
    "# 실행해보면 메인페이지가 나옴(프로그래밍 되어 있어서...)\n",
    "# 이렇때는 약간의 수동이 필요 \n",
    "# 싼 주유소 찾기 --> 지역별 클릭 "
   ]
  },
  {
   "cell_type": "code",
   "execution_count": 49,
   "id": "ead188f4",
   "metadata": {},
   "outputs": [
    {
     "name": "stdout",
     "output_type": "stream",
     "text": [
      "서울특별시\n",
      "부산광역시\n"
     ]
    },
    {
     "data": {
      "text/plain": [
       "['서울특별시',\n",
       " '부산광역시',\n",
       " '대구광역시',\n",
       " '인천광역시',\n",
       " '광주광역시',\n",
       " '대전광역시',\n",
       " '울산광역시',\n",
       " '세종특별자치시',\n",
       " '경기도',\n",
       " '강원도',\n",
       " '충청북도',\n",
       " '충청남도',\n",
       " '전라북도',\n",
       " '전라남도',\n",
       " '경상북도',\n",
       " '경상남도',\n",
       " '제주특별자치도']"
      ]
     },
     "execution_count": 49,
     "metadata": {},
     "output_type": "execute_result"
    }
   ],
   "source": [
    "##### 시 목록을 가져오기 \n",
    "# 목록이 쭉 나타나니까 event가 발생함 (무언가 행동할때 발생이 되는)\n",
    "# xpath 를 해야하니까 tag를 가져와야함. --> 태그는 select\n",
    "# 태그에 마우스 오른쪽 카피 xpath \n",
    "\n",
    "si_list_raw=driver.find_element_by_xpath(\"\"\"//*[@id=\"SIDO_NM0\"]\"\"\")\n",
    "\n",
    "#목록들의 값을 가져올 때 id가 없으니 tag값으로 가져와야해\n",
    "# 반드시 elements로  써야함\n",
    "si_list=si_list_raw.find_elements_by_tag_name('option')\n",
    "si_list # --> 목록을 다 가지고 온거임 \n",
    "print(si_list[1].get_attribute('value')) # 확인해 보자 \n",
    "print(si_list[2].get_attribute('value'))\n",
    "\n",
    "si_names = [option.get_attribute('value') for option in si_list]\n",
    "si_names.remove('')\n",
    "si_names"
   ]
  },
  {
   "cell_type": "code",
   "execution_count": 50,
   "id": "21d978e0",
   "metadata": {},
   "outputs": [],
   "source": [
    "##### 시 선택하기 \n",
    "element=driver.find_element_by_id('SIDO_NM0')\n",
    "element.send_keys(si_name[0])"
   ]
  },
  {
   "cell_type": "code",
   "execution_count": 51,
   "id": "6c3f20c3",
   "metadata": {},
   "outputs": [
    {
     "name": "stdout",
     "output_type": "stream",
     "text": [
      "강남구\n",
      "강동구\n"
     ]
    },
    {
     "data": {
      "text/plain": [
       "['강남구',\n",
       " '강동구',\n",
       " '강북구',\n",
       " '강서구',\n",
       " '관악구',\n",
       " '광진구',\n",
       " '구로구',\n",
       " '금천구',\n",
       " '노원구',\n",
       " '도봉구',\n",
       " '동대문구',\n",
       " '동작구',\n",
       " '마포구',\n",
       " '서대문구',\n",
       " '서초구',\n",
       " '성동구',\n",
       " '성북구',\n",
       " '송파구',\n",
       " '양천구',\n",
       " '영등포구',\n",
       " '용산구',\n",
       " '은평구',\n",
       " '종로구',\n",
       " '중구',\n",
       " '중랑구']"
      ]
     },
     "execution_count": 51,
     "metadata": {},
     "output_type": "execute_result"
    }
   ],
   "source": [
    "##### 구 목록 가져오기 \n",
    "gu_list_raw=driver.find_element_by_xpath(\"\"\"//*[@id=\"SIGUNGU_NM0\"]\"\"\")\n",
    "gu_list=gu_list_raw.find_elements_by_tag_name('option')\n",
    "gu_list\n",
    "\n",
    "print(gu_list[1].get_attribute('value')) # 확인해 보자 \n",
    "print(gu_list[2].get_attribute('value'))\n",
    "gu_names = [option.get_attribute('value') for option in gu_list]\n",
    "gu_names.remove('')\n",
    "gu_names"
   ]
  },
  {
   "cell_type": "code",
   "execution_count": 63,
   "id": "4f8aebaf",
   "metadata": {},
   "outputs": [],
   "source": [
    "##### 구선택하기\n",
    "element=driver.find_element_by_id('SIGUNGU_NM0')\n",
    "element.send_keys(gu_names[11])"
   ]
  },
  {
   "cell_type": "code",
   "execution_count": null,
   "id": "200b28af",
   "metadata": {},
   "outputs": [],
   "source": [
    "##### 조회버튼 누르고 엑셀 저장 까지"
   ]
  },
  {
   "cell_type": "code",
   "execution_count": 64,
   "id": "539bba28",
   "metadata": {},
   "outputs": [],
   "source": [
    "driver.find_element_by_xpath(\"\"\"//*[@id=\"searRgSelect\"]/span\"\"\").click()\n"
   ]
  },
  {
   "cell_type": "code",
   "execution_count": 65,
   "id": "0b57e779",
   "metadata": {},
   "outputs": [],
   "source": [
    "##### 엑셀저장 버튼 \n",
    "# 경로 지정안하면 여기다가 저장됨 C:\\Users\\Administrator\\Downloads \n",
    "driver.find_element_by_xpath(\"\"\"//*[@id=\"glopopd_excel\"]/span\"\"\").click()\n"
   ]
  },
  {
   "cell_type": "code",
   "execution_count": 66,
   "id": "c3031db3",
   "metadata": {},
   "outputs": [],
   "source": [
    "driver.close()"
   ]
  },
  {
   "cell_type": "code",
   "execution_count": null,
   "id": "2abe21b6",
   "metadata": {},
   "outputs": [],
   "source": []
  },
  {
   "cell_type": "code",
   "execution_count": null,
   "id": "e92def9d",
   "metadata": {},
   "outputs": [],
   "source": []
  },
  {
   "cell_type": "code",
   "execution_count": null,
   "id": "f672740f",
   "metadata": {},
   "outputs": [],
   "source": []
  },
  {
   "cell_type": "code",
   "execution_count": null,
   "id": "3b23ed0c",
   "metadata": {},
   "outputs": [],
   "source": []
  },
  {
   "cell_type": "code",
   "execution_count": null,
   "id": "9ded5f94",
   "metadata": {},
   "outputs": [],
   "source": []
  },
  {
   "cell_type": "code",
   "execution_count": null,
   "id": "85e89769",
   "metadata": {},
   "outputs": [],
   "source": []
  },
  {
   "cell_type": "code",
   "execution_count": null,
   "id": "ade06f14",
   "metadata": {},
   "outputs": [],
   "source": []
  },
  {
   "cell_type": "code",
   "execution_count": null,
   "id": "55a09674",
   "metadata": {},
   "outputs": [],
   "source": []
  },
  {
   "cell_type": "code",
   "execution_count": null,
   "id": "36e7759e",
   "metadata": {},
   "outputs": [],
   "source": []
  },
  {
   "cell_type": "code",
   "execution_count": null,
   "id": "33e44ac6",
   "metadata": {},
   "outputs": [],
   "source": []
  },
  {
   "cell_type": "code",
   "execution_count": null,
   "id": "f66b3116",
   "metadata": {},
   "outputs": [],
   "source": []
  },
  {
   "cell_type": "code",
   "execution_count": null,
   "id": "6b9db47c",
   "metadata": {},
   "outputs": [],
   "source": []
  },
  {
   "cell_type": "code",
   "execution_count": null,
   "id": "e6b99a5d",
   "metadata": {},
   "outputs": [],
   "source": []
  },
  {
   "cell_type": "code",
   "execution_count": null,
   "id": "4969ae2c",
   "metadata": {},
   "outputs": [],
   "source": []
  },
  {
   "cell_type": "code",
   "execution_count": null,
   "id": "d1139786",
   "metadata": {},
   "outputs": [],
   "source": []
  },
  {
   "cell_type": "code",
   "execution_count": null,
   "id": "2f332929",
   "metadata": {},
   "outputs": [],
   "source": []
  },
  {
   "cell_type": "code",
   "execution_count": null,
   "id": "7615d028",
   "metadata": {},
   "outputs": [],
   "source": []
  },
  {
   "cell_type": "code",
   "execution_count": null,
   "id": "32944252",
   "metadata": {},
   "outputs": [],
   "source": []
  }
 ],
 "metadata": {
  "kernelspec": {
   "display_name": "Python 3",
   "language": "python",
   "name": "python3"
  },
  "language_info": {
   "codemirror_mode": {
    "name": "ipython",
    "version": 3
   },
   "file_extension": ".py",
   "mimetype": "text/x-python",
   "name": "python",
   "nbconvert_exporter": "python",
   "pygments_lexer": "ipython3",
   "version": "3.8.8"
  }
 },
 "nbformat": 4,
 "nbformat_minor": 5
}
